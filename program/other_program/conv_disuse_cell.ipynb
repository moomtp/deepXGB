{
 "cells": [
  {
   "cell_type": "markdown",
   "metadata": {},
   "source": [
    "### eval testing"
   ]
  },
  {
   "cell_type": "markdown",
   "metadata": {},
   "source": [
    "## import lib & var setting"
   ]
  },
  {
   "cell_type": "code",
   "execution_count": null,
   "metadata": {},
   "outputs": [],
   "source": [
    "# Import Pytorch\n",
    "import torch\n",
    "from torch import nn\n",
    "\n",
    "# Import torchvision\n",
    "import torchvision\n",
    "from torchvision import datasets\n",
    "from torchvision import transforms\n",
    "from torchvision.transforms import ToTensor\n",
    "\n",
    "# Import matplotlib for visulization\n",
    "import matplotlib.pyplot as plt\n",
    "\n",
    "import sys \n",
    "\n",
    "import cv2\n",
    "\n",
    "import pandas as pd  # 資料分析套件\n",
    "import numpy as np\n",
    "import os\n",
    "from time import time\n",
    "import re"
   ]
  },
  {
   "cell_type": "code",
   "execution_count": null,
   "metadata": {},
   "outputs": [],
   "source": [
    "# ===== var setting   ========\n",
    "\n",
    "# csv_file = '../data/img_feature.csv'\n",
    "# csv_file = '../data/img_feature_no_masked.csv'\n",
    "csv_file = '../data/img_conv2.csv'\n",
    "# random_seed = 42\n",
    "# dataset_path = \"../HAM10000/base_img_data/\"\n",
    "dataset_path = \"../HAM10000/images/\"\n",
    "groundtruth_file = '../HAM10000/GroundTruth.csv'"
   ]
  },
  {
   "cell_type": "markdown",
   "metadata": {},
   "source": [
    "## prepocessing train & test data"
   ]
  },
  {
   "cell_type": "markdown",
   "metadata": {},
   "source": [
    "### create name to label dict"
   ]
  },
  {
   "cell_type": "code",
   "execution_count": null,
   "metadata": {},
   "outputs": [],
   "source": [
    "# 读取 CSV 文件\n",
    "# groundtruth_data = pd.read_csv(groundtruth_file)\n"
   ]
  },
  {
   "cell_type": "code",
   "execution_count": null,
   "metadata": {},
   "outputs": [],
   "source": [
    "# groundtruth_data.head()\n",
    "# import pandas as pd\n",
    "\n",
    "# # 假設 df 是您的 DataFrame\n",
    "# # df = pd.DataFrame(...)\n",
    "\n",
    "# def find_indices_of_ones(row):\n",
    "#     # 尋找前六個元素中 1 的位置\n",
    "#     return [(i-1) for i, x in enumerate(row[:8]) if x == 1]\n",
    "\n",
    "# # 將函數應用於每行並創建新列 'label'\n",
    "# groundtruth_data['label'] = groundtruth_data.apply(find_indices_of_ones, axis=1)\n",
    "\n",
    "# # groundtruth_data.head()\n",
    "\n",
    "# # find ele == 1\n",
    "# filename_to_label_dict = groundtruth_data.set_index('image')['label'].to_dict()\n",
    "\n",
    "# # {'1234' : [2] ,'1235' : [3] } -> {'1234' : 2 ,'1235' : 3 }\n",
    "# filename_to_label_dict =  {key: value[0] if value else None for key, value in filename_to_label_dict.items()}\n",
    "\n",
    "# type(filename_to_label_dict['ISIC_0024306'])\n",
    "\n",
    "# # {'1234' : 2 ,'1235' : 3 } -> {'1234.jpg' : 2 ,'1235.jpg' : 3 }\n",
    "# filename_to_label_dict =  {key + \".jpg\": value for key, value in filename_to_label_dict.items()}\n",
    "\n",
    "\n",
    "\n",
    "\n",
    "# # check if value is out of range\n",
    "# null_keys = [key for key, value in filename_to_label_dict.items() if value is None]\n",
    "\n",
    "\n",
    "# all_values_in_range = all(0 <= value <= 6 for value in filename_to_label_dict.values())\n",
    "\n",
    "# # 輸出結果\n",
    "# print(\"所有的值都在範圍內：\" if all_values_in_range else \"有些值不在範圍內。\")"
   ]
  },
  {
   "cell_type": "markdown",
   "metadata": {},
   "source": [
    "### 分出train 跟test的data loader"
   ]
  },
  {
   "cell_type": "code",
   "execution_count": null,
   "metadata": {},
   "outputs": [],
   "source": [
    "import random\n",
    "import os\n",
    "import torch\n",
    "from torch.utils.data import Dataset, DataLoader\n",
    "from PIL import Image\n",
    "from helperFunction.CustomImageDataset import CustomImageDataset \n",
    "\n",
    "# # 假設您的圖片和標籤字典如下\n",
    "# img_dir = dataset_path\n",
    "\n",
    "# # list all filename from file\n",
    "# all_files = [f for f in os.listdir(dataset_path) if os.path.isfile(os.path.join(dataset_path, f))]\n",
    "\n",
    "# # list all filename from dict\n",
    "# # all_files = list(filename_to_label_dict.keys())\n",
    "\n",
    "# random.seed(42)\n",
    "\n",
    "# num_total_samples = len(all_files)\n",
    "# split_ratio = 0.8  # 80% 的数据用于训练，20% 用于测试\n",
    "\n",
    "# # 随机打乱数据集\n",
    "# random.shuffle(all_files)\n",
    "\n",
    "# # 计算分割点\n",
    "# split_idx = int(num_total_samples * split_ratio)\n",
    "\n",
    "# # 分割数据集\n",
    "# train_files = all_files[:split_idx]\n",
    "# test_files = all_files[split_idx:]\n",
    "\n",
    "gray_mean = sum([0.485, 0.456, 0.406]) / 3\n",
    "gray_std = sum([0.229, 0.224, 0.225]) / 3\n",
    "\n",
    "\n",
    "# 可以加入轉換\n",
    "transform64 = torchvision.transforms.Compose([\n",
    "    transforms.Resize(size=(64,64)),\n",
    "    torchvision.transforms.ToTensor()\n",
    "    # 其他轉換\n",
    "])\n",
    "\n",
    "transform_std = transforms.Compose([\n",
    "    transforms.Resize(256),\n",
    "    transforms.CenterCrop(224),\n",
    "    transforms.ToTensor(),\n",
    "    transforms.Normalize(mean=[0.485, 0.456, 0.406], std=[0.229, 0.224, 0.225]),\n",
    "])\n",
    "\n",
    "transform_gray_single_channel = transforms.Compose([\n",
    "    transforms.Resize(256),  # 调整图像大小至256x256\n",
    "    transforms.CenterCrop(224),  # 中心裁剪至224x224\n",
    "    transforms.Grayscale(),  # 将图像转换为灰度图\n",
    "    transforms.ToTensor(),  # 转换为Tensor\n",
    "    # 归一化，均值和标准差应根据灰度图的实际分布进行调整\n",
    "    # 这里使用ImageNet预训练模型的均值和标准差的平均值作为示例\n",
    "    transforms.Normalize(mean=[0.449], std=[0.226]),\n",
    "])\n",
    "\n",
    "transform_gray_pretrain_fit = transforms.Compose([\n",
    "    # transforms.Grayscale(num_output_channels=1),  # 将图像转换为单通道灰度图像\n",
    "    # transforms.Lambda(lambda x: x.repeat(3, 1, 1)),  # 复制灰度通道到三个通道\n",
    "    # 其他需要的转换，如 Resize, Normalize 等\n",
    "    transforms.Resize(256),  # 例如，调整图像大小\n",
    "    transforms.CenterCrop(224),  # 中心裁剪\n",
    "    transforms.ToTensor(),  # 转换为Tensor\n",
    "    transforms.Normalize(mean=[0.485, 0.456, 0.406], std=[0.229, 0.224, 0.225]),  # 归一化\n",
    "])\n",
    "\n",
    "transform_gray_CT_img_fit = transforms.Compose([\n",
    "    # transforms.Grayscale(num_output_channels=1),  # 将图像转换为单通道灰度图像\n",
    "    # transforms.Lambda(lambda x: x.repeat(3, 1, 1)),  # 复制灰度通道到三个通道\n",
    "    # 其他需要的转换，如 Resize, Normalize 等\n",
    "    transforms.Resize(256),  # 例如，调整图像大小\n",
    "    transforms.CenterCrop(224),  # 中心裁剪\n",
    "    transforms.ToTensor(),  # 转换为Tensor\n",
    "    transforms.Normalize(mean=[gray_mean,gray_mean,gray_mean], std=[gray_std,gray_std,gray_std]),  # 归一化\n",
    "])\n",
    "\n",
    "\n",
    "\n",
    "\n",
    "\n",
    "# transform224_gray_32bit =  transforms.Compose([\n",
    "#     transforms.Lambda(lambda img: np.array(img).astype(np.float32) / 255.0),  # 将PIL Image转换为NumPy数组，并更改数据类型\n",
    "#     transforms.Lambda(lambda x: torch.from_numpy(x)),  # 将NumPy数组转换为Tensor\n",
    "#     transforms.Resize(256),  # 调整图像大小\n",
    "#     transforms.CenterCrop(224),  # 中心裁剪到224x224\n",
    "#     # transforms.Lambda(lambda x: x.unsqueeze(0)),  # 增加一个通道维度\n",
    "#     transforms.Normalize(mean=[0.485], std=[0.229]),  # 使用单个值的均值和标准差进行归一化\n",
    "# ])\n",
    "\n",
    "\n",
    "\n",
    "# # 创建训练集和测试集的数据加载器\n",
    "# train_dataset_64 = CustomImageDataset(img_dir=img_dir, file_to_label_dict={file: filename_to_label_dict[file] for file in train_files}, transform=transform64)\n",
    "# test_dataset_64 = CustomImageDataset(img_dir=img_dir, file_to_label_dict={file: filename_to_label_dict[file] for file in test_files}, transform=transform64)\n",
    "\n",
    "# # 创建数据加载器\n",
    "# train_data_loader_64 = DataLoader(train_dataset_64, batch_size=32, shuffle=True)\n",
    "# test_data_loader_64 = DataLoader(test_dataset_64, batch_size=32, shuffle=False)\n",
    "\n",
    "\n",
    "# # 创建训练集和测试集的数据加载器\n",
    "# train_dataset_224 = CustomImageDataset(img_dir=img_dir, file_to_label_dict={file: filename_to_label_dict[file] for file in train_files}, transform=transform224)\n",
    "# test_dataset_224 = CustomImageDataset(img_dir=img_dir, file_to_label_dict={file: filename_to_label_dict[file] for file in test_files}, transform=transform224)\n",
    "\n",
    "# # 创建数据加载器\n",
    "# train_data_loader_224 = DataLoader(train_dataset_224, batch_size=32, shuffle=True)\n",
    "# test_data_loader_224 = DataLoader(test_dataset_224, batch_size=32, shuffle=False)\n",
    "\n",
    "# # 創建 Dataset 和 DataLoader\n",
    "# dataset = CustomImageDataset(img_dir=img_dir, file_to_label_dict=filename_to_label_dict, transform=transform)\n",
    "# data_loader = DataLoader(dataset, batch_size=32, shuffle=True)\n",
    "\n",
    "# # 使用 DataLoader\n",
    "# for images, labels in data_loader:\n",
    "#     # 這裡進行訓練過程\n",
    "#     pass"
   ]
  },
  {
   "cell_type": "code",
   "execution_count": null,
   "metadata": {},
   "outputs": [],
   "source": [
    "# @transform test unit\n",
    "\n",
    "# image = Image.open('../data/chestCTData/images/train/adenocarcinoma/000000 (6).png')\n",
    "\n",
    "# # 打印图像的格式\n",
    "# print(\"Format:\", image.format)\n",
    "\n",
    "# # 打印图像的尺寸\n",
    "# print(\"Size:\", image.size)\n",
    "\n",
    "# # 打印图像的模式\n",
    "# print(\"Mode:\", image.mode)\n",
    "\n",
    "# # 打印图像的额外信息（如果有的话）\n",
    "# print(\"Info:\", image.info)\n",
    "\n",
    "# # 将图像转换为NumPy数组\n",
    "# image_array = np.array(image)\n",
    "\n",
    "# # 打印图像数组的形状和部分像素值\n",
    "# print(\"Image shape:\", image_array.shape)\n",
    "# print(\"Some pixel values:\", image_array[100:110, 100:110])  # 打印左上角5x5区域的像素值\n",
    "\n",
    "# transformed_img = transform_gray(image)\n",
    "\n",
    "# print(transformed_img.shape)"
   ]
  },
  {
   "cell_type": "code",
   "execution_count": null,
   "metadata": {},
   "outputs": [
    {
     "name": "stdout",
     "output_type": "stream",
     "text": [
      "Classes: ['adenocarcinoma', 'large.cell.carcinoma', 'normal', 'squamous.cell.carcinoma']\n",
      "Class to index: {'adenocarcinoma': 0, 'large.cell.carcinoma': 1, 'normal': 2, 'squamous.cell.carcinoma': 3}\n",
      "Samples: [('c:\\\\Users\\\\E\\\\Desktop\\\\skin_cancer_dataset\\\\data\\\\chestCTData\\\\images\\\\test\\\\adenocarcinoma\\\\000108 (3).png', 0), ('c:\\\\Users\\\\E\\\\Desktop\\\\skin_cancer_dataset\\\\data\\\\chestCTData\\\\images\\\\test\\\\adenocarcinoma\\\\000109 (2).png', 0), ('c:\\\\Users\\\\E\\\\Desktop\\\\skin_cancer_dataset\\\\data\\\\chestCTData\\\\images\\\\test\\\\adenocarcinoma\\\\000109 (4).png', 0), ('c:\\\\Users\\\\E\\\\Desktop\\\\skin_cancer_dataset\\\\data\\\\chestCTData\\\\images\\\\test\\\\adenocarcinoma\\\\000109 (5).png', 0), ('c:\\\\Users\\\\E\\\\Desktop\\\\skin_cancer_dataset\\\\data\\\\chestCTData\\\\images\\\\test\\\\adenocarcinoma\\\\000112 (2).png', 0)]\n",
      "First image size: torch.Size([3, 224, 224])\n",
      "First image label: 0\n"
     ]
    }
   ],
   "source": [
    "sys.path.append(os.path.abspath('..'))\n",
    "\n",
    "from data.chestCTData.chestCTDataloader import ChestCTDataProcessor\n",
    "from data.HAM10000.ham10000Dataloader import HAM10000DataProcessor\n",
    "\n",
    "dataContainer = ChestCTDataProcessor(transform=transform_std)\n",
    "# dataContainer = HAM10000DataProcessor(transform=transform_std)\n",
    "\n",
    "model_folder_path = '../model/CT chest'\n",
    "# model_folder_path = '../model/HAM10000'\n",
    "\n",
    "\n",
    "train_dataloader , test_dataloader = dataContainer.returnDataloaders()\n",
    "\n",
    "\n",
    "# dataContainer.dataPreprocess()"
   ]
  },
  {
   "cell_type": "code",
   "execution_count": null,
   "metadata": {},
   "outputs": [],
   "source": []
  },
  {
   "cell_type": "code",
   "execution_count": null,
   "metadata": {},
   "outputs": [
    {
     "name": "stdout",
     "output_type": "stream",
     "text": [
      "Image shape: torch.Size([32, 3, 224, 224]) -> [batch_size, color_channels, height, width]\n",
      "Label shape: torch.Size([32])\n"
     ]
    }
   ],
   "source": [
    "img, label = next(iter(train_dataloader))\n",
    "\n",
    "# Batch size will now be 1, you can cahnge the batch size if you like\n",
    "print(f\"Image shape: {img.shape} -> [batch_size, color_channels, height, width]\")\n",
    "print(f\"Label shape: {label.shape}\") # equal to batch siz"
   ]
  },
  {
   "cell_type": "code",
   "execution_count": null,
   "metadata": {},
   "outputs": [],
   "source": [
    "# 儲存file list的資訊給XGB訓練時使用\n",
    "# import json\n",
    "# with open('test_files_list.json', 'w') as f:\n",
    "#     json.dump(test_files, f)\n",
    "# with open('train_files_list.json', 'w') as f:\n",
    "#     json.dump(train_files, f)"
   ]
  },
  {
   "cell_type": "markdown",
   "metadata": {},
   "source": [
    "## Bulid TinyVGG model"
   ]
  },
  {
   "cell_type": "code",
   "execution_count": null,
   "metadata": {},
   "outputs": [],
   "source": [
    "# from custom_model.TinyVGG import TinyVGG\n",
    "\n",
    "# model_0 = TinyVGG(input_shape=3,\n",
    "#                   hidden_units=10,\n",
    "#                   output_shape=7)\n",
    "# model_0"
   ]
  },
  {
   "cell_type": "code",
   "execution_count": null,
   "metadata": {},
   "outputs": [],
   "source": [
    "# forward testing\n",
    "\n",
    "# print(model_0(img))"
   ]
  },
  {
   "cell_type": "code",
   "execution_count": null,
   "metadata": {},
   "outputs": [],
   "source": [
    "# from torchinfo import summary\n",
    "# summary(model_0, input_size=[1,3,64,64])\n"
   ]
  },
  {
   "cell_type": "code",
   "execution_count": null,
   "metadata": {},
   "outputs": [
    {
     "data": {
      "text/plain": [
       "'cuda'"
      ]
     },
     "metadata": {},
     "output_type": "display_data"
    }
   ],
   "source": [
    "import torch\n",
    "# Setup device-agnostic code\n",
    "device = \"cuda\" if torch.cuda.is_available() else \"cpu\"\n",
    "device"
   ]
  },
  {
   "cell_type": "markdown",
   "metadata": {},
   "source": [
    "## Build VGG16 model"
   ]
  },
  {
   "cell_type": "code",
   "execution_count": null,
   "metadata": {},
   "outputs": [],
   "source": [
    "# import torch\n",
    "# import torch.nn as nn\n",
    "\n",
    "# class VGG16(nn.Module):\n",
    "#     def __init__(self, num_classes=1000):\n",
    "#         super(VGG16, self).__init__()\n",
    "        \n",
    "#         # 定义 VGG16 的卷积层部分\n",
    "#         self.features = nn.Sequential(\n",
    "#             nn.Conv2d(3, 64, kernel_size=3, padding=1),\n",
    "#             nn.ReLU(inplace=True),\n",
    "#             nn.Conv2d(64, 64, kernel_size=3, padding=1),\n",
    "#             nn.ReLU(inplace=True),\n",
    "#             nn.MaxPool2d(kernel_size=2, stride=2),\n",
    "            \n",
    "#             nn.Conv2d(64, 128, kernel_size=3, padding=1),\n",
    "#             nn.ReLU(inplace=True),\n",
    "#             nn.Conv2d(128, 128, kernel_size=3, padding=1),\n",
    "#             nn.ReLU(inplace=True),\n",
    "#             nn.MaxPool2d(kernel_size=2, stride=2),\n",
    "            \n",
    "#             nn.Conv2d(128, 256, kernel_size=3, padding=1),\n",
    "#             nn.ReLU(inplace=True),\n",
    "#             nn.Conv2d(256, 256, kernel_size=3, padding=1),\n",
    "#             nn.ReLU(inplace=True),\n",
    "#             nn.Conv2d(256, 256, kernel_size=3, padding=1),\n",
    "#             nn.ReLU(inplace=True),\n",
    "#             nn.MaxPool2d(kernel_size=2, stride=2),\n",
    "            \n",
    "#             nn.Conv2d(256, 512, kernel_size=3, padding=1),\n",
    "#             nn.ReLU(inplace=True),\n",
    "#             nn.Conv2d(512, 512, kernel_size=3, padding=1),\n",
    "#             nn.ReLU(inplace=True),\n",
    "#             nn.Conv2d(512, 512, kernel_size=3, padding=1),\n",
    "#             nn.ReLU(inplace=True),\n",
    "#             nn.MaxPool2d(kernel_size=2, stride=2),\n",
    "            \n",
    "#             nn.Conv2d(512, 512, kernel_size=3, padding=1),\n",
    "#             nn.ReLU(inplace=True),\n",
    "#             nn.Conv2d(512, 512, kernel_size=3, padding=1),\n",
    "#             nn.ReLU(inplace=True),\n",
    "#             nn.Conv2d(512, 512, kernel_size=3, padding=1),\n",
    "#             nn.ReLU(inplace=True),\n",
    "#             nn.MaxPool2d(kernel_size=2, stride=2),\n",
    "#         )\n",
    "\n",
    "#         # 定义 VGG16 的全连接层部分\n",
    "#         self.classifier = nn.Sequential(\n",
    "#             nn.Linear(512 * 7 * 7, 4096),\n",
    "#             nn.ReLU(inplace=True),\n",
    "#             nn.Dropout(),\n",
    "#             nn.Linear(4096, 4096),\n",
    "#             nn.ReLU(inplace=True),\n",
    "#             nn.Dropout(),\n",
    "#             nn.Linear(4096, num_classes),\n",
    "#         )\n",
    "\n",
    "#     def forward(self, x):\n",
    "#         # 通过卷积层\n",
    "#         x = self.features(x)\n",
    "        \n",
    "#         # 展平操作\n",
    "#         x = x.view(x.size(0), -1)\n",
    "        \n",
    "#         # 通过全连接层\n",
    "#         x = self.classifier(x)\n",
    "        \n",
    "#         return x\n",
    "\n",
    "# model_vgg16 = VGG16(num_classes=7)"
   ]
  },
  {
   "cell_type": "code",
   "execution_count": null,
   "metadata": {},
   "outputs": [],
   "source": [
    "# from torchinfo import summary\n",
    "# summary(model_vgg16, input_size=[1,3,224,224])\n"
   ]
  },
  {
   "cell_type": "markdown",
   "metadata": {},
   "source": [
    "## Train & test function defination"
   ]
  },
  {
   "cell_type": "code",
   "execution_count": null,
   "metadata": {},
   "outputs": [],
   "source": [
    "# Cteate train_step()\n",
    "def train_step(model: torch.nn.Module,\n",
    "        dataloader: torch.utils.data.DataLoader,\n",
    "        loss_fn: torch.nn.Module,\n",
    "        optimizer: torch.optim.Optimizer,\n",
    "        device=device):\n",
    "  # Put the model in train mode\n",
    "  model.train()\n",
    "\n",
    "  # Setup train loss and train accuracy values\n",
    "  train_loss, train_acc = 0, 0\n",
    "\n",
    "  # Loop thourgh data loader data batches\n",
    "  for batch,(X, y) in enumerate(dataloader):\n",
    "    # Send data to the target device\n",
    "    X, y = X.to(device) , y.to(device)\n",
    "\n",
    "    # 1. Forward pass\n",
    "    y_pred = model(X)\n",
    "\n",
    "    # 2. Calculate the loss\n",
    "    loss = loss_fn(y_pred, y)\n",
    "    train_loss += loss.item()\n",
    "\n",
    "    # 3. Optimizer zero grad\n",
    "    optimizer.zero_grad()\n",
    "\n",
    "    # 4. Loss backward\n",
    "    loss.backward()\n",
    "\n",
    "    # 5 Optimizer step\n",
    "    optimizer.step()\n",
    "\n",
    "    # Calculat accuracy metric\n",
    "    y_pred_class = torch.argmax(torch.softmax(y_pred, dim=1), dim=1)\n",
    "    train_acc += (y_pred_class==y).sum().item()/len(y_pred)\n",
    "\n",
    "  # Adjust metrics to get average loss and accuracy per batch\n",
    "  train_loss = train_loss / len(dataloader)\n",
    "  train_acc = train_acc / len(dataloader)\n",
    "  return train_loss, train_acc"
   ]
  },
  {
   "cell_type": "code",
   "execution_count": null,
   "metadata": {},
   "outputs": [],
   "source": [
    "from sklearn.metrics import f1_score\n",
    "# Create a test step\n",
    "def test_step(model: torch.nn.Module,\n",
    "        dataloader: torch.utils.data.DataLoader,\n",
    "        loss_fn: torch.nn.Module,\n",
    "        device=device):\n",
    "  # Put the model in eval mode\n",
    "  model.eval()\n",
    "\n",
    "  # Setup test loss and test accuracy values\n",
    "  test_loss, test_acc, all_preds, all_labels = 0, 0, [], []\n",
    "\n",
    "  with torch.inference_mode():\n",
    "    # Loop thourgh data loader data batches\n",
    "    for batch,(X, y) in enumerate(dataloader):\n",
    "      # Send data to the target device\n",
    "      X, y = X.to(device) , y.to(device)\n",
    "\n",
    "      # 1. Forward pass\n",
    "      test_pred_logits = model(X)\n",
    "\n",
    "      # 2. Calculate the loss\n",
    "      loss = loss_fn(test_pred_logits, y)\n",
    "      test_loss += loss.item()\n",
    "\n",
    "\n",
    "      # Calculate accuracy\n",
    "      test_pred_labels = test_pred_logits.argmax(dim=1) # Maybe same as softmax results?\n",
    "      test_acc += (test_pred_labels==y).sum().item() / len(test_pred_labels)\n",
    "\n",
    "      all_preds.extend(test_pred_labels.cpu().numpy())\n",
    "      all_labels.extend(y.cpu().numpy())\n",
    "\n",
    "  # Adjust metrics to get average loss and accuracy per batch\n",
    "  test_loss = test_loss / len(dataloader)\n",
    "  test_acc = test_acc / len(dataloader)\n",
    "  # cal F1 score\n",
    "  f1 = f1_score(all_labels, all_preds, average='weighted')\n",
    "\n",
    "  return test_loss, test_acc, f1"
   ]
  },
  {
   "cell_type": "code",
   "execution_count": null,
   "metadata": {},
   "outputs": [
    {
     "name": "stderr",
     "output_type": "stream",
     "text": [
      "c:\\Users\\E\\AppData\\Local\\Programs\\Python\\Python311\\Lib\\site-packages\\tqdm\\auto.py:21: TqdmWarning: IProgress not found. Please update jupyter and ipywidgets. See https://ipywidgets.readthedocs.io/en/stable/user_install.html\n",
      "  from .autonotebook import tqdm as notebook_tqdm\n"
     ]
    }
   ],
   "source": [
    "from tqdm.auto import tqdm\n",
    "\n",
    "# 1. Create a train function that takes in various model parameters + optimizer + dataloader + loss functoin\n",
    "def train(model: torch.nn.Module,\n",
    "          train_dataloader: torch.utils.data.DataLoader,\n",
    "          test_dataloader: torch.utils.data.DataLoader,\n",
    "          optimizer: torch.optim.Optimizer,\n",
    "          loss_fn: torch.nn.Module = nn.CrossEntropyLoss(),\n",
    "          epochs: int = 5,\n",
    "          best_model_name: str = \"best_model.pth\",\n",
    "          device=device,\n",
    "          enable_early_stop=True):\n",
    "  # 2. Create empty results dicitonary\n",
    "  results = {\"train_loss\": [],\n",
    "        \"train_acc\":[],\n",
    "        \"test_loss\": [],\n",
    "        \"test_acc\":[]}\n",
    "  \n",
    "  # init best model loss var\n",
    "  best_test_loss = float('inf')\n",
    "  best_model = None\n",
    "  early_stop_count = 0\n",
    "  early_stop_limit = 7\n",
    "\n",
    "  # 3. Loop through training and testing steps for a number of epochs\n",
    "  for epoch in tqdm(range(epochs)):\n",
    "    train_loss, train_acc = train_step(model=model,\n",
    "                        dataloader=train_dataloader,\n",
    "                        loss_fn=loss_fn,\n",
    "                        optimizer=optimizer,\n",
    "                        device=device)\n",
    "    test_loss, test_acc, test_f1 = test_step(model=model,\n",
    "                      dataloader=test_dataloader,\n",
    "                      loss_fn=loss_fn,\n",
    "                      device=device)\n",
    "    # 4. Print out what's happening\n",
    "    print(f\"Epoch: {epoch} | Train loss: {train_loss:.4f} | Train acc: {train_acc:.4f} | Test loss: {test_loss:.4f} | Test acc: {test_acc:.4f} |  F1 score: {test_f1:.4f}   \")\n",
    "\n",
    "    # 5. Update results dictionary\n",
    "    results[\"train_loss\"].append(train_loss)\n",
    "    results[\"train_acc\"].append(train_acc)\n",
    "    results[\"test_loss\"].append(test_loss)\n",
    "    results[\"test_acc\"].append(test_acc)\n",
    "\n",
    "    if test_loss < best_test_loss:\n",
    "      best_test_loss = test_loss\n",
    "      best_test_acc = test_acc\n",
    "      best_test_f1 = test_f1\n",
    "      # best_model = model.state_dict()\n",
    "      torch.save(model.state_dict(), best_model_name)\n",
    "      early_stop_count = 0\n",
    "    else:\n",
    "      if enable_early_stop:\n",
    "        early_stop_count += 1\n",
    "    \n",
    "    if early_stop_count >= early_stop_limit:\n",
    "      print(\"Early stopping triggered.\")\n",
    "      break\n",
    "\n",
    "  # 6. Return the filled results at the end of the eopchs\n",
    "      \n",
    "  # save best model\n",
    "  # torch.save(best_model, best_model_name)\n",
    "  print(\"the best test acc is :{:.4f}\".format(best_test_acc))\n",
    "  print(\"the best F1 score is :{:.4f}\".format(best_test_f1))\n",
    "  return results"
   ]
  },
  {
   "cell_type": "code",
   "execution_count": null,
   "metadata": {},
   "outputs": [],
   "source": [
    "from helperFunction.TrainHelper import TrainingHelper\n",
    "\n",
    "num_CT_classes = 4\n",
    "num_skin_classes = 7\n",
    "\n",
    "num_classes = num_skin_classes"
   ]
  },
  {
   "cell_type": "markdown",
   "metadata": {},
   "source": [
    "# Train model"
   ]
  },
  {
   "cell_type": "markdown",
   "metadata": {},
   "source": [
    "## VGG"
   ]
  },
  {
   "cell_type": "markdown",
   "metadata": {},
   "source": [
    "load preTrained VGG16, num_class = 1000"
   ]
  },
  {
   "cell_type": "code",
   "execution_count": null,
   "metadata": {},
   "outputs": [
    {
     "name": "stderr",
     "output_type": "stream",
     "text": [
      "c:\\Users\\E\\AppData\\Local\\Programs\\Python\\Python311\\Lib\\site-packages\\torchvision\\models\\_utils.py:208: UserWarning: The parameter 'pretrained' is deprecated since 0.13 and may be removed in the future, please use 'weights' instead.\n",
      "  warnings.warn(\n",
      "c:\\Users\\E\\AppData\\Local\\Programs\\Python\\Python311\\Lib\\site-packages\\torchvision\\models\\_utils.py:223: UserWarning: Arguments other than a weight enum or `None` for 'weights' are deprecated since 0.13 and may be removed in the future. The current behavior is equivalent to passing `weights=VGG16_Weights.IMAGENET1K_V1`. You can also use `weights=VGG16_Weights.DEFAULT` to get the most up-to-date weights.\n",
      "  warnings.warn(msg)\n",
      "  0%|          | 0/40 [00:00<?, ?it/s]"
     ]
    },
    {
     "name": "stdout",
     "output_type": "stream",
     "text": [
      "Epoch: 0 | Train loss: 3.1632 | Train acc: 0.3028 | Test loss: 1.3673 | Test acc: 0.4921 |  F1 score: 0.4772   \n"
     ]
    },
    {
     "name": "stderr",
     "output_type": "stream",
     "text": [
      "  2%|▎         | 1/40 [00:16<10:43, 16.51s/it]"
     ]
    },
    {
     "name": "stdout",
     "output_type": "stream",
     "text": [
      "Epoch: 1 | Train loss: 1.2012 | Train acc: 0.5963 | Test loss: 1.0539 | Test acc: 0.5698 |  F1 score: 0.5563   \n"
     ]
    },
    {
     "name": "stderr",
     "output_type": "stream",
     "text": [
      "  5%|▌         | 2/40 [00:28<08:53, 14.03s/it]"
     ]
    },
    {
     "name": "stdout",
     "output_type": "stream",
     "text": [
      "Epoch: 2 | Train loss: 0.8656 | Train acc: 0.6750 | Test loss: 0.9513 | Test acc: 0.5681 |  F1 score: 0.5541   \n"
     ]
    },
    {
     "name": "stderr",
     "output_type": "stream",
     "text": [
      " 10%|█         | 4/40 [00:51<07:20, 12.23s/it]"
     ]
    },
    {
     "name": "stdout",
     "output_type": "stream",
     "text": [
      "Epoch: 3 | Train loss: 0.7793 | Train acc: 0.6981 | Test loss: 3.1282 | Test acc: 0.2466 |  F1 score: 0.1630   \n"
     ]
    },
    {
     "name": "stderr",
     "output_type": "stream",
     "text": [
      " 12%|█▎        | 5/40 [01:02<06:50, 11.72s/it]"
     ]
    },
    {
     "name": "stdout",
     "output_type": "stream",
     "text": [
      "Epoch: 4 | Train loss: 0.7704 | Train acc: 0.7369 | Test loss: 1.0096 | Test acc: 0.5786 |  F1 score: 0.5484   \n",
      "Epoch: 5 | Train loss: 0.5149 | Train acc: 0.8063 | Test loss: 0.8682 | Test acc: 0.6220 |  F1 score: 0.6045   \n"
     ]
    },
    {
     "name": "stderr",
     "output_type": "stream",
     "text": [
      " 18%|█▊        | 7/40 [01:25<06:23, 11.62s/it]"
     ]
    },
    {
     "name": "stdout",
     "output_type": "stream",
     "text": [
      "Epoch: 6 | Train loss: 0.4543 | Train acc: 0.8238 | Test loss: 1.5038 | Test acc: 0.5638 |  F1 score: 0.4828   \n",
      "Epoch: 7 | Train loss: 0.4121 | Train acc: 0.8672 | Test loss: 0.8676 | Test acc: 0.6448 |  F1 score: 0.6195   \n"
     ]
    },
    {
     "name": "stderr",
     "output_type": "stream",
     "text": [
      " 20%|██        | 8/40 [01:38<06:20, 11.90s/it]"
     ]
    },
    {
     "name": "stdout",
     "output_type": "stream",
     "text": [
      "Epoch: 8 | Train loss: 0.3451 | Train acc: 0.8812 | Test loss: 0.8528 | Test acc: 0.6360 |  F1 score: 0.6133   \n"
     ]
    },
    {
     "name": "stderr",
     "output_type": "stream",
     "text": [
      " 22%|██▎       | 9/40 [01:50<06:14, 12.07s/it]"
     ]
    },
    {
     "name": "stdout",
     "output_type": "stream",
     "text": [
      "Epoch: 9 | Train loss: 0.2919 | Train acc: 0.8969 | Test loss: 0.7619 | Test acc: 0.6769 |  F1 score: 0.6744   \n"
     ]
    },
    {
     "name": "stderr",
     "output_type": "stream",
     "text": [
      " 28%|██▊       | 11/40 [02:14<05:42, 11.81s/it]"
     ]
    },
    {
     "name": "stdout",
     "output_type": "stream",
     "text": [
      "Epoch: 10 | Train loss: 0.2481 | Train acc: 0.8994 | Test loss: 0.8318 | Test acc: 0.6255 |  F1 score: 0.6109   \n"
     ]
    },
    {
     "name": "stderr",
     "output_type": "stream",
     "text": [
      " 30%|███       | 12/40 [02:25<05:22, 11.52s/it]"
     ]
    },
    {
     "name": "stdout",
     "output_type": "stream",
     "text": [
      "Epoch: 11 | Train loss: 0.2359 | Train acc: 0.9119 | Test loss: 1.6538 | Test acc: 0.5124 |  F1 score: 0.4115   \n",
      "Epoch: 12 | Train loss: 0.2089 | Train acc: 0.9344 | Test loss: 0.7575 | Test acc: 0.6536 |  F1 score: 0.6392   \n"
     ]
    },
    {
     "name": "stderr",
     "output_type": "stream",
     "text": [
      " 32%|███▎      | 13/40 [02:37<05:16, 11.72s/it]"
     ]
    },
    {
     "name": "stdout",
     "output_type": "stream",
     "text": [
      "Epoch: 13 | Train loss: 0.1541 | Train acc: 0.9516 | Test loss: 0.7144 | Test acc: 0.6815 |  F1 score: 0.6727   \n"
     ]
    },
    {
     "name": "stderr",
     "output_type": "stream",
     "text": [
      " 38%|███▊      | 15/40 [03:00<04:50, 11.60s/it]"
     ]
    },
    {
     "name": "stdout",
     "output_type": "stream",
     "text": [
      "Epoch: 14 | Train loss: 0.1835 | Train acc: 0.9328 | Test loss: 0.7338 | Test acc: 0.7047 |  F1 score: 0.6987   \n"
     ]
    },
    {
     "name": "stderr",
     "output_type": "stream",
     "text": [
      " 40%|████      | 16/40 [03:11<04:33, 11.38s/it]"
     ]
    },
    {
     "name": "stdout",
     "output_type": "stream",
     "text": [
      "Epoch: 15 | Train loss: 0.1198 | Train acc: 0.9719 | Test loss: 0.7674 | Test acc: 0.6954 |  F1 score: 0.6817   \n"
     ]
    },
    {
     "name": "stderr",
     "output_type": "stream",
     "text": [
      " 42%|████▎     | 17/40 [03:22<04:18, 11.23s/it]"
     ]
    },
    {
     "name": "stdout",
     "output_type": "stream",
     "text": [
      "Epoch: 16 | Train loss: 0.1373 | Train acc: 0.9609 | Test loss: 0.8017 | Test acc: 0.6829 |  F1 score: 0.6634   \n"
     ]
    },
    {
     "name": "stderr",
     "output_type": "stream",
     "text": [
      " 42%|████▎     | 17/40 [03:29<04:44, 12.35s/it]\n"
     ]
    },
    {
     "ename": "KeyboardInterrupt",
     "evalue": "",
     "output_type": "error",
     "traceback": [
      "\u001b[1;31m---------------------------------------------------------------------------\u001b[0m\n",
      "\u001b[1;31mKeyboardInterrupt\u001b[0m                         Traceback (most recent call last)\n",
      "Cell \u001b[1;32mIn[29], line 16\u001b[0m\n",
      "\u001b[0;32m     13\u001b[0m start_time \u001b[38;5;241m=\u001b[39m timer()\n",
      "\u001b[0;32m     15\u001b[0m \u001b[38;5;66;03m# Train model_0\u001b[39;00m\n",
      "\u001b[1;32m---> 16\u001b[0m model_VGG_results \u001b[38;5;241m=\u001b[39m \u001b[43mtrain\u001b[49m\u001b[43m(\u001b[49m\u001b[43mmodel\u001b[49m\u001b[38;5;241;43m=\u001b[39;49m\u001b[43mmodel_preTrained_VGG16\u001b[49m\u001b[43m,\u001b[49m\n",
      "\u001b[0;32m     17\u001b[0m \u001b[43m              \u001b[49m\u001b[43mtrain_dataloader\u001b[49m\u001b[38;5;241;43m=\u001b[39;49m\u001b[43mtrain_dataloader\u001b[49m\u001b[43m,\u001b[49m\n",
      "\u001b[0;32m     18\u001b[0m \u001b[43m              \u001b[49m\u001b[43mtest_dataloader\u001b[49m\u001b[38;5;241;43m=\u001b[39;49m\u001b[43mtest_dataloader\u001b[49m\u001b[43m,\u001b[49m\n",
      "\u001b[0;32m     19\u001b[0m \u001b[43m              \u001b[49m\u001b[43moptimizer\u001b[49m\u001b[38;5;241;43m=\u001b[39;49m\u001b[43moptimizer\u001b[49m\u001b[43m,\u001b[49m\n",
      "\u001b[0;32m     20\u001b[0m \u001b[43m              \u001b[49m\u001b[43mloss_fn\u001b[49m\u001b[38;5;241;43m=\u001b[39;49m\u001b[43mloss_fn\u001b[49m\u001b[43m,\u001b[49m\n",
      "\u001b[0;32m     21\u001b[0m \u001b[43m              \u001b[49m\u001b[43mbest_model_name\u001b[49m\u001b[38;5;241;43m=\u001b[39;49m\u001b[43m \u001b[49m\u001b[43mmodel_folder_path\u001b[49m\u001b[43m \u001b[49m\u001b[38;5;241;43m+\u001b[39;49m\u001b[43m \u001b[49m\u001b[38;5;124;43m\"\u001b[39;49m\u001b[38;5;124;43m/best_model_pretrain_VGG16.pth\u001b[39;49m\u001b[38;5;124;43m\"\u001b[39;49m\u001b[43m,\u001b[49m\n",
      "\u001b[0;32m     22\u001b[0m \u001b[43m              \u001b[49m\u001b[43mepochs\u001b[49m\u001b[38;5;241;43m=\u001b[39;49m\u001b[38;5;241;43m40\u001b[39;49m\u001b[43m)\u001b[49m\n",
      "\u001b[0;32m     24\u001b[0m \u001b[38;5;66;03m# End the timer and print out how long it took\u001b[39;00m\n",
      "\u001b[0;32m     25\u001b[0m end_time \u001b[38;5;241m=\u001b[39m timer()\n",
      "\n",
      "Cell \u001b[1;32mIn[28], line 27\u001b[0m, in \u001b[0;36mtrain\u001b[1;34m(model, train_dataloader, test_dataloader, optimizer, loss_fn, epochs, best_model_name, device, enable_early_stop)\u001b[0m\n",
      "\u001b[0;32m     25\u001b[0m \u001b[38;5;66;03m# 3. Loop through training and testing steps for a number of epochs\u001b[39;00m\n",
      "\u001b[0;32m     26\u001b[0m \u001b[38;5;28;01mfor\u001b[39;00m epoch \u001b[38;5;129;01min\u001b[39;00m tqdm(\u001b[38;5;28mrange\u001b[39m(epochs)):\n",
      "\u001b[1;32m---> 27\u001b[0m   train_loss, train_acc \u001b[38;5;241m=\u001b[39m \u001b[43mtrain_step\u001b[49m\u001b[43m(\u001b[49m\u001b[43mmodel\u001b[49m\u001b[38;5;241;43m=\u001b[39;49m\u001b[43mmodel\u001b[49m\u001b[43m,\u001b[49m\n",
      "\u001b[0;32m     28\u001b[0m \u001b[43m                      \u001b[49m\u001b[43mdataloader\u001b[49m\u001b[38;5;241;43m=\u001b[39;49m\u001b[43mtrain_dataloader\u001b[49m\u001b[43m,\u001b[49m\n",
      "\u001b[0;32m     29\u001b[0m \u001b[43m                      \u001b[49m\u001b[43mloss_fn\u001b[49m\u001b[38;5;241;43m=\u001b[39;49m\u001b[43mloss_fn\u001b[49m\u001b[43m,\u001b[49m\n",
      "\u001b[0;32m     30\u001b[0m \u001b[43m                      \u001b[49m\u001b[43moptimizer\u001b[49m\u001b[38;5;241;43m=\u001b[39;49m\u001b[43moptimizer\u001b[49m\u001b[43m,\u001b[49m\n",
      "\u001b[0;32m     31\u001b[0m \u001b[43m                      \u001b[49m\u001b[43mdevice\u001b[49m\u001b[38;5;241;43m=\u001b[39;49m\u001b[43mdevice\u001b[49m\u001b[43m)\u001b[49m\n",
      "\u001b[0;32m     32\u001b[0m   test_loss, test_acc, test_f1 \u001b[38;5;241m=\u001b[39m test_step(model\u001b[38;5;241m=\u001b[39mmodel,\n",
      "\u001b[0;32m     33\u001b[0m                     dataloader\u001b[38;5;241m=\u001b[39mtest_dataloader,\n",
      "\u001b[0;32m     34\u001b[0m                     loss_fn\u001b[38;5;241m=\u001b[39mloss_fn,\n",
      "\u001b[0;32m     35\u001b[0m                     device\u001b[38;5;241m=\u001b[39mdevice)\n",
      "\u001b[0;32m     36\u001b[0m   \u001b[38;5;66;03m# 4. Print out what's happening\u001b[39;00m\n",
      "\n",
      "Cell \u001b[1;32mIn[26], line 36\u001b[0m, in \u001b[0;36mtrain_step\u001b[1;34m(model, dataloader, loss_fn, optimizer, device)\u001b[0m\n",
      "\u001b[0;32m     34\u001b[0m   \u001b[38;5;66;03m# Calculat accuracy metric\u001b[39;00m\n",
      "\u001b[0;32m     35\u001b[0m   y_pred_class \u001b[38;5;241m=\u001b[39m torch\u001b[38;5;241m.\u001b[39margmax(torch\u001b[38;5;241m.\u001b[39msoftmax(y_pred, dim\u001b[38;5;241m=\u001b[39m\u001b[38;5;241m1\u001b[39m), dim\u001b[38;5;241m=\u001b[39m\u001b[38;5;241m1\u001b[39m)\n",
      "\u001b[1;32m---> 36\u001b[0m   train_acc \u001b[38;5;241m+\u001b[39m\u001b[38;5;241m=\u001b[39m \u001b[43m(\u001b[49m\u001b[43my_pred_class\u001b[49m\u001b[38;5;241;43m==\u001b[39;49m\u001b[43my\u001b[49m\u001b[43m)\u001b[49m\u001b[38;5;241;43m.\u001b[39;49m\u001b[43msum\u001b[49m\u001b[43m(\u001b[49m\u001b[43m)\u001b[49m\u001b[38;5;241;43m.\u001b[39;49m\u001b[43mitem\u001b[49m\u001b[43m(\u001b[49m\u001b[43m)\u001b[49m\u001b[38;5;241m/\u001b[39m\u001b[38;5;28mlen\u001b[39m(y_pred)\n",
      "\u001b[0;32m     38\u001b[0m \u001b[38;5;66;03m# Adjust metrics to get average loss and accuracy per batch\u001b[39;00m\n",
      "\u001b[0;32m     39\u001b[0m train_loss \u001b[38;5;241m=\u001b[39m train_loss \u001b[38;5;241m/\u001b[39m \u001b[38;5;28mlen\u001b[39m(dataloader)\n",
      "\n",
      "\u001b[1;31mKeyboardInterrupt\u001b[0m: "
     ]
    }
   ],
   "source": [
    "import torchvision.models as models\n",
    "\n",
    "model_preTrained_VGG16 = models.vgg16(pretrained=True).to(device)     # 使用內建的 model \n",
    "\n",
    "optimizer = torch.optim.SGD(model_preTrained_VGG16.parameters(), lr = 0.001) # 選擇你想用的 optimizer\n",
    "# optimizer = torch.optim.Adam(model_VGG16.parameters(), lr =0.01)\n",
    "\n",
    "# Loss function\n",
    "loss_fn = nn.CrossEntropyLoss()                # 選擇想用的 loss functionmodel_vgg16 = \n",
    "\n",
    "# Start the timer\n",
    "from timeit import default_timer as timer\n",
    "start_time = timer()\n",
    "\n",
    "# Train model_0\n",
    "model_VGG_results = train(model=model_preTrained_VGG16,\n",
    "              train_dataloader=train_dataloader,\n",
    "              test_dataloader=test_dataloader,\n",
    "              optimizer=optimizer,\n",
    "              loss_fn=loss_fn,\n",
    "              best_model_name= model_folder_path + \"/best_model_pretrain_VGG16.pth\",\n",
    "              epochs=40)\n",
    "\n",
    "# End the timer and print out how long it took\n",
    "end_time = timer()\n",
    "print(f\"Total training time: {end_time-start_time:.3f} seconds\")"
   ]
  },
  {
   "cell_type": "markdown",
   "metadata": {},
   "source": [
    "output == 7 pretrain VGG"
   ]
  },
  {
   "cell_type": "code",
   "execution_count": null,
   "metadata": {},
   "outputs": [
    {
     "name": "stderr",
     "output_type": "stream",
     "text": [
      "c:\\Users\\E\\AppData\\Local\\Programs\\Python\\Python311\\Lib\\site-packages\\torchvision\\models\\_utils.py:208: UserWarning: The parameter 'pretrained' is deprecated since 0.13 and may be removed in the future, please use 'weights' instead.\n",
      "  warnings.warn(\n",
      "c:\\Users\\E\\AppData\\Local\\Programs\\Python\\Python311\\Lib\\site-packages\\torchvision\\models\\_utils.py:223: UserWarning: Arguments other than a weight enum or `None` for 'weights' are deprecated since 0.13 and may be removed in the future. The current behavior is equivalent to passing `weights=VGG16_Weights.IMAGENET1K_V1`. You can also use `weights=VGG16_Weights.DEFAULT` to get the most up-to-date weights.\n",
      "  warnings.warn(msg)\n",
      "  0%|          | 0/40 [00:00<?, ?it/s]"
     ]
    },
    {
     "name": "stdout",
     "output_type": "stream",
     "text": [
      "Epoch: 0 | Train loss: 2.0036 | Train acc: 0.1453 | Test loss: 1.7867 | Test acc: 0.2851 |  F1 score: 0.2716   \n"
     ]
    },
    {
     "name": "stderr",
     "output_type": "stream",
     "text": [
      "  2%|▎         | 1/40 [00:12<07:59, 12.31s/it]"
     ]
    },
    {
     "name": "stdout",
     "output_type": "stream",
     "text": [
      "Epoch: 1 | Train loss: 1.6366 | Train acc: 0.3247 | Test loss: 1.5132 | Test acc: 0.4745 |  F1 score: 0.4503   \n"
     ]
    },
    {
     "name": "stderr",
     "output_type": "stream",
     "text": [
      "  5%|▌         | 2/40 [00:24<07:44, 12.23s/it]"
     ]
    },
    {
     "name": "stdout",
     "output_type": "stream",
     "text": [
      "Epoch: 2 | Train loss: 1.3936 | Train acc: 0.4131 | Test loss: 1.2942 | Test acc: 0.5067 |  F1 score: 0.4523   \n"
     ]
    },
    {
     "name": "stderr",
     "output_type": "stream",
     "text": [
      "  8%|▊         | 3/40 [00:36<07:27, 12.10s/it]"
     ]
    },
    {
     "name": "stdout",
     "output_type": "stream",
     "text": [
      "Epoch: 3 | Train loss: 1.2038 | Train acc: 0.4881 | Test loss: 1.1363 | Test acc: 0.5476 |  F1 score: 0.5151   \n"
     ]
    },
    {
     "name": "stderr",
     "output_type": "stream",
     "text": [
      " 10%|█         | 4/40 [00:48<07:17, 12.15s/it]"
     ]
    },
    {
     "name": "stdout",
     "output_type": "stream",
     "text": [
      "Epoch: 4 | Train loss: 1.0641 | Train acc: 0.5425 | Test loss: 1.0493 | Test acc: 0.5681 |  F1 score: 0.5110   \n"
     ]
    },
    {
     "name": "stderr",
     "output_type": "stream",
     "text": [
      " 12%|█▎        | 5/40 [01:00<06:59, 11.99s/it]"
     ]
    },
    {
     "name": "stdout",
     "output_type": "stream",
     "text": [
      "Epoch: 5 | Train loss: 1.0007 | Train acc: 0.5606 | Test loss: 1.0072 | Test acc: 0.5632 |  F1 score: 0.5042   \n"
     ]
    },
    {
     "name": "stderr",
     "output_type": "stream",
     "text": [
      " 15%|█▌        | 6/40 [01:12<06:44, 11.89s/it]"
     ]
    },
    {
     "name": "stdout",
     "output_type": "stream",
     "text": [
      "Epoch: 6 | Train loss: 0.9325 | Train acc: 0.5847 | Test loss: 0.9422 | Test acc: 0.5792 |  F1 score: 0.5432   \n"
     ]
    },
    {
     "name": "stderr",
     "output_type": "stream",
     "text": [
      " 18%|█▊        | 7/40 [01:24<06:35, 11.98s/it]"
     ]
    },
    {
     "name": "stdout",
     "output_type": "stream",
     "text": [
      "Epoch: 7 | Train loss: 0.8177 | Train acc: 0.6478 | Test loss: 0.9106 | Test acc: 0.5809 |  F1 score: 0.5333   \n"
     ]
    },
    {
     "name": "stderr",
     "output_type": "stream",
     "text": [
      " 22%|██▎       | 9/40 [01:46<05:59, 11.59s/it]"
     ]
    },
    {
     "name": "stdout",
     "output_type": "stream",
     "text": [
      "Epoch: 8 | Train loss: 0.8065 | Train acc: 0.6572 | Test loss: 0.9247 | Test acc: 0.5598 |  F1 score: 0.4608   \n",
      "Epoch: 9 | Train loss: 0.8076 | Train acc: 0.6659 | Test loss: 0.8636 | Test acc: 0.6155 |  F1 score: 0.6065   \n"
     ]
    },
    {
     "name": "stderr",
     "output_type": "stream",
     "text": [
      " 25%|██▌       | 10/40 [01:58<05:50, 11.69s/it]"
     ]
    },
    {
     "name": "stdout",
     "output_type": "stream",
     "text": [
      "Epoch: 10 | Train loss: 0.7075 | Train acc: 0.6838 | Test loss: 0.8531 | Test acc: 0.5962 |  F1 score: 0.5483   \n"
     ]
    },
    {
     "name": "stderr",
     "output_type": "stream",
     "text": [
      " 30%|███       | 12/40 [02:21<05:21, 11.46s/it]"
     ]
    },
    {
     "name": "stdout",
     "output_type": "stream",
     "text": [
      "Epoch: 11 | Train loss: 0.6851 | Train acc: 0.7009 | Test loss: 0.8617 | Test acc: 0.5675 |  F1 score: 0.5362   \n",
      "Epoch: 12 | Train loss: 0.6216 | Train acc: 0.7431 | Test loss: 0.8333 | Test acc: 0.5769 |  F1 score: 0.5513   \n"
     ]
    },
    {
     "name": "stderr",
     "output_type": "stream",
     "text": [
      " 32%|███▎      | 13/40 [02:33<05:14, 11.66s/it]"
     ]
    },
    {
     "name": "stdout",
     "output_type": "stream",
     "text": [
      "Epoch: 13 | Train loss: 0.6021 | Train acc: 0.7488 | Test loss: 0.8042 | Test acc: 0.5885 |  F1 score: 0.5702   \n"
     ]
    },
    {
     "name": "stderr",
     "output_type": "stream",
     "text": [
      " 35%|███▌      | 14/40 [02:45<05:05, 11.76s/it]"
     ]
    },
    {
     "name": "stdout",
     "output_type": "stream",
     "text": [
      "Epoch: 14 | Train loss: 0.5770 | Train acc: 0.7784 | Test loss: 0.7778 | Test acc: 0.6130 |  F1 score: 0.5865   \n"
     ]
    },
    {
     "name": "stderr",
     "output_type": "stream",
     "text": [
      " 40%|████      | 16/40 [03:08<04:34, 11.45s/it]"
     ]
    },
    {
     "name": "stdout",
     "output_type": "stream",
     "text": [
      "Epoch: 15 | Train loss: 0.5163 | Train acc: 0.7878 | Test loss: 0.8222 | Test acc: 0.6067 |  F1 score: 0.5527   \n",
      "Epoch: 16 | Train loss: 0.4756 | Train acc: 0.8078 | Test loss: 0.7752 | Test acc: 0.6255 |  F1 score: 0.5948   \n"
     ]
    },
    {
     "name": "stderr",
     "output_type": "stream",
     "text": [
      " 45%|████▌     | 18/40 [03:30<04:09, 11.35s/it]"
     ]
    },
    {
     "name": "stdout",
     "output_type": "stream",
     "text": [
      "Epoch: 17 | Train loss: 0.4706 | Train acc: 0.8028 | Test loss: 0.8132 | Test acc: 0.6138 |  F1 score: 0.5899   \n",
      "Epoch: 18 | Train loss: 0.4279 | Train acc: 0.8391 | Test loss: 0.7151 | Test acc: 0.6612 |  F1 score: 0.6622   \n"
     ]
    },
    {
     "name": "stderr",
     "output_type": "stream",
     "text": [
      " 50%|█████     | 20/40 [03:53<03:45, 11.29s/it]"
     ]
    },
    {
     "name": "stdout",
     "output_type": "stream",
     "text": [
      "Epoch: 19 | Train loss: 0.3987 | Train acc: 0.8353 | Test loss: 0.8050 | Test acc: 0.6229 |  F1 score: 0.5982   \n"
     ]
    },
    {
     "name": "stderr",
     "output_type": "stream",
     "text": [
      " 52%|█████▎    | 21/40 [04:04<03:30, 11.10s/it]"
     ]
    },
    {
     "name": "stdout",
     "output_type": "stream",
     "text": [
      "Epoch: 20 | Train loss: 0.3727 | Train acc: 0.8469 | Test loss: 0.7364 | Test acc: 0.6692 |  F1 score: 0.6610   \n",
      "Epoch: 21 | Train loss: 0.3552 | Train acc: 0.8603 | Test loss: 0.6911 | Test acc: 0.6723 |  F1 score: 0.6723   \n"
     ]
    },
    {
     "name": "stderr",
     "output_type": "stream",
     "text": [
      " 57%|█████▊    | 23/40 [04:27<03:10, 11.21s/it]"
     ]
    },
    {
     "name": "stdout",
     "output_type": "stream",
     "text": [
      "Epoch: 22 | Train loss: 0.3319 | Train acc: 0.8806 | Test loss: 0.7502 | Test acc: 0.6473 |  F1 score: 0.6327   \n",
      "Epoch: 23 | Train loss: 0.3006 | Train acc: 0.8922 | Test loss: 0.6809 | Test acc: 0.7005 |  F1 score: 0.7004   \n"
     ]
    },
    {
     "name": "stderr",
     "output_type": "stream",
     "text": [
      " 60%|██████    | 24/40 [04:39<03:03, 11.48s/it]"
     ]
    },
    {
     "name": "stdout",
     "output_type": "stream",
     "text": [
      "Epoch: 24 | Train loss: 0.2676 | Train acc: 0.9109 | Test loss: 0.6353 | Test acc: 0.7204 |  F1 score: 0.7204   \n"
     ]
    },
    {
     "name": "stderr",
     "output_type": "stream",
     "text": [
      " 65%|██████▌   | 26/40 [05:02<02:39, 11.37s/it]"
     ]
    },
    {
     "name": "stdout",
     "output_type": "stream",
     "text": [
      "Epoch: 25 | Train loss: 0.2001 | Train acc: 0.9213 | Test loss: 0.7778 | Test acc: 0.6553 |  F1 score: 0.6223   \n"
     ]
    },
    {
     "name": "stderr",
     "output_type": "stream",
     "text": [
      " 68%|██████▊   | 27/40 [05:12<02:25, 11.16s/it]"
     ]
    },
    {
     "name": "stdout",
     "output_type": "stream",
     "text": [
      "Epoch: 26 | Train loss: 0.2564 | Train acc: 0.9088 | Test loss: 0.7808 | Test acc: 0.6479 |  F1 score: 0.6309   \n"
     ]
    },
    {
     "name": "stderr",
     "output_type": "stream",
     "text": [
      " 70%|███████   | 28/40 [05:23<02:12, 11.02s/it]"
     ]
    },
    {
     "name": "stdout",
     "output_type": "stream",
     "text": [
      "Epoch: 27 | Train loss: 0.2474 | Train acc: 0.9128 | Test loss: 0.8346 | Test acc: 0.6257 |  F1 score: 0.5943   \n",
      "Epoch: 28 | Train loss: 0.2118 | Train acc: 0.9344 | Test loss: 0.6145 | Test acc: 0.7258 |  F1 score: 0.7242   \n"
     ]
    },
    {
     "name": "stderr",
     "output_type": "stream",
     "text": [
      " 75%|███████▌  | 30/40 [05:45<01:50, 11.08s/it]"
     ]
    },
    {
     "name": "stdout",
     "output_type": "stream",
     "text": [
      "Epoch: 29 | Train loss: 0.2082 | Train acc: 0.9159 | Test loss: 0.9124 | Test acc: 0.6218 |  F1 score: 0.5946   \n",
      "Epoch: 30 | Train loss: 0.1788 | Train acc: 0.9359 | Test loss: 0.5847 | Test acc: 0.7383 |  F1 score: 0.7368   \n"
     ]
    },
    {
     "name": "stderr",
     "output_type": "stream",
     "text": [
      " 78%|███████▊  | 31/40 [05:58<01:42, 11.41s/it]"
     ]
    },
    {
     "name": "stdout",
     "output_type": "stream",
     "text": [
      "Epoch: 31 | Train loss: 0.1378 | Train acc: 0.9547 | Test loss: 0.5823 | Test acc: 0.7360 |  F1 score: 0.7360   \n"
     ]
    },
    {
     "name": "stderr",
     "output_type": "stream",
     "text": [
      " 82%|████████▎ | 33/40 [06:21<01:20, 11.53s/it]"
     ]
    },
    {
     "name": "stdout",
     "output_type": "stream",
     "text": [
      "Epoch: 32 | Train loss: 0.1486 | Train acc: 0.9469 | Test loss: 0.6051 | Test acc: 0.7411 |  F1 score: 0.7409   \n"
     ]
    },
    {
     "name": "stderr",
     "output_type": "stream",
     "text": [
      " 85%|████████▌ | 34/40 [06:32<01:07, 11.28s/it]"
     ]
    },
    {
     "name": "stdout",
     "output_type": "stream",
     "text": [
      "Epoch: 33 | Train loss: 0.1328 | Train acc: 0.9594 | Test loss: 0.6604 | Test acc: 0.7272 |  F1 score: 0.7245   \n"
     ]
    },
    {
     "name": "stderr",
     "output_type": "stream",
     "text": [
      " 88%|████████▊ | 35/40 [06:43<00:55, 11.10s/it]"
     ]
    },
    {
     "name": "stdout",
     "output_type": "stream",
     "text": [
      "Epoch: 34 | Train loss: 0.1237 | Train acc: 0.9531 | Test loss: 0.5943 | Test acc: 0.7190 |  F1 score: 0.7174   \n",
      "Epoch: 35 | Train loss: 0.1048 | Train acc: 0.9734 | Test loss: 0.5770 | Test acc: 0.7397 |  F1 score: 0.7391   \n"
     ]
    },
    {
     "name": "stderr",
     "output_type": "stream",
     "text": [
      " 92%|█████████▎| 37/40 [07:05<00:33, 11.16s/it]"
     ]
    },
    {
     "name": "stdout",
     "output_type": "stream",
     "text": [
      "Epoch: 36 | Train loss: 0.1102 | Train acc: 0.9641 | Test loss: 0.5821 | Test acc: 0.7622 |  F1 score: 0.7597   \n",
      "Epoch: 37 | Train loss: 0.0860 | Train acc: 0.9750 | Test loss: 0.5656 | Test acc: 0.7477 |  F1 score: 0.7470   \n"
     ]
    },
    {
     "name": "stderr",
     "output_type": "stream",
     "text": [
      " 95%|█████████▌| 38/40 [07:17<00:22, 11.37s/it]"
     ]
    }
   ],
   "source": [
    "import torchvision.models as models\n",
    "\n",
    "model_preTrained_VGG16 = models.vgg16(pretrained=True)    # 使用內建的 model \n",
    "\n",
    "\n",
    "optimizer = torch.optim.SGD(model_preTrained_VGG16.parameters(), lr = 0.001) # 選擇你想用的 optimizer\n",
    "\n",
    "# optimizer = torch.optim.Adam(model_VGG16.parameters(), lr =0.01)\n",
    "\n",
    "# Loss function\n",
    "loss_fn = nn.CrossEntropyLoss()                # 選擇想用的 loss functionmodel_vgg16 = \n",
    "\n",
    "#=========\n",
    "import torch\n",
    "import torch.nn as nn\n",
    "import torchvision.models as models\n",
    "\n",
    "\n",
    "\n",
    "\n",
    "# 获取分类器中最后一个全连接层之前的部分\n",
    "classifier = list(model_preTrained_VGG16.classifier.children())[:-1]\n",
    "\n",
    "# 移除原始模型的最后一个全连接层\n",
    "# 并添加一个新的全连接层，输出特征数为 7\n",
    "classifier.append(torch.nn.Linear(4096, 7))\n",
    "\n",
    "# 替换原始模型的分类器\n",
    "model_preTrained_VGG16.classifier = torch.nn.Sequential(*classifier)\n",
    "\n",
    "# ============\n",
    "\n",
    "\n",
    "model_preTrained_VGG16 =  model_preTrained_VGG16.to(device)\n",
    "\n",
    "from torchinfo import summary\n",
    "\n",
    "summary(model_preTrained_VGG16, input_size=[1,3,224,224])\n",
    "\n",
    "\n",
    "\n",
    "# Start the timer\n",
    "\n",
    "\n",
    "# from timeit import default_timer as timer\n",
    "start_time = timer()\n",
    "\n",
    "# Train model_0\n",
    "model_VGG16_results = train(model=model_preTrained_VGG16,\n",
    "              train_dataloader=train_dataloader,\n",
    "              test_dataloader=test_dataloader,\n",
    "              optimizer=optimizer,\n",
    "              loss_fn=loss_fn,\n",
    "              best_model_name=model_folder_path + \"\\\\best_model_pretrain_VGG16.pth\",\n",
    "              epochs=40)\n",
    "\n",
    "# End the timer and print out how long it took\n",
    "end_time = timer()\n",
    "print(f\"Total training time: {end_time-start_time:.3f} seconds\")"
   ]
  },
  {
   "cell_type": "markdown",
   "metadata": {},
   "source": [
    "output == 7 non-pretrain VGG"
   ]
  },
  {
   "cell_type": "code",
   "execution_count": null,
   "metadata": {},
   "outputs": [
    {
     "name": "stderr",
     "output_type": "stream",
     "text": [
      "c:\\Users\\E\\AppData\\Local\\Programs\\Python\\Python311\\Lib\\site-packages\\torchvision\\models\\_utils.py:208: UserWarning: The parameter 'pretrained' is deprecated since 0.13 and may be removed in the future, please use 'weights' instead.\n",
      "  warnings.warn(\n",
      "c:\\Users\\E\\AppData\\Local\\Programs\\Python\\Python311\\Lib\\site-packages\\torchvision\\models\\_utils.py:223: UserWarning: Arguments other than a weight enum or `None` for 'weights' are deprecated since 0.13 and may be removed in the future. The current behavior is equivalent to passing `weights=None`.\n",
      "  warnings.warn(msg)\n",
      "  1%|          | 1/120 [01:38<3:15:23, 98.52s/it]"
     ]
    },
    {
     "name": "stdout",
     "output_type": "stream",
     "text": [
      "Epoch: 0 | Train loss: 0.3846 | Train acc: 0.8590 | Test loss: 0.6782 | Test acc: 0.7466 |  F1 score: 0.7649   \n"
     ]
    },
    {
     "name": "stderr",
     "output_type": "stream",
     "text": [
      "  2%|▏         | 2/120 [03:16<3:13:32, 98.42s/it]"
     ]
    },
    {
     "name": "stdout",
     "output_type": "stream",
     "text": [
      "Epoch: 1 | Train loss: 0.3843 | Train acc: 0.8542 | Test loss: 0.6782 | Test acc: 0.7466 |  F1 score: 0.7649   \n"
     ]
    },
    {
     "name": "stderr",
     "output_type": "stream",
     "text": [
      "  2%|▎         | 3/120 [04:55<3:12:00, 98.46s/it]"
     ]
    },
    {
     "name": "stdout",
     "output_type": "stream",
     "text": [
      "Epoch: 2 | Train loss: 0.3842 | Train acc: 0.8560 | Test loss: 0.6782 | Test acc: 0.7466 |  F1 score: 0.7649   \n"
     ]
    },
    {
     "name": "stderr",
     "output_type": "stream",
     "text": [
      "  3%|▎         | 4/120 [06:33<3:10:19, 98.44s/it]"
     ]
    },
    {
     "name": "stdout",
     "output_type": "stream",
     "text": [
      "Epoch: 3 | Train loss: 0.3823 | Train acc: 0.8580 | Test loss: 0.6782 | Test acc: 0.7466 |  F1 score: 0.7649   \n"
     ]
    },
    {
     "name": "stderr",
     "output_type": "stream",
     "text": [
      "  4%|▍         | 5/120 [08:12<3:08:48, 98.51s/it]"
     ]
    },
    {
     "name": "stdout",
     "output_type": "stream",
     "text": [
      "Epoch: 4 | Train loss: 0.3851 | Train acc: 0.8556 | Test loss: 0.6782 | Test acc: 0.7466 |  F1 score: 0.7649   \n"
     ]
    },
    {
     "name": "stderr",
     "output_type": "stream",
     "text": [
      "  5%|▌         | 6/120 [09:51<3:07:22, 98.61s/it]"
     ]
    },
    {
     "name": "stdout",
     "output_type": "stream",
     "text": [
      "Epoch: 5 | Train loss: 0.3897 | Train acc: 0.8533 | Test loss: 0.6782 | Test acc: 0.7466 |  F1 score: 0.7649   \n"
     ]
    },
    {
     "name": "stderr",
     "output_type": "stream",
     "text": [
      "  6%|▌         | 7/120 [11:30<3:05:50, 98.67s/it]"
     ]
    },
    {
     "name": "stdout",
     "output_type": "stream",
     "text": [
      "Epoch: 6 | Train loss: 0.3797 | Train acc: 0.8581 | Test loss: 0.6782 | Test acc: 0.7466 |  F1 score: 0.7649   \n"
     ]
    },
    {
     "name": "stderr",
     "output_type": "stream",
     "text": [
      "  7%|▋         | 8/120 [13:08<3:04:15, 98.71s/it]"
     ]
    },
    {
     "name": "stdout",
     "output_type": "stream",
     "text": [
      "Epoch: 7 | Train loss: 0.3818 | Train acc: 0.8556 | Test loss: 0.6782 | Test acc: 0.7466 |  F1 score: 0.7649   \n"
     ]
    },
    {
     "name": "stderr",
     "output_type": "stream",
     "text": [
      "  8%|▊         | 9/120 [14:47<3:02:40, 98.74s/it]"
     ]
    },
    {
     "name": "stdout",
     "output_type": "stream",
     "text": [
      "Epoch: 8 | Train loss: 0.3918 | Train acc: 0.8485 | Test loss: 0.6782 | Test acc: 0.7466 |  F1 score: 0.7649   \n"
     ]
    },
    {
     "name": "stderr",
     "output_type": "stream",
     "text": [
      "  8%|▊         | 10/120 [16:26<3:01:04, 98.77s/it]"
     ]
    },
    {
     "name": "stdout",
     "output_type": "stream",
     "text": [
      "Epoch: 9 | Train loss: 0.3843 | Train acc: 0.8551 | Test loss: 0.6782 | Test acc: 0.7466 |  F1 score: 0.7649   \n"
     ]
    },
    {
     "name": "stderr",
     "output_type": "stream",
     "text": [
      "  9%|▉         | 11/120 [18:05<2:59:40, 98.91s/it]"
     ]
    },
    {
     "name": "stdout",
     "output_type": "stream",
     "text": [
      "Epoch: 10 | Train loss: 0.3896 | Train acc: 0.8525 | Test loss: 0.6782 | Test acc: 0.7466 |  F1 score: 0.7649   \n"
     ]
    },
    {
     "name": "stderr",
     "output_type": "stream",
     "text": [
      " 10%|█         | 12/120 [19:44<2:58:03, 98.92s/it]"
     ]
    },
    {
     "name": "stdout",
     "output_type": "stream",
     "text": [
      "Epoch: 11 | Train loss: 0.3792 | Train acc: 0.8613 | Test loss: 0.6782 | Test acc: 0.7466 |  F1 score: 0.7649   \n"
     ]
    },
    {
     "name": "stderr",
     "output_type": "stream",
     "text": [
      " 11%|█         | 13/120 [21:23<2:56:22, 98.90s/it]"
     ]
    },
    {
     "name": "stdout",
     "output_type": "stream",
     "text": [
      "Epoch: 12 | Train loss: 0.3900 | Train acc: 0.8503 | Test loss: 0.6782 | Test acc: 0.7466 |  F1 score: 0.7649   \n"
     ]
    },
    {
     "name": "stderr",
     "output_type": "stream",
     "text": [
      " 12%|█▏        | 14/120 [23:05<2:56:10, 99.73s/it]"
     ]
    },
    {
     "name": "stdout",
     "output_type": "stream",
     "text": [
      "Epoch: 13 | Train loss: 0.3839 | Train acc: 0.8572 | Test loss: 0.6782 | Test acc: 0.7466 |  F1 score: 0.7649   \n"
     ]
    },
    {
     "name": "stderr",
     "output_type": "stream",
     "text": [
      " 12%|█▎        | 15/120 [24:50<2:57:36, 101.49s/it]"
     ]
    },
    {
     "name": "stdout",
     "output_type": "stream",
     "text": [
      "Epoch: 14 | Train loss: 0.3822 | Train acc: 0.8540 | Test loss: 0.6782 | Test acc: 0.7466 |  F1 score: 0.7649   \n"
     ]
    },
    {
     "name": "stderr",
     "output_type": "stream",
     "text": [
      " 13%|█▎        | 16/120 [26:32<2:55:54, 101.49s/it]"
     ]
    },
    {
     "name": "stdout",
     "output_type": "stream",
     "text": [
      "Epoch: 15 | Train loss: 0.3875 | Train acc: 0.8549 | Test loss: 0.6782 | Test acc: 0.7466 |  F1 score: 0.7649   \n"
     ]
    },
    {
     "name": "stderr",
     "output_type": "stream",
     "text": [
      " 14%|█▍        | 17/120 [28:13<2:53:54, 101.31s/it]"
     ]
    },
    {
     "name": "stdout",
     "output_type": "stream",
     "text": [
      "Epoch: 16 | Train loss: 0.3875 | Train acc: 0.8496 | Test loss: 0.6782 | Test acc: 0.7466 |  F1 score: 0.7649   \n"
     ]
    },
    {
     "name": "stderr",
     "output_type": "stream",
     "text": [
      " 15%|█▌        | 18/120 [29:53<2:51:59, 101.17s/it]"
     ]
    },
    {
     "name": "stdout",
     "output_type": "stream",
     "text": [
      "Epoch: 17 | Train loss: 0.3900 | Train acc: 0.8539 | Test loss: 0.6782 | Test acc: 0.7466 |  F1 score: 0.7649   \n"
     ]
    },
    {
     "name": "stderr",
     "output_type": "stream",
     "text": [
      " 16%|█▌        | 19/120 [31:35<2:50:28, 101.27s/it]"
     ]
    },
    {
     "name": "stdout",
     "output_type": "stream",
     "text": [
      "Epoch: 18 | Train loss: 0.3920 | Train acc: 0.8517 | Test loss: 0.6782 | Test acc: 0.7466 |  F1 score: 0.7649   \n"
     ]
    },
    {
     "name": "stderr",
     "output_type": "stream",
     "text": [
      " 17%|█▋        | 20/120 [33:16<2:48:45, 101.25s/it]"
     ]
    },
    {
     "name": "stdout",
     "output_type": "stream",
     "text": [
      "Epoch: 19 | Train loss: 0.3813 | Train acc: 0.8562 | Test loss: 0.6782 | Test acc: 0.7466 |  F1 score: 0.7649   \n"
     ]
    },
    {
     "name": "stderr",
     "output_type": "stream",
     "text": [
      " 18%|█▊        | 21/120 [34:58<2:47:11, 101.33s/it]"
     ]
    },
    {
     "name": "stdout",
     "output_type": "stream",
     "text": [
      "Epoch: 20 | Train loss: 0.3868 | Train acc: 0.8489 | Test loss: 0.6782 | Test acc: 0.7466 |  F1 score: 0.7649   \n"
     ]
    },
    {
     "name": "stderr",
     "output_type": "stream",
     "text": [
      " 18%|█▊        | 22/120 [36:39<2:45:30, 101.33s/it]"
     ]
    },
    {
     "name": "stdout",
     "output_type": "stream",
     "text": [
      "Epoch: 21 | Train loss: 0.3915 | Train acc: 0.8539 | Test loss: 0.6782 | Test acc: 0.7466 |  F1 score: 0.7649   \n"
     ]
    },
    {
     "name": "stderr",
     "output_type": "stream",
     "text": [
      " 19%|█▉        | 23/120 [38:20<2:43:51, 101.36s/it]"
     ]
    },
    {
     "name": "stdout",
     "output_type": "stream",
     "text": [
      "Epoch: 22 | Train loss: 0.3884 | Train acc: 0.8525 | Test loss: 0.6782 | Test acc: 0.7466 |  F1 score: 0.7649   \n"
     ]
    },
    {
     "name": "stderr",
     "output_type": "stream",
     "text": [
      " 20%|██        | 24/120 [40:01<2:41:59, 101.25s/it]"
     ]
    },
    {
     "name": "stdout",
     "output_type": "stream",
     "text": [
      "Epoch: 23 | Train loss: 0.3853 | Train acc: 0.8539 | Test loss: 0.6782 | Test acc: 0.7466 |  F1 score: 0.7649   \n"
     ]
    },
    {
     "name": "stderr",
     "output_type": "stream",
     "text": [
      " 21%|██        | 25/120 [41:42<2:40:13, 101.20s/it]"
     ]
    },
    {
     "name": "stdout",
     "output_type": "stream",
     "text": [
      "Epoch: 24 | Train loss: 0.3808 | Train acc: 0.8590 | Test loss: 0.6782 | Test acc: 0.7466 |  F1 score: 0.7649   \n"
     ]
    },
    {
     "name": "stderr",
     "output_type": "stream",
     "text": [
      " 22%|██▏       | 26/120 [43:24<2:38:39, 101.27s/it]"
     ]
    },
    {
     "name": "stdout",
     "output_type": "stream",
     "text": [
      "Epoch: 25 | Train loss: 0.3836 | Train acc: 0.8555 | Test loss: 0.6782 | Test acc: 0.7466 |  F1 score: 0.7649   \n"
     ]
    },
    {
     "name": "stderr",
     "output_type": "stream",
     "text": [
      " 22%|██▎       | 27/120 [45:05<2:36:46, 101.14s/it]"
     ]
    },
    {
     "name": "stdout",
     "output_type": "stream",
     "text": [
      "Epoch: 26 | Train loss: 0.3862 | Train acc: 0.8525 | Test loss: 0.6782 | Test acc: 0.7466 |  F1 score: 0.7649   \n"
     ]
    },
    {
     "name": "stderr",
     "output_type": "stream",
     "text": [
      " 23%|██▎       | 28/120 [46:46<2:35:04, 101.14s/it]"
     ]
    },
    {
     "name": "stdout",
     "output_type": "stream",
     "text": [
      "Epoch: 27 | Train loss: 0.3870 | Train acc: 0.8516 | Test loss: 0.6782 | Test acc: 0.7466 |  F1 score: 0.7649   \n"
     ]
    },
    {
     "name": "stderr",
     "output_type": "stream",
     "text": [
      " 24%|██▍       | 29/120 [48:27<2:33:20, 101.10s/it]"
     ]
    },
    {
     "name": "stdout",
     "output_type": "stream",
     "text": [
      "Epoch: 28 | Train loss: 0.3906 | Train acc: 0.8505 | Test loss: 0.6782 | Test acc: 0.7466 |  F1 score: 0.7649   \n"
     ]
    },
    {
     "name": "stderr",
     "output_type": "stream",
     "text": [
      " 25%|██▌       | 30/120 [50:08<2:31:46, 101.18s/it]"
     ]
    },
    {
     "name": "stdout",
     "output_type": "stream",
     "text": [
      "Epoch: 29 | Train loss: 0.3882 | Train acc: 0.8510 | Test loss: 0.6782 | Test acc: 0.7466 |  F1 score: 0.7649   \n"
     ]
    },
    {
     "name": "stderr",
     "output_type": "stream",
     "text": [
      " 26%|██▌       | 31/120 [51:49<2:29:59, 101.12s/it]"
     ]
    },
    {
     "name": "stdout",
     "output_type": "stream",
     "text": [
      "Epoch: 30 | Train loss: 0.3872 | Train acc: 0.8553 | Test loss: 0.6782 | Test acc: 0.7466 |  F1 score: 0.7649   \n"
     ]
    },
    {
     "name": "stderr",
     "output_type": "stream",
     "text": [
      " 27%|██▋       | 32/120 [53:30<2:28:14, 101.08s/it]"
     ]
    },
    {
     "name": "stdout",
     "output_type": "stream",
     "text": [
      "Epoch: 31 | Train loss: 0.3878 | Train acc: 0.8533 | Test loss: 0.6782 | Test acc: 0.7466 |  F1 score: 0.7649   \n"
     ]
    },
    {
     "name": "stderr",
     "output_type": "stream",
     "text": [
      " 28%|██▊       | 33/120 [55:11<2:26:16, 100.88s/it]"
     ]
    },
    {
     "name": "stdout",
     "output_type": "stream",
     "text": [
      "Epoch: 32 | Train loss: 0.3839 | Train acc: 0.8510 | Test loss: 0.6782 | Test acc: 0.7466 |  F1 score: 0.7649   \n"
     ]
    },
    {
     "name": "stderr",
     "output_type": "stream",
     "text": [
      " 28%|██▊       | 34/120 [56:49<2:23:42, 100.26s/it]"
     ]
    },
    {
     "name": "stdout",
     "output_type": "stream",
     "text": [
      "Epoch: 33 | Train loss: 0.3813 | Train acc: 0.8548 | Test loss: 0.6782 | Test acc: 0.7466 |  F1 score: 0.7649   \n"
     ]
    },
    {
     "name": "stderr",
     "output_type": "stream",
     "text": [
      " 29%|██▉       | 35/120 [58:28<2:21:26, 99.84s/it] "
     ]
    },
    {
     "name": "stdout",
     "output_type": "stream",
     "text": [
      "Epoch: 34 | Train loss: 0.3823 | Train acc: 0.8540 | Test loss: 0.6782 | Test acc: 0.7466 |  F1 score: 0.7649   \n"
     ]
    },
    {
     "name": "stderr",
     "output_type": "stream",
     "text": [
      " 30%|███       | 36/120 [1:00:07<2:19:25, 99.58s/it]"
     ]
    },
    {
     "name": "stdout",
     "output_type": "stream",
     "text": [
      "Epoch: 35 | Train loss: 0.3884 | Train acc: 0.8542 | Test loss: 0.6782 | Test acc: 0.7466 |  F1 score: 0.7649   \n"
     ]
    },
    {
     "name": "stderr",
     "output_type": "stream",
     "text": [
      " 31%|███       | 37/120 [1:01:46<2:17:33, 99.43s/it]"
     ]
    },
    {
     "name": "stdout",
     "output_type": "stream",
     "text": [
      "Epoch: 36 | Train loss: 0.3856 | Train acc: 0.8592 | Test loss: 0.6782 | Test acc: 0.7466 |  F1 score: 0.7649   \n"
     ]
    },
    {
     "name": "stderr",
     "output_type": "stream",
     "text": [
      " 32%|███▏      | 38/120 [1:03:26<2:15:48, 99.37s/it]"
     ]
    },
    {
     "name": "stdout",
     "output_type": "stream",
     "text": [
      "Epoch: 37 | Train loss: 0.3867 | Train acc: 0.8556 | Test loss: 0.6782 | Test acc: 0.7466 |  F1 score: 0.7649   \n"
     ]
    },
    {
     "name": "stderr",
     "output_type": "stream",
     "text": [
      " 32%|███▎      | 39/120 [1:05:04<2:13:54, 99.20s/it]"
     ]
    },
    {
     "name": "stdout",
     "output_type": "stream",
     "text": [
      "Epoch: 38 | Train loss: 0.3872 | Train acc: 0.8574 | Test loss: 0.6782 | Test acc: 0.7466 |  F1 score: 0.7649   \n"
     ]
    },
    {
     "name": "stderr",
     "output_type": "stream",
     "text": [
      " 33%|███▎      | 40/120 [1:06:44<2:12:15, 99.19s/it]"
     ]
    },
    {
     "name": "stdout",
     "output_type": "stream",
     "text": [
      "Epoch: 39 | Train loss: 0.3891 | Train acc: 0.8560 | Test loss: 0.6782 | Test acc: 0.7466 |  F1 score: 0.7649   \n"
     ]
    },
    {
     "name": "stderr",
     "output_type": "stream",
     "text": [
      " 34%|███▍      | 41/120 [1:08:22<2:10:28, 99.10s/it]"
     ]
    },
    {
     "name": "stdout",
     "output_type": "stream",
     "text": [
      "Epoch: 40 | Train loss: 0.3861 | Train acc: 0.8565 | Test loss: 0.6782 | Test acc: 0.7466 |  F1 score: 0.7649   \n"
     ]
    },
    {
     "name": "stderr",
     "output_type": "stream",
     "text": [
      " 35%|███▌      | 42/120 [1:10:01<2:08:44, 99.03s/it]"
     ]
    },
    {
     "name": "stdout",
     "output_type": "stream",
     "text": [
      "Epoch: 41 | Train loss: 0.3829 | Train acc: 0.8587 | Test loss: 0.6782 | Test acc: 0.7466 |  F1 score: 0.7649   \n"
     ]
    },
    {
     "name": "stderr",
     "output_type": "stream",
     "text": [
      " 36%|███▌      | 43/120 [1:11:40<2:07:00, 98.97s/it]"
     ]
    },
    {
     "name": "stdout",
     "output_type": "stream",
     "text": [
      "Epoch: 42 | Train loss: 0.3885 | Train acc: 0.8533 | Test loss: 0.6782 | Test acc: 0.7466 |  F1 score: 0.7649   \n"
     ]
    },
    {
     "name": "stderr",
     "output_type": "stream",
     "text": [
      " 37%|███▋      | 44/120 [1:13:19<2:05:19, 98.94s/it]"
     ]
    },
    {
     "name": "stdout",
     "output_type": "stream",
     "text": [
      "Epoch: 43 | Train loss: 0.3867 | Train acc: 0.8525 | Test loss: 0.6782 | Test acc: 0.7466 |  F1 score: 0.7649   \n"
     ]
    },
    {
     "name": "stderr",
     "output_type": "stream",
     "text": [
      " 38%|███▊      | 45/120 [1:14:58<2:03:47, 99.04s/it]"
     ]
    },
    {
     "name": "stdout",
     "output_type": "stream",
     "text": [
      "Epoch: 44 | Train loss: 0.3875 | Train acc: 0.8551 | Test loss: 0.6782 | Test acc: 0.7466 |  F1 score: 0.7649   \n"
     ]
    },
    {
     "name": "stderr",
     "output_type": "stream",
     "text": [
      " 38%|███▊      | 46/120 [1:16:37<2:02:06, 99.01s/it]"
     ]
    },
    {
     "name": "stdout",
     "output_type": "stream",
     "text": [
      "Epoch: 45 | Train loss: 0.3895 | Train acc: 0.8533 | Test loss: 0.6782 | Test acc: 0.7466 |  F1 score: 0.7649   \n"
     ]
    },
    {
     "name": "stderr",
     "output_type": "stream",
     "text": [
      " 39%|███▉      | 47/120 [1:18:16<2:00:23, 98.95s/it]"
     ]
    },
    {
     "name": "stdout",
     "output_type": "stream",
     "text": [
      "Epoch: 46 | Train loss: 0.3932 | Train acc: 0.8539 | Test loss: 0.6782 | Test acc: 0.7466 |  F1 score: 0.7649   \n"
     ]
    },
    {
     "name": "stderr",
     "output_type": "stream",
     "text": [
      " 40%|████      | 48/120 [1:19:55<1:58:38, 98.87s/it]"
     ]
    },
    {
     "name": "stdout",
     "output_type": "stream",
     "text": [
      "Epoch: 47 | Train loss: 0.3900 | Train acc: 0.8560 | Test loss: 0.6782 | Test acc: 0.7466 |  F1 score: 0.7649   \n"
     ]
    },
    {
     "name": "stderr",
     "output_type": "stream",
     "text": [
      " 41%|████      | 49/120 [1:21:34<1:57:00, 98.88s/it]"
     ]
    },
    {
     "name": "stdout",
     "output_type": "stream",
     "text": [
      "Epoch: 48 | Train loss: 0.3925 | Train acc: 0.8530 | Test loss: 0.6782 | Test acc: 0.7466 |  F1 score: 0.7649   \n"
     ]
    },
    {
     "name": "stderr",
     "output_type": "stream",
     "text": [
      " 42%|████▏     | 50/120 [1:23:12<1:55:15, 98.79s/it]"
     ]
    },
    {
     "name": "stdout",
     "output_type": "stream",
     "text": [
      "Epoch: 49 | Train loss: 0.3876 | Train acc: 0.8546 | Test loss: 0.6782 | Test acc: 0.7466 |  F1 score: 0.7649   \n"
     ]
    },
    {
     "name": "stderr",
     "output_type": "stream",
     "text": [
      " 42%|████▎     | 51/120 [1:24:51<1:53:37, 98.81s/it]"
     ]
    },
    {
     "name": "stdout",
     "output_type": "stream",
     "text": [
      "Epoch: 50 | Train loss: 0.3906 | Train acc: 0.8523 | Test loss: 0.6782 | Test acc: 0.7466 |  F1 score: 0.7649   \n"
     ]
    },
    {
     "name": "stderr",
     "output_type": "stream",
     "text": [
      " 43%|████▎     | 52/120 [1:26:30<1:52:00, 98.83s/it]"
     ]
    },
    {
     "name": "stdout",
     "output_type": "stream",
     "text": [
      "Epoch: 51 | Train loss: 0.3899 | Train acc: 0.8535 | Test loss: 0.6782 | Test acc: 0.7466 |  F1 score: 0.7649   \n"
     ]
    },
    {
     "name": "stderr",
     "output_type": "stream",
     "text": [
      " 44%|████▍     | 53/120 [1:28:09<1:50:22, 98.84s/it]"
     ]
    },
    {
     "name": "stdout",
     "output_type": "stream",
     "text": [
      "Epoch: 52 | Train loss: 0.3879 | Train acc: 0.8537 | Test loss: 0.6782 | Test acc: 0.7466 |  F1 score: 0.7649   \n"
     ]
    },
    {
     "name": "stderr",
     "output_type": "stream",
     "text": [
      " 45%|████▌     | 54/120 [1:29:47<1:48:40, 98.80s/it]"
     ]
    },
    {
     "name": "stdout",
     "output_type": "stream",
     "text": [
      "Epoch: 53 | Train loss: 0.3978 | Train acc: 0.8494 | Test loss: 0.6782 | Test acc: 0.7466 |  F1 score: 0.7649   \n"
     ]
    },
    {
     "name": "stderr",
     "output_type": "stream",
     "text": [
      " 46%|████▌     | 55/120 [1:31:26<1:47:01, 98.79s/it]"
     ]
    },
    {
     "name": "stdout",
     "output_type": "stream",
     "text": [
      "Epoch: 54 | Train loss: 0.3806 | Train acc: 0.8544 | Test loss: 0.6782 | Test acc: 0.7466 |  F1 score: 0.7649   \n"
     ]
    },
    {
     "name": "stderr",
     "output_type": "stream",
     "text": [
      " 47%|████▋     | 56/120 [1:33:05<1:45:16, 98.70s/it]"
     ]
    },
    {
     "name": "stdout",
     "output_type": "stream",
     "text": [
      "Epoch: 55 | Train loss: 0.3830 | Train acc: 0.8533 | Test loss: 0.6782 | Test acc: 0.7466 |  F1 score: 0.7649   \n"
     ]
    },
    {
     "name": "stderr",
     "output_type": "stream",
     "text": [
      " 48%|████▊     | 57/120 [1:34:43<1:43:37, 98.69s/it]"
     ]
    },
    {
     "name": "stdout",
     "output_type": "stream",
     "text": [
      "Epoch: 56 | Train loss: 0.3855 | Train acc: 0.8507 | Test loss: 0.6782 | Test acc: 0.7466 |  F1 score: 0.7649   \n"
     ]
    },
    {
     "name": "stderr",
     "output_type": "stream",
     "text": [
      " 48%|████▊     | 58/120 [1:36:22<1:42:02, 98.75s/it]"
     ]
    },
    {
     "name": "stdout",
     "output_type": "stream",
     "text": [
      "Epoch: 57 | Train loss: 0.3832 | Train acc: 0.8551 | Test loss: 0.6782 | Test acc: 0.7466 |  F1 score: 0.7649   \n"
     ]
    },
    {
     "name": "stderr",
     "output_type": "stream",
     "text": [
      " 49%|████▉     | 59/120 [1:38:01<1:40:30, 98.86s/it]"
     ]
    },
    {
     "name": "stdout",
     "output_type": "stream",
     "text": [
      "Epoch: 58 | Train loss: 0.3842 | Train acc: 0.8548 | Test loss: 0.6782 | Test acc: 0.7466 |  F1 score: 0.7649   \n"
     ]
    },
    {
     "name": "stderr",
     "output_type": "stream",
     "text": [
      " 50%|█████     | 60/120 [1:39:40<1:38:54, 98.91s/it]"
     ]
    },
    {
     "name": "stdout",
     "output_type": "stream",
     "text": [
      "Epoch: 59 | Train loss: 0.3789 | Train acc: 0.8537 | Test loss: 0.6782 | Test acc: 0.7466 |  F1 score: 0.7649   \n"
     ]
    },
    {
     "name": "stderr",
     "output_type": "stream",
     "text": [
      " 51%|█████     | 61/120 [1:41:19<1:37:17, 98.94s/it]"
     ]
    },
    {
     "name": "stdout",
     "output_type": "stream",
     "text": [
      "Epoch: 60 | Train loss: 0.3978 | Train acc: 0.8475 | Test loss: 0.6782 | Test acc: 0.7466 |  F1 score: 0.7649   \n"
     ]
    },
    {
     "name": "stderr",
     "output_type": "stream",
     "text": [
      " 52%|█████▏    | 62/120 [1:42:58<1:35:35, 98.89s/it]"
     ]
    },
    {
     "name": "stdout",
     "output_type": "stream",
     "text": [
      "Epoch: 61 | Train loss: 0.3917 | Train acc: 0.8533 | Test loss: 0.6782 | Test acc: 0.7466 |  F1 score: 0.7649   \n"
     ]
    },
    {
     "name": "stderr",
     "output_type": "stream",
     "text": [
      " 52%|█████▎    | 63/120 [1:44:37<1:33:57, 98.91s/it]"
     ]
    },
    {
     "name": "stdout",
     "output_type": "stream",
     "text": [
      "Epoch: 62 | Train loss: 0.3908 | Train acc: 0.8528 | Test loss: 0.6782 | Test acc: 0.7466 |  F1 score: 0.7649   \n"
     ]
    },
    {
     "name": "stderr",
     "output_type": "stream",
     "text": [
      " 53%|█████▎    | 64/120 [1:46:16<1:32:22, 98.97s/it]"
     ]
    },
    {
     "name": "stdout",
     "output_type": "stream",
     "text": [
      "Epoch: 63 | Train loss: 0.3883 | Train acc: 0.8530 | Test loss: 0.6782 | Test acc: 0.7466 |  F1 score: 0.7649   \n"
     ]
    },
    {
     "name": "stderr",
     "output_type": "stream",
     "text": [
      " 54%|█████▍    | 65/120 [1:47:55<1:30:45, 99.00s/it]"
     ]
    },
    {
     "name": "stdout",
     "output_type": "stream",
     "text": [
      "Epoch: 64 | Train loss: 0.3888 | Train acc: 0.8558 | Test loss: 0.6782 | Test acc: 0.7466 |  F1 score: 0.7649   \n"
     ]
    },
    {
     "name": "stderr",
     "output_type": "stream",
     "text": [
      " 55%|█████▌    | 66/120 [1:49:34<1:29:06, 99.01s/it]"
     ]
    },
    {
     "name": "stdout",
     "output_type": "stream",
     "text": [
      "Epoch: 65 | Train loss: 0.3852 | Train acc: 0.8549 | Test loss: 0.6782 | Test acc: 0.7466 |  F1 score: 0.7649   \n"
     ]
    },
    {
     "name": "stderr",
     "output_type": "stream",
     "text": [
      " 56%|█████▌    | 67/120 [1:51:13<1:27:26, 99.00s/it]"
     ]
    },
    {
     "name": "stdout",
     "output_type": "stream",
     "text": [
      "Epoch: 66 | Train loss: 0.3842 | Train acc: 0.8533 | Test loss: 0.6782 | Test acc: 0.7466 |  F1 score: 0.7649   \n"
     ]
    },
    {
     "name": "stderr",
     "output_type": "stream",
     "text": [
      " 57%|█████▋    | 68/120 [1:52:52<1:25:42, 98.90s/it]"
     ]
    },
    {
     "name": "stdout",
     "output_type": "stream",
     "text": [
      "Epoch: 67 | Train loss: 0.3867 | Train acc: 0.8587 | Test loss: 0.6782 | Test acc: 0.7466 |  F1 score: 0.7649   \n"
     ]
    },
    {
     "name": "stderr",
     "output_type": "stream",
     "text": [
      " 57%|█████▊    | 69/120 [1:54:31<1:24:00, 98.84s/it]"
     ]
    },
    {
     "name": "stdout",
     "output_type": "stream",
     "text": [
      "Epoch: 68 | Train loss: 0.3922 | Train acc: 0.8496 | Test loss: 0.6782 | Test acc: 0.7466 |  F1 score: 0.7649   \n"
     ]
    },
    {
     "name": "stderr",
     "output_type": "stream",
     "text": [
      " 58%|█████▊    | 70/120 [1:56:09<1:22:20, 98.80s/it]"
     ]
    },
    {
     "name": "stdout",
     "output_type": "stream",
     "text": [
      "Epoch: 69 | Train loss: 0.3857 | Train acc: 0.8549 | Test loss: 0.6782 | Test acc: 0.7466 |  F1 score: 0.7649   \n"
     ]
    },
    {
     "name": "stderr",
     "output_type": "stream",
     "text": [
      " 59%|█████▉    | 71/120 [1:57:48<1:20:43, 98.84s/it]"
     ]
    },
    {
     "name": "stdout",
     "output_type": "stream",
     "text": [
      "Epoch: 70 | Train loss: 0.3915 | Train acc: 0.8510 | Test loss: 0.6782 | Test acc: 0.7466 |  F1 score: 0.7649   \n"
     ]
    },
    {
     "name": "stderr",
     "output_type": "stream",
     "text": [
      " 60%|██████    | 72/120 [1:59:27<1:19:06, 98.88s/it]"
     ]
    },
    {
     "name": "stdout",
     "output_type": "stream",
     "text": [
      "Epoch: 71 | Train loss: 0.3850 | Train acc: 0.8574 | Test loss: 0.6782 | Test acc: 0.7466 |  F1 score: 0.7649   \n"
     ]
    },
    {
     "name": "stderr",
     "output_type": "stream",
     "text": [
      " 61%|██████    | 73/120 [2:01:06<1:17:28, 98.90s/it]"
     ]
    },
    {
     "name": "stdout",
     "output_type": "stream",
     "text": [
      "Epoch: 72 | Train loss: 0.3902 | Train acc: 0.8485 | Test loss: 0.6782 | Test acc: 0.7466 |  F1 score: 0.7649   \n"
     ]
    },
    {
     "name": "stderr",
     "output_type": "stream",
     "text": [
      " 62%|██████▏   | 74/120 [2:02:45<1:15:50, 98.93s/it]"
     ]
    },
    {
     "name": "stdout",
     "output_type": "stream",
     "text": [
      "Epoch: 73 | Train loss: 0.3811 | Train acc: 0.8585 | Test loss: 0.6782 | Test acc: 0.7466 |  F1 score: 0.7649   \n"
     ]
    },
    {
     "name": "stderr",
     "output_type": "stream",
     "text": [
      " 62%|██████▎   | 75/120 [2:04:24<1:14:11, 98.93s/it]"
     ]
    },
    {
     "name": "stdout",
     "output_type": "stream",
     "text": [
      "Epoch: 74 | Train loss: 0.3834 | Train acc: 0.8553 | Test loss: 0.6782 | Test acc: 0.7466 |  F1 score: 0.7649   \n"
     ]
    },
    {
     "name": "stderr",
     "output_type": "stream",
     "text": [
      " 63%|██████▎   | 76/120 [2:06:03<1:12:29, 98.85s/it]"
     ]
    },
    {
     "name": "stdout",
     "output_type": "stream",
     "text": [
      "Epoch: 75 | Train loss: 0.3827 | Train acc: 0.8509 | Test loss: 0.6782 | Test acc: 0.7466 |  F1 score: 0.7649   \n"
     ]
    },
    {
     "name": "stderr",
     "output_type": "stream",
     "text": [
      " 64%|██████▍   | 77/120 [2:07:42<1:10:49, 98.83s/it]"
     ]
    },
    {
     "name": "stdout",
     "output_type": "stream",
     "text": [
      "Epoch: 76 | Train loss: 0.3880 | Train acc: 0.8539 | Test loss: 0.6782 | Test acc: 0.7466 |  F1 score: 0.7649   \n"
     ]
    },
    {
     "name": "stderr",
     "output_type": "stream",
     "text": [
      " 65%|██████▌   | 78/120 [2:09:21<1:09:10, 98.83s/it]"
     ]
    },
    {
     "name": "stdout",
     "output_type": "stream",
     "text": [
      "Epoch: 77 | Train loss: 0.3891 | Train acc: 0.8517 | Test loss: 0.6782 | Test acc: 0.7466 |  F1 score: 0.7649   \n"
     ]
    },
    {
     "name": "stderr",
     "output_type": "stream",
     "text": [
      " 66%|██████▌   | 79/120 [2:10:59<1:07:33, 98.86s/it]"
     ]
    },
    {
     "name": "stdout",
     "output_type": "stream",
     "text": [
      "Epoch: 78 | Train loss: 0.3830 | Train acc: 0.8542 | Test loss: 0.6782 | Test acc: 0.7466 |  F1 score: 0.7649   \n"
     ]
    },
    {
     "name": "stderr",
     "output_type": "stream",
     "text": [
      " 67%|██████▋   | 80/120 [2:12:38<1:05:51, 98.80s/it]"
     ]
    },
    {
     "name": "stdout",
     "output_type": "stream",
     "text": [
      "Epoch: 79 | Train loss: 0.3900 | Train acc: 0.8517 | Test loss: 0.6782 | Test acc: 0.7466 |  F1 score: 0.7649   \n"
     ]
    },
    {
     "name": "stderr",
     "output_type": "stream",
     "text": [
      " 68%|██████▊   | 81/120 [2:14:17<1:04:15, 98.85s/it]"
     ]
    },
    {
     "name": "stdout",
     "output_type": "stream",
     "text": [
      "Epoch: 80 | Train loss: 0.3853 | Train acc: 0.8560 | Test loss: 0.6782 | Test acc: 0.7466 |  F1 score: 0.7649   \n"
     ]
    },
    {
     "name": "stderr",
     "output_type": "stream",
     "text": [
      " 68%|██████▊   | 82/120 [2:15:56<1:02:36, 98.85s/it]"
     ]
    },
    {
     "name": "stdout",
     "output_type": "stream",
     "text": [
      "Epoch: 81 | Train loss: 0.3851 | Train acc: 0.8599 | Test loss: 0.6782 | Test acc: 0.7466 |  F1 score: 0.7649   \n"
     ]
    },
    {
     "name": "stderr",
     "output_type": "stream",
     "text": [
      " 69%|██████▉   | 83/120 [2:17:35<1:00:55, 98.78s/it]"
     ]
    },
    {
     "name": "stdout",
     "output_type": "stream",
     "text": [
      "Epoch: 82 | Train loss: 0.3897 | Train acc: 0.8539 | Test loss: 0.6782 | Test acc: 0.7466 |  F1 score: 0.7649   \n"
     ]
    },
    {
     "name": "stderr",
     "output_type": "stream",
     "text": [
      " 70%|███████   | 84/120 [2:19:13<59:16, 98.78s/it]  "
     ]
    },
    {
     "name": "stdout",
     "output_type": "stream",
     "text": [
      "Epoch: 83 | Train loss: 0.3885 | Train acc: 0.8514 | Test loss: 0.6782 | Test acc: 0.7466 |  F1 score: 0.7649   \n"
     ]
    },
    {
     "name": "stderr",
     "output_type": "stream",
     "text": [
      " 71%|███████   | 85/120 [2:20:52<57:39, 98.85s/it]"
     ]
    },
    {
     "name": "stdout",
     "output_type": "stream",
     "text": [
      "Epoch: 84 | Train loss: 0.3860 | Train acc: 0.8540 | Test loss: 0.6782 | Test acc: 0.7466 |  F1 score: 0.7649   \n"
     ]
    },
    {
     "name": "stderr",
     "output_type": "stream",
     "text": [
      " 72%|███████▏  | 86/120 [2:22:31<56:02, 98.90s/it]"
     ]
    },
    {
     "name": "stdout",
     "output_type": "stream",
     "text": [
      "Epoch: 85 | Train loss: 0.3894 | Train acc: 0.8503 | Test loss: 0.6782 | Test acc: 0.7466 |  F1 score: 0.7649   \n"
     ]
    },
    {
     "name": "stderr",
     "output_type": "stream",
     "text": [
      " 72%|███████▎  | 87/120 [2:24:10<54:25, 98.96s/it]"
     ]
    },
    {
     "name": "stdout",
     "output_type": "stream",
     "text": [
      "Epoch: 86 | Train loss: 0.3863 | Train acc: 0.8494 | Test loss: 0.6782 | Test acc: 0.7466 |  F1 score: 0.7649   \n"
     ]
    },
    {
     "name": "stderr",
     "output_type": "stream",
     "text": [
      " 73%|███████▎  | 88/120 [2:25:49<52:46, 98.94s/it]"
     ]
    },
    {
     "name": "stdout",
     "output_type": "stream",
     "text": [
      "Epoch: 87 | Train loss: 0.3871 | Train acc: 0.8588 | Test loss: 0.6782 | Test acc: 0.7466 |  F1 score: 0.7649   \n"
     ]
    },
    {
     "name": "stderr",
     "output_type": "stream",
     "text": [
      " 74%|███████▍  | 89/120 [2:27:28<51:08, 98.97s/it]"
     ]
    },
    {
     "name": "stdout",
     "output_type": "stream",
     "text": [
      "Epoch: 88 | Train loss: 0.3843 | Train acc: 0.8587 | Test loss: 0.6782 | Test acc: 0.7466 |  F1 score: 0.7649   \n"
     ]
    },
    {
     "name": "stderr",
     "output_type": "stream",
     "text": [
      " 75%|███████▌  | 90/120 [2:29:08<49:33, 99.10s/it]"
     ]
    },
    {
     "name": "stdout",
     "output_type": "stream",
     "text": [
      "Epoch: 89 | Train loss: 0.3835 | Train acc: 0.8540 | Test loss: 0.6782 | Test acc: 0.7466 |  F1 score: 0.7649   \n"
     ]
    },
    {
     "name": "stderr",
     "output_type": "stream",
     "text": [
      " 76%|███████▌  | 91/120 [2:30:47<47:54, 99.14s/it]"
     ]
    },
    {
     "name": "stdout",
     "output_type": "stream",
     "text": [
      "Epoch: 90 | Train loss: 0.3922 | Train acc: 0.8501 | Test loss: 0.6782 | Test acc: 0.7466 |  F1 score: 0.7649   \n"
     ]
    },
    {
     "name": "stderr",
     "output_type": "stream",
     "text": [
      " 77%|███████▋  | 92/120 [2:32:26<46:16, 99.18s/it]"
     ]
    },
    {
     "name": "stdout",
     "output_type": "stream",
     "text": [
      "Epoch: 91 | Train loss: 0.3966 | Train acc: 0.8530 | Test loss: 0.6782 | Test acc: 0.7466 |  F1 score: 0.7649   \n"
     ]
    },
    {
     "name": "stderr",
     "output_type": "stream",
     "text": [
      " 78%|███████▊  | 93/120 [2:34:06<44:40, 99.27s/it]"
     ]
    },
    {
     "name": "stdout",
     "output_type": "stream",
     "text": [
      "Epoch: 92 | Train loss: 0.3844 | Train acc: 0.8542 | Test loss: 0.6782 | Test acc: 0.7466 |  F1 score: 0.7649   \n"
     ]
    },
    {
     "name": "stderr",
     "output_type": "stream",
     "text": [
      " 78%|███████▊  | 94/120 [2:35:45<43:01, 99.29s/it]"
     ]
    },
    {
     "name": "stdout",
     "output_type": "stream",
     "text": [
      "Epoch: 93 | Train loss: 0.3863 | Train acc: 0.8544 | Test loss: 0.6782 | Test acc: 0.7466 |  F1 score: 0.7649   \n"
     ]
    },
    {
     "name": "stderr",
     "output_type": "stream",
     "text": [
      " 79%|███████▉  | 95/120 [2:37:24<41:22, 99.31s/it]"
     ]
    },
    {
     "name": "stdout",
     "output_type": "stream",
     "text": [
      "Epoch: 94 | Train loss: 0.3849 | Train acc: 0.8505 | Test loss: 0.6782 | Test acc: 0.7466 |  F1 score: 0.7649   \n"
     ]
    },
    {
     "name": "stderr",
     "output_type": "stream",
     "text": [
      " 80%|████████  | 96/120 [2:39:04<39:44, 99.36s/it]"
     ]
    },
    {
     "name": "stdout",
     "output_type": "stream",
     "text": [
      "Epoch: 95 | Train loss: 0.3866 | Train acc: 0.8546 | Test loss: 0.6782 | Test acc: 0.7466 |  F1 score: 0.7649   \n"
     ]
    },
    {
     "name": "stderr",
     "output_type": "stream",
     "text": [
      " 81%|████████  | 97/120 [2:40:43<38:04, 99.31s/it]"
     ]
    },
    {
     "name": "stdout",
     "output_type": "stream",
     "text": [
      "Epoch: 96 | Train loss: 0.3864 | Train acc: 0.8535 | Test loss: 0.6782 | Test acc: 0.7466 |  F1 score: 0.7649   \n"
     ]
    },
    {
     "name": "stderr",
     "output_type": "stream",
     "text": [
      " 82%|████████▏ | 98/120 [2:42:22<36:21, 99.16s/it]"
     ]
    },
    {
     "name": "stdout",
     "output_type": "stream",
     "text": [
      "Epoch: 97 | Train loss: 0.3909 | Train acc: 0.8505 | Test loss: 0.6782 | Test acc: 0.7466 |  F1 score: 0.7649   \n"
     ]
    },
    {
     "name": "stderr",
     "output_type": "stream",
     "text": [
      " 82%|████████▎ | 99/120 [2:44:01<34:42, 99.18s/it]"
     ]
    },
    {
     "name": "stdout",
     "output_type": "stream",
     "text": [
      "Epoch: 98 | Train loss: 0.3916 | Train acc: 0.8514 | Test loss: 0.6782 | Test acc: 0.7466 |  F1 score: 0.7649   \n"
     ]
    },
    {
     "name": "stderr",
     "output_type": "stream",
     "text": [
      " 83%|████████▎ | 100/120 [2:45:40<33:02, 99.14s/it]"
     ]
    },
    {
     "name": "stdout",
     "output_type": "stream",
     "text": [
      "Epoch: 99 | Train loss: 0.3868 | Train acc: 0.8572 | Test loss: 0.6782 | Test acc: 0.7466 |  F1 score: 0.7649   \n"
     ]
    },
    {
     "name": "stderr",
     "output_type": "stream",
     "text": [
      " 84%|████████▍ | 101/120 [2:47:19<31:22, 99.08s/it]"
     ]
    },
    {
     "name": "stdout",
     "output_type": "stream",
     "text": [
      "Epoch: 100 | Train loss: 0.3911 | Train acc: 0.8530 | Test loss: 0.6782 | Test acc: 0.7466 |  F1 score: 0.7649   \n"
     ]
    },
    {
     "name": "stderr",
     "output_type": "stream",
     "text": [
      " 85%|████████▌ | 102/120 [2:48:58<29:42, 99.00s/it]"
     ]
    },
    {
     "name": "stdout",
     "output_type": "stream",
     "text": [
      "Epoch: 101 | Train loss: 0.3863 | Train acc: 0.8558 | Test loss: 0.6782 | Test acc: 0.7466 |  F1 score: 0.7649   \n"
     ]
    },
    {
     "name": "stderr",
     "output_type": "stream",
     "text": [
      " 86%|████████▌ | 103/120 [2:50:37<28:01, 98.90s/it]"
     ]
    },
    {
     "name": "stdout",
     "output_type": "stream",
     "text": [
      "Epoch: 102 | Train loss: 0.3899 | Train acc: 0.8523 | Test loss: 0.6782 | Test acc: 0.7466 |  F1 score: 0.7649   \n"
     ]
    },
    {
     "name": "stderr",
     "output_type": "stream",
     "text": [
      " 87%|████████▋ | 104/120 [2:52:16<26:22, 98.94s/it]"
     ]
    },
    {
     "name": "stdout",
     "output_type": "stream",
     "text": [
      "Epoch: 103 | Train loss: 0.3867 | Train acc: 0.8564 | Test loss: 0.6782 | Test acc: 0.7466 |  F1 score: 0.7649   \n"
     ]
    },
    {
     "name": "stderr",
     "output_type": "stream",
     "text": [
      " 88%|████████▊ | 105/120 [2:53:55<24:44, 98.96s/it]"
     ]
    },
    {
     "name": "stdout",
     "output_type": "stream",
     "text": [
      "Epoch: 104 | Train loss: 0.3854 | Train acc: 0.8539 | Test loss: 0.6782 | Test acc: 0.7466 |  F1 score: 0.7649   \n"
     ]
    },
    {
     "name": "stderr",
     "output_type": "stream",
     "text": [
      " 88%|████████▊ | 106/120 [2:55:34<23:06, 99.04s/it]"
     ]
    },
    {
     "name": "stdout",
     "output_type": "stream",
     "text": [
      "Epoch: 105 | Train loss: 0.3865 | Train acc: 0.8519 | Test loss: 0.6782 | Test acc: 0.7466 |  F1 score: 0.7649   \n"
     ]
    },
    {
     "name": "stderr",
     "output_type": "stream",
     "text": [
      " 89%|████████▉ | 107/120 [2:57:13<21:27, 99.03s/it]"
     ]
    },
    {
     "name": "stdout",
     "output_type": "stream",
     "text": [
      "Epoch: 106 | Train loss: 0.3841 | Train acc: 0.8558 | Test loss: 0.6782 | Test acc: 0.7466 |  F1 score: 0.7649   \n"
     ]
    },
    {
     "name": "stderr",
     "output_type": "stream",
     "text": [
      " 90%|█████████ | 108/120 [2:58:52<19:48, 99.04s/it]"
     ]
    },
    {
     "name": "stdout",
     "output_type": "stream",
     "text": [
      "Epoch: 107 | Train loss: 0.3876 | Train acc: 0.8537 | Test loss: 0.6782 | Test acc: 0.7466 |  F1 score: 0.7649   \n"
     ]
    },
    {
     "name": "stderr",
     "output_type": "stream",
     "text": [
      " 91%|█████████ | 109/120 [3:00:31<18:08, 98.94s/it]"
     ]
    },
    {
     "name": "stdout",
     "output_type": "stream",
     "text": [
      "Epoch: 108 | Train loss: 0.3873 | Train acc: 0.8540 | Test loss: 0.6782 | Test acc: 0.7466 |  F1 score: 0.7649   \n"
     ]
    },
    {
     "name": "stderr",
     "output_type": "stream",
     "text": [
      " 92%|█████████▏| 110/120 [3:02:09<16:28, 98.83s/it]"
     ]
    },
    {
     "name": "stdout",
     "output_type": "stream",
     "text": [
      "Epoch: 109 | Train loss: 0.3890 | Train acc: 0.8532 | Test loss: 0.6782 | Test acc: 0.7466 |  F1 score: 0.7649   \n"
     ]
    },
    {
     "name": "stderr",
     "output_type": "stream",
     "text": [
      " 92%|█████████▎| 111/120 [3:03:48<14:49, 98.84s/it]"
     ]
    },
    {
     "name": "stdout",
     "output_type": "stream",
     "text": [
      "Epoch: 110 | Train loss: 0.3834 | Train acc: 0.8546 | Test loss: 0.6782 | Test acc: 0.7466 |  F1 score: 0.7649   \n"
     ]
    },
    {
     "name": "stderr",
     "output_type": "stream",
     "text": [
      " 93%|█████████▎| 112/120 [3:05:27<13:10, 98.83s/it]"
     ]
    },
    {
     "name": "stdout",
     "output_type": "stream",
     "text": [
      "Epoch: 111 | Train loss: 0.3832 | Train acc: 0.8565 | Test loss: 0.6782 | Test acc: 0.7466 |  F1 score: 0.7649   \n"
     ]
    },
    {
     "name": "stderr",
     "output_type": "stream",
     "text": [
      " 94%|█████████▍| 113/120 [3:07:03<11:25, 97.96s/it]"
     ]
    },
    {
     "name": "stdout",
     "output_type": "stream",
     "text": [
      "Epoch: 112 | Train loss: 0.3867 | Train acc: 0.8548 | Test loss: 0.6782 | Test acc: 0.7466 |  F1 score: 0.7649   \n"
     ]
    },
    {
     "name": "stderr",
     "output_type": "stream",
     "text": [
      " 95%|█████████▌| 114/120 [3:08:41<09:48, 98.07s/it]"
     ]
    },
    {
     "name": "stdout",
     "output_type": "stream",
     "text": [
      "Epoch: 113 | Train loss: 0.3878 | Train acc: 0.8533 | Test loss: 0.6782 | Test acc: 0.7466 |  F1 score: 0.7649   \n"
     ]
    },
    {
     "name": "stderr",
     "output_type": "stream",
     "text": [
      " 96%|█████████▌| 115/120 [3:10:20<08:11, 98.22s/it]"
     ]
    },
    {
     "name": "stdout",
     "output_type": "stream",
     "text": [
      "Epoch: 114 | Train loss: 0.3853 | Train acc: 0.8519 | Test loss: 0.6782 | Test acc: 0.7466 |  F1 score: 0.7649   \n"
     ]
    },
    {
     "name": "stderr",
     "output_type": "stream",
     "text": [
      " 97%|█████████▋| 116/120 [3:11:59<06:33, 98.40s/it]"
     ]
    },
    {
     "name": "stdout",
     "output_type": "stream",
     "text": [
      "Epoch: 115 | Train loss: 0.3872 | Train acc: 0.8548 | Test loss: 0.6782 | Test acc: 0.7466 |  F1 score: 0.7649   \n"
     ]
    },
    {
     "name": "stderr",
     "output_type": "stream",
     "text": [
      " 98%|█████████▊| 117/120 [3:13:37<04:55, 98.47s/it]"
     ]
    },
    {
     "name": "stdout",
     "output_type": "stream",
     "text": [
      "Epoch: 116 | Train loss: 0.3811 | Train acc: 0.8562 | Test loss: 0.6782 | Test acc: 0.7466 |  F1 score: 0.7649   \n"
     ]
    },
    {
     "name": "stderr",
     "output_type": "stream",
     "text": [
      " 98%|█████████▊| 118/120 [3:15:16<03:17, 98.54s/it]"
     ]
    },
    {
     "name": "stdout",
     "output_type": "stream",
     "text": [
      "Epoch: 117 | Train loss: 0.3822 | Train acc: 0.8560 | Test loss: 0.6782 | Test acc: 0.7466 |  F1 score: 0.7649   \n"
     ]
    },
    {
     "name": "stderr",
     "output_type": "stream",
     "text": [
      " 99%|█████████▉| 119/120 [3:16:54<01:38, 98.56s/it]"
     ]
    },
    {
     "name": "stdout",
     "output_type": "stream",
     "text": [
      "Epoch: 118 | Train loss: 0.3831 | Train acc: 0.8608 | Test loss: 0.6782 | Test acc: 0.7466 |  F1 score: 0.7649   \n"
     ]
    },
    {
     "name": "stderr",
     "output_type": "stream",
     "text": [
      "100%|██████████| 120/120 [3:18:33<00:00, 99.28s/it]"
     ]
    },
    {
     "name": "stdout",
     "output_type": "stream",
     "text": [
      "Epoch: 119 | Train loss: 0.3847 | Train acc: 0.8533 | Test loss: 0.6782 | Test acc: 0.7466 |  F1 score: 0.7649   \n"
     ]
    },
    {
     "name": "stderr",
     "output_type": "stream",
     "text": [
      "\n"
     ]
    },
    {
     "name": "stdout",
     "output_type": "stream",
     "text": [
      "the best test acc is :0.7466\n",
      "Total training time: 11914.561 seconds\n"
     ]
    }
   ],
   "source": [
    "import torchvision.models as models\n",
    "\n",
    "model_VGG16_7 = models.vgg16(pretrained=False)    # 使用內建的 model \n",
    "\n",
    "\n",
    "optimizer = torch.optim.SGD(model_VGG16_7.parameters(), lr = 0.001) # 選擇你想用的 optimizer\n",
    "\n",
    "# optimizer = torch.optim.Adam(model_VGG16.parameters(), lr =0.01)\n",
    "\n",
    "# Loss function\n",
    "loss_fn = nn.CrossEntropyLoss()                # 選擇想用的 loss functionmodel_vgg16 = \n",
    "\n",
    "#=========\n",
    "import torch\n",
    "import torch.nn as nn\n",
    "import torchvision.models as models\n",
    "\n",
    "\n",
    "\n",
    "\n",
    "# 获取分类器中最后一个全连接层之前的部分\n",
    "classifier = list(model_VGG16_7.classifier.children())[:-1]\n",
    "\n",
    "# 移除原始模型的最后一个全连接层\n",
    "# 并添加一个新的全连接层，输出特征数为 7\n",
    "classifier.append(torch.nn.Linear(4096, 7))\n",
    "\n",
    "# 替换原始模型的分类器\n",
    "model_VGG16_7.classifier = torch.nn.Sequential(*classifier)\n",
    "\n",
    "# ============\n",
    "\n",
    "\n",
    "model_VGG16_7 =  model_VGG16_7.to(device)\n",
    "\n",
    "\n",
    "\n",
    "# from timeit import default_timer as timer\n",
    "start_time = timer()\n",
    "\n",
    "# Train model_0\n",
    "model_VGG16_7_results = train(model=model_preTrained_VGG16_7,\n",
    "              train_dataloader=train_data_loader_224,\n",
    "              test_dataloader=test_data_loader_224,\n",
    "              optimizer=optimizer,\n",
    "              loss_fn=loss_fn,\n",
    "              best_model_name=\"best_model_VGG16_7.pth\",\n",
    "              epochs=120)\n",
    "\n",
    "# End the timer and print out how long it took\n",
    "end_time = timer()\n",
    "print(f\"Total training time: {end_time-start_time:.3f} seconds\")\n"
   ]
  },
  {
   "cell_type": "markdown",
   "metadata": {},
   "source": [
    "## Resnet 18"
   ]
  },
  {
   "cell_type": "markdown",
   "metadata": {},
   "source": [
    "pretrain resnet"
   ]
  },
  {
   "cell_type": "code",
   "execution_count": null,
   "metadata": {},
   "outputs": [
    {
     "name": "stderr",
     "output_type": "stream",
     "text": [
      "c:\\Users\\E\\AppData\\Local\\Programs\\Python\\Python311\\Lib\\site-packages\\torchvision\\models\\_utils.py:208: UserWarning: The parameter 'pretrained' is deprecated since 0.13 and may be removed in the future, please use 'weights' instead.\n",
      "  warnings.warn(\n",
      "c:\\Users\\E\\AppData\\Local\\Programs\\Python\\Python311\\Lib\\site-packages\\torchvision\\models\\_utils.py:223: UserWarning: Arguments other than a weight enum or `None` for 'weights' are deprecated since 0.13 and may be removed in the future. The current behavior is equivalent to passing `weights=ResNet18_Weights.IMAGENET1K_V1`. You can also use `weights=ResNet18_Weights.DEFAULT` to get the most up-to-date weights.\n",
      "  warnings.warn(msg)\n",
      "  2%|▎         | 1/40 [01:02<40:23, 62.14s/it]"
     ]
    },
    {
     "name": "stdout",
     "output_type": "stream",
     "text": [
      "Epoch: 0 | Train loss: 2.4491 | Train acc: 0.5971 | Test loss: 1.2487 | Test acc: 0.6910 |  F1 score: 0.6630   \n"
     ]
    },
    {
     "name": "stderr",
     "output_type": "stream",
     "text": [
      "  5%|▌         | 2/40 [02:04<39:37, 62.56s/it]"
     ]
    },
    {
     "name": "stdout",
     "output_type": "stream",
     "text": [
      "Epoch: 1 | Train loss: 0.8927 | Train acc: 0.7424 | Test loss: 0.8683 | Test acc: 0.7302 |  F1 score: 0.7014   \n"
     ]
    },
    {
     "name": "stderr",
     "output_type": "stream",
     "text": [
      "  8%|▊         | 3/40 [03:08<38:43, 62.79s/it]"
     ]
    },
    {
     "name": "stdout",
     "output_type": "stream",
     "text": [
      "Epoch: 2 | Train loss: 0.6925 | Train acc: 0.7786 | Test loss: 0.8158 | Test acc: 0.7382 |  F1 score: 0.7050   \n"
     ]
    },
    {
     "name": "stderr",
     "output_type": "stream",
     "text": [
      " 10%|█         | 4/40 [04:10<37:33, 62.59s/it]"
     ]
    },
    {
     "name": "stdout",
     "output_type": "stream",
     "text": [
      "Epoch: 3 | Train loss: 0.5976 | Train acc: 0.8063 | Test loss: 0.7517 | Test acc: 0.7458 |  F1 score: 0.7176   \n"
     ]
    },
    {
     "name": "stderr",
     "output_type": "stream",
     "text": [
      " 12%|█▎        | 5/40 [05:13<36:32, 62.64s/it]"
     ]
    },
    {
     "name": "stdout",
     "output_type": "stream",
     "text": [
      "Epoch: 4 | Train loss: 0.5263 | Train acc: 0.8230 | Test loss: 0.7399 | Test acc: 0.7687 |  F1 score: 0.7416   \n"
     ]
    },
    {
     "name": "stderr",
     "output_type": "stream",
     "text": [
      " 15%|█▌        | 6/40 [06:15<35:25, 62.52s/it]"
     ]
    },
    {
     "name": "stdout",
     "output_type": "stream",
     "text": [
      "Epoch: 5 | Train loss: 0.4537 | Train acc: 0.8455 | Test loss: 0.6838 | Test acc: 0.7721 |  F1 score: 0.7580   \n"
     ]
    },
    {
     "name": "stderr",
     "output_type": "stream",
     "text": [
      " 18%|█▊        | 7/40 [07:17<34:20, 62.44s/it]"
     ]
    },
    {
     "name": "stdout",
     "output_type": "stream",
     "text": [
      "Epoch: 6 | Train loss: 0.4153 | Train acc: 0.8596 | Test loss: 0.6934 | Test acc: 0.7682 |  F1 score: 0.7556   \n"
     ]
    },
    {
     "name": "stderr",
     "output_type": "stream",
     "text": [
      " 20%|██        | 8/40 [08:19<33:14, 62.32s/it]"
     ]
    },
    {
     "name": "stdout",
     "output_type": "stream",
     "text": [
      "Epoch: 7 | Train loss: 0.3658 | Train acc: 0.8768 | Test loss: 0.7517 | Test acc: 0.7661 |  F1 score: 0.7350   \n"
     ]
    },
    {
     "name": "stderr",
     "output_type": "stream",
     "text": [
      " 22%|██▎       | 9/40 [09:21<32:11, 62.30s/it]"
     ]
    },
    {
     "name": "stdout",
     "output_type": "stream",
     "text": [
      "Epoch: 8 | Train loss: 0.3270 | Train acc: 0.8949 | Test loss: 0.6861 | Test acc: 0.7755 |  F1 score: 0.7678   \n"
     ]
    },
    {
     "name": "stderr",
     "output_type": "stream",
     "text": [
      " 25%|██▌       | 10/40 [10:24<31:15, 62.51s/it]"
     ]
    },
    {
     "name": "stdout",
     "output_type": "stream",
     "text": [
      "Epoch: 9 | Train loss: 0.2937 | Train acc: 0.9070 | Test loss: 0.7085 | Test acc: 0.7652 |  F1 score: 0.7588   \n"
     ]
    },
    {
     "name": "stderr",
     "output_type": "stream",
     "text": [
      " 28%|██▊       | 11/40 [11:27<30:13, 62.55s/it]"
     ]
    },
    {
     "name": "stdout",
     "output_type": "stream",
     "text": [
      "Epoch: 10 | Train loss: 0.2602 | Train acc: 0.9199 | Test loss: 0.6680 | Test acc: 0.7778 |  F1 score: 0.7692   \n"
     ]
    },
    {
     "name": "stderr",
     "output_type": "stream",
     "text": [
      " 30%|███       | 12/40 [12:30<29:10, 62.53s/it]"
     ]
    },
    {
     "name": "stdout",
     "output_type": "stream",
     "text": [
      "Epoch: 11 | Train loss: 0.2487 | Train acc: 0.9276 | Test loss: 0.8235 | Test acc: 0.7669 |  F1 score: 0.7363   \n"
     ]
    },
    {
     "name": "stderr",
     "output_type": "stream",
     "text": [
      " 32%|███▎      | 13/40 [13:32<28:11, 62.64s/it]"
     ]
    },
    {
     "name": "stdout",
     "output_type": "stream",
     "text": [
      "Epoch: 12 | Train loss: 0.2074 | Train acc: 0.9419 | Test loss: 0.7420 | Test acc: 0.7693 |  F1 score: 0.7469   \n"
     ]
    },
    {
     "name": "stderr",
     "output_type": "stream",
     "text": [
      " 35%|███▌      | 14/40 [14:35<27:05, 62.53s/it]"
     ]
    },
    {
     "name": "stdout",
     "output_type": "stream",
     "text": [
      "Epoch: 13 | Train loss: 0.1857 | Train acc: 0.9515 | Test loss: 0.7507 | Test acc: 0.7760 |  F1 score: 0.7555   \n"
     ]
    },
    {
     "name": "stderr",
     "output_type": "stream",
     "text": [
      " 38%|███▊      | 15/40 [15:38<26:07, 62.72s/it]"
     ]
    },
    {
     "name": "stdout",
     "output_type": "stream",
     "text": [
      "Epoch: 14 | Train loss: 0.1672 | Train acc: 0.9569 | Test loss: 0.6981 | Test acc: 0.7801 |  F1 score: 0.7581   \n"
     ]
    },
    {
     "name": "stderr",
     "output_type": "stream",
     "text": [
      " 40%|████      | 16/40 [16:41<25:06, 62.75s/it]"
     ]
    },
    {
     "name": "stdout",
     "output_type": "stream",
     "text": [
      "Epoch: 15 | Train loss: 0.1465 | Train acc: 0.9670 | Test loss: 0.7037 | Test acc: 0.7821 |  F1 score: 0.7649   \n"
     ]
    },
    {
     "name": "stderr",
     "output_type": "stream",
     "text": [
      " 42%|████▎     | 17/40 [17:43<23:59, 62.57s/it]"
     ]
    },
    {
     "name": "stdout",
     "output_type": "stream",
     "text": [
      "Epoch: 16 | Train loss: 0.1278 | Train acc: 0.9703 | Test loss: 0.6734 | Test acc: 0.7808 |  F1 score: 0.7697   \n"
     ]
    },
    {
     "name": "stderr",
     "output_type": "stream",
     "text": [
      " 45%|████▌     | 18/40 [18:45<22:55, 62.53s/it]"
     ]
    },
    {
     "name": "stdout",
     "output_type": "stream",
     "text": [
      "Epoch: 17 | Train loss: 0.1207 | Train acc: 0.9714 | Test loss: 0.6918 | Test acc: 0.7888 |  F1 score: 0.7750   \n"
     ]
    },
    {
     "name": "stderr",
     "output_type": "stream",
     "text": [
      " 48%|████▊     | 19/40 [19:48<21:55, 62.63s/it]"
     ]
    },
    {
     "name": "stdout",
     "output_type": "stream",
     "text": [
      "Epoch: 18 | Train loss: 0.1090 | Train acc: 0.9767 | Test loss: 0.7116 | Test acc: 0.7899 |  F1 score: 0.7776   \n"
     ]
    },
    {
     "name": "stderr",
     "output_type": "stream",
     "text": [
      " 50%|█████     | 20/40 [20:51<20:52, 62.64s/it]"
     ]
    },
    {
     "name": "stdout",
     "output_type": "stream",
     "text": [
      "Epoch: 19 | Train loss: 0.0914 | Train acc: 0.9860 | Test loss: 0.6689 | Test acc: 0.7885 |  F1 score: 0.7796   \n"
     ]
    },
    {
     "name": "stderr",
     "output_type": "stream",
     "text": [
      " 52%|█████▎    | 21/40 [21:53<19:47, 62.48s/it]"
     ]
    },
    {
     "name": "stdout",
     "output_type": "stream",
     "text": [
      "Epoch: 20 | Train loss: 0.0797 | Train acc: 0.9881 | Test loss: 0.6697 | Test acc: 0.7941 |  F1 score: 0.7829   \n"
     ]
    },
    {
     "name": "stderr",
     "output_type": "stream",
     "text": [
      " 55%|█████▌    | 22/40 [22:55<18:41, 62.32s/it]"
     ]
    },
    {
     "name": "stdout",
     "output_type": "stream",
     "text": [
      "Epoch: 21 | Train loss: 0.0751 | Train acc: 0.9899 | Test loss: 0.6657 | Test acc: 0.7815 |  F1 score: 0.7750   \n"
     ]
    },
    {
     "name": "stderr",
     "output_type": "stream",
     "text": [
      " 57%|█████▊    | 23/40 [23:57<17:40, 62.39s/it]"
     ]
    },
    {
     "name": "stdout",
     "output_type": "stream",
     "text": [
      "Epoch: 22 | Train loss: 0.0697 | Train acc: 0.9911 | Test loss: 0.7040 | Test acc: 0.7849 |  F1 score: 0.7737   \n"
     ]
    },
    {
     "name": "stderr",
     "output_type": "stream",
     "text": [
      " 60%|██████    | 24/40 [25:00<16:39, 62.46s/it]"
     ]
    },
    {
     "name": "stdout",
     "output_type": "stream",
     "text": [
      "Epoch: 23 | Train loss: 0.0706 | Train acc: 0.9895 | Test loss: 0.7093 | Test acc: 0.7787 |  F1 score: 0.7690   \n"
     ]
    },
    {
     "name": "stderr",
     "output_type": "stream",
     "text": [
      " 62%|██████▎   | 25/40 [26:03<15:37, 62.47s/it]"
     ]
    },
    {
     "name": "stdout",
     "output_type": "stream",
     "text": [
      "Epoch: 24 | Train loss: 0.0665 | Train acc: 0.9902 | Test loss: 0.9462 | Test acc: 0.7739 |  F1 score: 0.7517   \n"
     ]
    },
    {
     "name": "stderr",
     "output_type": "stream",
     "text": [
      " 65%|██████▌   | 26/40 [27:05<14:35, 62.56s/it]"
     ]
    },
    {
     "name": "stdout",
     "output_type": "stream",
     "text": [
      "Epoch: 25 | Train loss: 0.0578 | Train acc: 0.9911 | Test loss: 0.6808 | Test acc: 0.7872 |  F1 score: 0.7802   \n"
     ]
    },
    {
     "name": "stderr",
     "output_type": "stream",
     "text": [
      " 68%|██████▊   | 27/40 [28:07<13:31, 62.42s/it]"
     ]
    },
    {
     "name": "stdout",
     "output_type": "stream",
     "text": [
      "Epoch: 26 | Train loss: 0.0557 | Train acc: 0.9941 | Test loss: 0.7385 | Test acc: 0.7911 |  F1 score: 0.7798   \n"
     ]
    },
    {
     "name": "stderr",
     "output_type": "stream",
     "text": [
      " 70%|███████   | 28/40 [29:10<12:30, 62.50s/it]"
     ]
    },
    {
     "name": "stdout",
     "output_type": "stream",
     "text": [
      "Epoch: 27 | Train loss: 0.0504 | Train acc: 0.9931 | Test loss: 0.7110 | Test acc: 0.7858 |  F1 score: 0.7739   \n"
     ]
    },
    {
     "name": "stderr",
     "output_type": "stream",
     "text": [
      " 72%|███████▎  | 29/40 [30:13<11:28, 62.57s/it]"
     ]
    },
    {
     "name": "stdout",
     "output_type": "stream",
     "text": [
      "Epoch: 28 | Train loss: 0.0431 | Train acc: 0.9954 | Test loss: 0.7093 | Test acc: 0.7900 |  F1 score: 0.7830   \n"
     ]
    },
    {
     "name": "stderr",
     "output_type": "stream",
     "text": [
      " 75%|███████▌  | 30/40 [31:17<10:31, 63.11s/it]"
     ]
    },
    {
     "name": "stdout",
     "output_type": "stream",
     "text": [
      "Epoch: 29 | Train loss: 0.0409 | Train acc: 0.9961 | Test loss: 0.6945 | Test acc: 0.7936 |  F1 score: 0.7807   \n"
     ]
    },
    {
     "name": "stderr",
     "output_type": "stream",
     "text": [
      " 78%|███████▊  | 31/40 [32:24<09:38, 64.27s/it]"
     ]
    },
    {
     "name": "stdout",
     "output_type": "stream",
     "text": [
      "Epoch: 30 | Train loss: 0.0388 | Train acc: 0.9968 | Test loss: 0.6887 | Test acc: 0.7892 |  F1 score: 0.7800   \n"
     ]
    },
    {
     "name": "stderr",
     "output_type": "stream",
     "text": [
      " 80%|████████  | 32/40 [33:30<08:37, 64.72s/it]"
     ]
    },
    {
     "name": "stdout",
     "output_type": "stream",
     "text": [
      "Epoch: 31 | Train loss: 0.0408 | Train acc: 0.9959 | Test loss: 0.7498 | Test acc: 0.7868 |  F1 score: 0.7684   \n"
     ]
    },
    {
     "name": "stderr",
     "output_type": "stream",
     "text": [
      " 82%|████████▎ | 33/40 [34:35<07:33, 64.72s/it]"
     ]
    },
    {
     "name": "stdout",
     "output_type": "stream",
     "text": [
      "Epoch: 32 | Train loss: 0.0387 | Train acc: 0.9959 | Test loss: 0.6940 | Test acc: 0.7936 |  F1 score: 0.7852   \n"
     ]
    },
    {
     "name": "stderr",
     "output_type": "stream",
     "text": [
      " 85%|████████▌ | 34/40 [35:41<06:31, 65.32s/it]"
     ]
    },
    {
     "name": "stdout",
     "output_type": "stream",
     "text": [
      "Epoch: 33 | Train loss: 0.0343 | Train acc: 0.9956 | Test loss: 0.7237 | Test acc: 0.7859 |  F1 score: 0.7737   \n"
     ]
    },
    {
     "name": "stderr",
     "output_type": "stream",
     "text": [
      " 88%|████████▊ | 35/40 [36:47<05:27, 65.40s/it]"
     ]
    },
    {
     "name": "stdout",
     "output_type": "stream",
     "text": [
      "Epoch: 34 | Train loss: 0.0302 | Train acc: 0.9979 | Test loss: 0.7121 | Test acc: 0.7934 |  F1 score: 0.7841   \n"
     ]
    },
    {
     "name": "stderr",
     "output_type": "stream",
     "text": [
      " 90%|█████████ | 36/40 [37:52<04:21, 65.35s/it]"
     ]
    },
    {
     "name": "stdout",
     "output_type": "stream",
     "text": [
      "Epoch: 35 | Train loss: 0.0272 | Train acc: 0.9989 | Test loss: 0.7806 | Test acc: 0.7893 |  F1 score: 0.7740   \n"
     ]
    },
    {
     "name": "stderr",
     "output_type": "stream",
     "text": [
      " 92%|█████████▎| 37/40 [39:00<03:18, 66.19s/it]"
     ]
    },
    {
     "name": "stdout",
     "output_type": "stream",
     "text": [
      "Epoch: 36 | Train loss: 0.0283 | Train acc: 0.9972 | Test loss: 0.7046 | Test acc: 0.7927 |  F1 score: 0.7845   \n"
     ]
    },
    {
     "name": "stderr",
     "output_type": "stream",
     "text": [
      " 95%|█████████▌| 38/40 [40:08<02:13, 66.62s/it]"
     ]
    },
    {
     "name": "stdout",
     "output_type": "stream",
     "text": [
      "Epoch: 37 | Train loss: 0.0252 | Train acc: 0.9991 | Test loss: 0.7103 | Test acc: 0.7879 |  F1 score: 0.7794   \n"
     ]
    },
    {
     "name": "stderr",
     "output_type": "stream",
     "text": [
      " 98%|█████████▊| 39/40 [41:14<01:06, 66.34s/it]"
     ]
    },
    {
     "name": "stdout",
     "output_type": "stream",
     "text": [
      "Epoch: 38 | Train loss: 0.0230 | Train acc: 0.9986 | Test loss: 0.7232 | Test acc: 0.7899 |  F1 score: 0.7801   \n"
     ]
    },
    {
     "name": "stderr",
     "output_type": "stream",
     "text": [
      "100%|██████████| 40/40 [42:20<00:00, 63.52s/it]"
     ]
    },
    {
     "name": "stdout",
     "output_type": "stream",
     "text": [
      "Epoch: 39 | Train loss: 0.0211 | Train acc: 0.9984 | Test loss: 0.7264 | Test acc: 0.7878 |  F1 score: 0.7791   \n",
      "the best test acc is :0.7815\n",
      "Total training time: 2540.734 seconds\n"
     ]
    },
    {
     "name": "stderr",
     "output_type": "stream",
     "text": [
      "\n"
     ]
    }
   ],
   "source": [
    "import torchvision.models as models\n",
    "\n",
    "model_preTrained_Resnet18 = models.resnet18(pretrained=True).to(device)     # 使用內建的 model \n",
    "\n",
    "summary(model_preTrained_Resnet18, input_size=[1,3,224,224])\n",
    "\n",
    "optimizer = torch.optim.SGD(model_preTrained_Resnet18.parameters(), lr = 0.001) # 選擇你想用的 optimizer\n",
    "\n",
    "# optimizer = torch.optim.Adam(model_Resnet18.parameters(), lr =0.01)\n",
    "\n",
    "# Loss function\n",
    "loss_fn = nn.CrossEntropyLoss()                # 選擇想用的 loss functionmodel_vgg16 = \n",
    "\n",
    "\n",
    "\n",
    "\n",
    "# Start the timer\n",
    "from timeit import default_timer as timer\n",
    "start_time = timer()\n",
    "\n",
    "# Train model_0\n",
    "model_VGG_results = train(model=model_preTrained_Resnet18,\n",
    "              train_dataloader=train_data_loader_224,\n",
    "              test_dataloader=test_data_loader_224,\n",
    "              optimizer=optimizer,\n",
    "              loss_fn=loss_fn,\n",
    "              best_model_name=\"best_model_pretrain_Resnet18.pth\",\n",
    "              epochs=40)\n",
    "\n",
    "# End the timer and print out how long it took\n",
    "end_time = timer()\n",
    "print(f\"Total training time: {end_time-start_time:.3f} seconds\")"
   ]
  },
  {
   "cell_type": "markdown",
   "metadata": {},
   "source": [
    "output == 7 pretrain resnet"
   ]
  },
  {
   "cell_type": "code",
   "execution_count": null,
   "metadata": {},
   "outputs": [
    {
     "name": "stderr",
     "output_type": "stream",
     "text": [
      "  0%|          | 0/40 [00:29<?, ?it/s]\n"
     ]
    },
    {
     "ename": "KeyboardInterrupt",
     "evalue": "",
     "output_type": "error",
     "traceback": [
      "\u001b[1;31m---------------------------------------------------------------------------\u001b[0m\n",
      "\u001b[1;31mKeyboardInterrupt\u001b[0m                         Traceback (most recent call last)\n",
      "Cell \u001b[1;32mIn[31], line 33\u001b[0m\n",
      "\u001b[0;32m     30\u001b[0m start_time \u001b[38;5;241m=\u001b[39m timer()\n",
      "\u001b[0;32m     32\u001b[0m \u001b[38;5;66;03m# Train model_0\u001b[39;00m\n",
      "\u001b[1;32m---> 33\u001b[0m model_VGG_results \u001b[38;5;241m=\u001b[39m \u001b[43mtrain\u001b[49m\u001b[43m(\u001b[49m\u001b[43mmodel\u001b[49m\u001b[38;5;241;43m=\u001b[39;49m\u001b[43mmodel_preTrained_Resnet18_7\u001b[49m\u001b[43m,\u001b[49m\n",
      "\u001b[0;32m     34\u001b[0m \u001b[43m              \u001b[49m\u001b[43mtrain_dataloader\u001b[49m\u001b[38;5;241;43m=\u001b[39;49m\u001b[43mtrain_data_loader_224\u001b[49m\u001b[43m,\u001b[49m\n",
      "\u001b[0;32m     35\u001b[0m \u001b[43m              \u001b[49m\u001b[43mtest_dataloader\u001b[49m\u001b[38;5;241;43m=\u001b[39;49m\u001b[43mtest_data_loader_224\u001b[49m\u001b[43m,\u001b[49m\n",
      "\u001b[0;32m     36\u001b[0m \u001b[43m              \u001b[49m\u001b[43moptimizer\u001b[49m\u001b[38;5;241;43m=\u001b[39;49m\u001b[43moptimizer\u001b[49m\u001b[43m,\u001b[49m\n",
      "\u001b[0;32m     37\u001b[0m \u001b[43m              \u001b[49m\u001b[43mloss_fn\u001b[49m\u001b[38;5;241;43m=\u001b[39;49m\u001b[43mloss_fn\u001b[49m\u001b[43m,\u001b[49m\n",
      "\u001b[0;32m     38\u001b[0m \u001b[43m              \u001b[49m\u001b[43mbest_model_name\u001b[49m\u001b[38;5;241;43m=\u001b[39;49m\u001b[38;5;124;43m\"\u001b[39;49m\u001b[38;5;124;43mbest_model_pretrain_Resnet18_7.pth\u001b[39;49m\u001b[38;5;124;43m\"\u001b[39;49m\u001b[43m,\u001b[49m\n",
      "\u001b[0;32m     39\u001b[0m \u001b[43m              \u001b[49m\u001b[43mepochs\u001b[49m\u001b[38;5;241;43m=\u001b[39;49m\u001b[38;5;241;43m40\u001b[39;49m\u001b[43m)\u001b[49m\n",
      "\u001b[0;32m     41\u001b[0m \u001b[38;5;66;03m# End the timer and print out how long it took\u001b[39;00m\n",
      "\u001b[0;32m     42\u001b[0m end_time \u001b[38;5;241m=\u001b[39m timer()\n",
      "\n",
      "Cell \u001b[1;32mIn[29], line 27\u001b[0m, in \u001b[0;36mtrain\u001b[1;34m(model, train_dataloader, test_dataloader, optimizer, loss_fn, epochs, best_model_name, device, enable_early_stop)\u001b[0m\n",
      "\u001b[0;32m     25\u001b[0m \u001b[38;5;66;03m# 3. Loop through training and testing steps for a number of epochs\u001b[39;00m\n",
      "\u001b[0;32m     26\u001b[0m \u001b[38;5;28;01mfor\u001b[39;00m epoch \u001b[38;5;129;01min\u001b[39;00m tqdm(\u001b[38;5;28mrange\u001b[39m(epochs)):\n",
      "\u001b[1;32m---> 27\u001b[0m   train_loss, train_acc \u001b[38;5;241m=\u001b[39m \u001b[43mtrain_step\u001b[49m\u001b[43m(\u001b[49m\u001b[43mmodel\u001b[49m\u001b[38;5;241;43m=\u001b[39;49m\u001b[43mmodel\u001b[49m\u001b[43m,\u001b[49m\n",
      "\u001b[0;32m     28\u001b[0m \u001b[43m                      \u001b[49m\u001b[43mdataloader\u001b[49m\u001b[38;5;241;43m=\u001b[39;49m\u001b[43mtrain_dataloader\u001b[49m\u001b[43m,\u001b[49m\n",
      "\u001b[0;32m     29\u001b[0m \u001b[43m                      \u001b[49m\u001b[43mloss_fn\u001b[49m\u001b[38;5;241;43m=\u001b[39;49m\u001b[43mloss_fn\u001b[49m\u001b[43m,\u001b[49m\n",
      "\u001b[0;32m     30\u001b[0m \u001b[43m                      \u001b[49m\u001b[43moptimizer\u001b[49m\u001b[38;5;241;43m=\u001b[39;49m\u001b[43moptimizer\u001b[49m\u001b[43m,\u001b[49m\n",
      "\u001b[0;32m     31\u001b[0m \u001b[43m                      \u001b[49m\u001b[43mdevice\u001b[49m\u001b[38;5;241;43m=\u001b[39;49m\u001b[43mdevice\u001b[49m\u001b[43m)\u001b[49m\n",
      "\u001b[0;32m     32\u001b[0m   test_loss, test_acc, test_f1 \u001b[38;5;241m=\u001b[39m test_step(model\u001b[38;5;241m=\u001b[39mmodel,\n",
      "\u001b[0;32m     33\u001b[0m                     dataloader\u001b[38;5;241m=\u001b[39mtest_dataloader,\n",
      "\u001b[0;32m     34\u001b[0m                     loss_fn\u001b[38;5;241m=\u001b[39mloss_fn,\n",
      "\u001b[0;32m     35\u001b[0m                     device\u001b[38;5;241m=\u001b[39mdevice)\n",
      "\u001b[0;32m     36\u001b[0m   \u001b[38;5;66;03m# 4. Print out what's happening\u001b[39;00m\n",
      "\n",
      "Cell \u001b[1;32mIn[27], line 14\u001b[0m, in \u001b[0;36mtrain_step\u001b[1;34m(model, dataloader, loss_fn, optimizer, device)\u001b[0m\n",
      "\u001b[0;32m     11\u001b[0m train_loss, train_acc \u001b[38;5;241m=\u001b[39m \u001b[38;5;241m0\u001b[39m, \u001b[38;5;241m0\u001b[39m\n",
      "\u001b[0;32m     13\u001b[0m \u001b[38;5;66;03m# Loop thourgh data loader data batches\u001b[39;00m\n",
      "\u001b[1;32m---> 14\u001b[0m \u001b[43m\u001b[49m\u001b[38;5;28;43;01mfor\u001b[39;49;00m\u001b[43m \u001b[49m\u001b[43mbatch\u001b[49m\u001b[43m,\u001b[49m\u001b[43m(\u001b[49m\u001b[43mX\u001b[49m\u001b[43m,\u001b[49m\u001b[43m \u001b[49m\u001b[43my\u001b[49m\u001b[43m)\u001b[49m\u001b[43m \u001b[49m\u001b[38;5;129;43;01min\u001b[39;49;00m\u001b[43m \u001b[49m\u001b[38;5;28;43menumerate\u001b[39;49m\u001b[43m(\u001b[49m\u001b[43mdataloader\u001b[49m\u001b[43m)\u001b[49m\u001b[43m:\u001b[49m\n",
      "\u001b[0;32m     15\u001b[0m \u001b[43m  \u001b[49m\u001b[38;5;66;43;03m# Send data to the target device\u001b[39;49;00m\n",
      "\u001b[0;32m     16\u001b[0m \u001b[43m  \u001b[49m\u001b[43mX\u001b[49m\u001b[43m,\u001b[49m\u001b[43m \u001b[49m\u001b[43my\u001b[49m\u001b[43m \u001b[49m\u001b[38;5;241;43m=\u001b[39;49m\u001b[43m \u001b[49m\u001b[43mX\u001b[49m\u001b[38;5;241;43m.\u001b[39;49m\u001b[43mto\u001b[49m\u001b[43m(\u001b[49m\u001b[43mdevice\u001b[49m\u001b[43m)\u001b[49m\u001b[43m \u001b[49m\u001b[43m,\u001b[49m\u001b[43m \u001b[49m\u001b[43my\u001b[49m\u001b[38;5;241;43m.\u001b[39;49m\u001b[43mto\u001b[49m\u001b[43m(\u001b[49m\u001b[43mdevice\u001b[49m\u001b[43m)\u001b[49m\n",
      "\u001b[0;32m     18\u001b[0m \u001b[43m  \u001b[49m\u001b[38;5;66;43;03m# 1. Forward pass\u001b[39;49;00m\n",
      "\n",
      "File \u001b[1;32mc:\\Users\\E\\AppData\\Local\\Programs\\Python\\Python311\\Lib\\site-packages\\torch\\utils\\data\\dataloader.py:630\u001b[0m, in \u001b[0;36m_BaseDataLoaderIter.__next__\u001b[1;34m(self)\u001b[0m\n",
      "\u001b[0;32m    627\u001b[0m \u001b[38;5;28;01mif\u001b[39;00m \u001b[38;5;28mself\u001b[39m\u001b[38;5;241m.\u001b[39m_sampler_iter \u001b[38;5;129;01mis\u001b[39;00m \u001b[38;5;28;01mNone\u001b[39;00m:\n",
      "\u001b[0;32m    628\u001b[0m     \u001b[38;5;66;03m# TODO(https://github.com/pytorch/pytorch/issues/76750)\u001b[39;00m\n",
      "\u001b[0;32m    629\u001b[0m     \u001b[38;5;28mself\u001b[39m\u001b[38;5;241m.\u001b[39m_reset()  \u001b[38;5;66;03m# type: ignore[call-arg]\u001b[39;00m\n",
      "\u001b[1;32m--> 630\u001b[0m data \u001b[38;5;241m=\u001b[39m \u001b[38;5;28;43mself\u001b[39;49m\u001b[38;5;241;43m.\u001b[39;49m\u001b[43m_next_data\u001b[49m\u001b[43m(\u001b[49m\u001b[43m)\u001b[49m\n",
      "\u001b[0;32m    631\u001b[0m \u001b[38;5;28mself\u001b[39m\u001b[38;5;241m.\u001b[39m_num_yielded \u001b[38;5;241m+\u001b[39m\u001b[38;5;241m=\u001b[39m \u001b[38;5;241m1\u001b[39m\n",
      "\u001b[0;32m    632\u001b[0m \u001b[38;5;28;01mif\u001b[39;00m \u001b[38;5;28mself\u001b[39m\u001b[38;5;241m.\u001b[39m_dataset_kind \u001b[38;5;241m==\u001b[39m _DatasetKind\u001b[38;5;241m.\u001b[39mIterable \u001b[38;5;129;01mand\u001b[39;00m \\\n",
      "\u001b[0;32m    633\u001b[0m         \u001b[38;5;28mself\u001b[39m\u001b[38;5;241m.\u001b[39m_IterableDataset_len_called \u001b[38;5;129;01mis\u001b[39;00m \u001b[38;5;129;01mnot\u001b[39;00m \u001b[38;5;28;01mNone\u001b[39;00m \u001b[38;5;129;01mand\u001b[39;00m \\\n",
      "\u001b[0;32m    634\u001b[0m         \u001b[38;5;28mself\u001b[39m\u001b[38;5;241m.\u001b[39m_num_yielded \u001b[38;5;241m>\u001b[39m \u001b[38;5;28mself\u001b[39m\u001b[38;5;241m.\u001b[39m_IterableDataset_len_called:\n",
      "\n",
      "File \u001b[1;32mc:\\Users\\E\\AppData\\Local\\Programs\\Python\\Python311\\Lib\\site-packages\\torch\\utils\\data\\dataloader.py:674\u001b[0m, in \u001b[0;36m_SingleProcessDataLoaderIter._next_data\u001b[1;34m(self)\u001b[0m\n",
      "\u001b[0;32m    672\u001b[0m \u001b[38;5;28;01mdef\u001b[39;00m \u001b[38;5;21m_next_data\u001b[39m(\u001b[38;5;28mself\u001b[39m):\n",
      "\u001b[0;32m    673\u001b[0m     index \u001b[38;5;241m=\u001b[39m \u001b[38;5;28mself\u001b[39m\u001b[38;5;241m.\u001b[39m_next_index()  \u001b[38;5;66;03m# may raise StopIteration\u001b[39;00m\n",
      "\u001b[1;32m--> 674\u001b[0m     data \u001b[38;5;241m=\u001b[39m \u001b[38;5;28;43mself\u001b[39;49m\u001b[38;5;241;43m.\u001b[39;49m\u001b[43m_dataset_fetcher\u001b[49m\u001b[38;5;241;43m.\u001b[39;49m\u001b[43mfetch\u001b[49m\u001b[43m(\u001b[49m\u001b[43mindex\u001b[49m\u001b[43m)\u001b[49m  \u001b[38;5;66;03m# may raise StopIteration\u001b[39;00m\n",
      "\u001b[0;32m    675\u001b[0m     \u001b[38;5;28;01mif\u001b[39;00m \u001b[38;5;28mself\u001b[39m\u001b[38;5;241m.\u001b[39m_pin_memory:\n",
      "\u001b[0;32m    676\u001b[0m         data \u001b[38;5;241m=\u001b[39m _utils\u001b[38;5;241m.\u001b[39mpin_memory\u001b[38;5;241m.\u001b[39mpin_memory(data, \u001b[38;5;28mself\u001b[39m\u001b[38;5;241m.\u001b[39m_pin_memory_device)\n",
      "\n",
      "File \u001b[1;32mc:\\Users\\E\\AppData\\Local\\Programs\\Python\\Python311\\Lib\\site-packages\\torch\\utils\\data\\_utils\\fetch.py:51\u001b[0m, in \u001b[0;36m_MapDatasetFetcher.fetch\u001b[1;34m(self, possibly_batched_index)\u001b[0m\n",
      "\u001b[0;32m     49\u001b[0m         data \u001b[38;5;241m=\u001b[39m \u001b[38;5;28mself\u001b[39m\u001b[38;5;241m.\u001b[39mdataset\u001b[38;5;241m.\u001b[39m__getitems__(possibly_batched_index)\n",
      "\u001b[0;32m     50\u001b[0m     \u001b[38;5;28;01melse\u001b[39;00m:\n",
      "\u001b[1;32m---> 51\u001b[0m         data \u001b[38;5;241m=\u001b[39m \u001b[43m[\u001b[49m\u001b[38;5;28;43mself\u001b[39;49m\u001b[38;5;241;43m.\u001b[39;49m\u001b[43mdataset\u001b[49m\u001b[43m[\u001b[49m\u001b[43midx\u001b[49m\u001b[43m]\u001b[49m\u001b[43m \u001b[49m\u001b[38;5;28;43;01mfor\u001b[39;49;00m\u001b[43m \u001b[49m\u001b[43midx\u001b[49m\u001b[43m \u001b[49m\u001b[38;5;129;43;01min\u001b[39;49;00m\u001b[43m \u001b[49m\u001b[43mpossibly_batched_index\u001b[49m\u001b[43m]\u001b[49m\n",
      "\u001b[0;32m     52\u001b[0m \u001b[38;5;28;01melse\u001b[39;00m:\n",
      "\u001b[0;32m     53\u001b[0m     data \u001b[38;5;241m=\u001b[39m \u001b[38;5;28mself\u001b[39m\u001b[38;5;241m.\u001b[39mdataset[possibly_batched_index]\n",
      "\n",
      "File \u001b[1;32mc:\\Users\\E\\AppData\\Local\\Programs\\Python\\Python311\\Lib\\site-packages\\torch\\utils\\data\\_utils\\fetch.py:51\u001b[0m, in \u001b[0;36m<listcomp>\u001b[1;34m(.0)\u001b[0m\n",
      "\u001b[0;32m     49\u001b[0m         data \u001b[38;5;241m=\u001b[39m \u001b[38;5;28mself\u001b[39m\u001b[38;5;241m.\u001b[39mdataset\u001b[38;5;241m.\u001b[39m__getitems__(possibly_batched_index)\n",
      "\u001b[0;32m     50\u001b[0m     \u001b[38;5;28;01melse\u001b[39;00m:\n",
      "\u001b[1;32m---> 51\u001b[0m         data \u001b[38;5;241m=\u001b[39m [\u001b[38;5;28;43mself\u001b[39;49m\u001b[38;5;241;43m.\u001b[39;49m\u001b[43mdataset\u001b[49m\u001b[43m[\u001b[49m\u001b[43midx\u001b[49m\u001b[43m]\u001b[49m \u001b[38;5;28;01mfor\u001b[39;00m idx \u001b[38;5;129;01min\u001b[39;00m possibly_batched_index]\n",
      "\u001b[0;32m     52\u001b[0m \u001b[38;5;28;01melse\u001b[39;00m:\n",
      "\u001b[0;32m     53\u001b[0m     data \u001b[38;5;241m=\u001b[39m \u001b[38;5;28mself\u001b[39m\u001b[38;5;241m.\u001b[39mdataset[possibly_batched_index]\n",
      "\n",
      "File \u001b[1;32mc:\\Users\\E\\Desktop\\skin_cancer_dataset\\program\\helperFunction\\CustomImageDataset.py:27\u001b[0m, in \u001b[0;36mCustomImageDataset.__getitem__\u001b[1;34m(self, idx)\u001b[0m\n",
      "\u001b[0;32m     25\u001b[0m label \u001b[38;5;241m=\u001b[39m \u001b[38;5;28mself\u001b[39m\u001b[38;5;241m.\u001b[39mfile_to_label_dict[\u001b[38;5;28mself\u001b[39m\u001b[38;5;241m.\u001b[39mimage_files[idx]]\n",
      "\u001b[0;32m     26\u001b[0m \u001b[38;5;28;01mif\u001b[39;00m \u001b[38;5;28mself\u001b[39m\u001b[38;5;241m.\u001b[39mtransform:\n",
      "\u001b[1;32m---> 27\u001b[0m     image \u001b[38;5;241m=\u001b[39m \u001b[38;5;28;43mself\u001b[39;49m\u001b[38;5;241;43m.\u001b[39;49m\u001b[43mtransform\u001b[49m\u001b[43m(\u001b[49m\u001b[43mimage\u001b[49m\u001b[43m)\u001b[49m\n",
      "\u001b[0;32m     28\u001b[0m \u001b[38;5;28;01mreturn\u001b[39;00m image, label\n",
      "\n",
      "File \u001b[1;32mc:\\Users\\E\\AppData\\Local\\Programs\\Python\\Python311\\Lib\\site-packages\\torchvision\\transforms\\transforms.py:95\u001b[0m, in \u001b[0;36mCompose.__call__\u001b[1;34m(self, img)\u001b[0m\n",
      "\u001b[0;32m     93\u001b[0m \u001b[38;5;28;01mdef\u001b[39;00m \u001b[38;5;21m__call__\u001b[39m(\u001b[38;5;28mself\u001b[39m, img):\n",
      "\u001b[0;32m     94\u001b[0m     \u001b[38;5;28;01mfor\u001b[39;00m t \u001b[38;5;129;01min\u001b[39;00m \u001b[38;5;28mself\u001b[39m\u001b[38;5;241m.\u001b[39mtransforms:\n",
      "\u001b[1;32m---> 95\u001b[0m         img \u001b[38;5;241m=\u001b[39m \u001b[43mt\u001b[49m\u001b[43m(\u001b[49m\u001b[43mimg\u001b[49m\u001b[43m)\u001b[49m\n",
      "\u001b[0;32m     96\u001b[0m     \u001b[38;5;28;01mreturn\u001b[39;00m img\n",
      "\n",
      "File \u001b[1;32mc:\\Users\\E\\AppData\\Local\\Programs\\Python\\Python311\\Lib\\site-packages\\torch\\nn\\modules\\module.py:1518\u001b[0m, in \u001b[0;36mModule._wrapped_call_impl\u001b[1;34m(self, *args, **kwargs)\u001b[0m\n",
      "\u001b[0;32m   1516\u001b[0m     \u001b[38;5;28;01mreturn\u001b[39;00m \u001b[38;5;28mself\u001b[39m\u001b[38;5;241m.\u001b[39m_compiled_call_impl(\u001b[38;5;241m*\u001b[39margs, \u001b[38;5;241m*\u001b[39m\u001b[38;5;241m*\u001b[39mkwargs)  \u001b[38;5;66;03m# type: ignore[misc]\u001b[39;00m\n",
      "\u001b[0;32m   1517\u001b[0m \u001b[38;5;28;01melse\u001b[39;00m:\n",
      "\u001b[1;32m-> 1518\u001b[0m     \u001b[38;5;28;01mreturn\u001b[39;00m \u001b[38;5;28;43mself\u001b[39;49m\u001b[38;5;241;43m.\u001b[39;49m\u001b[43m_call_impl\u001b[49m\u001b[43m(\u001b[49m\u001b[38;5;241;43m*\u001b[39;49m\u001b[43margs\u001b[49m\u001b[43m,\u001b[49m\u001b[43m \u001b[49m\u001b[38;5;241;43m*\u001b[39;49m\u001b[38;5;241;43m*\u001b[39;49m\u001b[43mkwargs\u001b[49m\u001b[43m)\u001b[49m\n",
      "\n",
      "File \u001b[1;32mc:\\Users\\E\\AppData\\Local\\Programs\\Python\\Python311\\Lib\\site-packages\\torch\\nn\\modules\\module.py:1527\u001b[0m, in \u001b[0;36mModule._call_impl\u001b[1;34m(self, *args, **kwargs)\u001b[0m\n",
      "\u001b[0;32m   1522\u001b[0m \u001b[38;5;66;03m# If we don't have any hooks, we want to skip the rest of the logic in\u001b[39;00m\n",
      "\u001b[0;32m   1523\u001b[0m \u001b[38;5;66;03m# this function, and just call forward.\u001b[39;00m\n",
      "\u001b[0;32m   1524\u001b[0m \u001b[38;5;28;01mif\u001b[39;00m \u001b[38;5;129;01mnot\u001b[39;00m (\u001b[38;5;28mself\u001b[39m\u001b[38;5;241m.\u001b[39m_backward_hooks \u001b[38;5;129;01mor\u001b[39;00m \u001b[38;5;28mself\u001b[39m\u001b[38;5;241m.\u001b[39m_backward_pre_hooks \u001b[38;5;129;01mor\u001b[39;00m \u001b[38;5;28mself\u001b[39m\u001b[38;5;241m.\u001b[39m_forward_hooks \u001b[38;5;129;01mor\u001b[39;00m \u001b[38;5;28mself\u001b[39m\u001b[38;5;241m.\u001b[39m_forward_pre_hooks\n",
      "\u001b[0;32m   1525\u001b[0m         \u001b[38;5;129;01mor\u001b[39;00m _global_backward_pre_hooks \u001b[38;5;129;01mor\u001b[39;00m _global_backward_hooks\n",
      "\u001b[0;32m   1526\u001b[0m         \u001b[38;5;129;01mor\u001b[39;00m _global_forward_hooks \u001b[38;5;129;01mor\u001b[39;00m _global_forward_pre_hooks):\n",
      "\u001b[1;32m-> 1527\u001b[0m     \u001b[38;5;28;01mreturn\u001b[39;00m \u001b[43mforward_call\u001b[49m\u001b[43m(\u001b[49m\u001b[38;5;241;43m*\u001b[39;49m\u001b[43margs\u001b[49m\u001b[43m,\u001b[49m\u001b[43m \u001b[49m\u001b[38;5;241;43m*\u001b[39;49m\u001b[38;5;241;43m*\u001b[39;49m\u001b[43mkwargs\u001b[49m\u001b[43m)\u001b[49m\n",
      "\u001b[0;32m   1529\u001b[0m \u001b[38;5;28;01mtry\u001b[39;00m:\n",
      "\u001b[0;32m   1530\u001b[0m     result \u001b[38;5;241m=\u001b[39m \u001b[38;5;28;01mNone\u001b[39;00m\n",
      "\n",
      "File \u001b[1;32mc:\\Users\\E\\AppData\\Local\\Programs\\Python\\Python311\\Lib\\site-packages\\torchvision\\transforms\\transforms.py:361\u001b[0m, in \u001b[0;36mResize.forward\u001b[1;34m(self, img)\u001b[0m\n",
      "\u001b[0;32m    353\u001b[0m \u001b[38;5;28;01mdef\u001b[39;00m \u001b[38;5;21mforward\u001b[39m(\u001b[38;5;28mself\u001b[39m, img):\n",
      "\u001b[0;32m    354\u001b[0m \u001b[38;5;250m    \u001b[39m\u001b[38;5;124;03m\"\"\"\u001b[39;00m\n",
      "\u001b[0;32m    355\u001b[0m \u001b[38;5;124;03m    Args:\u001b[39;00m\n",
      "\u001b[0;32m    356\u001b[0m \u001b[38;5;124;03m        img (PIL Image or Tensor): Image to be scaled.\u001b[39;00m\n",
      "\u001b[1;32m   (...)\u001b[0m\n",
      "\u001b[0;32m    359\u001b[0m \u001b[38;5;124;03m        PIL Image or Tensor: Rescaled image.\u001b[39;00m\n",
      "\u001b[0;32m    360\u001b[0m \u001b[38;5;124;03m    \"\"\"\u001b[39;00m\n",
      "\u001b[1;32m--> 361\u001b[0m     \u001b[38;5;28;01mreturn\u001b[39;00m \u001b[43mF\u001b[49m\u001b[38;5;241;43m.\u001b[39;49m\u001b[43mresize\u001b[49m\u001b[43m(\u001b[49m\u001b[43mimg\u001b[49m\u001b[43m,\u001b[49m\u001b[43m \u001b[49m\u001b[38;5;28;43mself\u001b[39;49m\u001b[38;5;241;43m.\u001b[39;49m\u001b[43msize\u001b[49m\u001b[43m,\u001b[49m\u001b[43m \u001b[49m\u001b[38;5;28;43mself\u001b[39;49m\u001b[38;5;241;43m.\u001b[39;49m\u001b[43minterpolation\u001b[49m\u001b[43m,\u001b[49m\u001b[43m \u001b[49m\u001b[38;5;28;43mself\u001b[39;49m\u001b[38;5;241;43m.\u001b[39;49m\u001b[43mmax_size\u001b[49m\u001b[43m,\u001b[49m\u001b[43m \u001b[49m\u001b[38;5;28;43mself\u001b[39;49m\u001b[38;5;241;43m.\u001b[39;49m\u001b[43mantialias\u001b[49m\u001b[43m)\u001b[49m\n",
      "\n",
      "File \u001b[1;32mc:\\Users\\E\\AppData\\Local\\Programs\\Python\\Python311\\Lib\\site-packages\\torchvision\\transforms\\functional.py:490\u001b[0m, in \u001b[0;36mresize\u001b[1;34m(img, size, interpolation, max_size, antialias)\u001b[0m\n",
      "\u001b[0;32m    488\u001b[0m         warnings\u001b[38;5;241m.\u001b[39mwarn(\u001b[38;5;124m\"\u001b[39m\u001b[38;5;124mAnti-alias option is always applied for PIL Image input. Argument antialias is ignored.\u001b[39m\u001b[38;5;124m\"\u001b[39m)\n",
      "\u001b[0;32m    489\u001b[0m     pil_interpolation \u001b[38;5;241m=\u001b[39m pil_modes_mapping[interpolation]\n",
      "\u001b[1;32m--> 490\u001b[0m     \u001b[38;5;28;01mreturn\u001b[39;00m \u001b[43mF_pil\u001b[49m\u001b[38;5;241;43m.\u001b[39;49m\u001b[43mresize\u001b[49m\u001b[43m(\u001b[49m\u001b[43mimg\u001b[49m\u001b[43m,\u001b[49m\u001b[43m \u001b[49m\u001b[43msize\u001b[49m\u001b[38;5;241;43m=\u001b[39;49m\u001b[43moutput_size\u001b[49m\u001b[43m,\u001b[49m\u001b[43m \u001b[49m\u001b[43minterpolation\u001b[49m\u001b[38;5;241;43m=\u001b[39;49m\u001b[43mpil_interpolation\u001b[49m\u001b[43m)\u001b[49m\n",
      "\u001b[0;32m    492\u001b[0m \u001b[38;5;28;01mreturn\u001b[39;00m F_t\u001b[38;5;241m.\u001b[39mresize(img, size\u001b[38;5;241m=\u001b[39moutput_size, interpolation\u001b[38;5;241m=\u001b[39minterpolation\u001b[38;5;241m.\u001b[39mvalue, antialias\u001b[38;5;241m=\u001b[39mantialias)\n",
      "\n",
      "File \u001b[1;32mc:\\Users\\E\\AppData\\Local\\Programs\\Python\\Python311\\Lib\\site-packages\\torchvision\\transforms\\_functional_pil.py:250\u001b[0m, in \u001b[0;36mresize\u001b[1;34m(img, size, interpolation)\u001b[0m\n",
      "\u001b[0;32m    247\u001b[0m \u001b[38;5;28;01mif\u001b[39;00m \u001b[38;5;129;01mnot\u001b[39;00m (\u001b[38;5;28misinstance\u001b[39m(size, \u001b[38;5;28mlist\u001b[39m) \u001b[38;5;129;01mand\u001b[39;00m \u001b[38;5;28mlen\u001b[39m(size) \u001b[38;5;241m==\u001b[39m \u001b[38;5;241m2\u001b[39m):\n",
      "\u001b[0;32m    248\u001b[0m     \u001b[38;5;28;01mraise\u001b[39;00m \u001b[38;5;167;01mTypeError\u001b[39;00m(\u001b[38;5;124mf\u001b[39m\u001b[38;5;124m\"\u001b[39m\u001b[38;5;124mGot inappropriate size arg: \u001b[39m\u001b[38;5;132;01m{\u001b[39;00msize\u001b[38;5;132;01m}\u001b[39;00m\u001b[38;5;124m\"\u001b[39m)\n",
      "\u001b[1;32m--> 250\u001b[0m \u001b[38;5;28;01mreturn\u001b[39;00m \u001b[43mimg\u001b[49m\u001b[38;5;241;43m.\u001b[39;49m\u001b[43mresize\u001b[49m\u001b[43m(\u001b[49m\u001b[38;5;28;43mtuple\u001b[39;49m\u001b[43m(\u001b[49m\u001b[43msize\u001b[49m\u001b[43m[\u001b[49m\u001b[43m:\u001b[49m\u001b[43m:\u001b[49m\u001b[38;5;241;43m-\u001b[39;49m\u001b[38;5;241;43m1\u001b[39;49m\u001b[43m]\u001b[49m\u001b[43m)\u001b[49m\u001b[43m,\u001b[49m\u001b[43m \u001b[49m\u001b[43minterpolation\u001b[49m\u001b[43m)\u001b[49m\n",
      "\n",
      "File \u001b[1;32mc:\\Users\\E\\AppData\\Local\\Programs\\Python\\Python311\\Lib\\site-packages\\PIL\\Image.py:2174\u001b[0m, in \u001b[0;36mImage.resize\u001b[1;34m(self, size, resample, box, reducing_gap)\u001b[0m\n",
      "\u001b[0;32m   2166\u001b[0m             \u001b[38;5;28mself\u001b[39m \u001b[38;5;241m=\u001b[39m Image\u001b[38;5;241m.\u001b[39mreduce(\u001b[38;5;28mself\u001b[39m, factor, box\u001b[38;5;241m=\u001b[39mreduce_box)\n",
      "\u001b[0;32m   2167\u001b[0m         box \u001b[38;5;241m=\u001b[39m (\n",
      "\u001b[0;32m   2168\u001b[0m             (box[\u001b[38;5;241m0\u001b[39m] \u001b[38;5;241m-\u001b[39m reduce_box[\u001b[38;5;241m0\u001b[39m]) \u001b[38;5;241m/\u001b[39m factor_x,\n",
      "\u001b[0;32m   2169\u001b[0m             (box[\u001b[38;5;241m1\u001b[39m] \u001b[38;5;241m-\u001b[39m reduce_box[\u001b[38;5;241m1\u001b[39m]) \u001b[38;5;241m/\u001b[39m factor_y,\n",
      "\u001b[0;32m   2170\u001b[0m             (box[\u001b[38;5;241m2\u001b[39m] \u001b[38;5;241m-\u001b[39m reduce_box[\u001b[38;5;241m0\u001b[39m]) \u001b[38;5;241m/\u001b[39m factor_x,\n",
      "\u001b[0;32m   2171\u001b[0m             (box[\u001b[38;5;241m3\u001b[39m] \u001b[38;5;241m-\u001b[39m reduce_box[\u001b[38;5;241m1\u001b[39m]) \u001b[38;5;241m/\u001b[39m factor_y,\n",
      "\u001b[0;32m   2172\u001b[0m         )\n",
      "\u001b[1;32m-> 2174\u001b[0m \u001b[38;5;28;01mreturn\u001b[39;00m \u001b[38;5;28mself\u001b[39m\u001b[38;5;241m.\u001b[39m_new(\u001b[38;5;28;43mself\u001b[39;49m\u001b[38;5;241;43m.\u001b[39;49m\u001b[43mim\u001b[49m\u001b[38;5;241;43m.\u001b[39;49m\u001b[43mresize\u001b[49m\u001b[43m(\u001b[49m\u001b[43msize\u001b[49m\u001b[43m,\u001b[49m\u001b[43m \u001b[49m\u001b[43mresample\u001b[49m\u001b[43m,\u001b[49m\u001b[43m \u001b[49m\u001b[43mbox\u001b[49m\u001b[43m)\u001b[49m)\n",
      "\n",
      "\u001b[1;31mKeyboardInterrupt\u001b[0m: "
     ]
    }
   ],
   "source": [
    "import torchvision.models as models\n",
    "\n",
    "model_preTrained_Resnet18_7 = models.resnet18(pretrained=True)     # 使用內建的 model \n",
    "\n",
    "\n",
    "# optimizer = torch.optim.SGD(model_preTrained_Resnet18_7.parameters(), lr = 0.001) # 選擇你想用的 optimizer\n",
    "optimizer = torch.optim.SGD(model_preTrained_Resnet18_7.parameters(), lr = 0.001, momentum=0.9) # 選擇你想用的 optimizer\n",
    "\n",
    "# optimizer = torch.optim.Adam(model_Resnet18_7.parameters(), lr =0.01)\n",
    "\n",
    "# Loss function\n",
    "loss_fn = nn.CrossEntropyLoss()                # 選擇想用的 loss functionmodel_vgg16 = \n",
    "\n",
    "# ========================\n",
    "\n",
    "# change fully connected layer to 7\n",
    "num_ftrs = model_preTrained_Resnet18_7.fc.in_features\n",
    "model_preTrained_Resnet18_7.fc = nn.Linear(num_ftrs, 7)\n",
    "\n",
    "# device setting\n",
    "model_preTrained_Resnet18_7 = model_preTrained_Resnet18_7.to(device)\n",
    "\n",
    "# ===========================\n",
    "\n",
    "# summary(model_preTrained_Resnet18_7)\n",
    "\n",
    "\n",
    "# Start the timer\n",
    "from timeit import default_timer as timer\n",
    "start_time = timer()\n",
    "\n",
    "# Train model_0\n",
    "model_VGG_results = train(model=model_preTrained_Resnet18_7,\n",
    "              train_dataloader=train_data_loader_224,\n",
    "              test_dataloader=test_data_loader_224,\n",
    "              optimizer=optimizer,\n",
    "              loss_fn=loss_fn,\n",
    "              best_model_name=\"best_model_pretrain_Resnet18_7.pth\",\n",
    "              epochs=40)\n",
    "\n",
    "# End the timer and print out how long it took\n",
    "end_time = timer()\n",
    "print(f\"Total training time: {end_time-start_time:.3f} seconds\")"
   ]
  },
  {
   "cell_type": "markdown",
   "metadata": {},
   "source": [
    "output == 7 non-pretrain resnet"
   ]
  },
  {
   "cell_type": "code",
   "execution_count": null,
   "metadata": {},
   "outputs": [
    {
     "name": "stderr",
     "output_type": "stream",
     "text": [
      "c:\\Users\\E\\AppData\\Local\\Programs\\Python\\Python311\\Lib\\site-packages\\torchvision\\models\\_utils.py:208: UserWarning: The parameter 'pretrained' is deprecated since 0.13 and may be removed in the future, please use 'weights' instead.\n",
      "  warnings.warn(\n",
      "c:\\Users\\E\\AppData\\Local\\Programs\\Python\\Python311\\Lib\\site-packages\\torchvision\\models\\_utils.py:223: UserWarning: Arguments other than a weight enum or `None` for 'weights' are deprecated since 0.13 and may be removed in the future. The current behavior is equivalent to passing `weights=None`.\n",
      "  warnings.warn(msg)\n",
      "  1%|          | 1/120 [01:02<2:03:41, 62.37s/it]"
     ]
    },
    {
     "name": "stdout",
     "output_type": "stream",
     "text": [
      "Epoch: 0 | Train loss: 2.5158 | Train acc: 0.6380 | Test loss: 1.5130 | Test acc: 0.6826 |  F1 score: 0.5538   \n"
     ]
    },
    {
     "name": "stderr",
     "output_type": "stream",
     "text": [
      "  2%|▏         | 2/120 [02:05<2:03:11, 62.64s/it]"
     ]
    },
    {
     "name": "stdout",
     "output_type": "stream",
     "text": [
      "Epoch: 1 | Train loss: 1.2750 | Train acc: 0.6729 | Test loss: 1.1878 | Test acc: 0.6876 |  F1 score: 0.5695   \n"
     ]
    },
    {
     "name": "stderr",
     "output_type": "stream",
     "text": [
      "  2%|▎         | 3/120 [03:07<2:02:09, 62.65s/it]"
     ]
    },
    {
     "name": "stdout",
     "output_type": "stream",
     "text": [
      "Epoch: 2 | Train loss: 1.0810 | Train acc: 0.6795 | Test loss: 1.0929 | Test acc: 0.6841 |  F1 score: 0.5816   \n"
     ]
    },
    {
     "name": "stderr",
     "output_type": "stream",
     "text": [
      "  3%|▎         | 4/120 [04:10<2:01:12, 62.69s/it]"
     ]
    },
    {
     "name": "stdout",
     "output_type": "stream",
     "text": [
      "Epoch: 3 | Train loss: 0.9949 | Train acc: 0.6843 | Test loss: 1.0179 | Test acc: 0.6690 |  F1 score: 0.5868   \n"
     ]
    },
    {
     "name": "stderr",
     "output_type": "stream",
     "text": [
      "  4%|▍         | 5/120 [05:12<1:59:52, 62.54s/it]"
     ]
    },
    {
     "name": "stdout",
     "output_type": "stream",
     "text": [
      "Epoch: 4 | Train loss: 0.9341 | Train acc: 0.6870 | Test loss: 1.0225 | Test acc: 0.6924 |  F1 score: 0.6242   \n"
     ]
    },
    {
     "name": "stderr",
     "output_type": "stream",
     "text": [
      "  5%|▌         | 6/120 [06:15<1:58:48, 62.53s/it]"
     ]
    },
    {
     "name": "stdout",
     "output_type": "stream",
     "text": [
      "Epoch: 5 | Train loss: 0.9009 | Train acc: 0.6918 | Test loss: 0.9197 | Test acc: 0.7009 |  F1 score: 0.6366   \n"
     ]
    },
    {
     "name": "stderr",
     "output_type": "stream",
     "text": [
      "  6%|▌         | 7/120 [07:17<1:57:32, 62.41s/it]"
     ]
    },
    {
     "name": "stdout",
     "output_type": "stream",
     "text": [
      "Epoch: 6 | Train loss: 0.8697 | Train acc: 0.7003 | Test loss: 1.0425 | Test acc: 0.6846 |  F1 score: 0.5961   \n"
     ]
    },
    {
     "name": "stderr",
     "output_type": "stream",
     "text": [
      "  7%|▋         | 8/120 [08:19<1:56:02, 62.16s/it]"
     ]
    },
    {
     "name": "stdout",
     "output_type": "stream",
     "text": [
      "Epoch: 7 | Train loss: 0.8369 | Train acc: 0.7088 | Test loss: 0.9349 | Test acc: 0.6668 |  F1 score: 0.6333   \n"
     ]
    },
    {
     "name": "stderr",
     "output_type": "stream",
     "text": [
      "  8%|▊         | 9/120 [09:21<1:55:19, 62.34s/it]"
     ]
    },
    {
     "name": "stdout",
     "output_type": "stream",
     "text": [
      "Epoch: 8 | Train loss: 0.8170 | Train acc: 0.7113 | Test loss: 1.1576 | Test acc: 0.6071 |  F1 score: 0.6188   \n"
     ]
    },
    {
     "name": "stderr",
     "output_type": "stream",
     "text": [
      "  8%|▊         | 10/120 [10:24<1:54:36, 62.51s/it]"
     ]
    },
    {
     "name": "stdout",
     "output_type": "stream",
     "text": [
      "Epoch: 9 | Train loss: 0.8075 | Train acc: 0.7141 | Test loss: 0.8800 | Test acc: 0.6953 |  F1 score: 0.6063   \n"
     ]
    },
    {
     "name": "stderr",
     "output_type": "stream",
     "text": [
      "  9%|▉         | 11/120 [11:27<1:53:37, 62.55s/it]"
     ]
    },
    {
     "name": "stdout",
     "output_type": "stream",
     "text": [
      "Epoch: 10 | Train loss: 0.7840 | Train acc: 0.7223 | Test loss: 0.9287 | Test acc: 0.6841 |  F1 score: 0.5623   \n"
     ]
    },
    {
     "name": "stderr",
     "output_type": "stream",
     "text": [
      " 10%|█         | 12/120 [12:29<1:52:21, 62.43s/it]"
     ]
    },
    {
     "name": "stdout",
     "output_type": "stream",
     "text": [
      "Epoch: 11 | Train loss: 0.7788 | Train acc: 0.7211 | Test loss: 1.0125 | Test acc: 0.6056 |  F1 score: 0.6167   \n"
     ]
    },
    {
     "name": "stderr",
     "output_type": "stream",
     "text": [
      " 11%|█         | 13/120 [13:32<1:51:32, 62.55s/it]"
     ]
    },
    {
     "name": "stdout",
     "output_type": "stream",
     "text": [
      "Epoch: 12 | Train loss: 0.7618 | Train acc: 0.7251 | Test loss: 1.0375 | Test acc: 0.5840 |  F1 score: 0.6103   \n"
     ]
    },
    {
     "name": "stderr",
     "output_type": "stream",
     "text": [
      " 12%|█▏        | 14/120 [14:34<1:50:07, 62.33s/it]"
     ]
    },
    {
     "name": "stdout",
     "output_type": "stream",
     "text": [
      "Epoch: 13 | Train loss: 0.7531 | Train acc: 0.7299 | Test loss: 1.0001 | Test acc: 0.6283 |  F1 score: 0.6282   \n"
     ]
    },
    {
     "name": "stderr",
     "output_type": "stream",
     "text": [
      " 12%|█▎        | 15/120 [15:37<1:49:19, 62.47s/it]"
     ]
    },
    {
     "name": "stdout",
     "output_type": "stream",
     "text": [
      "Epoch: 14 | Train loss: 0.7407 | Train acc: 0.7433 | Test loss: 1.0715 | Test acc: 0.6013 |  F1 score: 0.6227   \n"
     ]
    },
    {
     "name": "stderr",
     "output_type": "stream",
     "text": [
      " 13%|█▎        | 16/120 [16:39<1:48:23, 62.53s/it]"
     ]
    },
    {
     "name": "stdout",
     "output_type": "stream",
     "text": [
      "Epoch: 15 | Train loss: 0.7310 | Train acc: 0.7365 | Test loss: 0.8693 | Test acc: 0.6919 |  F1 score: 0.6606   \n"
     ]
    },
    {
     "name": "stderr",
     "output_type": "stream",
     "text": [
      " 14%|█▍        | 17/120 [17:42<1:47:20, 62.53s/it]"
     ]
    },
    {
     "name": "stdout",
     "output_type": "stream",
     "text": [
      "Epoch: 16 | Train loss: 0.7196 | Train acc: 0.7427 | Test loss: 0.8634 | Test acc: 0.6901 |  F1 score: 0.6540   \n"
     ]
    },
    {
     "name": "stderr",
     "output_type": "stream",
     "text": [
      " 15%|█▌        | 18/120 [18:45<1:46:28, 62.63s/it]"
     ]
    },
    {
     "name": "stdout",
     "output_type": "stream",
     "text": [
      "Epoch: 17 | Train loss: 0.7191 | Train acc: 0.7433 | Test loss: 0.8004 | Test acc: 0.7133 |  F1 score: 0.6523   \n"
     ]
    },
    {
     "name": "stderr",
     "output_type": "stream",
     "text": [
      " 16%|█▌        | 19/120 [19:47<1:45:13, 62.51s/it]"
     ]
    },
    {
     "name": "stdout",
     "output_type": "stream",
     "text": [
      "Epoch: 18 | Train loss: 0.7113 | Train acc: 0.7408 | Test loss: 0.7715 | Test acc: 0.7331 |  F1 score: 0.6819   \n"
     ]
    },
    {
     "name": "stderr",
     "output_type": "stream",
     "text": [
      " 17%|█▋        | 20/120 [20:50<1:44:16, 62.56s/it]"
     ]
    },
    {
     "name": "stdout",
     "output_type": "stream",
     "text": [
      "Epoch: 19 | Train loss: 0.6998 | Train acc: 0.7516 | Test loss: 0.7590 | Test acc: 0.7354 |  F1 score: 0.6851   \n"
     ]
    },
    {
     "name": "stderr",
     "output_type": "stream",
     "text": [
      " 18%|█▊        | 21/120 [21:52<1:42:58, 62.41s/it]"
     ]
    },
    {
     "name": "stdout",
     "output_type": "stream",
     "text": [
      "Epoch: 20 | Train loss: 0.6934 | Train acc: 0.7512 | Test loss: 1.1049 | Test acc: 0.6086 |  F1 score: 0.6213   \n"
     ]
    },
    {
     "name": "stderr",
     "output_type": "stream",
     "text": [
      " 18%|█▊        | 22/120 [22:54<1:42:00, 62.46s/it]"
     ]
    },
    {
     "name": "stdout",
     "output_type": "stream",
     "text": [
      "Epoch: 21 | Train loss: 0.6829 | Train acc: 0.7555 | Test loss: 0.8349 | Test acc: 0.7160 |  F1 score: 0.6394   \n"
     ]
    },
    {
     "name": "stderr",
     "output_type": "stream",
     "text": [
      " 19%|█▉        | 23/120 [23:56<1:40:51, 62.39s/it]"
     ]
    },
    {
     "name": "stdout",
     "output_type": "stream",
     "text": [
      "Epoch: 22 | Train loss: 0.6825 | Train acc: 0.7539 | Test loss: 4.2133 | Test acc: 0.1525 |  F1 score: 0.0896   \n"
     ]
    },
    {
     "name": "stderr",
     "output_type": "stream",
     "text": [
      " 20%|██        | 24/120 [24:58<1:39:24, 62.13s/it]"
     ]
    },
    {
     "name": "stdout",
     "output_type": "stream",
     "text": [
      "Epoch: 23 | Train loss: 0.6750 | Train acc: 0.7614 | Test loss: 1.0388 | Test acc: 0.6926 |  F1 score: 0.5875   \n"
     ]
    },
    {
     "name": "stderr",
     "output_type": "stream",
     "text": [
      " 21%|██        | 25/120 [26:00<1:38:20, 62.11s/it]"
     ]
    },
    {
     "name": "stdout",
     "output_type": "stream",
     "text": [
      "Epoch: 24 | Train loss: 0.6665 | Train acc: 0.7573 | Test loss: 0.9140 | Test acc: 0.7054 |  F1 score: 0.6149   \n"
     ]
    },
    {
     "name": "stderr",
     "output_type": "stream",
     "text": [
      " 22%|██▏       | 26/120 [27:02<1:37:27, 62.21s/it]"
     ]
    },
    {
     "name": "stdout",
     "output_type": "stream",
     "text": [
      "Epoch: 25 | Train loss: 0.6627 | Train acc: 0.7640 | Test loss: 3.5391 | Test acc: 0.1844 |  F1 score: 0.1436   \n"
     ]
    },
    {
     "name": "stderr",
     "output_type": "stream",
     "text": [
      " 22%|██▎       | 27/120 [28:05<1:36:48, 62.46s/it]"
     ]
    },
    {
     "name": "stdout",
     "output_type": "stream",
     "text": [
      "Epoch: 26 | Train loss: 0.6561 | Train acc: 0.7642 | Test loss: 1.0530 | Test acc: 0.6562 |  F1 score: 0.6710   \n"
     ]
    },
    {
     "name": "stderr",
     "output_type": "stream",
     "text": [
      " 23%|██▎       | 28/120 [29:08<1:35:56, 62.57s/it]"
     ]
    },
    {
     "name": "stdout",
     "output_type": "stream",
     "text": [
      "Epoch: 27 | Train loss: 0.6511 | Train acc: 0.7653 | Test loss: 2.6946 | Test acc: 0.2187 |  F1 score: 0.1977   \n"
     ]
    },
    {
     "name": "stderr",
     "output_type": "stream",
     "text": [
      " 24%|██▍       | 29/120 [30:11<1:34:56, 62.60s/it]"
     ]
    },
    {
     "name": "stdout",
     "output_type": "stream",
     "text": [
      "Epoch: 28 | Train loss: 0.6500 | Train acc: 0.7681 | Test loss: 1.1295 | Test acc: 0.5957 |  F1 score: 0.6328   \n"
     ]
    },
    {
     "name": "stderr",
     "output_type": "stream",
     "text": [
      " 25%|██▌       | 30/120 [31:14<1:34:01, 62.68s/it]"
     ]
    },
    {
     "name": "stdout",
     "output_type": "stream",
     "text": [
      "Epoch: 29 | Train loss: 0.6386 | Train acc: 0.7765 | Test loss: 0.8604 | Test acc: 0.7039 |  F1 score: 0.6367   \n"
     ]
    },
    {
     "name": "stderr",
     "output_type": "stream",
     "text": [
      " 26%|██▌       | 31/120 [32:17<1:33:07, 62.78s/it]"
     ]
    },
    {
     "name": "stdout",
     "output_type": "stream",
     "text": [
      "Epoch: 30 | Train loss: 0.6318 | Train acc: 0.7749 | Test loss: 0.8213 | Test acc: 0.7226 |  F1 score: 0.6474   \n"
     ]
    },
    {
     "name": "stderr",
     "output_type": "stream",
     "text": [
      " 27%|██▋       | 32/120 [33:20<1:32:09, 62.84s/it]"
     ]
    },
    {
     "name": "stdout",
     "output_type": "stream",
     "text": [
      "Epoch: 31 | Train loss: 0.6328 | Train acc: 0.7740 | Test loss: 0.8111 | Test acc: 0.7162 |  F1 score: 0.6538   \n"
     ]
    },
    {
     "name": "stderr",
     "output_type": "stream",
     "text": [
      " 28%|██▊       | 33/120 [34:22<1:30:54, 62.69s/it]"
     ]
    },
    {
     "name": "stdout",
     "output_type": "stream",
     "text": [
      "Epoch: 32 | Train loss: 0.6189 | Train acc: 0.7782 | Test loss: 0.9141 | Test acc: 0.7105 |  F1 score: 0.6208   \n"
     ]
    },
    {
     "name": "stderr",
     "output_type": "stream",
     "text": [
      " 28%|██▊       | 34/120 [35:24<1:29:36, 62.51s/it]"
     ]
    },
    {
     "name": "stdout",
     "output_type": "stream",
     "text": [
      "Epoch: 33 | Train loss: 0.6149 | Train acc: 0.7827 | Test loss: 0.7768 | Test acc: 0.7286 |  F1 score: 0.6867   \n"
     ]
    },
    {
     "name": "stderr",
     "output_type": "stream",
     "text": [
      " 29%|██▉       | 35/120 [36:27<1:28:34, 62.52s/it]"
     ]
    },
    {
     "name": "stdout",
     "output_type": "stream",
     "text": [
      "Epoch: 34 | Train loss: 0.6051 | Train acc: 0.7811 | Test loss: 1.0617 | Test acc: 0.6174 |  F1 score: 0.6422   \n"
     ]
    },
    {
     "name": "stderr",
     "output_type": "stream",
     "text": [
      " 30%|███       | 36/120 [37:29<1:27:24, 62.44s/it]"
     ]
    },
    {
     "name": "stdout",
     "output_type": "stream",
     "text": [
      "Epoch: 35 | Train loss: 0.5991 | Train acc: 0.7825 | Test loss: 2.8117 | Test acc: 0.2180 |  F1 score: 0.1947   \n"
     ]
    },
    {
     "name": "stderr",
     "output_type": "stream",
     "text": [
      " 31%|███       | 37/120 [38:32<1:26:28, 62.51s/it]"
     ]
    },
    {
     "name": "stdout",
     "output_type": "stream",
     "text": [
      "Epoch: 36 | Train loss: 0.6015 | Train acc: 0.7843 | Test loss: 1.8059 | Test acc: 0.4367 |  F1 score: 0.4994   \n"
     ]
    },
    {
     "name": "stderr",
     "output_type": "stream",
     "text": [
      " 32%|███▏      | 38/120 [39:34<1:25:26, 62.52s/it]"
     ]
    },
    {
     "name": "stdout",
     "output_type": "stream",
     "text": [
      "Epoch: 37 | Train loss: 0.5937 | Train acc: 0.7887 | Test loss: 0.8371 | Test acc: 0.7066 |  F1 score: 0.6662   \n"
     ]
    },
    {
     "name": "stderr",
     "output_type": "stream",
     "text": [
      " 32%|███▎      | 39/120 [40:37<1:24:32, 62.62s/it]"
     ]
    },
    {
     "name": "stdout",
     "output_type": "stream",
     "text": [
      "Epoch: 38 | Train loss: 0.5861 | Train acc: 0.7884 | Test loss: 0.9469 | Test acc: 0.7029 |  F1 score: 0.6209   \n"
     ]
    },
    {
     "name": "stderr",
     "output_type": "stream",
     "text": [
      " 33%|███▎      | 40/120 [41:39<1:23:24, 62.55s/it]"
     ]
    },
    {
     "name": "stdout",
     "output_type": "stream",
     "text": [
      "Epoch: 39 | Train loss: 0.5796 | Train acc: 0.7903 | Test loss: 1.4841 | Test acc: 0.6841 |  F1 score: 0.5636   \n"
     ]
    },
    {
     "name": "stderr",
     "output_type": "stream",
     "text": [
      " 34%|███▍      | 41/120 [42:42<1:22:17, 62.50s/it]"
     ]
    },
    {
     "name": "stdout",
     "output_type": "stream",
     "text": [
      "Epoch: 40 | Train loss: 0.5676 | Train acc: 0.7940 | Test loss: 0.8748 | Test acc: 0.7112 |  F1 score: 0.6263   \n"
     ]
    },
    {
     "name": "stderr",
     "output_type": "stream",
     "text": [
      " 35%|███▌      | 42/120 [43:44<1:21:10, 62.44s/it]"
     ]
    },
    {
     "name": "stdout",
     "output_type": "stream",
     "text": [
      "Epoch: 41 | Train loss: 0.5684 | Train acc: 0.7965 | Test loss: 0.8716 | Test acc: 0.6949 |  F1 score: 0.6953   \n"
     ]
    },
    {
     "name": "stderr",
     "output_type": "stream",
     "text": [
      " 36%|███▌      | 43/120 [44:47<1:20:18, 62.57s/it]"
     ]
    },
    {
     "name": "stdout",
     "output_type": "stream",
     "text": [
      "Epoch: 42 | Train loss: 0.5556 | Train acc: 0.8031 | Test loss: 1.0110 | Test acc: 0.7073 |  F1 score: 0.6294   \n"
     ]
    },
    {
     "name": "stderr",
     "output_type": "stream",
     "text": [
      " 37%|███▋      | 44/120 [45:50<1:19:17, 62.60s/it]"
     ]
    },
    {
     "name": "stdout",
     "output_type": "stream",
     "text": [
      "Epoch: 43 | Train loss: 0.5448 | Train acc: 0.8056 | Test loss: 0.8553 | Test acc: 0.7103 |  F1 score: 0.6688   \n"
     ]
    },
    {
     "name": "stderr",
     "output_type": "stream",
     "text": [
      " 38%|███▊      | 45/120 [46:52<1:18:13, 62.58s/it]"
     ]
    },
    {
     "name": "stdout",
     "output_type": "stream",
     "text": [
      "Epoch: 44 | Train loss: 0.5388 | Train acc: 0.8104 | Test loss: 7.6646 | Test acc: 0.1212 |  F1 score: 0.0320   \n"
     ]
    },
    {
     "name": "stderr",
     "output_type": "stream",
     "text": [
      " 38%|███▊      | 46/120 [47:55<1:17:19, 62.70s/it]"
     ]
    },
    {
     "name": "stdout",
     "output_type": "stream",
     "text": [
      "Epoch: 45 | Train loss: 0.5331 | Train acc: 0.8084 | Test loss: 0.9830 | Test acc: 0.6660 |  F1 score: 0.6588   \n"
     ]
    },
    {
     "name": "stderr",
     "output_type": "stream",
     "text": [
      " 39%|███▉      | 47/120 [48:58<1:16:20, 62.75s/it]"
     ]
    },
    {
     "name": "stdout",
     "output_type": "stream",
     "text": [
      "Epoch: 46 | Train loss: 0.5248 | Train acc: 0.8150 | Test loss: 0.8196 | Test acc: 0.7137 |  F1 score: 0.6776   \n"
     ]
    },
    {
     "name": "stderr",
     "output_type": "stream",
     "text": [
      " 40%|████      | 48/120 [50:01<1:15:21, 62.80s/it]"
     ]
    },
    {
     "name": "stdout",
     "output_type": "stream",
     "text": [
      "Epoch: 47 | Train loss: 0.5179 | Train acc: 0.8178 | Test loss: 1.3432 | Test acc: 0.6841 |  F1 score: 0.5601   \n"
     ]
    },
    {
     "name": "stderr",
     "output_type": "stream",
     "text": [
      " 41%|████      | 49/120 [51:04<1:14:17, 62.78s/it]"
     ]
    },
    {
     "name": "stdout",
     "output_type": "stream",
     "text": [
      "Epoch: 48 | Train loss: 0.5095 | Train acc: 0.8191 | Test loss: 1.6351 | Test acc: 0.6883 |  F1 score: 0.5698   \n"
     ]
    },
    {
     "name": "stderr",
     "output_type": "stream",
     "text": [
      " 42%|████▏     | 50/120 [52:06<1:13:09, 62.71s/it]"
     ]
    },
    {
     "name": "stdout",
     "output_type": "stream",
     "text": [
      "Epoch: 49 | Train loss: 0.5082 | Train acc: 0.8246 | Test loss: 1.3365 | Test acc: 0.5668 |  F1 score: 0.6136   \n"
     ]
    },
    {
     "name": "stderr",
     "output_type": "stream",
     "text": [
      " 42%|████▎     | 51/120 [53:08<1:11:56, 62.56s/it]"
     ]
    },
    {
     "name": "stdout",
     "output_type": "stream",
     "text": [
      "Epoch: 50 | Train loss: 0.4962 | Train acc: 0.8232 | Test loss: 0.8341 | Test acc: 0.7290 |  F1 score: 0.6833   \n"
     ]
    },
    {
     "name": "stderr",
     "output_type": "stream",
     "text": [
      " 43%|████▎     | 52/120 [54:11<1:10:52, 62.54s/it]"
     ]
    },
    {
     "name": "stdout",
     "output_type": "stream",
     "text": [
      "Epoch: 51 | Train loss: 0.4867 | Train acc: 0.8311 | Test loss: 0.8421 | Test acc: 0.7421 |  F1 score: 0.6763   \n"
     ]
    },
    {
     "name": "stderr",
     "output_type": "stream",
     "text": [
      " 44%|████▍     | 53/120 [55:14<1:09:53, 62.59s/it]"
     ]
    },
    {
     "name": "stdout",
     "output_type": "stream",
     "text": [
      "Epoch: 52 | Train loss: 0.4839 | Train acc: 0.8335 | Test loss: 0.9195 | Test acc: 0.6702 |  F1 score: 0.6962   \n"
     ]
    },
    {
     "name": "stderr",
     "output_type": "stream",
     "text": [
      " 45%|████▌     | 54/120 [56:16<1:08:53, 62.63s/it]"
     ]
    },
    {
     "name": "stdout",
     "output_type": "stream",
     "text": [
      "Epoch: 53 | Train loss: 0.4687 | Train acc: 0.8395 | Test loss: 0.7968 | Test acc: 0.7041 |  F1 score: 0.6938   \n"
     ]
    },
    {
     "name": "stderr",
     "output_type": "stream",
     "text": [
      " 46%|████▌     | 55/120 [57:19<1:07:41, 62.48s/it]"
     ]
    },
    {
     "name": "stdout",
     "output_type": "stream",
     "text": [
      "Epoch: 54 | Train loss: 0.4594 | Train acc: 0.8418 | Test loss: 4.8287 | Test acc: 0.2197 |  F1 score: 0.2138   \n"
     ]
    },
    {
     "name": "stderr",
     "output_type": "stream",
     "text": [
      " 47%|████▋     | 56/120 [58:21<1:06:36, 62.44s/it]"
     ]
    },
    {
     "name": "stdout",
     "output_type": "stream",
     "text": [
      "Epoch: 55 | Train loss: 0.4470 | Train acc: 0.8516 | Test loss: 1.9094 | Test acc: 0.4569 |  F1 score: 0.5149   \n"
     ]
    },
    {
     "name": "stderr",
     "output_type": "stream",
     "text": [
      " 48%|████▊     | 57/120 [59:23<1:05:36, 62.48s/it]"
     ]
    },
    {
     "name": "stdout",
     "output_type": "stream",
     "text": [
      "Epoch: 56 | Train loss: 0.4380 | Train acc: 0.8494 | Test loss: 1.5683 | Test acc: 0.5273 |  F1 score: 0.5767   \n"
     ]
    },
    {
     "name": "stderr",
     "output_type": "stream",
     "text": [
      " 48%|████▊     | 58/120 [1:00:26<1:04:33, 62.47s/it]"
     ]
    },
    {
     "name": "stdout",
     "output_type": "stream",
     "text": [
      "Epoch: 57 | Train loss: 0.4461 | Train acc: 0.8478 | Test loss: 0.8600 | Test acc: 0.7155 |  F1 score: 0.6969   \n"
     ]
    },
    {
     "name": "stderr",
     "output_type": "stream",
     "text": [
      " 49%|████▉     | 59/120 [1:01:28<1:03:22, 62.33s/it]"
     ]
    },
    {
     "name": "stdout",
     "output_type": "stream",
     "text": [
      "Epoch: 58 | Train loss: 0.4156 | Train acc: 0.8601 | Test loss: 0.8247 | Test acc: 0.7162 |  F1 score: 0.6952   \n"
     ]
    },
    {
     "name": "stderr",
     "output_type": "stream",
     "text": [
      " 50%|█████     | 60/120 [1:02:30<1:02:08, 62.15s/it]"
     ]
    },
    {
     "name": "stdout",
     "output_type": "stream",
     "text": [
      "Epoch: 59 | Train loss: 0.4134 | Train acc: 0.8556 | Test loss: 6.3909 | Test acc: 0.1560 |  F1 score: 0.0959   \n"
     ]
    },
    {
     "name": "stderr",
     "output_type": "stream",
     "text": [
      " 51%|█████     | 61/120 [1:03:32<1:01:12, 62.24s/it]"
     ]
    },
    {
     "name": "stdout",
     "output_type": "stream",
     "text": [
      "Epoch: 60 | Train loss: 0.4134 | Train acc: 0.8587 | Test loss: 1.2295 | Test acc: 0.5909 |  F1 score: 0.6243   \n"
     ]
    },
    {
     "name": "stderr",
     "output_type": "stream",
     "text": [
      " 52%|█████▏    | 62/120 [1:04:35<1:00:14, 62.32s/it]"
     ]
    },
    {
     "name": "stdout",
     "output_type": "stream",
     "text": [
      "Epoch: 61 | Train loss: 0.3948 | Train acc: 0.8704 | Test loss: 0.8984 | Test acc: 0.6741 |  F1 score: 0.6776   \n"
     ]
    },
    {
     "name": "stderr",
     "output_type": "stream",
     "text": [
      " 52%|█████▎    | 63/120 [1:05:37<59:12, 62.33s/it]  "
     ]
    },
    {
     "name": "stdout",
     "output_type": "stream",
     "text": [
      "Epoch: 62 | Train loss: 0.3861 | Train acc: 0.8713 | Test loss: 0.8296 | Test acc: 0.7107 |  F1 score: 0.6985   \n"
     ]
    },
    {
     "name": "stderr",
     "output_type": "stream",
     "text": [
      " 53%|█████▎    | 64/120 [1:06:39<57:59, 62.14s/it]"
     ]
    },
    {
     "name": "stdout",
     "output_type": "stream",
     "text": [
      "Epoch: 63 | Train loss: 0.3741 | Train acc: 0.8761 | Test loss: 0.8377 | Test acc: 0.7331 |  F1 score: 0.6932   \n"
     ]
    },
    {
     "name": "stderr",
     "output_type": "stream",
     "text": [
      " 54%|█████▍    | 65/120 [1:07:41<56:58, 62.15s/it]"
     ]
    },
    {
     "name": "stdout",
     "output_type": "stream",
     "text": [
      "Epoch: 64 | Train loss: 0.3620 | Train acc: 0.8826 | Test loss: 1.1625 | Test acc: 0.6856 |  F1 score: 0.6318   \n"
     ]
    },
    {
     "name": "stderr",
     "output_type": "stream",
     "text": [
      " 55%|█████▌    | 66/120 [1:08:43<56:00, 62.23s/it]"
     ]
    },
    {
     "name": "stdout",
     "output_type": "stream",
     "text": [
      "Epoch: 65 | Train loss: 0.3544 | Train acc: 0.8800 | Test loss: 2.3263 | Test acc: 0.3046 |  F1 score: 0.3297   \n"
     ]
    },
    {
     "name": "stderr",
     "output_type": "stream",
     "text": [
      " 56%|█████▌    | 67/120 [1:09:45<54:56, 62.20s/it]"
     ]
    },
    {
     "name": "stdout",
     "output_type": "stream",
     "text": [
      "Epoch: 66 | Train loss: 0.3410 | Train acc: 0.8867 | Test loss: 1.0973 | Test acc: 0.6434 |  F1 score: 0.6559   \n"
     ]
    },
    {
     "name": "stderr",
     "output_type": "stream",
     "text": [
      " 57%|█████▋    | 68/120 [1:10:48<54:07, 62.46s/it]"
     ]
    },
    {
     "name": "stdout",
     "output_type": "stream",
     "text": [
      "Epoch: 67 | Train loss: 0.3467 | Train acc: 0.8867 | Test loss: 1.6925 | Test acc: 0.5440 |  F1 score: 0.5958   \n"
     ]
    },
    {
     "name": "stderr",
     "output_type": "stream",
     "text": [
      " 57%|█████▊    | 69/120 [1:11:51<53:10, 62.57s/it]"
     ]
    },
    {
     "name": "stdout",
     "output_type": "stream",
     "text": [
      "Epoch: 68 | Train loss: 0.3214 | Train acc: 0.8961 | Test loss: 2.4879 | Test acc: 0.4612 |  F1 score: 0.5052   \n"
     ]
    },
    {
     "name": "stderr",
     "output_type": "stream",
     "text": [
      " 58%|█████▊    | 70/120 [1:12:53<52:00, 62.41s/it]"
     ]
    },
    {
     "name": "stdout",
     "output_type": "stream",
     "text": [
      "Epoch: 69 | Train loss: 0.3239 | Train acc: 0.8938 | Test loss: 0.8647 | Test acc: 0.7098 |  F1 score: 0.7089   \n"
     ]
    },
    {
     "name": "stderr",
     "output_type": "stream",
     "text": [
      " 59%|█████▉    | 71/120 [1:13:56<50:58, 62.43s/it]"
     ]
    },
    {
     "name": "stdout",
     "output_type": "stream",
     "text": [
      "Epoch: 70 | Train loss: 0.3044 | Train acc: 0.9034 | Test loss: 0.9636 | Test acc: 0.7233 |  F1 score: 0.6777   \n"
     ]
    },
    {
     "name": "stderr",
     "output_type": "stream",
     "text": [
      " 60%|██████    | 72/120 [1:14:58<49:54, 62.38s/it]"
     ]
    },
    {
     "name": "stdout",
     "output_type": "stream",
     "text": [
      "Epoch: 71 | Train loss: 0.2948 | Train acc: 0.9071 | Test loss: 1.1336 | Test acc: 0.6924 |  F1 score: 0.6511   \n"
     ]
    },
    {
     "name": "stderr",
     "output_type": "stream",
     "text": [
      " 61%|██████    | 73/120 [1:16:01<49:00, 62.57s/it]"
     ]
    },
    {
     "name": "stdout",
     "output_type": "stream",
     "text": [
      "Epoch: 72 | Train loss: 0.2974 | Train acc: 0.9073 | Test loss: 1.3050 | Test acc: 0.7052 |  F1 score: 0.6486   \n"
     ]
    },
    {
     "name": "stderr",
     "output_type": "stream",
     "text": [
      " 62%|██████▏   | 74/120 [1:17:03<47:51, 62.43s/it]"
     ]
    },
    {
     "name": "stdout",
     "output_type": "stream",
     "text": [
      "Epoch: 73 | Train loss: 0.2883 | Train acc: 0.9050 | Test loss: 0.7795 | Test acc: 0.7439 |  F1 score: 0.7306   \n"
     ]
    },
    {
     "name": "stderr",
     "output_type": "stream",
     "text": [
      " 62%|██████▎   | 75/120 [1:18:06<46:53, 62.52s/it]"
     ]
    },
    {
     "name": "stdout",
     "output_type": "stream",
     "text": [
      "Epoch: 74 | Train loss: 0.2777 | Train acc: 0.9103 | Test loss: 1.0993 | Test acc: 0.6570 |  F1 score: 0.6732   \n"
     ]
    },
    {
     "name": "stderr",
     "output_type": "stream",
     "text": [
      " 63%|██████▎   | 76/120 [1:19:09<45:57, 62.67s/it]"
     ]
    },
    {
     "name": "stdout",
     "output_type": "stream",
     "text": [
      "Epoch: 75 | Train loss: 0.2748 | Train acc: 0.9150 | Test loss: 1.0190 | Test acc: 0.6770 |  F1 score: 0.6867   \n"
     ]
    },
    {
     "name": "stderr",
     "output_type": "stream",
     "text": [
      " 64%|██████▍   | 77/120 [1:20:11<44:50, 62.58s/it]"
     ]
    },
    {
     "name": "stdout",
     "output_type": "stream",
     "text": [
      "Epoch: 76 | Train loss: 0.2547 | Train acc: 0.9242 | Test loss: 0.9943 | Test acc: 0.6993 |  F1 score: 0.6799   \n"
     ]
    },
    {
     "name": "stderr",
     "output_type": "stream",
     "text": [
      " 65%|██████▌   | 78/120 [1:21:13<43:36, 62.31s/it]"
     ]
    },
    {
     "name": "stdout",
     "output_type": "stream",
     "text": [
      "Epoch: 77 | Train loss: 0.2544 | Train acc: 0.9194 | Test loss: 0.8463 | Test acc: 0.7325 |  F1 score: 0.7180   \n"
     ]
    },
    {
     "name": "stderr",
     "output_type": "stream",
     "text": [
      " 66%|██████▌   | 79/120 [1:22:14<42:25, 62.08s/it]"
     ]
    },
    {
     "name": "stdout",
     "output_type": "stream",
     "text": [
      "Epoch: 78 | Train loss: 0.2402 | Train acc: 0.9263 | Test loss: 1.6007 | Test acc: 0.6849 |  F1 score: 0.6021   \n"
     ]
    },
    {
     "name": "stderr",
     "output_type": "stream",
     "text": [
      " 67%|██████▋   | 80/120 [1:23:17<41:31, 62.28s/it]"
     ]
    },
    {
     "name": "stdout",
     "output_type": "stream",
     "text": [
      "Epoch: 79 | Train loss: 0.2392 | Train acc: 0.9244 | Test loss: 1.1573 | Test acc: 0.6214 |  F1 score: 0.6495   \n"
     ]
    },
    {
     "name": "stderr",
     "output_type": "stream",
     "text": [
      " 68%|██████▊   | 81/120 [1:24:19<40:24, 62.16s/it]"
     ]
    },
    {
     "name": "stdout",
     "output_type": "stream",
     "text": [
      "Epoch: 80 | Train loss: 0.2339 | Train acc: 0.9290 | Test loss: 1.8856 | Test acc: 0.5468 |  F1 score: 0.5888   \n"
     ]
    },
    {
     "name": "stderr",
     "output_type": "stream",
     "text": [
      " 68%|██████▊   | 82/120 [1:25:21<39:19, 62.10s/it]"
     ]
    },
    {
     "name": "stdout",
     "output_type": "stream",
     "text": [
      "Epoch: 81 | Train loss: 0.2333 | Train acc: 0.9302 | Test loss: 1.6493 | Test acc: 0.5980 |  F1 score: 0.6053   \n"
     ]
    },
    {
     "name": "stderr",
     "output_type": "stream",
     "text": [
      " 69%|██████▉   | 83/120 [1:26:23<38:17, 62.10s/it]"
     ]
    },
    {
     "name": "stdout",
     "output_type": "stream",
     "text": [
      "Epoch: 82 | Train loss: 0.2310 | Train acc: 0.9313 | Test loss: 24.1105 | Test acc: 0.1212 |  F1 score: 0.0375   \n"
     ]
    },
    {
     "name": "stderr",
     "output_type": "stream",
     "text": [
      " 70%|███████   | 84/120 [1:27:26<37:20, 62.23s/it]"
     ]
    },
    {
     "name": "stdout",
     "output_type": "stream",
     "text": [
      "Epoch: 83 | Train loss: 0.2162 | Train acc: 0.9370 | Test loss: 1.1497 | Test acc: 0.7307 |  F1 score: 0.6695   \n"
     ]
    },
    {
     "name": "stderr",
     "output_type": "stream",
     "text": [
      " 71%|███████   | 85/120 [1:28:28<36:18, 62.25s/it]"
     ]
    },
    {
     "name": "stdout",
     "output_type": "stream",
     "text": [
      "Epoch: 84 | Train loss: 0.2024 | Train acc: 0.9409 | Test loss: 1.0558 | Test acc: 0.6777 |  F1 score: 0.6711   \n"
     ]
    },
    {
     "name": "stderr",
     "output_type": "stream",
     "text": [
      " 72%|███████▏  | 86/120 [1:29:30<35:14, 62.20s/it]"
     ]
    },
    {
     "name": "stdout",
     "output_type": "stream",
     "text": [
      "Epoch: 85 | Train loss: 0.2029 | Train acc: 0.9384 | Test loss: 2.8351 | Test acc: 0.3896 |  F1 score: 0.4367   \n"
     ]
    },
    {
     "name": "stderr",
     "output_type": "stream",
     "text": [
      " 72%|███████▎  | 87/120 [1:30:32<34:13, 62.22s/it]"
     ]
    },
    {
     "name": "stdout",
     "output_type": "stream",
     "text": [
      "Epoch: 86 | Train loss: 0.2022 | Train acc: 0.9402 | Test loss: 0.9838 | Test acc: 0.7098 |  F1 score: 0.6892   \n"
     ]
    },
    {
     "name": "stderr",
     "output_type": "stream",
     "text": [
      " 73%|███████▎  | 88/120 [1:31:35<33:12, 62.27s/it]"
     ]
    },
    {
     "name": "stdout",
     "output_type": "stream",
     "text": [
      "Epoch: 87 | Train loss: 0.1783 | Train acc: 0.9482 | Test loss: 0.9014 | Test acc: 0.7373 |  F1 score: 0.7290   \n"
     ]
    },
    {
     "name": "stderr",
     "output_type": "stream",
     "text": [
      " 74%|███████▍  | 89/120 [1:32:37<32:08, 62.22s/it]"
     ]
    },
    {
     "name": "stdout",
     "output_type": "stream",
     "text": [
      "Epoch: 88 | Train loss: 0.1756 | Train acc: 0.9515 | Test loss: 1.2495 | Test acc: 0.6788 |  F1 score: 0.6908   \n"
     ]
    },
    {
     "name": "stderr",
     "output_type": "stream",
     "text": [
      " 75%|███████▌  | 90/120 [1:33:39<31:05, 62.17s/it]"
     ]
    },
    {
     "name": "stdout",
     "output_type": "stream",
     "text": [
      "Epoch: 89 | Train loss: 0.1764 | Train acc: 0.9485 | Test loss: 6.4468 | Test acc: 0.1743 |  F1 score: 0.1359   \n"
     ]
    },
    {
     "name": "stderr",
     "output_type": "stream",
     "text": [
      " 76%|███████▌  | 91/120 [1:34:41<30:03, 62.18s/it]"
     ]
    },
    {
     "name": "stdout",
     "output_type": "stream",
     "text": [
      "Epoch: 90 | Train loss: 0.1638 | Train acc: 0.9508 | Test loss: 10.7207 | Test acc: 0.1704 |  F1 score: 0.1263   \n"
     ]
    },
    {
     "name": "stderr",
     "output_type": "stream",
     "text": [
      " 77%|███████▋  | 92/120 [1:35:44<29:06, 62.37s/it]"
     ]
    },
    {
     "name": "stdout",
     "output_type": "stream",
     "text": [
      "Epoch: 91 | Train loss: 0.1687 | Train acc: 0.9524 | Test loss: 1.6198 | Test acc: 0.6959 |  F1 score: 0.6140   \n"
     ]
    },
    {
     "name": "stderr",
     "output_type": "stream",
     "text": [
      " 78%|███████▊  | 93/120 [1:36:47<28:07, 62.50s/it]"
     ]
    },
    {
     "name": "stdout",
     "output_type": "stream",
     "text": [
      "Epoch: 92 | Train loss: 0.1597 | Train acc: 0.9565 | Test loss: 1.4525 | Test acc: 0.6252 |  F1 score: 0.6374   \n"
     ]
    },
    {
     "name": "stderr",
     "output_type": "stream",
     "text": [
      " 78%|███████▊  | 94/120 [1:37:50<27:07, 62.60s/it]"
     ]
    },
    {
     "name": "stdout",
     "output_type": "stream",
     "text": [
      "Epoch: 93 | Train loss: 0.1483 | Train acc: 0.9581 | Test loss: 1.0423 | Test acc: 0.7339 |  F1 score: 0.7025   \n"
     ]
    },
    {
     "name": "stderr",
     "output_type": "stream",
     "text": [
      " 79%|███████▉  | 95/120 [1:38:52<26:05, 62.62s/it]"
     ]
    },
    {
     "name": "stdout",
     "output_type": "stream",
     "text": [
      "Epoch: 94 | Train loss: 0.1449 | Train acc: 0.9640 | Test loss: 2.6182 | Test acc: 0.6855 |  F1 score: 0.5764   \n"
     ]
    },
    {
     "name": "stderr",
     "output_type": "stream",
     "text": [
      " 80%|████████  | 96/120 [1:39:55<25:01, 62.57s/it]"
     ]
    },
    {
     "name": "stdout",
     "output_type": "stream",
     "text": [
      "Epoch: 95 | Train loss: 0.1568 | Train acc: 0.9528 | Test loss: 2.0618 | Test acc: 0.5911 |  F1 score: 0.5989   \n"
     ]
    },
    {
     "name": "stderr",
     "output_type": "stream",
     "text": [
      " 81%|████████  | 97/120 [1:40:58<24:02, 62.71s/it]"
     ]
    },
    {
     "name": "stdout",
     "output_type": "stream",
     "text": [
      "Epoch: 96 | Train loss: 0.1416 | Train acc: 0.9624 | Test loss: 1.2892 | Test acc: 0.7059 |  F1 score: 0.6517   \n"
     ]
    },
    {
     "name": "stderr",
     "output_type": "stream",
     "text": [
      " 82%|████████▏ | 98/120 [1:42:00<22:57, 62.63s/it]"
     ]
    },
    {
     "name": "stdout",
     "output_type": "stream",
     "text": [
      "Epoch: 97 | Train loss: 0.1366 | Train acc: 0.9606 | Test loss: 1.1647 | Test acc: 0.6800 |  F1 score: 0.7002   \n"
     ]
    },
    {
     "name": "stderr",
     "output_type": "stream",
     "text": [
      " 82%|████████▎ | 99/120 [1:43:02<21:49, 62.37s/it]"
     ]
    },
    {
     "name": "stdout",
     "output_type": "stream",
     "text": [
      "Epoch: 98 | Train loss: 0.1315 | Train acc: 0.9664 | Test loss: 3.2353 | Test acc: 0.4679 |  F1 score: 0.5262   \n"
     ]
    },
    {
     "name": "stderr",
     "output_type": "stream",
     "text": [
      " 83%|████████▎ | 100/120 [1:44:04<20:48, 62.42s/it]"
     ]
    },
    {
     "name": "stdout",
     "output_type": "stream",
     "text": [
      "Epoch: 99 | Train loss: 0.1350 | Train acc: 0.9659 | Test loss: 2.6900 | Test acc: 0.5270 |  F1 score: 0.5367   \n"
     ]
    },
    {
     "name": "stderr",
     "output_type": "stream",
     "text": [
      " 84%|████████▍ | 101/120 [1:45:07<19:45, 62.41s/it]"
     ]
    },
    {
     "name": "stdout",
     "output_type": "stream",
     "text": [
      "Epoch: 100 | Train loss: 0.1395 | Train acc: 0.9615 | Test loss: 2.7757 | Test acc: 0.6899 |  F1 score: 0.6096   \n"
     ]
    },
    {
     "name": "stderr",
     "output_type": "stream",
     "text": [
      " 85%|████████▌ | 102/120 [1:46:09<18:39, 62.21s/it]"
     ]
    },
    {
     "name": "stdout",
     "output_type": "stream",
     "text": [
      "Epoch: 101 | Train loss: 0.1311 | Train acc: 0.9650 | Test loss: 1.5254 | Test acc: 0.7105 |  F1 score: 0.6450   \n"
     ]
    },
    {
     "name": "stderr",
     "output_type": "stream",
     "text": [
      " 86%|████████▌ | 103/120 [1:47:12<17:41, 62.46s/it]"
     ]
    },
    {
     "name": "stdout",
     "output_type": "stream",
     "text": [
      "Epoch: 102 | Train loss: 0.1202 | Train acc: 0.9689 | Test loss: 1.0720 | Test acc: 0.7439 |  F1 score: 0.7132   \n"
     ]
    },
    {
     "name": "stderr",
     "output_type": "stream",
     "text": [
      " 87%|████████▋ | 104/120 [1:48:14<16:37, 62.35s/it]"
     ]
    },
    {
     "name": "stdout",
     "output_type": "stream",
     "text": [
      "Epoch: 103 | Train loss: 0.1049 | Train acc: 0.9719 | Test loss: 3.1665 | Test acc: 0.4008 |  F1 score: 0.4591   \n"
     ]
    },
    {
     "name": "stderr",
     "output_type": "stream",
     "text": [
      " 88%|████████▊ | 105/120 [1:49:17<15:39, 62.61s/it]"
     ]
    },
    {
     "name": "stdout",
     "output_type": "stream",
     "text": [
      "Epoch: 104 | Train loss: 0.1079 | Train acc: 0.9723 | Test loss: 0.9521 | Test acc: 0.7548 |  F1 score: 0.7371   \n"
     ]
    },
    {
     "name": "stderr",
     "output_type": "stream",
     "text": [
      " 88%|████████▊ | 106/120 [1:50:20<14:38, 62.72s/it]"
     ]
    },
    {
     "name": "stdout",
     "output_type": "stream",
     "text": [
      "Epoch: 105 | Train loss: 0.0946 | Train acc: 0.9748 | Test loss: 1.9365 | Test acc: 0.5545 |  F1 score: 0.6022   \n"
     ]
    },
    {
     "name": "stderr",
     "output_type": "stream",
     "text": [
      " 89%|████████▉ | 107/120 [1:51:22<13:32, 62.54s/it]"
     ]
    },
    {
     "name": "stdout",
     "output_type": "stream",
     "text": [
      "Epoch: 106 | Train loss: 0.0999 | Train acc: 0.9759 | Test loss: 1.5404 | Test acc: 0.6326 |  F1 score: 0.6621   \n"
     ]
    },
    {
     "name": "stderr",
     "output_type": "stream",
     "text": [
      " 90%|█████████ | 108/120 [1:52:25<12:30, 62.56s/it]"
     ]
    },
    {
     "name": "stdout",
     "output_type": "stream",
     "text": [
      "Epoch: 107 | Train loss: 0.0947 | Train acc: 0.9766 | Test loss: 1.6504 | Test acc: 0.6168 |  F1 score: 0.6451   \n"
     ]
    },
    {
     "name": "stderr",
     "output_type": "stream",
     "text": [
      " 91%|█████████ | 109/120 [1:53:26<11:25, 62.34s/it]"
     ]
    },
    {
     "name": "stdout",
     "output_type": "stream",
     "text": [
      "Epoch: 108 | Train loss: 0.0999 | Train acc: 0.9737 | Test loss: 2.4960 | Test acc: 0.6954 |  F1 score: 0.6003   \n"
     ]
    },
    {
     "name": "stderr",
     "output_type": "stream",
     "text": [
      " 92%|█████████▏| 110/120 [1:54:29<10:24, 62.50s/it]"
     ]
    },
    {
     "name": "stdout",
     "output_type": "stream",
     "text": [
      "Epoch: 109 | Train loss: 0.0994 | Train acc: 0.9759 | Test loss: 2.7912 | Test acc: 0.5398 |  F1 score: 0.5741   \n"
     ]
    },
    {
     "name": "stderr",
     "output_type": "stream",
     "text": [
      " 92%|█████████▎| 111/120 [1:55:32<09:23, 62.59s/it]"
     ]
    },
    {
     "name": "stdout",
     "output_type": "stream",
     "text": [
      "Epoch: 110 | Train loss: 0.1006 | Train acc: 0.9780 | Test loss: 1.0480 | Test acc: 0.7272 |  F1 score: 0.7217   \n"
     ]
    },
    {
     "name": "stderr",
     "output_type": "stream",
     "text": [
      " 93%|█████████▎| 112/120 [1:56:35<08:20, 62.57s/it]"
     ]
    },
    {
     "name": "stdout",
     "output_type": "stream",
     "text": [
      "Epoch: 111 | Train loss: 0.0877 | Train acc: 0.9771 | Test loss: 3.0189 | Test acc: 0.5382 |  F1 score: 0.5841   \n"
     ]
    },
    {
     "name": "stderr",
     "output_type": "stream",
     "text": [
      " 94%|█████████▍| 113/120 [1:57:38<07:18, 62.70s/it]"
     ]
    },
    {
     "name": "stdout",
     "output_type": "stream",
     "text": [
      "Epoch: 112 | Train loss: 0.0883 | Train acc: 0.9789 | Test loss: 1.3077 | Test acc: 0.7284 |  F1 score: 0.6778   \n"
     ]
    },
    {
     "name": "stderr",
     "output_type": "stream",
     "text": [
      " 95%|█████████▌| 114/120 [1:58:40<06:15, 62.64s/it]"
     ]
    },
    {
     "name": "stdout",
     "output_type": "stream",
     "text": [
      "Epoch: 113 | Train loss: 0.0947 | Train acc: 0.9746 | Test loss: 1.3949 | Test acc: 0.6940 |  F1 score: 0.6828   \n"
     ]
    },
    {
     "name": "stderr",
     "output_type": "stream",
     "text": [
      " 96%|█████████▌| 115/120 [1:59:43<05:13, 62.77s/it]"
     ]
    },
    {
     "name": "stdout",
     "output_type": "stream",
     "text": [
      "Epoch: 114 | Train loss: 0.0865 | Train acc: 0.9759 | Test loss: 4.2331 | Test acc: 0.6613 |  F1 score: 0.5556   \n"
     ]
    },
    {
     "name": "stderr",
     "output_type": "stream",
     "text": [
      " 97%|█████████▋| 116/120 [2:00:46<04:10, 62.74s/it]"
     ]
    },
    {
     "name": "stdout",
     "output_type": "stream",
     "text": [
      "Epoch: 115 | Train loss: 0.0958 | Train acc: 0.9728 | Test loss: 3.9656 | Test acc: 0.5046 |  F1 score: 0.5484   \n"
     ]
    },
    {
     "name": "stderr",
     "output_type": "stream",
     "text": [
      " 98%|█████████▊| 117/120 [2:01:48<03:07, 62.58s/it]"
     ]
    },
    {
     "name": "stdout",
     "output_type": "stream",
     "text": [
      "Epoch: 116 | Train loss: 0.0770 | Train acc: 0.9830 | Test loss: 1.1152 | Test acc: 0.7379 |  F1 score: 0.7275   \n"
     ]
    },
    {
     "name": "stderr",
     "output_type": "stream",
     "text": [
      " 98%|█████████▊| 118/120 [2:02:51<02:05, 62.59s/it]"
     ]
    },
    {
     "name": "stdout",
     "output_type": "stream",
     "text": [
      "Epoch: 117 | Train loss: 0.0678 | Train acc: 0.9853 | Test loss: 1.1070 | Test acc: 0.7281 |  F1 score: 0.7185   \n"
     ]
    },
    {
     "name": "stderr",
     "output_type": "stream",
     "text": [
      " 99%|█████████▉| 119/120 [2:03:53<01:02, 62.51s/it]"
     ]
    },
    {
     "name": "stdout",
     "output_type": "stream",
     "text": [
      "Epoch: 118 | Train loss: 0.0760 | Train acc: 0.9819 | Test loss: 1.1065 | Test acc: 0.7446 |  F1 score: 0.7119   \n"
     ]
    },
    {
     "name": "stderr",
     "output_type": "stream",
     "text": [
      "100%|██████████| 120/120 [2:04:55<00:00, 62.46s/it]"
     ]
    },
    {
     "name": "stdout",
     "output_type": "stream",
     "text": [
      "Epoch: 119 | Train loss: 0.0631 | Train acc: 0.9860 | Test loss: 1.5772 | Test acc: 0.7105 |  F1 score: 0.6729   \n",
      "the best test acc is :0.7354\n",
      "Total training time: 7495.337 seconds\n"
     ]
    },
    {
     "name": "stderr",
     "output_type": "stream",
     "text": [
      "\n"
     ]
    }
   ],
   "source": [
    "import torchvision.models as models\n",
    "\n",
    "model_preTrained_Resnet18 = models.resnet18(pretrained=False).to(device)     # 使用內建的 model \n",
    "\n",
    "summary(model_preTrained_Resnet18, input_size=[1,3,224,224])\n",
    "\n",
    "optimizer = torch.optim.SGD(model_preTrained_Resnet18.parameters(), lr = 0.001) # 選擇你想用的 optimizer\n",
    "\n",
    "# optimizer = torch.optim.Adam(model_Resnet18.parameters(), lr =0.01)\n",
    "\n",
    "# Loss function\n",
    "loss_fn = nn.CrossEntropyLoss()                # 選擇想用的 loss functionmodel_vgg16 = \n",
    "\n",
    "\n",
    "\n",
    "\n",
    "# Start the timer\n",
    "from timeit import default_timer as timer\n",
    "start_time = timer()\n",
    "\n",
    "# Train model_0\n",
    "model_VGG_results = train(model=model_preTrained_Resnet18,\n",
    "              train_dataloader=train_data_loader_224,\n",
    "              test_dataloader=test_data_loader_224,\n",
    "              optimizer=optimizer,\n",
    "              loss_fn=loss_fn,\n",
    "              best_model_name=\"best_model_Resnet18.pth\",\n",
    "              epochs=120)\n",
    "\n",
    "# End the timer and print out how long it took\n",
    "end_time = timer()\n",
    "print(f\"Total training time: {end_time-start_time:.3f} seconds\")"
   ]
  },
  {
   "cell_type": "markdown",
   "metadata": {},
   "source": [
    "output == 7 pretrain resnet"
   ]
  },
  {
   "cell_type": "code",
   "execution_count": null,
   "metadata": {},
   "outputs": [
    {
     "name": "stderr",
     "output_type": "stream",
     "text": [
      "c:\\Users\\E\\AppData\\Local\\Programs\\Python\\Python311\\Lib\\site-packages\\torchvision\\models\\_utils.py:208: UserWarning: The parameter 'pretrained' is deprecated since 0.13 and may be removed in the future, please use 'weights' instead.\n",
      "  warnings.warn(\n",
      "c:\\Users\\E\\AppData\\Local\\Programs\\Python\\Python311\\Lib\\site-packages\\torchvision\\models\\_utils.py:223: UserWarning: Arguments other than a weight enum or `None` for 'weights' are deprecated since 0.13 and may be removed in the future. The current behavior is equivalent to passing `weights=ResNet18_Weights.IMAGENET1K_V1`. You can also use `weights=ResNet18_Weights.DEFAULT` to get the most up-to-date weights.\n",
      "  warnings.warn(msg)\n",
      "  1%|          | 1/120 [01:02<2:03:53, 62.47s/it]"
     ]
    },
    {
     "name": "stdout",
     "output_type": "stream",
     "text": [
      "Epoch: 0 | Train loss: 1.4069 | Train acc: 0.5632 | Test loss: 0.9721 | Test acc: 0.7389 |  F1 score: 0.7194   \n"
     ]
    },
    {
     "name": "stderr",
     "output_type": "stream",
     "text": [
      "  2%|▏         | 2/120 [02:04<2:02:39, 62.37s/it]"
     ]
    },
    {
     "name": "stdout",
     "output_type": "stream",
     "text": [
      "Epoch: 1 | Train loss: 0.7745 | Train acc: 0.7795 | Test loss: 0.7548 | Test acc: 0.7657 |  F1 score: 0.7325   \n"
     ]
    },
    {
     "name": "stderr",
     "output_type": "stream",
     "text": [
      "  2%|▎         | 3/120 [03:07<2:02:14, 62.68s/it]"
     ]
    },
    {
     "name": "stdout",
     "output_type": "stream",
     "text": [
      "Epoch: 2 | Train loss: 0.6390 | Train acc: 0.8155 | Test loss: 0.7108 | Test acc: 0.7865 |  F1 score: 0.7765   \n"
     ]
    },
    {
     "name": "stderr",
     "output_type": "stream",
     "text": [
      "  3%|▎         | 4/120 [04:10<2:01:12, 62.70s/it]"
     ]
    },
    {
     "name": "stdout",
     "output_type": "stream",
     "text": [
      "Epoch: 3 | Train loss: 0.4891 | Train acc: 0.8469 | Test loss: 0.7692 | Test acc: 0.7872 |  F1 score: 0.7762   \n"
     ]
    },
    {
     "name": "stderr",
     "output_type": "stream",
     "text": [
      "  4%|▍         | 5/120 [05:13<2:00:10, 62.70s/it]"
     ]
    },
    {
     "name": "stdout",
     "output_type": "stream",
     "text": [
      "Epoch: 4 | Train loss: 0.3934 | Train acc: 0.8837 | Test loss: 0.6176 | Test acc: 0.7934 |  F1 score: 0.7682   \n"
     ]
    },
    {
     "name": "stderr",
     "output_type": "stream",
     "text": [
      "  5%|▌         | 6/120 [06:16<1:59:11, 62.73s/it]"
     ]
    },
    {
     "name": "stdout",
     "output_type": "stream",
     "text": [
      "Epoch: 5 | Train loss: 0.3107 | Train acc: 0.9142 | Test loss: 0.6684 | Test acc: 0.8047 |  F1 score: 0.7987   \n"
     ]
    },
    {
     "name": "stderr",
     "output_type": "stream",
     "text": [
      "  6%|▌         | 7/120 [07:18<1:57:50, 62.57s/it]"
     ]
    },
    {
     "name": "stdout",
     "output_type": "stream",
     "text": [
      "Epoch: 6 | Train loss: 0.2966 | Train acc: 0.9183 | Test loss: 0.5861 | Test acc: 0.8179 |  F1 score: 0.8008   \n"
     ]
    },
    {
     "name": "stderr",
     "output_type": "stream",
     "text": [
      "  7%|▋         | 8/120 [08:21<1:56:58, 62.67s/it]"
     ]
    },
    {
     "name": "stdout",
     "output_type": "stream",
     "text": [
      "Epoch: 7 | Train loss: 0.2145 | Train acc: 0.9482 | Test loss: 0.6793 | Test acc: 0.8133 |  F1 score: 0.8043   \n"
     ]
    },
    {
     "name": "stderr",
     "output_type": "stream",
     "text": [
      "  8%|▊         | 9/120 [09:23<1:55:41, 62.54s/it]"
     ]
    },
    {
     "name": "stdout",
     "output_type": "stream",
     "text": [
      "Epoch: 8 | Train loss: 0.1473 | Train acc: 0.9702 | Test loss: 0.5975 | Test acc: 0.8328 |  F1 score: 0.8301   \n"
     ]
    },
    {
     "name": "stderr",
     "output_type": "stream",
     "text": [
      "  8%|▊         | 10/120 [10:25<1:54:24, 62.40s/it]"
     ]
    },
    {
     "name": "stdout",
     "output_type": "stream",
     "text": [
      "Epoch: 9 | Train loss: 0.1134 | Train acc: 0.9835 | Test loss: 0.6886 | Test acc: 0.8220 |  F1 score: 0.8233   \n"
     ]
    },
    {
     "name": "stderr",
     "output_type": "stream",
     "text": [
      "  9%|▉         | 11/120 [11:28<1:53:35, 62.52s/it]"
     ]
    },
    {
     "name": "stdout",
     "output_type": "stream",
     "text": [
      "Epoch: 10 | Train loss: 0.1065 | Train acc: 0.9815 | Test loss: 0.6021 | Test acc: 0.8298 |  F1 score: 0.8168   \n"
     ]
    },
    {
     "name": "stderr",
     "output_type": "stream",
     "text": [
      " 10%|█         | 12/120 [12:30<1:52:14, 62.36s/it]"
     ]
    },
    {
     "name": "stdout",
     "output_type": "stream",
     "text": [
      "Epoch: 11 | Train loss: 0.0713 | Train acc: 0.9908 | Test loss: 0.6019 | Test acc: 0.8232 |  F1 score: 0.8168   \n"
     ]
    },
    {
     "name": "stderr",
     "output_type": "stream",
     "text": [
      " 11%|█         | 13/120 [13:33<1:51:34, 62.57s/it]"
     ]
    },
    {
     "name": "stdout",
     "output_type": "stream",
     "text": [
      "Epoch: 12 | Train loss: 0.0686 | Train acc: 0.9899 | Test loss: 0.6198 | Test acc: 0.8211 |  F1 score: 0.8082   \n"
     ]
    },
    {
     "name": "stderr",
     "output_type": "stream",
     "text": [
      " 12%|█▏        | 14/120 [14:36<1:50:50, 62.74s/it]"
     ]
    },
    {
     "name": "stdout",
     "output_type": "stream",
     "text": [
      "Epoch: 13 | Train loss: 0.0533 | Train acc: 0.9950 | Test loss: 0.6096 | Test acc: 0.8354 |  F1 score: 0.8320   \n"
     ]
    },
    {
     "name": "stderr",
     "output_type": "stream",
     "text": [
      " 12%|█▎        | 15/120 [15:39<1:49:50, 62.77s/it]"
     ]
    },
    {
     "name": "stdout",
     "output_type": "stream",
     "text": [
      "Epoch: 14 | Train loss: 0.0593 | Train acc: 0.9904 | Test loss: 0.6259 | Test acc: 0.8191 |  F1 score: 0.8077   \n"
     ]
    },
    {
     "name": "stderr",
     "output_type": "stream",
     "text": [
      " 13%|█▎        | 16/120 [16:42<1:48:47, 62.76s/it]"
     ]
    },
    {
     "name": "stdout",
     "output_type": "stream",
     "text": [
      "Epoch: 15 | Train loss: 0.0563 | Train acc: 0.9908 | Test loss: 0.6265 | Test acc: 0.8326 |  F1 score: 0.8261   \n"
     ]
    },
    {
     "name": "stderr",
     "output_type": "stream",
     "text": [
      " 14%|█▍        | 17/120 [17:44<1:47:31, 62.64s/it]"
     ]
    },
    {
     "name": "stdout",
     "output_type": "stream",
     "text": [
      "Epoch: 16 | Train loss: 0.0380 | Train acc: 0.9977 | Test loss: 0.6556 | Test acc: 0.8337 |  F1 score: 0.8307   \n"
     ]
    },
    {
     "name": "stderr",
     "output_type": "stream",
     "text": [
      " 15%|█▌        | 18/120 [18:47<1:46:44, 62.79s/it]"
     ]
    },
    {
     "name": "stdout",
     "output_type": "stream",
     "text": [
      "Epoch: 17 | Train loss: 0.0297 | Train acc: 0.9988 | Test loss: 0.6436 | Test acc: 0.8291 |  F1 score: 0.8207   \n"
     ]
    },
    {
     "name": "stderr",
     "output_type": "stream",
     "text": [
      " 16%|█▌        | 19/120 [19:50<1:45:40, 62.78s/it]"
     ]
    },
    {
     "name": "stdout",
     "output_type": "stream",
     "text": [
      "Epoch: 18 | Train loss: 0.0246 | Train acc: 0.9982 | Test loss: 0.6060 | Test acc: 0.8328 |  F1 score: 0.8255   \n"
     ]
    },
    {
     "name": "stderr",
     "output_type": "stream",
     "text": [
      " 17%|█▋        | 20/120 [20:52<1:44:28, 62.68s/it]"
     ]
    },
    {
     "name": "stdout",
     "output_type": "stream",
     "text": [
      "Epoch: 19 | Train loss: 0.0218 | Train acc: 0.9991 | Test loss: 0.6250 | Test acc: 0.8376 |  F1 score: 0.8307   \n"
     ]
    },
    {
     "name": "stderr",
     "output_type": "stream",
     "text": [
      " 18%|█▊        | 21/120 [21:54<1:43:03, 62.46s/it]"
     ]
    },
    {
     "name": "stdout",
     "output_type": "stream",
     "text": [
      "Epoch: 20 | Train loss: 0.0217 | Train acc: 0.9995 | Test loss: 0.6180 | Test acc: 0.8413 |  F1 score: 0.8336   \n"
     ]
    },
    {
     "name": "stderr",
     "output_type": "stream",
     "text": [
      " 18%|█▊        | 22/120 [22:57<1:42:17, 62.62s/it]"
     ]
    },
    {
     "name": "stdout",
     "output_type": "stream",
     "text": [
      "Epoch: 21 | Train loss: 0.0234 | Train acc: 0.9982 | Test loss: 0.6557 | Test acc: 0.8220 |  F1 score: 0.8057   \n"
     ]
    },
    {
     "name": "stderr",
     "output_type": "stream",
     "text": [
      " 19%|█▉        | 23/120 [24:00<1:41:22, 62.70s/it]"
     ]
    },
    {
     "name": "stdout",
     "output_type": "stream",
     "text": [
      "Epoch: 22 | Train loss: 0.0187 | Train acc: 0.9993 | Test loss: 0.6466 | Test acc: 0.8399 |  F1 score: 0.8333   \n"
     ]
    },
    {
     "name": "stderr",
     "output_type": "stream",
     "text": [
      " 20%|██        | 24/120 [25:03<1:40:22, 62.73s/it]"
     ]
    },
    {
     "name": "stdout",
     "output_type": "stream",
     "text": [
      "Epoch: 23 | Train loss: 0.0206 | Train acc: 0.9986 | Test loss: 0.6494 | Test acc: 0.8305 |  F1 score: 0.8222   \n"
     ]
    },
    {
     "name": "stderr",
     "output_type": "stream",
     "text": [
      " 21%|██        | 25/120 [26:05<1:39:15, 62.69s/it]"
     ]
    },
    {
     "name": "stdout",
     "output_type": "stream",
     "text": [
      "Epoch: 24 | Train loss: 0.0197 | Train acc: 0.9986 | Test loss: 0.6250 | Test acc: 0.8335 |  F1 score: 0.8220   \n"
     ]
    },
    {
     "name": "stderr",
     "output_type": "stream",
     "text": [
      " 22%|██▏       | 26/120 [27:08<1:38:03, 62.59s/it]"
     ]
    },
    {
     "name": "stdout",
     "output_type": "stream",
     "text": [
      "Epoch: 25 | Train loss: 0.0195 | Train acc: 0.9988 | Test loss: 0.6418 | Test acc: 0.8362 |  F1 score: 0.8268   \n"
     ]
    },
    {
     "name": "stderr",
     "output_type": "stream",
     "text": [
      " 22%|██▎       | 27/120 [28:11<1:37:07, 62.66s/it]"
     ]
    },
    {
     "name": "stdout",
     "output_type": "stream",
     "text": [
      "Epoch: 26 | Train loss: 0.0213 | Train acc: 0.9979 | Test loss: 0.6559 | Test acc: 0.8390 |  F1 score: 0.8314   \n"
     ]
    },
    {
     "name": "stderr",
     "output_type": "stream",
     "text": [
      " 23%|██▎       | 28/120 [29:13<1:35:54, 62.55s/it]"
     ]
    },
    {
     "name": "stdout",
     "output_type": "stream",
     "text": [
      "Epoch: 27 | Train loss: 0.0161 | Train acc: 0.9996 | Test loss: 0.6347 | Test acc: 0.8374 |  F1 score: 0.8283   \n"
     ]
    },
    {
     "name": "stderr",
     "output_type": "stream",
     "text": [
      " 24%|██▍       | 29/120 [30:15<1:34:42, 62.44s/it]"
     ]
    },
    {
     "name": "stdout",
     "output_type": "stream",
     "text": [
      "Epoch: 28 | Train loss: 0.0173 | Train acc: 0.9986 | Test loss: 0.6310 | Test acc: 0.8420 |  F1 score: 0.8349   \n"
     ]
    },
    {
     "name": "stderr",
     "output_type": "stream",
     "text": [
      " 25%|██▌       | 30/120 [31:18<1:33:55, 62.61s/it]"
     ]
    },
    {
     "name": "stdout",
     "output_type": "stream",
     "text": [
      "Epoch: 29 | Train loss: 0.0138 | Train acc: 0.9995 | Test loss: 0.6190 | Test acc: 0.8447 |  F1 score: 0.8389   \n"
     ]
    },
    {
     "name": "stderr",
     "output_type": "stream",
     "text": [
      " 26%|██▌       | 31/120 [32:21<1:32:58, 62.68s/it]"
     ]
    },
    {
     "name": "stdout",
     "output_type": "stream",
     "text": [
      "Epoch: 30 | Train loss: 0.0131 | Train acc: 0.9996 | Test loss: 0.6450 | Test acc: 0.8333 |  F1 score: 0.8214   \n"
     ]
    },
    {
     "name": "stderr",
     "output_type": "stream",
     "text": [
      " 27%|██▋       | 32/120 [33:24<1:31:58, 62.71s/it]"
     ]
    },
    {
     "name": "stdout",
     "output_type": "stream",
     "text": [
      "Epoch: 31 | Train loss: 0.0170 | Train acc: 0.9986 | Test loss: 0.6479 | Test acc: 0.8374 |  F1 score: 0.8300   \n"
     ]
    },
    {
     "name": "stderr",
     "output_type": "stream",
     "text": [
      " 28%|██▊       | 33/120 [34:26<1:30:53, 62.69s/it]"
     ]
    },
    {
     "name": "stdout",
     "output_type": "stream",
     "text": [
      "Epoch: 32 | Train loss: 0.0136 | Train acc: 0.9991 | Test loss: 0.6225 | Test acc: 0.8340 |  F1 score: 0.8233   \n"
     ]
    },
    {
     "name": "stderr",
     "output_type": "stream",
     "text": [
      " 28%|██▊       | 34/120 [35:29<1:30:00, 62.79s/it]"
     ]
    },
    {
     "name": "stdout",
     "output_type": "stream",
     "text": [
      "Epoch: 33 | Train loss: 0.0174 | Train acc: 0.9984 | Test loss: 0.6569 | Test acc: 0.8411 |  F1 score: 0.8350   \n"
     ]
    },
    {
     "name": "stderr",
     "output_type": "stream",
     "text": [
      " 29%|██▉       | 35/120 [36:32<1:28:49, 62.70s/it]"
     ]
    },
    {
     "name": "stdout",
     "output_type": "stream",
     "text": [
      "Epoch: 34 | Train loss: 0.0110 | Train acc: 0.9996 | Test loss: 0.6689 | Test acc: 0.8369 |  F1 score: 0.8294   \n"
     ]
    },
    {
     "name": "stderr",
     "output_type": "stream",
     "text": [
      " 30%|███       | 36/120 [37:35<1:27:46, 62.70s/it]"
     ]
    },
    {
     "name": "stdout",
     "output_type": "stream",
     "text": [
      "Epoch: 35 | Train loss: 0.0151 | Train acc: 0.9991 | Test loss: 0.6594 | Test acc: 0.8377 |  F1 score: 0.8274   \n"
     ]
    },
    {
     "name": "stderr",
     "output_type": "stream",
     "text": [
      " 31%|███       | 37/120 [38:37<1:26:42, 62.68s/it]"
     ]
    },
    {
     "name": "stdout",
     "output_type": "stream",
     "text": [
      "Epoch: 36 | Train loss: 0.0289 | Train acc: 0.9973 | Test loss: 0.6761 | Test acc: 0.8339 |  F1 score: 0.8306   \n"
     ]
    },
    {
     "name": "stderr",
     "output_type": "stream",
     "text": [
      " 32%|███▏      | 38/120 [39:40<1:25:45, 62.75s/it]"
     ]
    },
    {
     "name": "stdout",
     "output_type": "stream",
     "text": [
      "Epoch: 37 | Train loss: 0.0289 | Train acc: 0.9950 | Test loss: 0.7544 | Test acc: 0.8227 |  F1 score: 0.8192   \n"
     ]
    },
    {
     "name": "stderr",
     "output_type": "stream",
     "text": [
      " 32%|███▎      | 39/120 [40:43<1:24:37, 62.69s/it]"
     ]
    },
    {
     "name": "stdout",
     "output_type": "stream",
     "text": [
      "Epoch: 38 | Train loss: 0.0208 | Train acc: 0.9977 | Test loss: 0.6380 | Test acc: 0.8377 |  F1 score: 0.8291   \n"
     ]
    },
    {
     "name": "stderr",
     "output_type": "stream",
     "text": [
      " 33%|███▎      | 40/120 [41:46<1:23:47, 62.84s/it]"
     ]
    },
    {
     "name": "stdout",
     "output_type": "stream",
     "text": [
      "Epoch: 39 | Train loss: 0.0128 | Train acc: 0.9991 | Test loss: 0.6532 | Test acc: 0.8324 |  F1 score: 0.8252   \n"
     ]
    },
    {
     "name": "stderr",
     "output_type": "stream",
     "text": [
      " 34%|███▍      | 41/120 [42:48<1:22:28, 62.64s/it]"
     ]
    },
    {
     "name": "stdout",
     "output_type": "stream",
     "text": [
      "Epoch: 40 | Train loss: 0.0095 | Train acc: 0.9998 | Test loss: 0.6870 | Test acc: 0.8395 |  F1 score: 0.8266   \n"
     ]
    },
    {
     "name": "stderr",
     "output_type": "stream",
     "text": [
      " 35%|███▌      | 42/120 [43:50<1:21:17, 62.54s/it]"
     ]
    },
    {
     "name": "stdout",
     "output_type": "stream",
     "text": [
      "Epoch: 41 | Train loss: 0.0117 | Train acc: 0.9998 | Test loss: 0.6378 | Test acc: 0.8427 |  F1 score: 0.8359   \n"
     ]
    },
    {
     "name": "stderr",
     "output_type": "stream",
     "text": [
      " 36%|███▌      | 43/120 [44:53<1:20:06, 62.42s/it]"
     ]
    },
    {
     "name": "stdout",
     "output_type": "stream",
     "text": [
      "Epoch: 42 | Train loss: 0.0128 | Train acc: 0.9991 | Test loss: 0.6725 | Test acc: 0.8354 |  F1 score: 0.8253   \n"
     ]
    },
    {
     "name": "stderr",
     "output_type": "stream",
     "text": [
      " 37%|███▋      | 44/120 [45:55<1:19:09, 62.49s/it]"
     ]
    },
    {
     "name": "stdout",
     "output_type": "stream",
     "text": [
      "Epoch: 43 | Train loss: 0.0551 | Train acc: 0.9870 | Test loss: 0.7795 | Test acc: 0.8150 |  F1 score: 0.7956   \n"
     ]
    },
    {
     "name": "stderr",
     "output_type": "stream",
     "text": [
      " 38%|███▊      | 45/120 [46:57<1:17:56, 62.35s/it]"
     ]
    },
    {
     "name": "stdout",
     "output_type": "stream",
     "text": [
      "Epoch: 44 | Train loss: 0.0161 | Train acc: 0.9989 | Test loss: 0.6496 | Test acc: 0.8269 |  F1 score: 0.8214   \n"
     ]
    },
    {
     "name": "stderr",
     "output_type": "stream",
     "text": [
      " 38%|███▊      | 46/120 [48:00<1:16:56, 62.38s/it]"
     ]
    },
    {
     "name": "stdout",
     "output_type": "stream",
     "text": [
      "Epoch: 45 | Train loss: 0.0136 | Train acc: 0.9993 | Test loss: 0.6766 | Test acc: 0.8354 |  F1 score: 0.8205   \n"
     ]
    },
    {
     "name": "stderr",
     "output_type": "stream",
     "text": [
      " 39%|███▉      | 47/120 [49:03<1:16:07, 62.56s/it]"
     ]
    },
    {
     "name": "stdout",
     "output_type": "stream",
     "text": [
      "Epoch: 46 | Train loss: 0.0111 | Train acc: 0.9996 | Test loss: 0.6259 | Test acc: 0.8413 |  F1 score: 0.8326   \n"
     ]
    },
    {
     "name": "stderr",
     "output_type": "stream",
     "text": [
      " 40%|████      | 48/120 [50:05<1:15:00, 62.51s/it]"
     ]
    },
    {
     "name": "stdout",
     "output_type": "stream",
     "text": [
      "Epoch: 47 | Train loss: 0.0091 | Train acc: 1.0000 | Test loss: 0.6279 | Test acc: 0.8425 |  F1 score: 0.8329   \n"
     ]
    },
    {
     "name": "stderr",
     "output_type": "stream",
     "text": [
      " 41%|████      | 49/120 [51:08<1:14:07, 62.65s/it]"
     ]
    },
    {
     "name": "stdout",
     "output_type": "stream",
     "text": [
      "Epoch: 48 | Train loss: 0.0090 | Train acc: 0.9996 | Test loss: 0.6786 | Test acc: 0.8303 |  F1 score: 0.8171   \n"
     ]
    },
    {
     "name": "stderr",
     "output_type": "stream",
     "text": [
      " 42%|████▏     | 50/120 [52:11<1:13:02, 62.61s/it]"
     ]
    },
    {
     "name": "stdout",
     "output_type": "stream",
     "text": [
      "Epoch: 49 | Train loss: 0.0082 | Train acc: 0.9996 | Test loss: 0.6703 | Test acc: 0.8411 |  F1 score: 0.8276   \n"
     ]
    },
    {
     "name": "stderr",
     "output_type": "stream",
     "text": [
      " 42%|████▎     | 51/120 [53:13<1:11:53, 62.52s/it]"
     ]
    },
    {
     "name": "stdout",
     "output_type": "stream",
     "text": [
      "Epoch: 50 | Train loss: 0.0089 | Train acc: 0.9993 | Test loss: 0.6752 | Test acc: 0.8377 |  F1 score: 0.8239   \n"
     ]
    },
    {
     "name": "stderr",
     "output_type": "stream",
     "text": [
      " 43%|████▎     | 52/120 [54:15<1:10:37, 62.31s/it]"
     ]
    },
    {
     "name": "stdout",
     "output_type": "stream",
     "text": [
      "Epoch: 51 | Train loss: 0.0123 | Train acc: 0.9989 | Test loss: 0.7152 | Test acc: 0.8312 |  F1 score: 0.8295   \n"
     ]
    },
    {
     "name": "stderr",
     "output_type": "stream",
     "text": [
      " 44%|████▍     | 53/120 [55:17<1:09:45, 62.47s/it]"
     ]
    },
    {
     "name": "stdout",
     "output_type": "stream",
     "text": [
      "Epoch: 52 | Train loss: 0.0405 | Train acc: 0.9922 | Test loss: 0.7135 | Test acc: 0.8283 |  F1 score: 0.8155   \n"
     ]
    },
    {
     "name": "stderr",
     "output_type": "stream",
     "text": [
      " 45%|████▌     | 54/120 [56:21<1:08:54, 62.65s/it]"
     ]
    },
    {
     "name": "stdout",
     "output_type": "stream",
     "text": [
      "Epoch: 53 | Train loss: 0.0255 | Train acc: 0.9956 | Test loss: 0.6841 | Test acc: 0.8377 |  F1 score: 0.8319   \n"
     ]
    },
    {
     "name": "stderr",
     "output_type": "stream",
     "text": [
      " 46%|████▌     | 55/120 [57:23<1:07:51, 62.63s/it]"
     ]
    },
    {
     "name": "stdout",
     "output_type": "stream",
     "text": [
      "Epoch: 54 | Train loss: 0.0102 | Train acc: 0.9989 | Test loss: 0.6588 | Test acc: 0.8376 |  F1 score: 0.8269   \n"
     ]
    },
    {
     "name": "stderr",
     "output_type": "stream",
     "text": [
      " 47%|████▋     | 56/120 [58:25<1:06:41, 62.52s/it]"
     ]
    },
    {
     "name": "stdout",
     "output_type": "stream",
     "text": [
      "Epoch: 55 | Train loss: 0.0123 | Train acc: 0.9984 | Test loss: 0.6819 | Test acc: 0.8319 |  F1 score: 0.8250   \n"
     ]
    },
    {
     "name": "stderr",
     "output_type": "stream",
     "text": [
      " 48%|████▊     | 57/120 [59:28<1:05:37, 62.50s/it]"
     ]
    },
    {
     "name": "stdout",
     "output_type": "stream",
     "text": [
      "Epoch: 56 | Train loss: 0.0098 | Train acc: 0.9998 | Test loss: 0.6924 | Test acc: 0.8326 |  F1 score: 0.8251   \n"
     ]
    },
    {
     "name": "stderr",
     "output_type": "stream",
     "text": [
      " 48%|████▊     | 58/120 [1:00:31<1:04:38, 62.55s/it]"
     ]
    },
    {
     "name": "stdout",
     "output_type": "stream",
     "text": [
      "Epoch: 57 | Train loss: 0.0080 | Train acc: 0.9998 | Test loss: 0.6637 | Test acc: 0.8328 |  F1 score: 0.8205   \n"
     ]
    },
    {
     "name": "stderr",
     "output_type": "stream",
     "text": [
      " 49%|████▉     | 59/120 [1:01:33<1:03:39, 62.62s/it]"
     ]
    },
    {
     "name": "stdout",
     "output_type": "stream",
     "text": [
      "Epoch: 58 | Train loss: 0.0103 | Train acc: 0.9991 | Test loss: 0.6702 | Test acc: 0.8399 |  F1 score: 0.8264   \n"
     ]
    },
    {
     "name": "stderr",
     "output_type": "stream",
     "text": [
      " 50%|█████     | 60/120 [1:02:36<1:02:43, 62.73s/it]"
     ]
    },
    {
     "name": "stdout",
     "output_type": "stream",
     "text": [
      "Epoch: 59 | Train loss: 0.0075 | Train acc: 0.9998 | Test loss: 0.6809 | Test acc: 0.8349 |  F1 score: 0.8278   \n"
     ]
    },
    {
     "name": "stderr",
     "output_type": "stream",
     "text": [
      " 51%|█████     | 61/120 [1:03:39<1:01:42, 62.76s/it]"
     ]
    },
    {
     "name": "stdout",
     "output_type": "stream",
     "text": [
      "Epoch: 60 | Train loss: 0.0070 | Train acc: 1.0000 | Test loss: 0.6683 | Test acc: 0.8392 |  F1 score: 0.8287   \n"
     ]
    },
    {
     "name": "stderr",
     "output_type": "stream",
     "text": [
      " 52%|█████▏    | 62/120 [1:04:42<1:00:40, 62.77s/it]"
     ]
    },
    {
     "name": "stdout",
     "output_type": "stream",
     "text": [
      "Epoch: 61 | Train loss: 0.0100 | Train acc: 0.9988 | Test loss: 0.6800 | Test acc: 0.8406 |  F1 score: 0.8310   \n"
     ]
    },
    {
     "name": "stderr",
     "output_type": "stream",
     "text": [
      " 52%|█████▎    | 63/120 [1:05:44<59:34, 62.71s/it]  "
     ]
    },
    {
     "name": "stdout",
     "output_type": "stream",
     "text": [
      "Epoch: 62 | Train loss: 0.0096 | Train acc: 0.9989 | Test loss: 0.6938 | Test acc: 0.8370 |  F1 score: 0.8267   \n"
     ]
    },
    {
     "name": "stderr",
     "output_type": "stream",
     "text": [
      " 53%|█████▎    | 64/120 [1:06:47<58:26, 62.62s/it]"
     ]
    },
    {
     "name": "stdout",
     "output_type": "stream",
     "text": [
      "Epoch: 63 | Train loss: 0.0087 | Train acc: 0.9996 | Test loss: 0.6745 | Test acc: 0.8354 |  F1 score: 0.8269   \n"
     ]
    },
    {
     "name": "stderr",
     "output_type": "stream",
     "text": [
      " 54%|█████▍    | 65/120 [1:07:49<57:20, 62.55s/it]"
     ]
    },
    {
     "name": "stdout",
     "output_type": "stream",
     "text": [
      "Epoch: 64 | Train loss: 0.0066 | Train acc: 0.9993 | Test loss: 0.6806 | Test acc: 0.8319 |  F1 score: 0.8224   \n"
     ]
    },
    {
     "name": "stderr",
     "output_type": "stream",
     "text": [
      " 55%|█████▌    | 66/120 [1:08:52<56:18, 62.57s/it]"
     ]
    },
    {
     "name": "stdout",
     "output_type": "stream",
     "text": [
      "Epoch: 65 | Train loss: 0.0078 | Train acc: 0.9996 | Test loss: 0.6636 | Test acc: 0.8377 |  F1 score: 0.8276   \n"
     ]
    },
    {
     "name": "stderr",
     "output_type": "stream",
     "text": [
      " 56%|█████▌    | 67/120 [1:09:55<55:22, 62.69s/it]"
     ]
    },
    {
     "name": "stdout",
     "output_type": "stream",
     "text": [
      "Epoch: 66 | Train loss: 0.0082 | Train acc: 0.9995 | Test loss: 0.7077 | Test acc: 0.8305 |  F1 score: 0.8242   \n"
     ]
    },
    {
     "name": "stderr",
     "output_type": "stream",
     "text": [
      " 57%|█████▋    | 68/120 [1:10:57<54:17, 62.64s/it]"
     ]
    },
    {
     "name": "stdout",
     "output_type": "stream",
     "text": [
      "Epoch: 67 | Train loss: 0.0082 | Train acc: 0.9995 | Test loss: 0.6746 | Test acc: 0.8370 |  F1 score: 0.8284   \n"
     ]
    },
    {
     "name": "stderr",
     "output_type": "stream",
     "text": [
      " 57%|█████▊    | 69/120 [1:12:00<53:14, 62.64s/it]"
     ]
    },
    {
     "name": "stdout",
     "output_type": "stream",
     "text": [
      "Epoch: 68 | Train loss: 0.0075 | Train acc: 1.0000 | Test loss: 0.6669 | Test acc: 0.8399 |  F1 score: 0.8311   \n"
     ]
    },
    {
     "name": "stderr",
     "output_type": "stream",
     "text": [
      " 58%|█████▊    | 70/120 [1:13:03<52:16, 62.73s/it]"
     ]
    },
    {
     "name": "stdout",
     "output_type": "stream",
     "text": [
      "Epoch: 69 | Train loss: 0.0062 | Train acc: 0.9998 | Test loss: 0.6687 | Test acc: 0.8420 |  F1 score: 0.8334   \n"
     ]
    },
    {
     "name": "stderr",
     "output_type": "stream",
     "text": [
      " 59%|█████▉    | 71/120 [1:14:05<51:01, 62.47s/it]"
     ]
    },
    {
     "name": "stdout",
     "output_type": "stream",
     "text": [
      "Epoch: 70 | Train loss: 0.0068 | Train acc: 0.9998 | Test loss: 0.6820 | Test acc: 0.8440 |  F1 score: 0.8336   \n"
     ]
    },
    {
     "name": "stderr",
     "output_type": "stream",
     "text": [
      " 60%|██████    | 72/120 [1:15:08<50:03, 62.56s/it]"
     ]
    },
    {
     "name": "stdout",
     "output_type": "stream",
     "text": [
      "Epoch: 71 | Train loss: 0.0059 | Train acc: 1.0000 | Test loss: 0.6581 | Test acc: 0.8441 |  F1 score: 0.8361   \n"
     ]
    },
    {
     "name": "stderr",
     "output_type": "stream",
     "text": [
      " 61%|██████    | 73/120 [1:16:10<49:00, 62.56s/it]"
     ]
    },
    {
     "name": "stdout",
     "output_type": "stream",
     "text": [
      "Epoch: 72 | Train loss: 0.0085 | Train acc: 0.9988 | Test loss: 0.6609 | Test acc: 0.8392 |  F1 score: 0.8283   \n"
     ]
    },
    {
     "name": "stderr",
     "output_type": "stream",
     "text": [
      " 62%|██████▏   | 74/120 [1:17:12<47:52, 62.45s/it]"
     ]
    },
    {
     "name": "stdout",
     "output_type": "stream",
     "text": [
      "Epoch: 73 | Train loss: 0.0194 | Train acc: 0.9964 | Test loss: 0.6903 | Test acc: 0.8362 |  F1 score: 0.8253   \n"
     ]
    },
    {
     "name": "stderr",
     "output_type": "stream",
     "text": [
      " 62%|██████▎   | 75/120 [1:18:15<46:56, 62.59s/it]"
     ]
    },
    {
     "name": "stdout",
     "output_type": "stream",
     "text": [
      "Epoch: 74 | Train loss: 0.0087 | Train acc: 0.9989 | Test loss: 0.7011 | Test acc: 0.8399 |  F1 score: 0.8324   \n"
     ]
    },
    {
     "name": "stderr",
     "output_type": "stream",
     "text": [
      " 63%|██████▎   | 76/120 [1:19:18<45:55, 62.62s/it]"
     ]
    },
    {
     "name": "stdout",
     "output_type": "stream",
     "text": [
      "Epoch: 75 | Train loss: 0.0071 | Train acc: 0.9998 | Test loss: 0.6786 | Test acc: 0.8356 |  F1 score: 0.8249   \n"
     ]
    },
    {
     "name": "stderr",
     "output_type": "stream",
     "text": [
      " 64%|██████▍   | 77/120 [1:20:21<44:54, 62.67s/it]"
     ]
    },
    {
     "name": "stdout",
     "output_type": "stream",
     "text": [
      "Epoch: 76 | Train loss: 0.0078 | Train acc: 0.9991 | Test loss: 0.6859 | Test acc: 0.8383 |  F1 score: 0.8308   \n"
     ]
    },
    {
     "name": "stderr",
     "output_type": "stream",
     "text": [
      " 65%|██████▌   | 78/120 [1:21:24<43:58, 62.83s/it]"
     ]
    },
    {
     "name": "stdout",
     "output_type": "stream",
     "text": [
      "Epoch: 77 | Train loss: 0.0192 | Train acc: 0.9964 | Test loss: 0.6799 | Test acc: 0.8466 |  F1 score: 0.8448   \n"
     ]
    },
    {
     "name": "stderr",
     "output_type": "stream",
     "text": [
      " 66%|██████▌   | 79/120 [1:22:27<43:00, 62.94s/it]"
     ]
    },
    {
     "name": "stdout",
     "output_type": "stream",
     "text": [
      "Epoch: 78 | Train loss: 0.0074 | Train acc: 0.9996 | Test loss: 0.6653 | Test acc: 0.8404 |  F1 score: 0.8351   \n"
     ]
    },
    {
     "name": "stderr",
     "output_type": "stream",
     "text": [
      " 67%|██████▋   | 80/120 [1:23:30<42:01, 63.03s/it]"
     ]
    },
    {
     "name": "stdout",
     "output_type": "stream",
     "text": [
      "Epoch: 79 | Train loss: 0.0060 | Train acc: 0.9998 | Test loss: 0.6629 | Test acc: 0.8441 |  F1 score: 0.8324   \n"
     ]
    },
    {
     "name": "stderr",
     "output_type": "stream",
     "text": [
      " 68%|██████▊   | 81/120 [1:24:33<40:49, 62.80s/it]"
     ]
    },
    {
     "name": "stdout",
     "output_type": "stream",
     "text": [
      "Epoch: 80 | Train loss: 0.0057 | Train acc: 1.0000 | Test loss: 0.6232 | Test acc: 0.8470 |  F1 score: 0.8399   \n"
     ]
    },
    {
     "name": "stderr",
     "output_type": "stream",
     "text": [
      " 68%|██████▊   | 82/120 [1:25:34<39:34, 62.49s/it]"
     ]
    },
    {
     "name": "stdout",
     "output_type": "stream",
     "text": [
      "Epoch: 81 | Train loss: 0.0060 | Train acc: 0.9998 | Test loss: 0.6567 | Test acc: 0.8468 |  F1 score: 0.8402   \n"
     ]
    },
    {
     "name": "stderr",
     "output_type": "stream",
     "text": [
      " 69%|██████▉   | 83/120 [1:26:37<38:32, 62.49s/it]"
     ]
    },
    {
     "name": "stdout",
     "output_type": "stream",
     "text": [
      "Epoch: 82 | Train loss: 0.0048 | Train acc: 1.0000 | Test loss: 0.6435 | Test acc: 0.8447 |  F1 score: 0.8378   \n"
     ]
    },
    {
     "name": "stderr",
     "output_type": "stream",
     "text": [
      " 70%|███████   | 84/120 [1:27:39<37:26, 62.39s/it]"
     ]
    },
    {
     "name": "stdout",
     "output_type": "stream",
     "text": [
      "Epoch: 83 | Train loss: 0.0047 | Train acc: 1.0000 | Test loss: 0.6622 | Test acc: 0.8468 |  F1 score: 0.8383   \n"
     ]
    },
    {
     "name": "stderr",
     "output_type": "stream",
     "text": [
      " 71%|███████   | 85/120 [1:28:41<36:18, 62.25s/it]"
     ]
    },
    {
     "name": "stdout",
     "output_type": "stream",
     "text": [
      "Epoch: 84 | Train loss: 0.0045 | Train acc: 1.0000 | Test loss: 0.6491 | Test acc: 0.8454 |  F1 score: 0.8363   \n"
     ]
    },
    {
     "name": "stderr",
     "output_type": "stream",
     "text": [
      " 72%|███████▏  | 86/120 [1:29:43<35:17, 62.28s/it]"
     ]
    },
    {
     "name": "stdout",
     "output_type": "stream",
     "text": [
      "Epoch: 85 | Train loss: 0.0044 | Train acc: 1.0000 | Test loss: 0.6449 | Test acc: 0.8504 |  F1 score: 0.8437   \n"
     ]
    },
    {
     "name": "stderr",
     "output_type": "stream",
     "text": [
      " 72%|███████▎  | 87/120 [1:30:46<34:14, 62.24s/it]"
     ]
    },
    {
     "name": "stdout",
     "output_type": "stream",
     "text": [
      "Epoch: 86 | Train loss: 0.0055 | Train acc: 0.9998 | Test loss: 0.6635 | Test acc: 0.8433 |  F1 score: 0.8322   \n"
     ]
    },
    {
     "name": "stderr",
     "output_type": "stream",
     "text": [
      " 73%|███████▎  | 88/120 [1:31:48<33:11, 62.24s/it]"
     ]
    },
    {
     "name": "stdout",
     "output_type": "stream",
     "text": [
      "Epoch: 87 | Train loss: 0.0042 | Train acc: 1.0000 | Test loss: 0.6964 | Test acc: 0.8454 |  F1 score: 0.8317   \n"
     ]
    },
    {
     "name": "stderr",
     "output_type": "stream",
     "text": [
      " 74%|███████▍  | 89/120 [1:32:51<32:15, 62.45s/it]"
     ]
    },
    {
     "name": "stdout",
     "output_type": "stream",
     "text": [
      "Epoch: 88 | Train loss: 0.0054 | Train acc: 0.9996 | Test loss: 0.6610 | Test acc: 0.8420 |  F1 score: 0.8332   \n"
     ]
    },
    {
     "name": "stderr",
     "output_type": "stream",
     "text": [
      " 75%|███████▌  | 90/120 [1:33:53<31:15, 62.50s/it]"
     ]
    },
    {
     "name": "stdout",
     "output_type": "stream",
     "text": [
      "Epoch: 89 | Train loss: 0.0046 | Train acc: 1.0000 | Test loss: 0.6774 | Test acc: 0.8417 |  F1 score: 0.8384   \n"
     ]
    },
    {
     "name": "stderr",
     "output_type": "stream",
     "text": [
      " 76%|███████▌  | 91/120 [1:34:56<30:14, 62.57s/it]"
     ]
    },
    {
     "name": "stdout",
     "output_type": "stream",
     "text": [
      "Epoch: 90 | Train loss: 0.0053 | Train acc: 0.9998 | Test loss: 0.6690 | Test acc: 0.8461 |  F1 score: 0.8344   \n"
     ]
    },
    {
     "name": "stderr",
     "output_type": "stream",
     "text": [
      " 77%|███████▋  | 92/120 [1:35:59<29:12, 62.60s/it]"
     ]
    },
    {
     "name": "stdout",
     "output_type": "stream",
     "text": [
      "Epoch: 91 | Train loss: 0.0040 | Train acc: 1.0000 | Test loss: 0.6670 | Test acc: 0.8454 |  F1 score: 0.8373   \n"
     ]
    },
    {
     "name": "stderr",
     "output_type": "stream",
     "text": [
      " 78%|███████▊  | 93/120 [1:37:01<28:05, 62.43s/it]"
     ]
    },
    {
     "name": "stdout",
     "output_type": "stream",
     "text": [
      "Epoch: 92 | Train loss: 0.0039 | Train acc: 1.0000 | Test loss: 0.6651 | Test acc: 0.8482 |  F1 score: 0.8379   \n"
     ]
    },
    {
     "name": "stderr",
     "output_type": "stream",
     "text": [
      " 78%|███████▊  | 94/120 [1:38:04<27:08, 62.64s/it]"
     ]
    },
    {
     "name": "stdout",
     "output_type": "stream",
     "text": [
      "Epoch: 93 | Train loss: 0.0042 | Train acc: 0.9998 | Test loss: 0.6750 | Test acc: 0.8497 |  F1 score: 0.8387   \n"
     ]
    },
    {
     "name": "stderr",
     "output_type": "stream",
     "text": [
      " 79%|███████▉  | 95/120 [1:39:07<26:08, 62.75s/it]"
     ]
    },
    {
     "name": "stdout",
     "output_type": "stream",
     "text": [
      "Epoch: 94 | Train loss: 0.0038 | Train acc: 1.0000 | Test loss: 0.6708 | Test acc: 0.8461 |  F1 score: 0.8365   \n"
     ]
    },
    {
     "name": "stderr",
     "output_type": "stream",
     "text": [
      " 80%|████████  | 96/120 [1:40:10<25:07, 62.80s/it]"
     ]
    },
    {
     "name": "stdout",
     "output_type": "stream",
     "text": [
      "Epoch: 95 | Train loss: 0.0037 | Train acc: 1.0000 | Test loss: 0.6724 | Test acc: 0.8454 |  F1 score: 0.8368   \n"
     ]
    },
    {
     "name": "stderr",
     "output_type": "stream",
     "text": [
      " 81%|████████  | 97/120 [1:41:12<24:03, 62.74s/it]"
     ]
    },
    {
     "name": "stdout",
     "output_type": "stream",
     "text": [
      "Epoch: 96 | Train loss: 0.0048 | Train acc: 1.0000 | Test loss: 0.6815 | Test acc: 0.8468 |  F1 score: 0.8394   \n"
     ]
    },
    {
     "name": "stderr",
     "output_type": "stream",
     "text": [
      " 82%|████████▏ | 98/120 [1:42:15<22:57, 62.62s/it]"
     ]
    },
    {
     "name": "stdout",
     "output_type": "stream",
     "text": [
      "Epoch: 97 | Train loss: 0.0038 | Train acc: 1.0000 | Test loss: 0.7001 | Test acc: 0.8411 |  F1 score: 0.8273   \n"
     ]
    },
    {
     "name": "stderr",
     "output_type": "stream",
     "text": [
      " 82%|████████▎ | 99/120 [1:43:17<21:53, 62.52s/it]"
     ]
    },
    {
     "name": "stdout",
     "output_type": "stream",
     "text": [
      "Epoch: 98 | Train loss: 0.0041 | Train acc: 1.0000 | Test loss: 0.6587 | Test acc: 0.8438 |  F1 score: 0.8359   \n"
     ]
    },
    {
     "name": "stderr",
     "output_type": "stream",
     "text": [
      " 83%|████████▎ | 100/120 [1:44:19<20:49, 62.46s/it]"
     ]
    },
    {
     "name": "stdout",
     "output_type": "stream",
     "text": [
      "Epoch: 99 | Train loss: 0.0167 | Train acc: 0.9979 | Test loss: 0.6815 | Test acc: 0.8411 |  F1 score: 0.8310   \n"
     ]
    },
    {
     "name": "stderr",
     "output_type": "stream",
     "text": [
      " 84%|████████▍ | 101/120 [1:45:23<19:51, 62.68s/it]"
     ]
    },
    {
     "name": "stdout",
     "output_type": "stream",
     "text": [
      "Epoch: 100 | Train loss: 0.0159 | Train acc: 0.9961 | Test loss: 0.7209 | Test acc: 0.8354 |  F1 score: 0.8210   \n"
     ]
    },
    {
     "name": "stderr",
     "output_type": "stream",
     "text": [
      " 85%|████████▌ | 102/120 [1:46:26<18:49, 62.77s/it]"
     ]
    },
    {
     "name": "stdout",
     "output_type": "stream",
     "text": [
      "Epoch: 101 | Train loss: 0.0223 | Train acc: 0.9941 | Test loss: 0.6746 | Test acc: 0.8333 |  F1 score: 0.8248   \n"
     ]
    },
    {
     "name": "stderr",
     "output_type": "stream",
     "text": [
      " 86%|████████▌ | 103/120 [1:47:28<17:44, 62.59s/it]"
     ]
    },
    {
     "name": "stdout",
     "output_type": "stream",
     "text": [
      "Epoch: 102 | Train loss: 0.0206 | Train acc: 0.9947 | Test loss: 0.6766 | Test acc: 0.8461 |  F1 score: 0.8407   \n"
     ]
    },
    {
     "name": "stderr",
     "output_type": "stream",
     "text": [
      " 87%|████████▋ | 104/120 [1:48:30<16:39, 62.44s/it]"
     ]
    },
    {
     "name": "stdout",
     "output_type": "stream",
     "text": [
      "Epoch: 103 | Train loss: 0.0241 | Train acc: 0.9963 | Test loss: 0.8007 | Test acc: 0.8252 |  F1 score: 0.8188   \n"
     ]
    },
    {
     "name": "stderr",
     "output_type": "stream",
     "text": [
      " 88%|████████▊ | 105/120 [1:49:33<15:38, 62.59s/it]"
     ]
    },
    {
     "name": "stdout",
     "output_type": "stream",
     "text": [
      "Epoch: 104 | Train loss: 0.0091 | Train acc: 0.9988 | Test loss: 0.6778 | Test acc: 0.8369 |  F1 score: 0.8275   \n"
     ]
    },
    {
     "name": "stderr",
     "output_type": "stream",
     "text": [
      " 88%|████████▊ | 106/120 [1:50:36<14:38, 62.75s/it]"
     ]
    },
    {
     "name": "stdout",
     "output_type": "stream",
     "text": [
      "Epoch: 105 | Train loss: 0.0128 | Train acc: 0.9979 | Test loss: 0.7114 | Test acc: 0.8422 |  F1 score: 0.8363   \n"
     ]
    },
    {
     "name": "stderr",
     "output_type": "stream",
     "text": [
      " 89%|████████▉ | 107/120 [1:51:39<13:37, 62.92s/it]"
     ]
    },
    {
     "name": "stdout",
     "output_type": "stream",
     "text": [
      "Epoch: 106 | Train loss: 0.0096 | Train acc: 0.9989 | Test loss: 0.6732 | Test acc: 0.8356 |  F1 score: 0.8243   \n"
     ]
    },
    {
     "name": "stderr",
     "output_type": "stream",
     "text": [
      " 90%|█████████ | 108/120 [1:52:42<12:34, 62.90s/it]"
     ]
    },
    {
     "name": "stdout",
     "output_type": "stream",
     "text": [
      "Epoch: 107 | Train loss: 0.0068 | Train acc: 1.0000 | Test loss: 0.7083 | Test acc: 0.8392 |  F1 score: 0.8312   \n"
     ]
    },
    {
     "name": "stderr",
     "output_type": "stream",
     "text": [
      " 91%|█████████ | 109/120 [1:53:45<11:32, 63.00s/it]"
     ]
    },
    {
     "name": "stdout",
     "output_type": "stream",
     "text": [
      "Epoch: 108 | Train loss: 0.0063 | Train acc: 0.9993 | Test loss: 0.7041 | Test acc: 0.8376 |  F1 score: 0.8279   \n"
     ]
    },
    {
     "name": "stderr",
     "output_type": "stream",
     "text": [
      " 92%|█████████▏| 110/120 [1:54:48<10:28, 62.85s/it]"
     ]
    },
    {
     "name": "stdout",
     "output_type": "stream",
     "text": [
      "Epoch: 109 | Train loss: 0.0076 | Train acc: 0.9996 | Test loss: 0.6986 | Test acc: 0.8397 |  F1 score: 0.8308   \n"
     ]
    },
    {
     "name": "stderr",
     "output_type": "stream",
     "text": [
      " 92%|█████████▎| 111/120 [1:55:51<09:25, 62.89s/it]"
     ]
    },
    {
     "name": "stdout",
     "output_type": "stream",
     "text": [
      "Epoch: 110 | Train loss: 0.0072 | Train acc: 0.9993 | Test loss: 0.6718 | Test acc: 0.8376 |  F1 score: 0.8311   \n"
     ]
    },
    {
     "name": "stderr",
     "output_type": "stream",
     "text": [
      " 93%|█████████▎| 112/120 [1:56:54<08:23, 62.94s/it]"
     ]
    },
    {
     "name": "stdout",
     "output_type": "stream",
     "text": [
      "Epoch: 111 | Train loss: 0.0143 | Train acc: 0.9975 | Test loss: 0.7044 | Test acc: 0.8370 |  F1 score: 0.8271   \n"
     ]
    },
    {
     "name": "stderr",
     "output_type": "stream",
     "text": [
      " 94%|█████████▍| 113/120 [1:57:57<07:20, 62.91s/it]"
     ]
    },
    {
     "name": "stdout",
     "output_type": "stream",
     "text": [
      "Epoch: 112 | Train loss: 0.0061 | Train acc: 0.9996 | Test loss: 0.6766 | Test acc: 0.8397 |  F1 score: 0.8316   \n"
     ]
    },
    {
     "name": "stderr",
     "output_type": "stream",
     "text": [
      " 95%|█████████▌| 114/120 [1:58:59<06:15, 62.66s/it]"
     ]
    },
    {
     "name": "stdout",
     "output_type": "stream",
     "text": [
      "Epoch: 113 | Train loss: 0.0049 | Train acc: 1.0000 | Test loss: 0.6814 | Test acc: 0.8342 |  F1 score: 0.8215   \n"
     ]
    },
    {
     "name": "stderr",
     "output_type": "stream",
     "text": [
      " 96%|█████████▌| 115/120 [2:00:02<05:13, 62.78s/it]"
     ]
    },
    {
     "name": "stdout",
     "output_type": "stream",
     "text": [
      "Epoch: 114 | Train loss: 0.0050 | Train acc: 0.9996 | Test loss: 0.6593 | Test acc: 0.8370 |  F1 score: 0.8260   \n"
     ]
    },
    {
     "name": "stderr",
     "output_type": "stream",
     "text": [
      " 97%|█████████▋| 116/120 [2:01:05<04:11, 62.83s/it]"
     ]
    },
    {
     "name": "stdout",
     "output_type": "stream",
     "text": [
      "Epoch: 115 | Train loss: 0.0038 | Train acc: 1.0000 | Test loss: 0.6624 | Test acc: 0.8427 |  F1 score: 0.8336   \n"
     ]
    },
    {
     "name": "stderr",
     "output_type": "stream",
     "text": [
      " 98%|█████████▊| 117/120 [2:02:08<03:08, 62.89s/it]"
     ]
    },
    {
     "name": "stdout",
     "output_type": "stream",
     "text": [
      "Epoch: 116 | Train loss: 0.0035 | Train acc: 1.0000 | Test loss: 0.6581 | Test acc: 0.8406 |  F1 score: 0.8312   \n"
     ]
    },
    {
     "name": "stderr",
     "output_type": "stream",
     "text": [
      " 98%|█████████▊| 118/120 [2:03:11<02:06, 63.01s/it]"
     ]
    },
    {
     "name": "stdout",
     "output_type": "stream",
     "text": [
      "Epoch: 117 | Train loss: 0.0042 | Train acc: 0.9998 | Test loss: 0.6730 | Test acc: 0.8404 |  F1 score: 0.8301   \n"
     ]
    },
    {
     "name": "stderr",
     "output_type": "stream",
     "text": [
      " 99%|█████████▉| 119/120 [2:04:14<01:02, 62.98s/it]"
     ]
    },
    {
     "name": "stdout",
     "output_type": "stream",
     "text": [
      "Epoch: 118 | Train loss: 0.0039 | Train acc: 1.0000 | Test loss: 0.6627 | Test acc: 0.8418 |  F1 score: 0.8317   \n"
     ]
    },
    {
     "name": "stderr",
     "output_type": "stream",
     "text": [
      "100%|██████████| 120/120 [2:05:17<00:00, 62.64s/it]"
     ]
    },
    {
     "name": "stdout",
     "output_type": "stream",
     "text": [
      "Epoch: 119 | Train loss: 0.0037 | Train acc: 1.0000 | Test loss: 0.6664 | Test acc: 0.8475 |  F1 score: 0.8382   \n",
      "the best test acc is :0.8179\n",
      "Total training time: 7517.327 seconds\n"
     ]
    },
    {
     "name": "stderr",
     "output_type": "stream",
     "text": [
      "\n"
     ]
    }
   ],
   "source": [
    "import torchvision.models as models\n",
    "\n",
    "model_preTrained_Resnet18_7 = models.resnet18(pretrained=True)     # 使用內建的 model \n",
    "\n",
    "\n",
    "# optimizer = torch.optim.SGD(model_preTrained_Resnet18_7.parameters(), lr = 0.001) # 選擇你想用的 optimizer\n",
    "optimizer = torch.optim.SGD(model_preTrained_Resnet18_7.parameters(), lr = 0.001, momentum=0.9) # 選擇你想用的 optimizer\n",
    "\n",
    "# optimizer = torch.optim.Adam(model_Resnet18_7.parameters(), lr =0.01)\n",
    "\n",
    "# Loss function\n",
    "loss_fn = nn.CrossEntropyLoss()                # 選擇想用的 loss functionmodel_vgg16 = \n",
    "\n",
    "# ========================\n",
    "\n",
    "# change fully connected layer to 7\n",
    "num_ftrs = model_preTrained_Resnet18_7.fc.in_features\n",
    "model_preTrained_Resnet18_7.fc = nn.Linear(num_ftrs, 7)\n",
    "\n",
    "# device setting\n",
    "model_preTrained_Resnet18_7 = model_preTrained_Resnet18_7.to(device)\n",
    "\n",
    "# ===========================\n",
    "\n",
    "summary(model_preTrained_Resnet18_7)\n",
    "\n",
    "\n",
    "# Start the timer\n",
    "from timeit import default_timer as timer\n",
    "start_time = timer()\n",
    "\n",
    "# Train model_0\n",
    "model_VGG_results = train(model=model_preTrained_Resnet18_7,\n",
    "              train_dataloader=train_data_loader_224,\n",
    "              test_dataloader=test_data_loader_224,\n",
    "              optimizer=optimizer,\n",
    "              loss_fn=loss_fn,\n",
    "              best_model_name=\"best_model_Resnet18_7.pth\",\n",
    "              epochs=120)\n",
    "\n",
    "# End the timer and print out how long it took\n",
    "end_time = timer()\n",
    "print(f\"Total training time: {end_time-start_time:.3f} seconds\")"
   ]
  },
  {
   "cell_type": "code",
   "execution_count": null,
   "metadata": {},
   "outputs": [
    {
     "name": "stderr",
     "output_type": "stream",
     "text": [
      "c:\\Users\\E\\AppData\\Local\\Programs\\Python\\Python311\\Lib\\site-packages\\torchvision\\models\\_utils.py:208: UserWarning: The parameter 'pretrained' is deprecated since 0.13 and may be removed in the future, please use 'weights' instead.\n",
      "  warnings.warn(\n",
      "c:\\Users\\E\\AppData\\Local\\Programs\\Python\\Python311\\Lib\\site-packages\\torchvision\\models\\_utils.py:223: UserWarning: Arguments other than a weight enum or `None` for 'weights' are deprecated since 0.13 and may be removed in the future. The current behavior is equivalent to passing `weights=ResNet50_Weights.IMAGENET1K_V1`. You can also use `weights=ResNet50_Weights.DEFAULT` to get the most up-to-date weights.\n",
      "  warnings.warn(msg)\n",
      "  2%|▎         | 1/40 [01:24<55:11, 84.91s/it]"
     ]
    },
    {
     "name": "stdout",
     "output_type": "stream",
     "text": [
      "Epoch: 0 | Train loss: 1.3020 | Train acc: 0.6268 | Test loss: 0.9094 | Test acc: 0.7448 |  F1 score: 0.7212   \n"
     ]
    },
    {
     "name": "stderr",
     "output_type": "stream",
     "text": [
      "  5%|▌         | 2/40 [02:50<53:50, 85.02s/it]"
     ]
    },
    {
     "name": "stdout",
     "output_type": "stream",
     "text": [
      "Epoch: 1 | Train loss: 0.7284 | Train acc: 0.7907 | Test loss: 0.7710 | Test acc: 0.7575 |  F1 score: 0.7368   \n"
     ]
    },
    {
     "name": "stderr",
     "output_type": "stream",
     "text": [
      "  8%|▊         | 3/40 [04:14<52:24, 85.00s/it]"
     ]
    },
    {
     "name": "stdout",
     "output_type": "stream",
     "text": [
      "Epoch: 2 | Train loss: 0.4988 | Train acc: 0.8478 | Test loss: 0.8098 | Test acc: 0.7440 |  F1 score: 0.6798   \n"
     ]
    },
    {
     "name": "stderr",
     "output_type": "stream",
     "text": [
      " 10%|█         | 4/40 [05:39<51:00, 85.00s/it]"
     ]
    },
    {
     "name": "stdout",
     "output_type": "stream",
     "text": [
      "Epoch: 3 | Train loss: 0.3688 | Train acc: 0.8899 | Test loss: 0.6763 | Test acc: 0.7794 |  F1 score: 0.7789   \n"
     ]
    },
    {
     "name": "stderr",
     "output_type": "stream",
     "text": [
      " 12%|█▎        | 5/40 [07:05<49:36, 85.04s/it]"
     ]
    },
    {
     "name": "stdout",
     "output_type": "stream",
     "text": [
      "Epoch: 4 | Train loss: 0.2559 | Train acc: 0.9295 | Test loss: 0.6906 | Test acc: 0.7893 |  F1 score: 0.7600   \n"
     ]
    },
    {
     "name": "stderr",
     "output_type": "stream",
     "text": [
      " 15%|█▌        | 6/40 [08:30<48:10, 85.00s/it]"
     ]
    },
    {
     "name": "stdout",
     "output_type": "stream",
     "text": [
      "Epoch: 5 | Train loss: 0.1652 | Train acc: 0.9595 | Test loss: 0.6386 | Test acc: 0.8083 |  F1 score: 0.8038   \n"
     ]
    },
    {
     "name": "stderr",
     "output_type": "stream",
     "text": [
      " 18%|█▊        | 7/40 [09:54<46:44, 84.98s/it]"
     ]
    },
    {
     "name": "stdout",
     "output_type": "stream",
     "text": [
      "Epoch: 6 | Train loss: 0.1035 | Train acc: 0.9798 | Test loss: 0.5708 | Test acc: 0.8309 |  F1 score: 0.8225   \n"
     ]
    },
    {
     "name": "stderr",
     "output_type": "stream",
     "text": [
      " 20%|██        | 8/40 [11:20<45:20, 85.02s/it]"
     ]
    },
    {
     "name": "stdout",
     "output_type": "stream",
     "text": [
      "Epoch: 7 | Train loss: 0.0842 | Train acc: 0.9835 | Test loss: 0.6027 | Test acc: 0.8282 |  F1 score: 0.8219   \n"
     ]
    },
    {
     "name": "stderr",
     "output_type": "stream",
     "text": [
      " 22%|██▎       | 9/40 [12:45<43:55, 85.02s/it]"
     ]
    },
    {
     "name": "stdout",
     "output_type": "stream",
     "text": [
      "Epoch: 8 | Train loss: 0.0884 | Train acc: 0.9822 | Test loss: 0.6671 | Test acc: 0.8158 |  F1 score: 0.8034   \n"
     ]
    },
    {
     "name": "stderr",
     "output_type": "stream",
     "text": [
      " 25%|██▌       | 10/40 [14:10<42:33, 85.12s/it]"
     ]
    },
    {
     "name": "stdout",
     "output_type": "stream",
     "text": [
      "Epoch: 9 | Train loss: 0.0823 | Train acc: 0.9815 | Test loss: 0.6357 | Test acc: 0.8236 |  F1 score: 0.8146   \n"
     ]
    },
    {
     "name": "stderr",
     "output_type": "stream",
     "text": [
      " 28%|██▊       | 11/40 [15:36<41:12, 85.26s/it]"
     ]
    },
    {
     "name": "stdout",
     "output_type": "stream",
     "text": [
      "Epoch: 10 | Train loss: 0.0633 | Train acc: 0.9874 | Test loss: 0.6766 | Test acc: 0.8151 |  F1 score: 0.7999   \n"
     ]
    },
    {
     "name": "stderr",
     "output_type": "stream",
     "text": [
      " 30%|███       | 12/40 [17:01<39:46, 85.25s/it]"
     ]
    },
    {
     "name": "stdout",
     "output_type": "stream",
     "text": [
      "Epoch: 11 | Train loss: 0.0372 | Train acc: 0.9954 | Test loss: 0.5900 | Test acc: 0.8303 |  F1 score: 0.8249   \n"
     ]
    },
    {
     "name": "stderr",
     "output_type": "stream",
     "text": [
      " 32%|███▎      | 13/40 [18:26<38:23, 85.30s/it]"
     ]
    },
    {
     "name": "stdout",
     "output_type": "stream",
     "text": [
      "Epoch: 12 | Train loss: 0.0325 | Train acc: 0.9956 | Test loss: 0.6702 | Test acc: 0.8257 |  F1 score: 0.8156   \n"
     ]
    },
    {
     "name": "stderr",
     "output_type": "stream",
     "text": [
      " 35%|███▌      | 14/40 [19:51<36:57, 85.28s/it]"
     ]
    },
    {
     "name": "stdout",
     "output_type": "stream",
     "text": [
      "Epoch: 13 | Train loss: 0.0257 | Train acc: 0.9973 | Test loss: 0.5764 | Test acc: 0.8324 |  F1 score: 0.8281   \n"
     ]
    },
    {
     "name": "stderr",
     "output_type": "stream",
     "text": [
      " 38%|███▊      | 15/40 [21:17<35:31, 85.28s/it]"
     ]
    },
    {
     "name": "stdout",
     "output_type": "stream",
     "text": [
      "Epoch: 14 | Train loss: 0.0251 | Train acc: 0.9968 | Test loss: 0.6944 | Test acc: 0.8260 |  F1 score: 0.8124   \n"
     ]
    },
    {
     "name": "stderr",
     "output_type": "stream",
     "text": [
      " 40%|████      | 16/40 [22:42<34:03, 85.16s/it]"
     ]
    },
    {
     "name": "stdout",
     "output_type": "stream",
     "text": [
      "Epoch: 15 | Train loss: 0.0386 | Train acc: 0.9915 | Test loss: 0.7982 | Test acc: 0.8080 |  F1 score: 0.7897   \n"
     ]
    },
    {
     "name": "stderr",
     "output_type": "stream",
     "text": [
      " 42%|████▎     | 17/40 [24:06<32:37, 85.10s/it]"
     ]
    },
    {
     "name": "stdout",
     "output_type": "stream",
     "text": [
      "Epoch: 16 | Train loss: 0.0576 | Train acc: 0.9879 | Test loss: 0.6653 | Test acc: 0.8280 |  F1 score: 0.8252   \n"
     ]
    },
    {
     "name": "stderr",
     "output_type": "stream",
     "text": [
      " 45%|████▌     | 18/40 [25:32<31:13, 85.14s/it]"
     ]
    },
    {
     "name": "stdout",
     "output_type": "stream",
     "text": [
      "Epoch: 17 | Train loss: 0.0290 | Train acc: 0.9961 | Test loss: 0.6041 | Test acc: 0.8394 |  F1 score: 0.8393   \n"
     ]
    },
    {
     "name": "stderr",
     "output_type": "stream",
     "text": [
      " 48%|████▊     | 19/40 [26:57<29:45, 85.05s/it]"
     ]
    },
    {
     "name": "stdout",
     "output_type": "stream",
     "text": [
      "Epoch: 18 | Train loss: 0.0320 | Train acc: 0.9933 | Test loss: 0.6434 | Test acc: 0.8360 |  F1 score: 0.8290   \n"
     ]
    },
    {
     "name": "stderr",
     "output_type": "stream",
     "text": [
      " 50%|█████     | 20/40 [28:22<28:20, 85.03s/it]"
     ]
    },
    {
     "name": "stdout",
     "output_type": "stream",
     "text": [
      "Epoch: 19 | Train loss: 0.0270 | Train acc: 0.9956 | Test loss: 0.6118 | Test acc: 0.8317 |  F1 score: 0.8298   \n"
     ]
    },
    {
     "name": "stderr",
     "output_type": "stream",
     "text": [
      " 52%|█████▎    | 21/40 [29:46<26:55, 85.00s/it]"
     ]
    },
    {
     "name": "stdout",
     "output_type": "stream",
     "text": [
      "Epoch: 20 | Train loss: 0.0228 | Train acc: 0.9961 | Test loss: 0.6754 | Test acc: 0.8337 |  F1 score: 0.8271   \n"
     ]
    },
    {
     "name": "stderr",
     "output_type": "stream",
     "text": [
      " 55%|█████▌    | 22/40 [31:12<25:31, 85.06s/it]"
     ]
    },
    {
     "name": "stdout",
     "output_type": "stream",
     "text": [
      "Epoch: 21 | Train loss: 0.0149 | Train acc: 0.9984 | Test loss: 0.5824 | Test acc: 0.8516 |  F1 score: 0.8444   \n"
     ]
    },
    {
     "name": "stderr",
     "output_type": "stream",
     "text": [
      " 57%|█████▊    | 23/40 [32:37<24:06, 85.09s/it]"
     ]
    },
    {
     "name": "stdout",
     "output_type": "stream",
     "text": [
      "Epoch: 22 | Train loss: 0.0126 | Train acc: 0.9988 | Test loss: 0.5800 | Test acc: 0.8545 |  F1 score: 0.8493   \n"
     ]
    },
    {
     "name": "stderr",
     "output_type": "stream",
     "text": [
      " 60%|██████    | 24/40 [34:02<22:42, 85.15s/it]"
     ]
    },
    {
     "name": "stdout",
     "output_type": "stream",
     "text": [
      "Epoch: 23 | Train loss: 0.0176 | Train acc: 0.9979 | Test loss: 0.5998 | Test acc: 0.8470 |  F1 score: 0.8421   \n"
     ]
    },
    {
     "name": "stderr",
     "output_type": "stream",
     "text": [
      " 62%|██████▎   | 25/40 [35:27<21:16, 85.11s/it]"
     ]
    },
    {
     "name": "stdout",
     "output_type": "stream",
     "text": [
      "Epoch: 24 | Train loss: 0.0171 | Train acc: 0.9977 | Test loss: 0.6537 | Test acc: 0.8403 |  F1 score: 0.8299   \n"
     ]
    },
    {
     "name": "stderr",
     "output_type": "stream",
     "text": [
      " 65%|██████▌   | 26/40 [36:52<19:51, 85.08s/it]"
     ]
    },
    {
     "name": "stdout",
     "output_type": "stream",
     "text": [
      "Epoch: 25 | Train loss: 0.0112 | Train acc: 0.9991 | Test loss: 0.6083 | Test acc: 0.8472 |  F1 score: 0.8367   \n"
     ]
    },
    {
     "name": "stderr",
     "output_type": "stream",
     "text": [
      " 68%|██████▊   | 27/40 [38:17<18:25, 85.04s/it]"
     ]
    },
    {
     "name": "stdout",
     "output_type": "stream",
     "text": [
      "Epoch: 26 | Train loss: 0.0118 | Train acc: 0.9988 | Test loss: 0.6400 | Test acc: 0.8413 |  F1 score: 0.8353   \n"
     ]
    },
    {
     "name": "stderr",
     "output_type": "stream",
     "text": [
      " 70%|███████   | 28/40 [39:42<16:59, 85.00s/it]"
     ]
    },
    {
     "name": "stdout",
     "output_type": "stream",
     "text": [
      "Epoch: 27 | Train loss: 0.0199 | Train acc: 0.9963 | Test loss: 0.6713 | Test acc: 0.8314 |  F1 score: 0.8263   \n"
     ]
    },
    {
     "name": "stderr",
     "output_type": "stream",
     "text": [
      " 72%|███████▎  | 29/40 [41:07<15:34, 84.97s/it]"
     ]
    },
    {
     "name": "stdout",
     "output_type": "stream",
     "text": [
      "Epoch: 28 | Train loss: 0.0338 | Train acc: 0.9927 | Test loss: 0.6311 | Test acc: 0.8421 |  F1 score: 0.8353   \n"
     ]
    },
    {
     "name": "stderr",
     "output_type": "stream",
     "text": [
      " 75%|███████▌  | 30/40 [42:32<14:10, 85.04s/it]"
     ]
    },
    {
     "name": "stdout",
     "output_type": "stream",
     "text": [
      "Epoch: 29 | Train loss: 0.0158 | Train acc: 0.9972 | Test loss: 0.5976 | Test acc: 0.8545 |  F1 score: 0.8473   \n"
     ]
    },
    {
     "name": "stderr",
     "output_type": "stream",
     "text": [
      " 78%|███████▊  | 31/40 [43:57<12:45, 85.09s/it]"
     ]
    },
    {
     "name": "stdout",
     "output_type": "stream",
     "text": [
      "Epoch: 30 | Train loss: 0.0104 | Train acc: 0.9995 | Test loss: 0.5829 | Test acc: 0.8541 |  F1 score: 0.8468   \n"
     ]
    },
    {
     "name": "stderr",
     "output_type": "stream",
     "text": [
      " 80%|████████  | 32/40 [45:23<11:21, 85.19s/it]"
     ]
    },
    {
     "name": "stdout",
     "output_type": "stream",
     "text": [
      "Epoch: 31 | Train loss: 0.0137 | Train acc: 0.9984 | Test loss: 0.6153 | Test acc: 0.8484 |  F1 score: 0.8426   \n"
     ]
    },
    {
     "name": "stderr",
     "output_type": "stream",
     "text": [
      " 82%|████████▎ | 33/40 [46:48<09:56, 85.19s/it]"
     ]
    },
    {
     "name": "stdout",
     "output_type": "stream",
     "text": [
      "Epoch: 32 | Train loss: 0.0111 | Train acc: 0.9989 | Test loss: 0.5893 | Test acc: 0.8506 |  F1 score: 0.8459   \n"
     ]
    },
    {
     "name": "stderr",
     "output_type": "stream",
     "text": [
      " 85%|████████▌ | 34/40 [48:13<08:30, 85.14s/it]"
     ]
    },
    {
     "name": "stdout",
     "output_type": "stream",
     "text": [
      "Epoch: 33 | Train loss: 0.0234 | Train acc: 0.9961 | Test loss: 0.6423 | Test acc: 0.8421 |  F1 score: 0.8344   \n"
     ]
    },
    {
     "name": "stderr",
     "output_type": "stream",
     "text": [
      " 88%|████████▊ | 35/40 [49:38<07:05, 85.17s/it]"
     ]
    },
    {
     "name": "stdout",
     "output_type": "stream",
     "text": [
      "Epoch: 34 | Train loss: 0.0127 | Train acc: 0.9982 | Test loss: 0.6354 | Test acc: 0.8383 |  F1 score: 0.8313   \n"
     ]
    },
    {
     "name": "stderr",
     "output_type": "stream",
     "text": [
      " 90%|█████████ | 36/40 [51:04<05:41, 85.31s/it]"
     ]
    },
    {
     "name": "stdout",
     "output_type": "stream",
     "text": [
      "Epoch: 35 | Train loss: 0.0106 | Train acc: 0.9991 | Test loss: 0.6574 | Test acc: 0.8408 |  F1 score: 0.8289   \n"
     ]
    },
    {
     "name": "stderr",
     "output_type": "stream",
     "text": [
      " 92%|█████████▎| 37/40 [52:29<04:15, 85.30s/it]"
     ]
    },
    {
     "name": "stdout",
     "output_type": "stream",
     "text": [
      "Epoch: 36 | Train loss: 0.0107 | Train acc: 0.9986 | Test loss: 0.6123 | Test acc: 0.8483 |  F1 score: 0.8414   \n"
     ]
    },
    {
     "name": "stderr",
     "output_type": "stream",
     "text": [
      " 95%|█████████▌| 38/40 [53:54<02:50, 85.25s/it]"
     ]
    },
    {
     "name": "stdout",
     "output_type": "stream",
     "text": [
      "Epoch: 37 | Train loss: 0.0160 | Train acc: 0.9968 | Test loss: 0.6162 | Test acc: 0.8428 |  F1 score: 0.8387   \n"
     ]
    },
    {
     "name": "stderr",
     "output_type": "stream",
     "text": [
      " 98%|█████████▊| 39/40 [55:19<01:25, 85.23s/it]"
     ]
    },
    {
     "name": "stdout",
     "output_type": "stream",
     "text": [
      "Epoch: 38 | Train loss: 0.0212 | Train acc: 0.9957 | Test loss: 0.5908 | Test acc: 0.8523 |  F1 score: 0.8461   \n"
     ]
    },
    {
     "name": "stderr",
     "output_type": "stream",
     "text": [
      "100%|██████████| 40/40 [56:44<00:00, 85.12s/it]"
     ]
    },
    {
     "name": "stdout",
     "output_type": "stream",
     "text": [
      "Epoch: 39 | Train loss: 0.0086 | Train acc: 0.9993 | Test loss: 0.5775 | Test acc: 0.8559 |  F1 score: 0.8506   \n",
      "the best test acc is :0.8309\n",
      "Total training time: 3404.949 seconds\n"
     ]
    },
    {
     "name": "stderr",
     "output_type": "stream",
     "text": [
      "\n"
     ]
    }
   ],
   "source": [
    "import torchvision.models as models\n",
    "\n",
    "model_preTrained_Resnet50 = models.resnet50(pretrained=True)     # 使用內建的 model \n",
    "\n",
    "\n",
    "# optimizer = torch.optim.SGD(model_preTrained_Resnet50.parameters(), lr = 0.001) # 選擇你想用的 optimizer\n",
    "optimizer = torch.optim.SGD(model_preTrained_Resnet50.parameters(), lr = 0.001, momentum=0.9) # 選擇你想用的 optimizer\n",
    "\n",
    "# optimizer = torch.optim.Adam(model_Resnet50.parameters(), lr =0.01)\n",
    "\n",
    "# Loss function\n",
    "loss_fn = nn.CrossEntropyLoss()                # 選擇想用的 loss functionmodel_vgg16 = \n",
    "\n",
    "\n",
    "# change fully connected layer to 7\n",
    "num_ftrs = model_preTrained_Resnet50.fc.in_features\n",
    "model_preTrained_Resnet50.fc = nn.Linear(num_ftrs, 7)\n",
    "\n",
    "# device setting\n",
    "model_preTrained_Resnet50 = model_preTrained_Resnet50.to(device)\n",
    "\n",
    "# Start the timer\n",
    "from timeit import default_timer as timer\n",
    "start_time = timer()\n",
    "\n",
    "# Train model_0\n",
    "model_VGG_results = train(model=model_preTrained_Resnet50,\n",
    "              train_dataloader=train_data_loader_224,\n",
    "              test_dataloader=test_data_loader_224,\n",
    "              optimizer=optimizer,\n",
    "              loss_fn=loss_fn,\n",
    "              best_model_name=\"best_model_pretrain_Resnet50_7.pth\",\n",
    "              epochs=40)\n",
    "\n",
    "# End the timer and print out how long it took\n",
    "end_time = timer()\n",
    "print(f\"Total training time: {end_time-start_time:.3f} seconds\")"
   ]
  },
  {
   "cell_type": "markdown",
   "metadata": {},
   "source": [
    "# model output"
   ]
  },
  {
   "cell_type": "code",
   "execution_count": null,
   "metadata": {},
   "outputs": [
    {
     "name": "stderr",
     "output_type": "stream",
     "text": [
      "c:\\Users\\E\\AppData\\Local\\Programs\\Python\\Python311\\Lib\\site-packages\\torchvision\\models\\_utils.py:208: UserWarning: The parameter 'pretrained' is deprecated since 0.13 and may be removed in the future, please use 'weights' instead.\n",
      "  warnings.warn(\n",
      "c:\\Users\\E\\AppData\\Local\\Programs\\Python\\Python311\\Lib\\site-packages\\torchvision\\models\\_utils.py:223: UserWarning: Arguments other than a weight enum or `None` for 'weights' are deprecated since 0.13 and may be removed in the future. The current behavior is equivalent to passing `weights=ResNet18_Weights.IMAGENET1K_V1`. You can also use `weights=ResNet18_Weights.DEFAULT` to get the most up-to-date weights.\n",
      "  warnings.warn(msg)\n"
     ]
    },
    {
     "name": "stdout",
     "output_type": "stream",
     "text": [
      "acc:0.8312\n",
      "f1:0.8258\n"
     ]
    }
   ],
   "source": [
    "import torchvision.models as models\n",
    "\n",
    "new_load_model = models.resnet18(pretrained=True)     # 使用內建的 model \n",
    "\n",
    "optimizer = torch.optim.SGD(new_load_model.parameters(), lr = 0.001) # 選擇你想用的 optimizer\n",
    "# optimizer = torch.optim.Adam(model_VGG16.parameters(), lr =0.01)\n",
    "\n",
    "# Loss function\n",
    "loss_fn = nn.CrossEntropyLoss()                # 選擇想用的 loss functionmodel_vgg16 = \n",
    "\n",
    "\n",
    "\n",
    "\n",
    "# VGG16 setting\n",
    "# =============\n",
    "# # 获取分类器中最后一个全连接层之前的部分\n",
    "# classifier = list(new_load_VGG16.classifier.children())[:-1]\n",
    "\n",
    "# # 移除原始模型的最后一个全连接层\n",
    "# # 并添加一个新的全连接层，输出特征数为 7\n",
    "# classifier.append(torch.nn.Linear(4096, 7))\n",
    "\n",
    "# # 替换原始模型的分类器\n",
    "# new_load_VGG16.classifier = torch.nn.Sequential(*classifier)\n",
    "\n",
    "# ============\n",
    "\n",
    "# resnet setting\n",
    "#  ============\n",
    "# change fully connected layer to 7\n",
    "num_ftrs = new_load_model.fc.in_features\n",
    "new_load_model.fc = nn.Linear(num_ftrs, 7)\n",
    "#  ============\n",
    "\n",
    "\n",
    "new_load_model =  new_load_model.to(device)\n",
    "\n",
    "new_load_model.load_state_dict(torch.load(\"./best_model_pretrain_Resnet18_7.pth\", map_location=device))\n",
    "\n",
    "from torchinfo import summary\n",
    "\n",
    "# summary(model_preTrained_VGG16_7, input_size=[1,3,224,224])\n",
    "\n",
    "\n",
    "\n",
    "\n",
    "\n",
    "# Start the timer\n",
    "from timeit import default_timer as timer\n",
    "start_time = timer()\n",
    "\n",
    "new_load_model.eval()\n",
    "\n",
    "loss, acc, f1 = test_step(new_load_model,\n",
    "                        loss_fn=loss_fn,\n",
    "                        dataloader=test_data_loader_224,\n",
    "                        device=device)\n",
    "\n",
    "print(\"acc:{:.4f}\".format(acc))\n",
    "print(\"f1:{:.4f}\".format(f1))\n",
    "\n"
   ]
  },
  {
   "cell_type": "code",
   "execution_count": null,
   "metadata": {},
   "outputs": [
    {
     "name": "stdout",
     "output_type": "stream",
     "text": [
      "0.6782166653058745\n",
      "acc:0.7466\n",
      "f1:0.7649\n"
     ]
    }
   ],
   "source": [
    "print(loss)\n",
    "print(\"acc:{:.4f}\".format(acc))\n",
    "print(\"f1:{:.4f}\".format(f1))\n"
   ]
  },
  {
   "cell_type": "code",
   "execution_count": null,
   "metadata": {},
   "outputs": [],
   "source": [
    "# image_path = \"./HAM10000/images/ISIC_0024306.jpg\"\n",
    "\n",
    "# def img2tensor(img_path):\n",
    "#     img = cv2.imread(img_path)\n",
    "#     img = cv2.resize(img, (224, 224))\n",
    "\n",
    "#     data = torch.from_numpy(img).permute(2, 0, 1).unsqueeze(0).float() / 255.0\n",
    "#     return data\n",
    "\n",
    "# def flattenTensor(tensor):\n",
    "#     tensor = torch.squeeze(tensor)\n",
    "#     flatted_tensor = tensor.view(-1)\n",
    "#     return flatted_tensor\n",
    "\n",
    "# # output = conv_layer(input_data)\n",
    "# # print(input_data.shape)\n",
    "# # print(output.shape)\n",
    "\n",
    "# # output = conv_block(input_data)\n",
    "# # output = conv_block_2(output)\n",
    "# input_data = img2tensor(image_path)\n",
    "# input_data = input_data.to(device)\n",
    "\n",
    "# model_VGG16.eval()\n",
    "# with torch.no_grad():\n",
    "#     output = model_VGG16(input_data)\n",
    "# prob = torch.softmax(output, dim=1)\n",
    "# print(input_data.shape)\n",
    "# print(output.shape)\n",
    "# print(prob)\n",
    "# print(flattenTensor(output).shape)"
   ]
  },
  {
   "cell_type": "code",
   "execution_count": null,
   "metadata": {},
   "outputs": [],
   "source": [
    "# import os\n",
    "# import csv\n",
    "# import time\n",
    "\n",
    "# input_folder = \"HAM10000/images/\"\n",
    "# csvfile_name = \"./img_conv3.csv\"\n",
    "\n",
    "\n",
    "# res = []\n",
    "\n",
    "# # open every img\n",
    "# start = time.time()\n",
    "# for filename in os.listdir(input_folder):\n",
    "\n",
    "#     image_path  = os.path.join(input_folder, filename)\n",
    "#     # print(image_path)\n",
    "#     img = img2tensor(image_path)\n",
    "#     tensor = conv3(img)\n",
    "#     tensor = flattenTensor(tensor)\n",
    "#     vec = tensor.tolist()\n",
    "\n",
    "#     vec = [filename] + vec\n",
    "#     res.append(vec)\n",
    "# end = time.time()\n",
    "\n",
    "# print(\"time cost : {}\".format(end - start))\n",
    "\n",
    "# # print(res)\n",
    "# with open(csvfile_name, 'w', newline='', encoding='utf-8') as csvfile:\n",
    "#     # try:\n",
    "#     csvwriter = csv.writer(csvfile)\n",
    "#     csvwriter.writerows(res)\n",
    "#     # except Exception as e:\n",
    "#     #     logging.error(\"csv error : %s\" , e)\n",
    "#     #     print('csv encoding error')"
   ]
  },
  {
   "cell_type": "markdown",
   "metadata": {},
   "source": [
    "## Tiny VGG"
   ]
  },
  {
   "cell_type": "markdown",
   "metadata": {},
   "source": [
    "input wiil be [3, 64, 64]"
   ]
  },
  {
   "cell_type": "code",
   "execution_count": null,
   "metadata": {},
   "outputs": [],
   "source": [
    "# # Set random seeds\n",
    "\n",
    "# torch.manual_seed(42)\n",
    "# torch.cuda.manual_seed(42)\n",
    "\n",
    "# # Set number of epochs\n",
    "# NUM_EPOCHS = 30\n",
    "\n",
    "# # Recreate an instance of TinyVGG\n",
    "# model_0 = TinyVGG(input_shape=3, # numbers of color channels\n",
    "#           hidden_units=10,\n",
    "#           output_shape=7).to(device)\n",
    "\n",
    "# # Setup loss function and optimizer\n",
    "# loss_fn = nn.CrossEntropyLoss()\n",
    "# optimizer = torch.optim.Adam(params=model_0.parameters(),\n",
    "#                 lr =0.001)\n",
    "\n",
    "# # Start the timer\n",
    "# from timeit import default_timer as timer\n",
    "# start_time = timer()\n",
    "\n",
    "# # Train model_0\n",
    "# model_0_results = train(model=model_0,\n",
    "#               train_dataloader=train_data_loader,\n",
    "#               test_dataloader=test_data_loader,\n",
    "#               optimizer=optimizer,\n",
    "#               loss_fn=loss_fn,\n",
    "#               epochs=NUM_EPOCHS)\n",
    "\n",
    "# # End the timer and print out how long it took\n",
    "# end_time = timer()\n",
    "# print(f\"Total training time: {end_time-start_time:.3f} seconds\")"
   ]
  },
  {
   "cell_type": "markdown",
   "metadata": {},
   "source": [
    "\n",
    " 83%|████████▎ | 25/30 [25:30<05:04, 60.83s/it]\n",
    "Epoch: 24 | Train loss: 0.5824 | Train acc: 0.7830 | Test loss: 0.8261 | Test acc: 0.7118  \n",
    " 87%|████████▋ | 26/30 [26:31<04:03, 60.86s/it]\n",
    "Epoch: 25 | Train loss: 0.5774 | Train acc: 0.7839 | Test loss: 0.8404 | Test acc: 0.7162  \n",
    " 90%|█████████ | 27/30 [27:32<03:02, 60.86s/it]\n",
    "Epoch: 26 | Train loss: 0.5776 | Train acc: 0.7862 | Test loss: 0.8416 | Test acc: 0.7101  \n",
    " 93%|█████████▎| 28/30 [28:33<02:01, 60.82s/it]\n",
    "Epoch: 27 | Train loss: 0.5675 | Train acc: 0.7873 | Test loss: 0.8176 | Test acc: 0.7065  \n",
    " 97%|█████████▋| 29/30 [29:34<01:00, 60.79s/it]\n",
    "Epoch: 28 | Train loss: 0.5592 | Train acc: 0.7901 | Test loss: 0.8350 | Test acc: 0.7147  \n",
    "100%|██████████| 30/30 [30:35<00:00, 61.17s/it]\n",
    "Epoch: 29 | Train loss: 0.5536 | Train acc: 0.7954 | Test loss: 0.8560 | Test acc: 0.7035  \n",
    "Total training time: 1835.003 seconds\n"
   ]
  },
  {
   "cell_type": "code",
   "execution_count": null,
   "metadata": {},
   "outputs": [],
   "source": []
  }
 ],
 "metadata": {
  "language_info": {
   "name": "python"
  }
 },
 "nbformat": 4,
 "nbformat_minor": 2
}
