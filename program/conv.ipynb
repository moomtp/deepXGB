{
 "cells": [
  {
   "cell_type": "markdown",
   "metadata": {},
   "source": [
    "### eval testing"
   ]
  },
  {
   "cell_type": "markdown",
   "metadata": {},
   "source": [
    "## import lib & var setting"
   ]
  },
  {
   "cell_type": "code",
   "execution_count": 1,
   "metadata": {
    "tags": []
   },
   "outputs": [
    {
     "ename": "ImportError",
     "evalue": "cannot import name 'discord_bot_notifier' from 'helperFunction.helperFunctions' (c:\\Users\\E\\Desktop\\deepXGB\\deepXGB\\program\\helperFunction\\helperFunctions.py)",
     "output_type": "error",
     "traceback": [
      "\u001b[1;31m---------------------------------------------------------------------------\u001b[0m",
      "\u001b[1;31mImportError\u001b[0m                               Traceback (most recent call last)",
      "Cell \u001b[1;32mIn[1], line 26\u001b[0m\n\u001b[0;32m     23\u001b[0m \u001b[38;5;28;01mfrom\u001b[39;00m \u001b[38;5;21;01mtimeit\u001b[39;00m \u001b[38;5;28;01mimport\u001b[39;00m default_timer \u001b[38;5;28;01mas\u001b[39;00m timer\n\u001b[0;32m     25\u001b[0m \u001b[38;5;28;01mimport\u001b[39;00m \u001b[38;5;21;01masyncio\u001b[39;00m \n\u001b[1;32m---> 26\u001b[0m \u001b[38;5;28;01mfrom\u001b[39;00m \u001b[38;5;21;01mhelperFunction\u001b[39;00m\u001b[38;5;21;01m.\u001b[39;00m\u001b[38;5;21;01mhelperFunctions\u001b[39;00m \u001b[38;5;28;01mimport\u001b[39;00m discord_bot_notifier\n",
      "\u001b[1;31mImportError\u001b[0m: cannot import name 'discord_bot_notifier' from 'helperFunction.helperFunctions' (c:\\Users\\E\\Desktop\\deepXGB\\deepXGB\\program\\helperFunction\\helperFunctions.py)"
     ]
    }
   ],
   "source": [
    "# Import Pytorch\n",
    "import torch\n",
    "from torch import nn\n",
    "\n",
    "# Import torchvision\n",
    "import torchvision\n",
    "from torchvision import datasets\n",
    "from torchvision import transforms\n",
    "from torchvision.transforms import ToTensor\n",
    "\n",
    "# Import matplotlib for visulization\n",
    "import matplotlib.pyplot as plt\n",
    "\n",
    "import sys \n",
    "\n",
    "import cv2\n",
    "\n",
    "import pandas as pd  # 資料分析套件\n",
    "import numpy as np\n",
    "import os\n",
    "from time import time\n",
    "import re\n",
    "from timeit import default_timer as timer\n",
    "\n",
    "import asyncio "
   ]
  },
  {
   "cell_type": "code",
   "execution_count": 9,
   "metadata": {},
   "outputs": [],
   "source": [
    "\n",
    "\n"
   ]
  },
  {
   "cell_type": "code",
   "execution_count": 14,
   "metadata": {},
   "outputs": [],
   "source": [
    "# ===== var setting   ========\n",
    "\n",
    "# csv_file = '../data/img_feature.csv'\n",
    "# csv_file = '../data/img_feature_no_masked.csv'\n",
    "csv_file = '../data/img_conv2.csv'\n",
    "# random_seed = 42\n",
    "# dataset_path = \"../HAM10000/base_img_data/\"\n",
    "dataset_path = \"../HAM10000/images/\"\n",
    "groundtruth_file = '../HAM10000/GroundTruth.csv'"
   ]
  },
  {
   "cell_type": "markdown",
   "metadata": {},
   "source": [
    "## prepocessing train & test data"
   ]
  },
  {
   "cell_type": "markdown",
   "metadata": {},
   "source": [
    "### create name to label dict"
   ]
  },
  {
   "cell_type": "markdown",
   "metadata": {},
   "source": [
    "### 分出train 跟test的data loader"
   ]
  },
  {
   "cell_type": "code",
   "execution_count": 15,
   "metadata": {},
   "outputs": [],
   "source": [
    "import random\n",
    "import os\n",
    "import torch\n",
    "from torch.utils.data import Dataset, DataLoader\n",
    "from PIL import Image\n",
    "from helperFunction.CustomImageDataset import CustomImageDataset \n",
    "\n",
    "\n",
    "gray_mean = sum([0.485, 0.456, 0.406]) / 3\n",
    "gray_std = sum([0.229, 0.224, 0.225]) / 3\n",
    "\n",
    "\n",
    "# 可以加入轉換\n",
    "transform64 = torchvision.transforms.Compose([\n",
    "    transforms.Resize(size=(64,64)),\n",
    "    torchvision.transforms.ToTensor()\n",
    "    # 其他轉換\n",
    "])\n",
    "\n",
    "transform_std = transforms.Compose([\n",
    "    transforms.Resize(256),\n",
    "    transforms.CenterCrop(224),\n",
    "    transforms.ToTensor(),\n",
    "    transforms.Normalize(mean=[0.485, 0.456, 0.406], std=[0.229, 0.224, 0.225]),\n",
    "])\n",
    "\n",
    "transform_gray_single_channel = transforms.Compose([\n",
    "    transforms.Resize(256),  # 调整图像大小至256x256\n",
    "    transforms.CenterCrop(224),  # 中心裁剪至224x224\n",
    "    transforms.Grayscale(),  # 将图像转换为灰度图\n",
    "    transforms.ToTensor(),  # 转换为Tensor\n",
    "    # 归一化，均值和标准差应根据灰度图的实际分布进行调整\n",
    "    # 这里使用ImageNet预训练模型的均值和标准差的平均值作为示例\n",
    "    transforms.Normalize(mean=[0.449], std=[0.226]),\n",
    "])\n",
    "\n",
    "transform_gray_pretrain_fit = transforms.Compose([\n",
    "    # transforms.Grayscale(num_output_channels=1),  # 将图像转换为单通道灰度图像\n",
    "    # transforms.Lambda(lambda x: x.repeat(3, 1, 1)),  # 复制灰度通道到三个通道\n",
    "    # 其他需要的转换，如 Resize, Normalize 等\n",
    "    transforms.Resize(256),  # 例如，调整图像大小\n",
    "    transforms.CenterCrop(224),  # 中心裁剪\n",
    "    transforms.ToTensor(),  # 转换为Tensor\n",
    "    transforms.Normalize(mean=[0.485, 0.456, 0.406], std=[0.229, 0.224, 0.225]),  # 归一化\n",
    "])\n",
    "\n",
    "transform_gray_CT_img_fit = transforms.Compose([\n",
    "    # transforms.Grayscale(num_output_channels=1),  # 将图像转换为单通道灰度图像\n",
    "    # transforms.Lambda(lambda x: x.repeat(3, 1, 1)),  # 复制灰度通道到三个通道\n",
    "    # 其他需要的转换，如 Resize, Normalize 等\n",
    "    transforms.Resize(256),  # 例如，调整图像大小\n",
    "    transforms.CenterCrop(224),  # 中心裁剪\n",
    "    transforms.ToTensor(),  # 转换为Tensor\n",
    "    transforms.Normalize(mean=[gray_mean,gray_mean,gray_mean], std=[gray_std,gray_std,gray_std]),  # 归一化\n",
    "])\n",
    "\n",
    "\n"
   ]
  },
  {
   "cell_type": "code",
   "execution_count": 16,
   "metadata": {},
   "outputs": [],
   "source": [
    "# @transform test unit\n",
    "\n",
    "# image = Image.open('../data/chestCTData/images/train/adenocarcinoma/000000 (6).png')\n",
    "\n",
    "# # 打印图像的格式\n",
    "# print(\"Format:\", image.format)\n",
    "\n",
    "# # 打印图像的尺寸\n",
    "# print(\"Size:\", image.size)\n",
    "\n",
    "# # 打印图像的模式\n",
    "# print(\"Mode:\", image.mode)\n",
    "\n",
    "# # 打印图像的额外信息（如果有的话）\n",
    "# print(\"Info:\", image.info)\n",
    "\n",
    "# # 将图像转换为NumPy数组\n",
    "# image_array = np.array(image)\n",
    "\n",
    "# # 打印图像数组的形状和部分像素值\n",
    "# print(\"Image shape:\", image_array.shape)\n",
    "# print(\"Some pixel values:\", image_array[100:110, 100:110])  # 打印左上角5x5区域的像素值\n",
    "\n",
    "# transformed_img = transform_gray(image)\n",
    "\n",
    "# print(transformed_img.shape)"
   ]
  },
  {
   "cell_type": "code",
   "execution_count": 17,
   "metadata": {},
   "outputs": [],
   "source": [
    "sys.path.append(os.path.abspath('..'))\n",
    "\n",
    "from data.chestCTData.chestCTDataloader import ChestCTDataProcessor\n",
    "from data.HAM10000.ham10000Dataloader import HAM10000DataProcessor\n",
    "\n",
    "# dataContainer = ChestCTDataProcessor(transform=transform_gray_single_channel) # for [1,224,224]\n",
    "# dataContainer = ChestCTDataProcessor(transform=transform_std) # for [3,224,224]\n",
    "dataContainer = HAM10000DataProcessor(transform=transform_std)\n",
    "\n",
    "# model_folder_path = '../model/CT chest'\n",
    "model_folder_path = '../model/HAM10000'\n",
    "\n",
    "# transform_file_prefix = \"/one_channel\"\n",
    "transform_file_prefix = \"/three_channel\"\n",
    "\n",
    "train_dataloader , test_dataloader = dataContainer.returnDataloaders()\n",
    "\n",
    "num_classes = dataContainer.getNumClasses()\n",
    "\n",
    "# dataContainer.dataPreprocess()"
   ]
  },
  {
   "cell_type": "code",
   "execution_count": 18,
   "metadata": {},
   "outputs": [
    {
     "name": "stdout",
     "output_type": "stream",
     "text": [
      "Image shape: torch.Size([32, 3, 224, 224]) -> [batch_size, color_channels, height, width]\n",
      "Label shape: torch.Size([32])\n"
     ]
    }
   ],
   "source": [
    "img, label = next(iter(train_dataloader))\n",
    "\n",
    "# Batch size will now be 1, you can cahnge the batch size if you like\n",
    "print(f\"Image shape: {img.shape} -> [batch_size, color_channels, height, width]\")\n",
    "print(f\"Label shape: {label.shape}\") # equal to batch siz"
   ]
  },
  {
   "cell_type": "code",
   "execution_count": 19,
   "metadata": {},
   "outputs": [],
   "source": [
    "# 儲存file list的資訊給XGB訓練時使用\n",
    "# import json\n",
    "# with open('test_files_list.json', 'w') as f:\n",
    "#     json.dump(test_files, f)\n",
    "# with open('train_files_list.json', 'w') as f:\n",
    "#     json.dump(train_files, f)"
   ]
  },
  {
   "cell_type": "code",
   "execution_count": 20,
   "metadata": {},
   "outputs": [
    {
     "data": {
      "text/plain": [
       "'cuda'"
      ]
     },
     "execution_count": 20,
     "metadata": {},
     "output_type": "execute_result"
    }
   ],
   "source": [
    "import torch\n",
    "# Setup device-agnostic code\n",
    "device = \"cuda\" if torch.cuda.is_available() else \"cpu\"\n",
    "device"
   ]
  },
  {
   "cell_type": "markdown",
   "metadata": {},
   "source": [
    "## Train & test function defination"
   ]
  },
  {
   "cell_type": "code",
   "execution_count": 21,
   "metadata": {},
   "outputs": [],
   "source": [
    "# Cteate train_step()\n",
    "def train_step(model: torch.nn.Module,\n",
    "        dataloader: torch.utils.data.DataLoader,\n",
    "        loss_fn: torch.nn.Module,\n",
    "        optimizer: torch.optim.Optimizer,\n",
    "        device=device):\n",
    "  # Put the model in train mode\n",
    "  model.train()\n",
    "\n",
    "  # Setup train loss and train accuracy values\n",
    "  train_loss, train_acc = 0, 0\n",
    "\n",
    "  # Loop thourgh data loader data batches\n",
    "  for batch,(X, y) in enumerate(dataloader):\n",
    "    # Send data to the target device\n",
    "    X, y = X.to(device) , y.to(device)\n",
    "\n",
    "    # 1. Forward pass\n",
    "    y_pred = model(X)\n",
    "\n",
    "    # 2. Calculate the loss\n",
    "    loss = loss_fn(y_pred, y)\n",
    "    train_loss += loss.item()\n",
    "\n",
    "    # 3. Optimizer zero grad\n",
    "    optimizer.zero_grad()\n",
    "\n",
    "    # 4. Loss backward\n",
    "    loss.backward()\n",
    "\n",
    "    # 5 Optimizer step\n",
    "    optimizer.step()\n",
    "\n",
    "    # Calculat accuracy metric\n",
    "    y_pred_class = torch.argmax(torch.softmax(y_pred, dim=1), dim=1)\n",
    "    train_acc += (y_pred_class==y).sum().item()/len(y_pred)\n",
    "\n",
    "  # Adjust metrics to get average loss and accuracy per batch\n",
    "  train_loss = train_loss / len(dataloader)\n",
    "  train_acc = train_acc / len(dataloader)\n",
    "  return train_loss, train_acc"
   ]
  },
  {
   "cell_type": "code",
   "execution_count": 22,
   "metadata": {},
   "outputs": [],
   "source": [
    "from sklearn.metrics import f1_score\n",
    "# Create a test step\n",
    "def test_step(model: torch.nn.Module,\n",
    "        dataloader: torch.utils.data.DataLoader,\n",
    "        loss_fn: torch.nn.Module,\n",
    "        device=device):\n",
    "  # Put the model in eval mode\n",
    "  model.eval()\n",
    "\n",
    "  # Setup test loss and test accuracy values\n",
    "  test_loss, test_acc, all_preds, all_labels = 0, 0, [], []\n",
    "\n",
    "  with torch.inference_mode():\n",
    "    # Loop thourgh data loader data batches\n",
    "    for batch,(X, y) in enumerate(dataloader):\n",
    "      # Send data to the target device\n",
    "      X, y = X.to(device) , y.to(device)\n",
    "\n",
    "      # 1. Forward pass\n",
    "      test_pred_logits = model(X)\n",
    "\n",
    "      # 2. Calculate the loss\n",
    "      loss = loss_fn(test_pred_logits, y)\n",
    "      test_loss += loss.item()\n",
    "\n",
    "\n",
    "      # Calculate accuracy\n",
    "      test_pred_labels = test_pred_logits.argmax(dim=1) # Maybe same as softmax results?\n",
    "      test_acc += (test_pred_labels==y).sum().item() / len(test_pred_labels)\n",
    "\n",
    "      all_preds.extend(test_pred_labels.cpu().numpy())\n",
    "      all_labels.extend(y.cpu().numpy())\n",
    "\n",
    "  # Adjust metrics to get average loss and accuracy per batch\n",
    "  test_loss = test_loss / len(dataloader)\n",
    "  test_acc = test_acc / len(dataloader)\n",
    "  # cal F1 score\n",
    "  f1 = f1_score(all_labels, all_preds, average='weighted')\n",
    "\n",
    "  return test_loss, test_acc, f1"
   ]
  },
  {
   "cell_type": "code",
   "execution_count": 23,
   "metadata": {},
   "outputs": [],
   "source": [
    "from tqdm.auto import tqdm\n",
    "\n",
    "# 1. Create a train function that takes in various model parameters + optimizer + dataloader + loss functoin\n",
    "def train(model: torch.nn.Module,\n",
    "          train_dataloader: torch.utils.data.DataLoader,\n",
    "          test_dataloader: torch.utils.data.DataLoader,\n",
    "          optimizer: torch.optim.Optimizer,\n",
    "          loss_fn: torch.nn.Module = nn.CrossEntropyLoss(),\n",
    "          epochs: int = 5,\n",
    "          best_model_name: str = \"best_model.pth\",\n",
    "          device=device,\n",
    "          enable_early_stop=True):\n",
    "  # 2. Create empty results dicitonary\n",
    "  results = {\"train_loss\": [],\n",
    "        \"train_acc\":[],\n",
    "        \"test_loss\": [],\n",
    "        \"test_acc\":[]}\n",
    "  \n",
    "  # init best model loss var\n",
    "  best_test_loss = float('inf')\n",
    "  best_model = None\n",
    "  early_stop_count = 0\n",
    "  early_stop_limit = 7\n",
    "\n",
    "  # 3. Loop through training and testing steps for a number of epochs\n",
    "  for epoch in tqdm(range(epochs)):\n",
    "    train_loss, train_acc = train_step(model=model,\n",
    "                        dataloader=train_dataloader,\n",
    "                        loss_fn=loss_fn,\n",
    "                        optimizer=optimizer,\n",
    "                        device=device)\n",
    "    test_loss, test_acc, test_f1 = test_step(model=model,\n",
    "                      dataloader=test_dataloader,\n",
    "                      loss_fn=loss_fn,\n",
    "                      device=device)\n",
    "    # 4. Print out what's happening\n",
    "    print(f\"Epoch: {epoch} | Train loss: {train_loss:.4f} | Train acc: {train_acc:.4f} | Test loss: {test_loss:.4f} | Test acc: {test_acc:.4f} |  F1 score: {test_f1:.4f}   \")\n",
    "\n",
    "    # 5. Update results dictionary\n",
    "    results[\"train_loss\"].append(train_loss)\n",
    "    results[\"train_acc\"].append(train_acc)\n",
    "    results[\"test_loss\"].append(test_loss)\n",
    "    results[\"test_acc\"].append(test_acc)\n",
    "\n",
    "    if test_loss < best_test_loss:\n",
    "      best_test_loss = test_loss\n",
    "      best_test_acc = test_acc\n",
    "      best_test_f1 = test_f1\n",
    "      # best_model = model.state_dict()\n",
    "      torch.save(model.state_dict(), best_model_name)\n",
    "      early_stop_count = 0\n",
    "    else:\n",
    "      if enable_early_stop:\n",
    "        early_stop_count += 1\n",
    "    \n",
    "    if early_stop_count >= early_stop_limit:\n",
    "      print(\"Early stopping triggered.\")\n",
    "      break\n",
    "\n",
    "  # 6. Return the filled results at the end of the eopchs\n",
    "      \n",
    "  # save best model\n",
    "  # torch.save(best_model, best_model_name)\n",
    "  print(\"the best test acc is :{:.4f}\".format(best_test_acc))\n",
    "  print(\"the best F1 score is :{:.4f}\".format(best_test_f1))\n",
    "  return results"
   ]
  },
  {
   "cell_type": "markdown",
   "metadata": {},
   "source": [
    "# Train model"
   ]
  },
  {
   "cell_type": "markdown",
   "metadata": {},
   "source": [
    "## VGG"
   ]
  },
  {
   "cell_type": "markdown",
   "metadata": {},
   "source": [
    "load preTrained VGG16, num_class = 1000"
   ]
  },
  {
   "cell_type": "code",
   "execution_count": 29,
   "metadata": {},
   "outputs": [
    {
     "name": "stderr",
     "output_type": "stream",
     "text": [
      "c:\\Users\\E\\AppData\\Local\\Programs\\Python\\Python311\\Lib\\site-packages\\torchvision\\models\\_utils.py:208: UserWarning: The parameter 'pretrained' is deprecated since 0.13 and may be removed in the future, please use 'weights' instead.\n",
      "  warnings.warn(\n",
      "c:\\Users\\E\\AppData\\Local\\Programs\\Python\\Python311\\Lib\\site-packages\\torchvision\\models\\_utils.py:223: UserWarning: Arguments other than a weight enum or `None` for 'weights' are deprecated since 0.13 and may be removed in the future. The current behavior is equivalent to passing `weights=VGG16_Weights.IMAGENET1K_V1`. You can also use `weights=VGG16_Weights.DEFAULT` to get the most up-to-date weights.\n",
      "  warnings.warn(msg)\n",
      "  0%|          | 0/40 [00:00<?, ?it/s]"
     ]
    },
    {
     "name": "stdout",
     "output_type": "stream",
     "text": [
      "Epoch: 0 | Train loss: 3.1632 | Train acc: 0.3028 | Test loss: 1.3673 | Test acc: 0.4921 |  F1 score: 0.4772   \n"
     ]
    },
    {
     "name": "stderr",
     "output_type": "stream",
     "text": [
      "  2%|▎         | 1/40 [00:16<10:43, 16.51s/it]"
     ]
    },
    {
     "name": "stdout",
     "output_type": "stream",
     "text": [
      "Epoch: 1 | Train loss: 1.2012 | Train acc: 0.5963 | Test loss: 1.0539 | Test acc: 0.5698 |  F1 score: 0.5563   \n"
     ]
    },
    {
     "name": "stderr",
     "output_type": "stream",
     "text": [
      "  5%|▌         | 2/40 [00:28<08:53, 14.03s/it]"
     ]
    },
    {
     "name": "stdout",
     "output_type": "stream",
     "text": [
      "Epoch: 2 | Train loss: 0.8656 | Train acc: 0.6750 | Test loss: 0.9513 | Test acc: 0.5681 |  F1 score: 0.5541   \n"
     ]
    },
    {
     "name": "stderr",
     "output_type": "stream",
     "text": [
      " 10%|█         | 4/40 [00:51<07:20, 12.23s/it]"
     ]
    },
    {
     "name": "stdout",
     "output_type": "stream",
     "text": [
      "Epoch: 3 | Train loss: 0.7793 | Train acc: 0.6981 | Test loss: 3.1282 | Test acc: 0.2466 |  F1 score: 0.1630   \n"
     ]
    },
    {
     "name": "stderr",
     "output_type": "stream",
     "text": [
      " 12%|█▎        | 5/40 [01:02<06:50, 11.72s/it]"
     ]
    },
    {
     "name": "stdout",
     "output_type": "stream",
     "text": [
      "Epoch: 4 | Train loss: 0.7704 | Train acc: 0.7369 | Test loss: 1.0096 | Test acc: 0.5786 |  F1 score: 0.5484   \n",
      "Epoch: 5 | Train loss: 0.5149 | Train acc: 0.8063 | Test loss: 0.8682 | Test acc: 0.6220 |  F1 score: 0.6045   \n"
     ]
    },
    {
     "name": "stderr",
     "output_type": "stream",
     "text": [
      " 18%|█▊        | 7/40 [01:25<06:23, 11.62s/it]"
     ]
    },
    {
     "name": "stdout",
     "output_type": "stream",
     "text": [
      "Epoch: 6 | Train loss: 0.4543 | Train acc: 0.8238 | Test loss: 1.5038 | Test acc: 0.5638 |  F1 score: 0.4828   \n",
      "Epoch: 7 | Train loss: 0.4121 | Train acc: 0.8672 | Test loss: 0.8676 | Test acc: 0.6448 |  F1 score: 0.6195   \n"
     ]
    },
    {
     "name": "stderr",
     "output_type": "stream",
     "text": [
      " 20%|██        | 8/40 [01:38<06:20, 11.90s/it]"
     ]
    },
    {
     "name": "stdout",
     "output_type": "stream",
     "text": [
      "Epoch: 8 | Train loss: 0.3451 | Train acc: 0.8812 | Test loss: 0.8528 | Test acc: 0.6360 |  F1 score: 0.6133   \n"
     ]
    },
    {
     "name": "stderr",
     "output_type": "stream",
     "text": [
      " 22%|██▎       | 9/40 [01:50<06:14, 12.07s/it]"
     ]
    },
    {
     "name": "stdout",
     "output_type": "stream",
     "text": [
      "Epoch: 9 | Train loss: 0.2919 | Train acc: 0.8969 | Test loss: 0.7619 | Test acc: 0.6769 |  F1 score: 0.6744   \n"
     ]
    },
    {
     "name": "stderr",
     "output_type": "stream",
     "text": [
      " 28%|██▊       | 11/40 [02:14<05:42, 11.81s/it]"
     ]
    },
    {
     "name": "stdout",
     "output_type": "stream",
     "text": [
      "Epoch: 10 | Train loss: 0.2481 | Train acc: 0.8994 | Test loss: 0.8318 | Test acc: 0.6255 |  F1 score: 0.6109   \n"
     ]
    },
    {
     "name": "stderr",
     "output_type": "stream",
     "text": [
      " 30%|███       | 12/40 [02:25<05:22, 11.52s/it]"
     ]
    },
    {
     "name": "stdout",
     "output_type": "stream",
     "text": [
      "Epoch: 11 | Train loss: 0.2359 | Train acc: 0.9119 | Test loss: 1.6538 | Test acc: 0.5124 |  F1 score: 0.4115   \n",
      "Epoch: 12 | Train loss: 0.2089 | Train acc: 0.9344 | Test loss: 0.7575 | Test acc: 0.6536 |  F1 score: 0.6392   \n"
     ]
    },
    {
     "name": "stderr",
     "output_type": "stream",
     "text": [
      " 32%|███▎      | 13/40 [02:37<05:16, 11.72s/it]"
     ]
    },
    {
     "name": "stdout",
     "output_type": "stream",
     "text": [
      "Epoch: 13 | Train loss: 0.1541 | Train acc: 0.9516 | Test loss: 0.7144 | Test acc: 0.6815 |  F1 score: 0.6727   \n"
     ]
    },
    {
     "name": "stderr",
     "output_type": "stream",
     "text": [
      " 38%|███▊      | 15/40 [03:00<04:50, 11.60s/it]"
     ]
    },
    {
     "name": "stdout",
     "output_type": "stream",
     "text": [
      "Epoch: 14 | Train loss: 0.1835 | Train acc: 0.9328 | Test loss: 0.7338 | Test acc: 0.7047 |  F1 score: 0.6987   \n"
     ]
    },
    {
     "name": "stderr",
     "output_type": "stream",
     "text": [
      " 40%|████      | 16/40 [03:11<04:33, 11.38s/it]"
     ]
    },
    {
     "name": "stdout",
     "output_type": "stream",
     "text": [
      "Epoch: 15 | Train loss: 0.1198 | Train acc: 0.9719 | Test loss: 0.7674 | Test acc: 0.6954 |  F1 score: 0.6817   \n"
     ]
    },
    {
     "name": "stderr",
     "output_type": "stream",
     "text": [
      " 42%|████▎     | 17/40 [03:22<04:18, 11.23s/it]"
     ]
    },
    {
     "name": "stdout",
     "output_type": "stream",
     "text": [
      "Epoch: 16 | Train loss: 0.1373 | Train acc: 0.9609 | Test loss: 0.8017 | Test acc: 0.6829 |  F1 score: 0.6634   \n"
     ]
    },
    {
     "name": "stderr",
     "output_type": "stream",
     "text": [
      " 42%|████▎     | 17/40 [03:29<04:44, 12.35s/it]\n"
     ]
    },
    {
     "ename": "KeyboardInterrupt",
     "evalue": "",
     "output_type": "error",
     "traceback": [
      "\u001b[1;31m---------------------------------------------------------------------------\u001b[0m",
      "\u001b[1;31mKeyboardInterrupt\u001b[0m                         Traceback (most recent call last)",
      "Cell \u001b[1;32mIn[29], line 16\u001b[0m\n\u001b[0;32m     13\u001b[0m start_time \u001b[38;5;241m=\u001b[39m timer()\n\u001b[0;32m     15\u001b[0m \u001b[38;5;66;03m# Train model_0\u001b[39;00m\n\u001b[1;32m---> 16\u001b[0m model_VGG_results \u001b[38;5;241m=\u001b[39m \u001b[43mtrain\u001b[49m\u001b[43m(\u001b[49m\u001b[43mmodel\u001b[49m\u001b[38;5;241;43m=\u001b[39;49m\u001b[43mmodel_preTrained_VGG16\u001b[49m\u001b[43m,\u001b[49m\n\u001b[0;32m     17\u001b[0m \u001b[43m              \u001b[49m\u001b[43mtrain_dataloader\u001b[49m\u001b[38;5;241;43m=\u001b[39;49m\u001b[43mtrain_dataloader\u001b[49m\u001b[43m,\u001b[49m\n\u001b[0;32m     18\u001b[0m \u001b[43m              \u001b[49m\u001b[43mtest_dataloader\u001b[49m\u001b[38;5;241;43m=\u001b[39;49m\u001b[43mtest_dataloader\u001b[49m\u001b[43m,\u001b[49m\n\u001b[0;32m     19\u001b[0m \u001b[43m              \u001b[49m\u001b[43moptimizer\u001b[49m\u001b[38;5;241;43m=\u001b[39;49m\u001b[43moptimizer\u001b[49m\u001b[43m,\u001b[49m\n\u001b[0;32m     20\u001b[0m \u001b[43m              \u001b[49m\u001b[43mloss_fn\u001b[49m\u001b[38;5;241;43m=\u001b[39;49m\u001b[43mloss_fn\u001b[49m\u001b[43m,\u001b[49m\n\u001b[0;32m     21\u001b[0m \u001b[43m              \u001b[49m\u001b[43mbest_model_name\u001b[49m\u001b[38;5;241;43m=\u001b[39;49m\u001b[43m \u001b[49m\u001b[43mmodel_folder_path\u001b[49m\u001b[43m \u001b[49m\u001b[38;5;241;43m+\u001b[39;49m\u001b[43m \u001b[49m\u001b[38;5;124;43m\"\u001b[39;49m\u001b[38;5;124;43m/best_model_pretrain_VGG16.pth\u001b[39;49m\u001b[38;5;124;43m\"\u001b[39;49m\u001b[43m,\u001b[49m\n\u001b[0;32m     22\u001b[0m \u001b[43m              \u001b[49m\u001b[43mepochs\u001b[49m\u001b[38;5;241;43m=\u001b[39;49m\u001b[38;5;241;43m40\u001b[39;49m\u001b[43m)\u001b[49m\n\u001b[0;32m     24\u001b[0m \u001b[38;5;66;03m# End the timer and print out how long it took\u001b[39;00m\n\u001b[0;32m     25\u001b[0m end_time \u001b[38;5;241m=\u001b[39m timer()\n",
      "Cell \u001b[1;32mIn[28], line 27\u001b[0m, in \u001b[0;36mtrain\u001b[1;34m(model, train_dataloader, test_dataloader, optimizer, loss_fn, epochs, best_model_name, device, enable_early_stop)\u001b[0m\n\u001b[0;32m     25\u001b[0m \u001b[38;5;66;03m# 3. Loop through training and testing steps for a number of epochs\u001b[39;00m\n\u001b[0;32m     26\u001b[0m \u001b[38;5;28;01mfor\u001b[39;00m epoch \u001b[38;5;129;01min\u001b[39;00m tqdm(\u001b[38;5;28mrange\u001b[39m(epochs)):\n\u001b[1;32m---> 27\u001b[0m   train_loss, train_acc \u001b[38;5;241m=\u001b[39m \u001b[43mtrain_step\u001b[49m\u001b[43m(\u001b[49m\u001b[43mmodel\u001b[49m\u001b[38;5;241;43m=\u001b[39;49m\u001b[43mmodel\u001b[49m\u001b[43m,\u001b[49m\n\u001b[0;32m     28\u001b[0m \u001b[43m                      \u001b[49m\u001b[43mdataloader\u001b[49m\u001b[38;5;241;43m=\u001b[39;49m\u001b[43mtrain_dataloader\u001b[49m\u001b[43m,\u001b[49m\n\u001b[0;32m     29\u001b[0m \u001b[43m                      \u001b[49m\u001b[43mloss_fn\u001b[49m\u001b[38;5;241;43m=\u001b[39;49m\u001b[43mloss_fn\u001b[49m\u001b[43m,\u001b[49m\n\u001b[0;32m     30\u001b[0m \u001b[43m                      \u001b[49m\u001b[43moptimizer\u001b[49m\u001b[38;5;241;43m=\u001b[39;49m\u001b[43moptimizer\u001b[49m\u001b[43m,\u001b[49m\n\u001b[0;32m     31\u001b[0m \u001b[43m                      \u001b[49m\u001b[43mdevice\u001b[49m\u001b[38;5;241;43m=\u001b[39;49m\u001b[43mdevice\u001b[49m\u001b[43m)\u001b[49m\n\u001b[0;32m     32\u001b[0m   test_loss, test_acc, test_f1 \u001b[38;5;241m=\u001b[39m test_step(model\u001b[38;5;241m=\u001b[39mmodel,\n\u001b[0;32m     33\u001b[0m                     dataloader\u001b[38;5;241m=\u001b[39mtest_dataloader,\n\u001b[0;32m     34\u001b[0m                     loss_fn\u001b[38;5;241m=\u001b[39mloss_fn,\n\u001b[0;32m     35\u001b[0m                     device\u001b[38;5;241m=\u001b[39mdevice)\n\u001b[0;32m     36\u001b[0m   \u001b[38;5;66;03m# 4. Print out what's happening\u001b[39;00m\n",
      "Cell \u001b[1;32mIn[26], line 36\u001b[0m, in \u001b[0;36mtrain_step\u001b[1;34m(model, dataloader, loss_fn, optimizer, device)\u001b[0m\n\u001b[0;32m     34\u001b[0m   \u001b[38;5;66;03m# Calculat accuracy metric\u001b[39;00m\n\u001b[0;32m     35\u001b[0m   y_pred_class \u001b[38;5;241m=\u001b[39m torch\u001b[38;5;241m.\u001b[39margmax(torch\u001b[38;5;241m.\u001b[39msoftmax(y_pred, dim\u001b[38;5;241m=\u001b[39m\u001b[38;5;241m1\u001b[39m), dim\u001b[38;5;241m=\u001b[39m\u001b[38;5;241m1\u001b[39m)\n\u001b[1;32m---> 36\u001b[0m   train_acc \u001b[38;5;241m+\u001b[39m\u001b[38;5;241m=\u001b[39m \u001b[43m(\u001b[49m\u001b[43my_pred_class\u001b[49m\u001b[38;5;241;43m==\u001b[39;49m\u001b[43my\u001b[49m\u001b[43m)\u001b[49m\u001b[38;5;241;43m.\u001b[39;49m\u001b[43msum\u001b[49m\u001b[43m(\u001b[49m\u001b[43m)\u001b[49m\u001b[38;5;241;43m.\u001b[39;49m\u001b[43mitem\u001b[49m\u001b[43m(\u001b[49m\u001b[43m)\u001b[49m\u001b[38;5;241m/\u001b[39m\u001b[38;5;28mlen\u001b[39m(y_pred)\n\u001b[0;32m     38\u001b[0m \u001b[38;5;66;03m# Adjust metrics to get average loss and accuracy per batch\u001b[39;00m\n\u001b[0;32m     39\u001b[0m train_loss \u001b[38;5;241m=\u001b[39m train_loss \u001b[38;5;241m/\u001b[39m \u001b[38;5;28mlen\u001b[39m(dataloader)\n",
      "\u001b[1;31mKeyboardInterrupt\u001b[0m: "
     ]
    }
   ],
   "source": [
    "import torchvision.models as models\n",
    "\n",
    "model_preTrained_VGG16 = models.vgg16(pretrained=True).to(device)     # 使用內建的 model \n",
    "\n",
    "optimizer = torch.optim.SGD(model_preTrained_VGG16.parameters(), lr = 0.001) # 選擇你想用的 optimizer\n",
    "# optimizer = torch.optim.Adam(model_VGG16.parameters(), lr =0.01)\n",
    "\n",
    "# Loss function\n",
    "loss_fn = nn.CrossEntropyLoss()                # 選擇想用的 loss functionmodel_vgg16 = \n",
    "\n",
    "# Start the timer\n",
    "start_time = timer()\n",
    "\n",
    "# Train model_0\n",
    "model_VGG_results = train(model=model_preTrained_VGG16,\n",
    "              train_dataloader=train_dataloader,\n",
    "              test_dataloader=test_dataloader,\n",
    "              optimizer=optimizer,\n",
    "              loss_fn=loss_fn,\n",
    "              best_model_name= model_folder_path + \"/best_model_pretrain_VGG16_1000.pth\",\n",
    "              epochs=40)\n",
    "\n",
    "# End the timer and print out how long it took\n",
    "end_time = timer()\n",
    "print(f\"Total training time: {end_time-start_time:.3f} seconds\")"
   ]
  },
  {
   "cell_type": "markdown",
   "metadata": {},
   "source": [
    "output == 7 pretrain VGG"
   ]
  },
  {
   "cell_type": "code",
   "execution_count": 24,
   "metadata": {},
   "outputs": [
    {
     "name": "stderr",
     "output_type": "stream",
     "text": [
      "c:\\Users\\E\\AppData\\Local\\Programs\\Python\\Python311\\Lib\\site-packages\\torchvision\\models\\_utils.py:208: UserWarning: The parameter 'pretrained' is deprecated since 0.13 and may be removed in the future, please use 'weights' instead.\n",
      "  warnings.warn(\n",
      "c:\\Users\\E\\AppData\\Local\\Programs\\Python\\Python311\\Lib\\site-packages\\torchvision\\models\\_utils.py:223: UserWarning: Arguments other than a weight enum or `None` for 'weights' are deprecated since 0.13 and may be removed in the future. The current behavior is equivalent to passing `weights=VGG16_Weights.IMAGENET1K_V1`. You can also use `weights=VGG16_Weights.DEFAULT` to get the most up-to-date weights.\n",
      "  warnings.warn(msg)\n",
      "  0%|          | 0/40 [00:00<?, ?it/s]"
     ]
    },
    {
     "name": "stdout",
     "output_type": "stream",
     "text": [
      "Epoch: 0 | Train loss: 1.0898 | Train acc: 0.6409 | Test loss: 0.8946 | Test acc: 0.6916 |  F1 score: 0.6093   \n"
     ]
    },
    {
     "name": "stderr",
     "output_type": "stream",
     "text": [
      "  2%|▎         | 1/40 [10:32<6:51:16, 632.72s/it]"
     ]
    },
    {
     "name": "stdout",
     "output_type": "stream",
     "text": [
      "Epoch: 1 | Train loss: 0.8719 | Train acc: 0.6925 | Test loss: 0.8122 | Test acc: 0.7086 |  F1 score: 0.6766   \n"
     ]
    },
    {
     "name": "stderr",
     "output_type": "stream",
     "text": [
      "  5%|▌         | 2/40 [21:41<6:54:04, 653.81s/it]"
     ]
    },
    {
     "name": "stdout",
     "output_type": "stream",
     "text": [
      "Epoch: 2 | Train loss: 0.7987 | Train acc: 0.7094 | Test loss: 0.7788 | Test acc: 0.7205 |  F1 score: 0.6826   \n"
     ]
    },
    {
     "name": "stderr",
     "output_type": "stream",
     "text": [
      "  8%|▊         | 3/40 [32:14<6:37:17, 644.25s/it]"
     ]
    },
    {
     "name": "stdout",
     "output_type": "stream",
     "text": [
      "Epoch: 3 | Train loss: 0.7480 | Train acc: 0.7319 | Test loss: 0.7451 | Test acc: 0.7210 |  F1 score: 0.7103   \n"
     ]
    },
    {
     "name": "stderr",
     "output_type": "stream",
     "text": [
      " 10%|█         | 4/40 [44:05<6:42:22, 670.64s/it]"
     ]
    },
    {
     "name": "stdout",
     "output_type": "stream",
     "text": [
      "Epoch: 4 | Train loss: 0.7013 | Train acc: 0.7455 | Test loss: 0.7084 | Test acc: 0.7478 |  F1 score: 0.7152   \n"
     ]
    },
    {
     "name": "stderr",
     "output_type": "stream",
     "text": [
      " 12%|█▎        | 5/40 [55:21<6:32:27, 672.78s/it]"
     ]
    },
    {
     "name": "stdout",
     "output_type": "stream",
     "text": [
      "Epoch: 5 | Train loss: 0.6581 | Train acc: 0.7593 | Test loss: 0.6934 | Test acc: 0.7548 |  F1 score: 0.7294   \n"
     ]
    },
    {
     "name": "stderr",
     "output_type": "stream",
     "text": [
      " 15%|█▌        | 6/40 [1:05:46<6:11:54, 656.32s/it]"
     ]
    },
    {
     "name": "stdout",
     "output_type": "stream",
     "text": [
      "Epoch: 6 | Train loss: 0.6300 | Train acc: 0.7733 | Test loss: 0.6779 | Test acc: 0.7675 |  F1 score: 0.7302   \n"
     ]
    },
    {
     "name": "stderr",
     "output_type": "stream",
     "text": [
      " 18%|█▊        | 7/40 [1:18:17<6:18:08, 687.53s/it]"
     ]
    },
    {
     "name": "stdout",
     "output_type": "stream",
     "text": [
      "Epoch: 7 | Train loss: 0.6078 | Train acc: 0.7855 | Test loss: 0.6405 | Test acc: 0.7665 |  F1 score: 0.7623   \n"
     ]
    },
    {
     "name": "stderr",
     "output_type": "stream",
     "text": [
      " 20%|██        | 8/40 [1:30:25<6:13:33, 700.42s/it]"
     ]
    },
    {
     "name": "stdout",
     "output_type": "stream",
     "text": [
      "Epoch: 8 | Train loss: 0.5844 | Train acc: 0.7920 | Test loss: 0.6276 | Test acc: 0.7766 |  F1 score: 0.7446   \n"
     ]
    },
    {
     "name": "stderr",
     "output_type": "stream",
     "text": [
      " 22%|██▎       | 9/40 [1:41:37<5:57:13, 691.42s/it]"
     ]
    },
    {
     "name": "stdout",
     "output_type": "stream",
     "text": [
      "Epoch: 9 | Train loss: 0.5543 | Train acc: 0.7971 | Test loss: 0.5812 | Test acc: 0.7888 |  F1 score: 0.7762   \n"
     ]
    },
    {
     "name": "stderr",
     "output_type": "stream",
     "text": [
      " 28%|██▊       | 11/40 [2:02:47<5:19:54, 661.90s/it]"
     ]
    },
    {
     "name": "stdout",
     "output_type": "stream",
     "text": [
      "Epoch: 10 | Train loss: 0.5415 | Train acc: 0.8052 | Test loss: 0.5963 | Test acc: 0.7928 |  F1 score: 0.7730   \n",
      "Epoch: 11 | Train loss: 0.5137 | Train acc: 0.8148 | Test loss: 0.5741 | Test acc: 0.7987 |  F1 score: 0.7788   \n"
     ]
    },
    {
     "name": "stderr",
     "output_type": "stream",
     "text": [
      " 30%|███       | 12/40 [2:13:20<5:04:50, 653.22s/it]"
     ]
    },
    {
     "name": "stdout",
     "output_type": "stream",
     "text": [
      "Epoch: 12 | Train loss: 0.4994 | Train acc: 0.8203 | Test loss: 0.5567 | Test acc: 0.8093 |  F1 score: 0.8016   \n"
     ]
    },
    {
     "name": "stderr",
     "output_type": "stream",
     "text": [
      " 35%|███▌      | 14/40 [2:34:09<4:36:18, 637.65s/it]"
     ]
    },
    {
     "name": "stdout",
     "output_type": "stream",
     "text": [
      "Epoch: 13 | Train loss: 0.4838 | Train acc: 0.8275 | Test loss: 0.9473 | Test acc: 0.6210 |  F1 score: 0.6548   \n"
     ]
    },
    {
     "name": "stderr",
     "output_type": "stream",
     "text": [
      " 38%|███▊      | 15/40 [2:44:21<4:22:25, 629.82s/it]"
     ]
    },
    {
     "name": "stdout",
     "output_type": "stream",
     "text": [
      "Epoch: 14 | Train loss: 0.4725 | Train acc: 0.8326 | Test loss: 0.9008 | Test acc: 0.7404 |  F1 score: 0.6761   \n",
      "Epoch: 15 | Train loss: 0.4534 | Train acc: 0.8364 | Test loss: 0.5211 | Test acc: 0.8146 |  F1 score: 0.8029   \n"
     ]
    },
    {
     "name": "stderr",
     "output_type": "stream",
     "text": [
      " 42%|████▎     | 17/40 [3:04:47<3:58:07, 621.20s/it]"
     ]
    },
    {
     "name": "stdout",
     "output_type": "stream",
     "text": [
      "Epoch: 16 | Train loss: 0.4425 | Train acc: 0.8420 | Test loss: 0.6219 | Test acc: 0.7680 |  F1 score: 0.7622   \n"
     ]
    },
    {
     "name": "stderr",
     "output_type": "stream",
     "text": [
      " 45%|████▌     | 18/40 [3:15:01<3:46:59, 619.05s/it]"
     ]
    },
    {
     "name": "stdout",
     "output_type": "stream",
     "text": [
      "Epoch: 17 | Train loss: 0.4193 | Train acc: 0.8511 | Test loss: 0.8971 | Test acc: 0.6397 |  F1 score: 0.6759   \n"
     ]
    },
    {
     "name": "stderr",
     "output_type": "stream",
     "text": [
      " 48%|████▊     | 19/40 [3:26:43<3:45:24, 644.03s/it]"
     ]
    },
    {
     "name": "stdout",
     "output_type": "stream",
     "text": [
      "Epoch: 18 | Train loss: 0.4105 | Train acc: 0.8505 | Test loss: 0.5317 | Test acc: 0.8047 |  F1 score: 0.8067   \n",
      "Epoch: 19 | Train loss: 0.3901 | Train acc: 0.8596 | Test loss: 0.5040 | Test acc: 0.8300 |  F1 score: 0.8196   \n"
     ]
    },
    {
     "name": "stderr",
     "output_type": "stream",
     "text": [
      " 52%|█████▎    | 21/40 [3:52:14<3:44:17, 708.27s/it]"
     ]
    },
    {
     "name": "stdout",
     "output_type": "stream",
     "text": [
      "Epoch: 20 | Train loss: 0.3839 | Train acc: 0.8621 | Test loss: 0.7373 | Test acc: 0.7701 |  F1 score: 0.7183   \n"
     ]
    },
    {
     "name": "stderr",
     "output_type": "stream",
     "text": [
      " 55%|█████▌    | 22/40 [4:04:16<3:33:43, 712.40s/it]"
     ]
    },
    {
     "name": "stdout",
     "output_type": "stream",
     "text": [
      "Epoch: 21 | Train loss: 0.3688 | Train acc: 0.8673 | Test loss: 1.0876 | Test acc: 0.5957 |  F1 score: 0.6360   \n"
     ]
    },
    {
     "name": "stderr",
     "output_type": "stream",
     "text": [
      " 57%|█████▊    | 23/40 [4:15:54<3:20:33, 707.87s/it]"
     ]
    },
    {
     "name": "stdout",
     "output_type": "stream",
     "text": [
      "Epoch: 22 | Train loss: 0.3518 | Train acc: 0.8744 | Test loss: 0.5155 | Test acc: 0.8143 |  F1 score: 0.8146   \n"
     ]
    },
    {
     "name": "stderr",
     "output_type": "stream",
     "text": [
      " 60%|██████    | 24/40 [4:27:07<3:05:59, 697.46s/it]"
     ]
    },
    {
     "name": "stdout",
     "output_type": "stream",
     "text": [
      "Epoch: 23 | Train loss: 0.3419 | Train acc: 0.8765 | Test loss: 0.5581 | Test acc: 0.8207 |  F1 score: 0.7998   \n"
     ]
    },
    {
     "name": "stderr",
     "output_type": "stream",
     "text": [
      " 62%|██████▎   | 25/40 [4:37:24<2:48:22, 673.50s/it]"
     ]
    },
    {
     "name": "stdout",
     "output_type": "stream",
     "text": [
      "Epoch: 24 | Train loss: 0.3204 | Train acc: 0.8824 | Test loss: 1.1926 | Test acc: 0.6299 |  F1 score: 0.6723   \n"
     ]
    },
    {
     "name": "stderr",
     "output_type": "stream",
     "text": [
      " 65%|██████▌   | 26/40 [4:48:31<2:36:41, 671.57s/it]"
     ]
    },
    {
     "name": "stdout",
     "output_type": "stream",
     "text": [
      "Epoch: 25 | Train loss: 0.3254 | Train acc: 0.8836 | Test loss: 0.5848 | Test acc: 0.8016 |  F1 score: 0.7808   \n"
     ]
    },
    {
     "name": "stderr",
     "output_type": "stream",
     "text": [
      " 65%|██████▌   | 26/40 [4:58:32<2:40:44, 688.93s/it]"
     ]
    },
    {
     "name": "stdout",
     "output_type": "stream",
     "text": [
      "Epoch: 26 | Train loss: 0.2981 | Train acc: 0.8925 | Test loss: 0.5757 | Test acc: 0.8176 |  F1 score: 0.7945   \n",
      "Early stopping triggered.\n",
      "the best test acc is :0.8300\n",
      "the best F1 score is :0.8196\n",
      "Total training time: 17912.074 seconds\n"
     ]
    },
    {
     "name": "stderr",
     "output_type": "stream",
     "text": [
      "\n"
     ]
    }
   ],
   "source": [
    "import torchvision.models as models\n",
    "\n",
    "model_preTrained_VGG16 = models.vgg16(pretrained=True)    # 使用內建的 model \n",
    "\n",
    "\n",
    "optimizer = torch.optim.SGD(model_preTrained_VGG16.parameters(), lr = 0.001) # 選擇你想用的 optimizer\n",
    "\n",
    "# optimizer = torch.optim.Adam(model_VGG16.parameters(), lr =0.01)\n",
    "\n",
    "# Loss function\n",
    "loss_fn = nn.CrossEntropyLoss()                # 選擇想用的 loss functionmodel_vgg16 = \n",
    "\n",
    "#=========\n",
    "import torch\n",
    "import torch.nn as nn\n",
    "import torchvision.models as models\n",
    "\n",
    "\n",
    "\n",
    "\n",
    "# 获取分类器中最后一个全连接层之前的部分\n",
    "classifier = list(model_preTrained_VGG16.classifier.children())[:-1]\n",
    "\n",
    "# 移除原始模型的最后一个全连接层\n",
    "# 并添加一个新的全连接层，输出特征数为 \"先前設定的class數\"\n",
    "classifier.append(torch.nn.Linear(4096, num_classes))\n",
    "\n",
    "# 替换原始模型的分类器\n",
    "model_preTrained_VGG16.classifier = torch.nn.Sequential(*classifier)\n",
    "\n",
    "# ============\n",
    "\n",
    "\n",
    "model_preTrained_VGG16 =  model_preTrained_VGG16.to(device)\n",
    "\n",
    "from torchinfo import summary\n",
    "\n",
    "summary(model_preTrained_VGG16, input_size=[1,3,224,224])\n",
    "\n",
    "\n",
    "\n",
    "# Start the timer\n",
    "\n",
    "\n",
    "# from timeit import default_timer as timer\n",
    "start_time = timer()\n",
    "\n",
    "# Train model_0\n",
    "model_VGG16_results = train(model=model_preTrained_VGG16,\n",
    "              train_dataloader=train_dataloader,\n",
    "              test_dataloader=test_dataloader,\n",
    "              optimizer=optimizer,\n",
    "              loss_fn=loss_fn,\n",
    "              best_model_name=model_folder_path + \"\\\\best_model_pretrain_VGG16.pth\",\n",
    "              epochs=40)\n",
    "\n",
    "# End the timer and print out how long it took\n",
    "end_time = timer()\n",
    "print(f\"Total training time: {end_time-start_time:.3f} seconds\")"
   ]
  },
  {
   "cell_type": "markdown",
   "metadata": {},
   "source": [
    "## Resnet 18"
   ]
  },
  {
   "cell_type": "markdown",
   "metadata": {},
   "source": [
    "pretrain resnet num_classes = 1000"
   ]
  },
  {
   "cell_type": "code",
   "execution_count": 20,
   "metadata": {},
   "outputs": [
    {
     "name": "stderr",
     "output_type": "stream",
     "text": [
      "c:\\Users\\E\\AppData\\Local\\Programs\\Python\\Python311\\Lib\\site-packages\\torchvision\\models\\_utils.py:208: UserWarning: The parameter 'pretrained' is deprecated since 0.13 and may be removed in the future, please use 'weights' instead.\n",
      "  warnings.warn(\n",
      "c:\\Users\\E\\AppData\\Local\\Programs\\Python\\Python311\\Lib\\site-packages\\torchvision\\models\\_utils.py:223: UserWarning: Arguments other than a weight enum or `None` for 'weights' are deprecated since 0.13 and may be removed in the future. The current behavior is equivalent to passing `weights=ResNet18_Weights.IMAGENET1K_V1`. You can also use `weights=ResNet18_Weights.DEFAULT` to get the most up-to-date weights.\n",
      "  warnings.warn(msg)\n",
      "  2%|▎         | 1/40 [01:02<40:23, 62.14s/it]"
     ]
    },
    {
     "name": "stdout",
     "output_type": "stream",
     "text": [
      "Epoch: 0 | Train loss: 2.4491 | Train acc: 0.5971 | Test loss: 1.2487 | Test acc: 0.6910 |  F1 score: 0.6630   \n"
     ]
    },
    {
     "name": "stderr",
     "output_type": "stream",
     "text": [
      "  5%|▌         | 2/40 [02:04<39:37, 62.56s/it]"
     ]
    },
    {
     "name": "stdout",
     "output_type": "stream",
     "text": [
      "Epoch: 1 | Train loss: 0.8927 | Train acc: 0.7424 | Test loss: 0.8683 | Test acc: 0.7302 |  F1 score: 0.7014   \n"
     ]
    },
    {
     "name": "stderr",
     "output_type": "stream",
     "text": [
      "  8%|▊         | 3/40 [03:08<38:43, 62.79s/it]"
     ]
    },
    {
     "name": "stdout",
     "output_type": "stream",
     "text": [
      "Epoch: 2 | Train loss: 0.6925 | Train acc: 0.7786 | Test loss: 0.8158 | Test acc: 0.7382 |  F1 score: 0.7050   \n"
     ]
    },
    {
     "name": "stderr",
     "output_type": "stream",
     "text": [
      " 10%|█         | 4/40 [04:10<37:33, 62.59s/it]"
     ]
    },
    {
     "name": "stdout",
     "output_type": "stream",
     "text": [
      "Epoch: 3 | Train loss: 0.5976 | Train acc: 0.8063 | Test loss: 0.7517 | Test acc: 0.7458 |  F1 score: 0.7176   \n"
     ]
    },
    {
     "name": "stderr",
     "output_type": "stream",
     "text": [
      " 12%|█▎        | 5/40 [05:13<36:32, 62.64s/it]"
     ]
    },
    {
     "name": "stdout",
     "output_type": "stream",
     "text": [
      "Epoch: 4 | Train loss: 0.5263 | Train acc: 0.8230 | Test loss: 0.7399 | Test acc: 0.7687 |  F1 score: 0.7416   \n"
     ]
    },
    {
     "name": "stderr",
     "output_type": "stream",
     "text": [
      " 15%|█▌        | 6/40 [06:15<35:25, 62.52s/it]"
     ]
    },
    {
     "name": "stdout",
     "output_type": "stream",
     "text": [
      "Epoch: 5 | Train loss: 0.4537 | Train acc: 0.8455 | Test loss: 0.6838 | Test acc: 0.7721 |  F1 score: 0.7580   \n"
     ]
    },
    {
     "name": "stderr",
     "output_type": "stream",
     "text": [
      " 18%|█▊        | 7/40 [07:17<34:20, 62.44s/it]"
     ]
    },
    {
     "name": "stdout",
     "output_type": "stream",
     "text": [
      "Epoch: 6 | Train loss: 0.4153 | Train acc: 0.8596 | Test loss: 0.6934 | Test acc: 0.7682 |  F1 score: 0.7556   \n"
     ]
    },
    {
     "name": "stderr",
     "output_type": "stream",
     "text": [
      " 20%|██        | 8/40 [08:19<33:14, 62.32s/it]"
     ]
    },
    {
     "name": "stdout",
     "output_type": "stream",
     "text": [
      "Epoch: 7 | Train loss: 0.3658 | Train acc: 0.8768 | Test loss: 0.7517 | Test acc: 0.7661 |  F1 score: 0.7350   \n"
     ]
    },
    {
     "name": "stderr",
     "output_type": "stream",
     "text": [
      " 22%|██▎       | 9/40 [09:21<32:11, 62.30s/it]"
     ]
    },
    {
     "name": "stdout",
     "output_type": "stream",
     "text": [
      "Epoch: 8 | Train loss: 0.3270 | Train acc: 0.8949 | Test loss: 0.6861 | Test acc: 0.7755 |  F1 score: 0.7678   \n"
     ]
    },
    {
     "name": "stderr",
     "output_type": "stream",
     "text": [
      " 25%|██▌       | 10/40 [10:24<31:15, 62.51s/it]"
     ]
    },
    {
     "name": "stdout",
     "output_type": "stream",
     "text": [
      "Epoch: 9 | Train loss: 0.2937 | Train acc: 0.9070 | Test loss: 0.7085 | Test acc: 0.7652 |  F1 score: 0.7588   \n"
     ]
    },
    {
     "name": "stderr",
     "output_type": "stream",
     "text": [
      " 28%|██▊       | 11/40 [11:27<30:13, 62.55s/it]"
     ]
    },
    {
     "name": "stdout",
     "output_type": "stream",
     "text": [
      "Epoch: 10 | Train loss: 0.2602 | Train acc: 0.9199 | Test loss: 0.6680 | Test acc: 0.7778 |  F1 score: 0.7692   \n"
     ]
    },
    {
     "name": "stderr",
     "output_type": "stream",
     "text": [
      " 30%|███       | 12/40 [12:30<29:10, 62.53s/it]"
     ]
    },
    {
     "name": "stdout",
     "output_type": "stream",
     "text": [
      "Epoch: 11 | Train loss: 0.2487 | Train acc: 0.9276 | Test loss: 0.8235 | Test acc: 0.7669 |  F1 score: 0.7363   \n"
     ]
    },
    {
     "name": "stderr",
     "output_type": "stream",
     "text": [
      " 32%|███▎      | 13/40 [13:32<28:11, 62.64s/it]"
     ]
    },
    {
     "name": "stdout",
     "output_type": "stream",
     "text": [
      "Epoch: 12 | Train loss: 0.2074 | Train acc: 0.9419 | Test loss: 0.7420 | Test acc: 0.7693 |  F1 score: 0.7469   \n"
     ]
    },
    {
     "name": "stderr",
     "output_type": "stream",
     "text": [
      " 35%|███▌      | 14/40 [14:35<27:05, 62.53s/it]"
     ]
    },
    {
     "name": "stdout",
     "output_type": "stream",
     "text": [
      "Epoch: 13 | Train loss: 0.1857 | Train acc: 0.9515 | Test loss: 0.7507 | Test acc: 0.7760 |  F1 score: 0.7555   \n"
     ]
    },
    {
     "name": "stderr",
     "output_type": "stream",
     "text": [
      " 38%|███▊      | 15/40 [15:38<26:07, 62.72s/it]"
     ]
    },
    {
     "name": "stdout",
     "output_type": "stream",
     "text": [
      "Epoch: 14 | Train loss: 0.1672 | Train acc: 0.9569 | Test loss: 0.6981 | Test acc: 0.7801 |  F1 score: 0.7581   \n"
     ]
    },
    {
     "name": "stderr",
     "output_type": "stream",
     "text": [
      " 40%|████      | 16/40 [16:41<25:06, 62.75s/it]"
     ]
    },
    {
     "name": "stdout",
     "output_type": "stream",
     "text": [
      "Epoch: 15 | Train loss: 0.1465 | Train acc: 0.9670 | Test loss: 0.7037 | Test acc: 0.7821 |  F1 score: 0.7649   \n"
     ]
    },
    {
     "name": "stderr",
     "output_type": "stream",
     "text": [
      " 42%|████▎     | 17/40 [17:43<23:59, 62.57s/it]"
     ]
    },
    {
     "name": "stdout",
     "output_type": "stream",
     "text": [
      "Epoch: 16 | Train loss: 0.1278 | Train acc: 0.9703 | Test loss: 0.6734 | Test acc: 0.7808 |  F1 score: 0.7697   \n"
     ]
    },
    {
     "name": "stderr",
     "output_type": "stream",
     "text": [
      " 45%|████▌     | 18/40 [18:45<22:55, 62.53s/it]"
     ]
    },
    {
     "name": "stdout",
     "output_type": "stream",
     "text": [
      "Epoch: 17 | Train loss: 0.1207 | Train acc: 0.9714 | Test loss: 0.6918 | Test acc: 0.7888 |  F1 score: 0.7750   \n"
     ]
    },
    {
     "name": "stderr",
     "output_type": "stream",
     "text": [
      " 48%|████▊     | 19/40 [19:48<21:55, 62.63s/it]"
     ]
    },
    {
     "name": "stdout",
     "output_type": "stream",
     "text": [
      "Epoch: 18 | Train loss: 0.1090 | Train acc: 0.9767 | Test loss: 0.7116 | Test acc: 0.7899 |  F1 score: 0.7776   \n"
     ]
    },
    {
     "name": "stderr",
     "output_type": "stream",
     "text": [
      " 50%|█████     | 20/40 [20:51<20:52, 62.64s/it]"
     ]
    },
    {
     "name": "stdout",
     "output_type": "stream",
     "text": [
      "Epoch: 19 | Train loss: 0.0914 | Train acc: 0.9860 | Test loss: 0.6689 | Test acc: 0.7885 |  F1 score: 0.7796   \n"
     ]
    },
    {
     "name": "stderr",
     "output_type": "stream",
     "text": [
      " 52%|█████▎    | 21/40 [21:53<19:47, 62.48s/it]"
     ]
    },
    {
     "name": "stdout",
     "output_type": "stream",
     "text": [
      "Epoch: 20 | Train loss: 0.0797 | Train acc: 0.9881 | Test loss: 0.6697 | Test acc: 0.7941 |  F1 score: 0.7829   \n"
     ]
    },
    {
     "name": "stderr",
     "output_type": "stream",
     "text": [
      " 55%|█████▌    | 22/40 [22:55<18:41, 62.32s/it]"
     ]
    },
    {
     "name": "stdout",
     "output_type": "stream",
     "text": [
      "Epoch: 21 | Train loss: 0.0751 | Train acc: 0.9899 | Test loss: 0.6657 | Test acc: 0.7815 |  F1 score: 0.7750   \n"
     ]
    },
    {
     "name": "stderr",
     "output_type": "stream",
     "text": [
      " 57%|█████▊    | 23/40 [23:57<17:40, 62.39s/it]"
     ]
    },
    {
     "name": "stdout",
     "output_type": "stream",
     "text": [
      "Epoch: 22 | Train loss: 0.0697 | Train acc: 0.9911 | Test loss: 0.7040 | Test acc: 0.7849 |  F1 score: 0.7737   \n"
     ]
    },
    {
     "name": "stderr",
     "output_type": "stream",
     "text": [
      " 60%|██████    | 24/40 [25:00<16:39, 62.46s/it]"
     ]
    },
    {
     "name": "stdout",
     "output_type": "stream",
     "text": [
      "Epoch: 23 | Train loss: 0.0706 | Train acc: 0.9895 | Test loss: 0.7093 | Test acc: 0.7787 |  F1 score: 0.7690   \n"
     ]
    },
    {
     "name": "stderr",
     "output_type": "stream",
     "text": [
      " 62%|██████▎   | 25/40 [26:03<15:37, 62.47s/it]"
     ]
    },
    {
     "name": "stdout",
     "output_type": "stream",
     "text": [
      "Epoch: 24 | Train loss: 0.0665 | Train acc: 0.9902 | Test loss: 0.9462 | Test acc: 0.7739 |  F1 score: 0.7517   \n"
     ]
    },
    {
     "name": "stderr",
     "output_type": "stream",
     "text": [
      " 65%|██████▌   | 26/40 [27:05<14:35, 62.56s/it]"
     ]
    },
    {
     "name": "stdout",
     "output_type": "stream",
     "text": [
      "Epoch: 25 | Train loss: 0.0578 | Train acc: 0.9911 | Test loss: 0.6808 | Test acc: 0.7872 |  F1 score: 0.7802   \n"
     ]
    },
    {
     "name": "stderr",
     "output_type": "stream",
     "text": [
      " 68%|██████▊   | 27/40 [28:07<13:31, 62.42s/it]"
     ]
    },
    {
     "name": "stdout",
     "output_type": "stream",
     "text": [
      "Epoch: 26 | Train loss: 0.0557 | Train acc: 0.9941 | Test loss: 0.7385 | Test acc: 0.7911 |  F1 score: 0.7798   \n"
     ]
    },
    {
     "name": "stderr",
     "output_type": "stream",
     "text": [
      " 70%|███████   | 28/40 [29:10<12:30, 62.50s/it]"
     ]
    },
    {
     "name": "stdout",
     "output_type": "stream",
     "text": [
      "Epoch: 27 | Train loss: 0.0504 | Train acc: 0.9931 | Test loss: 0.7110 | Test acc: 0.7858 |  F1 score: 0.7739   \n"
     ]
    },
    {
     "name": "stderr",
     "output_type": "stream",
     "text": [
      " 72%|███████▎  | 29/40 [30:13<11:28, 62.57s/it]"
     ]
    },
    {
     "name": "stdout",
     "output_type": "stream",
     "text": [
      "Epoch: 28 | Train loss: 0.0431 | Train acc: 0.9954 | Test loss: 0.7093 | Test acc: 0.7900 |  F1 score: 0.7830   \n"
     ]
    },
    {
     "name": "stderr",
     "output_type": "stream",
     "text": [
      " 75%|███████▌  | 30/40 [31:17<10:31, 63.11s/it]"
     ]
    },
    {
     "name": "stdout",
     "output_type": "stream",
     "text": [
      "Epoch: 29 | Train loss: 0.0409 | Train acc: 0.9961 | Test loss: 0.6945 | Test acc: 0.7936 |  F1 score: 0.7807   \n"
     ]
    },
    {
     "name": "stderr",
     "output_type": "stream",
     "text": [
      " 78%|███████▊  | 31/40 [32:24<09:38, 64.27s/it]"
     ]
    },
    {
     "name": "stdout",
     "output_type": "stream",
     "text": [
      "Epoch: 30 | Train loss: 0.0388 | Train acc: 0.9968 | Test loss: 0.6887 | Test acc: 0.7892 |  F1 score: 0.7800   \n"
     ]
    },
    {
     "name": "stderr",
     "output_type": "stream",
     "text": [
      " 80%|████████  | 32/40 [33:30<08:37, 64.72s/it]"
     ]
    },
    {
     "name": "stdout",
     "output_type": "stream",
     "text": [
      "Epoch: 31 | Train loss: 0.0408 | Train acc: 0.9959 | Test loss: 0.7498 | Test acc: 0.7868 |  F1 score: 0.7684   \n"
     ]
    },
    {
     "name": "stderr",
     "output_type": "stream",
     "text": [
      " 82%|████████▎ | 33/40 [34:35<07:33, 64.72s/it]"
     ]
    },
    {
     "name": "stdout",
     "output_type": "stream",
     "text": [
      "Epoch: 32 | Train loss: 0.0387 | Train acc: 0.9959 | Test loss: 0.6940 | Test acc: 0.7936 |  F1 score: 0.7852   \n"
     ]
    },
    {
     "name": "stderr",
     "output_type": "stream",
     "text": [
      " 85%|████████▌ | 34/40 [35:41<06:31, 65.32s/it]"
     ]
    },
    {
     "name": "stdout",
     "output_type": "stream",
     "text": [
      "Epoch: 33 | Train loss: 0.0343 | Train acc: 0.9956 | Test loss: 0.7237 | Test acc: 0.7859 |  F1 score: 0.7737   \n"
     ]
    },
    {
     "name": "stderr",
     "output_type": "stream",
     "text": [
      " 88%|████████▊ | 35/40 [36:47<05:27, 65.40s/it]"
     ]
    },
    {
     "name": "stdout",
     "output_type": "stream",
     "text": [
      "Epoch: 34 | Train loss: 0.0302 | Train acc: 0.9979 | Test loss: 0.7121 | Test acc: 0.7934 |  F1 score: 0.7841   \n"
     ]
    },
    {
     "name": "stderr",
     "output_type": "stream",
     "text": [
      " 90%|█████████ | 36/40 [37:52<04:21, 65.35s/it]"
     ]
    },
    {
     "name": "stdout",
     "output_type": "stream",
     "text": [
      "Epoch: 35 | Train loss: 0.0272 | Train acc: 0.9989 | Test loss: 0.7806 | Test acc: 0.7893 |  F1 score: 0.7740   \n"
     ]
    },
    {
     "name": "stderr",
     "output_type": "stream",
     "text": [
      " 92%|█████████▎| 37/40 [39:00<03:18, 66.19s/it]"
     ]
    },
    {
     "name": "stdout",
     "output_type": "stream",
     "text": [
      "Epoch: 36 | Train loss: 0.0283 | Train acc: 0.9972 | Test loss: 0.7046 | Test acc: 0.7927 |  F1 score: 0.7845   \n"
     ]
    },
    {
     "name": "stderr",
     "output_type": "stream",
     "text": [
      " 95%|█████████▌| 38/40 [40:08<02:13, 66.62s/it]"
     ]
    },
    {
     "name": "stdout",
     "output_type": "stream",
     "text": [
      "Epoch: 37 | Train loss: 0.0252 | Train acc: 0.9991 | Test loss: 0.7103 | Test acc: 0.7879 |  F1 score: 0.7794   \n"
     ]
    },
    {
     "name": "stderr",
     "output_type": "stream",
     "text": [
      " 98%|█████████▊| 39/40 [41:14<01:06, 66.34s/it]"
     ]
    },
    {
     "name": "stdout",
     "output_type": "stream",
     "text": [
      "Epoch: 38 | Train loss: 0.0230 | Train acc: 0.9986 | Test loss: 0.7232 | Test acc: 0.7899 |  F1 score: 0.7801   \n"
     ]
    },
    {
     "name": "stderr",
     "output_type": "stream",
     "text": [
      "100%|██████████| 40/40 [42:20<00:00, 63.52s/it]"
     ]
    },
    {
     "name": "stdout",
     "output_type": "stream",
     "text": [
      "Epoch: 39 | Train loss: 0.0211 | Train acc: 0.9984 | Test loss: 0.7264 | Test acc: 0.7878 |  F1 score: 0.7791   \n",
      "the best test acc is :0.7815\n",
      "Total training time: 2540.734 seconds\n"
     ]
    },
    {
     "name": "stderr",
     "output_type": "stream",
     "text": [
      "\n"
     ]
    }
   ],
   "source": [
    "import torchvision.models as models\n",
    "\n",
    "model_preTrained_Resnet18 = models.resnet18(pretrained=True).to(device)     # 使用內建的 model \n",
    "\n",
    "summary(model_preTrained_Resnet18, input_size=[1,3,224,224])\n",
    "\n",
    "optimizer = torch.optim.SGD(model_preTrained_Resnet18.parameters(), lr = 0.001) # 選擇你想用的 optimizer\n",
    "\n",
    "# optimizer = torch.optim.Adam(model_Resnet18.parameters(), lr =0.01)\n",
    "\n",
    "# Loss function\n",
    "loss_fn = nn.CrossEntropyLoss()                # 選擇想用的 loss functionmodel_vgg16 = \n",
    "\n",
    "\n",
    "\n",
    "\n",
    "# Start the timer\n",
    "from timeit import default_timer as timer\n",
    "start_time = timer()\n",
    "\n",
    "# Train model_0\n",
    "model_VGG_results = train(model=model_preTrained_Resnet18,\n",
    "              train_dataloader=train_dataloader,\n",
    "              test_dataloader=test_dataloader,\n",
    "              optimizer=optimizer,\n",
    "              loss_fn=loss_fn,\n",
    "              best_model_name=\"best_model_pretrain_Resnet18.pth\",\n",
    "              epochs=40)\n",
    "\n",
    "# End the timer and print out how long it took\n",
    "end_time = timer()\n",
    "print(f\"Total training time: {end_time-start_time:.3f} seconds\")"
   ]
  },
  {
   "cell_type": "markdown",
   "metadata": {},
   "source": [
    "output == 7 pretrain resnet"
   ]
  },
  {
   "cell_type": "code",
   "execution_count": 13,
   "metadata": {},
   "outputs": [
    {
     "name": "stderr",
     "output_type": "stream",
     "text": [
      "c:\\Users\\E\\AppData\\Local\\Programs\\Python\\Python311\\Lib\\site-packages\\torchvision\\models\\_utils.py:208: UserWarning: The parameter 'pretrained' is deprecated since 0.13 and may be removed in the future, please use 'weights' instead.\n",
      "  warnings.warn(\n",
      "c:\\Users\\E\\AppData\\Local\\Programs\\Python\\Python311\\Lib\\site-packages\\torchvision\\models\\_utils.py:223: UserWarning: Arguments other than a weight enum or `None` for 'weights' are deprecated since 0.13 and may be removed in the future. The current behavior is equivalent to passing `weights=ResNet18_Weights.IMAGENET1K_V1`. You can also use `weights=ResNet18_Weights.DEFAULT` to get the most up-to-date weights.\n",
      "  warnings.warn(msg)\n",
      "  2%|▎         | 1/40 [00:07<04:36,  7.08s/it]"
     ]
    },
    {
     "name": "stdout",
     "output_type": "stream",
     "text": [
      "Epoch: 0 | Train loss: 1.5535 | Train acc: 0.2809 | Test loss: 1.3779 | Test acc: 0.3697 |  F1 score: 0.3204   \n"
     ]
    },
    {
     "name": "stderr",
     "output_type": "stream",
     "text": [
      "  5%|▌         | 2/40 [00:13<04:22,  6.91s/it]"
     ]
    },
    {
     "name": "stdout",
     "output_type": "stream",
     "text": [
      "Epoch: 1 | Train loss: 1.0061 | Train acc: 0.5747 | Test loss: 1.1217 | Test acc: 0.4888 |  F1 score: 0.4079   \n"
     ]
    },
    {
     "name": "stderr",
     "output_type": "stream",
     "text": [
      "  8%|▊         | 3/40 [00:20<04:14,  6.87s/it]"
     ]
    },
    {
     "name": "stdout",
     "output_type": "stream",
     "text": [
      "Epoch: 2 | Train loss: 0.6988 | Train acc: 0.7653 | Test loss: 1.0269 | Test acc: 0.5601 |  F1 score: 0.5111   \n"
     ]
    },
    {
     "name": "stderr",
     "output_type": "stream",
     "text": [
      " 10%|█         | 4/40 [00:27<04:04,  6.79s/it]"
     ]
    },
    {
     "name": "stdout",
     "output_type": "stream",
     "text": [
      "Epoch: 3 | Train loss: 0.4946 | Train acc: 0.9172 | Test loss: 0.9469 | Test acc: 0.6144 |  F1 score: 0.5810   \n"
     ]
    },
    {
     "name": "stderr",
     "output_type": "stream",
     "text": [
      " 12%|█▎        | 5/40 [00:34<03:56,  6.75s/it]"
     ]
    },
    {
     "name": "stdout",
     "output_type": "stream",
     "text": [
      "Epoch: 4 | Train loss: 0.4465 | Train acc: 0.9100 | Test loss: 0.8602 | Test acc: 0.6300 |  F1 score: 0.6144   \n"
     ]
    },
    {
     "name": "stderr",
     "output_type": "stream",
     "text": [
      " 15%|█▌        | 6/40 [00:40<03:48,  6.73s/it]"
     ]
    },
    {
     "name": "stdout",
     "output_type": "stream",
     "text": [
      "Epoch: 5 | Train loss: 0.3047 | Train acc: 0.9672 | Test loss: 0.8288 | Test acc: 0.6630 |  F1 score: 0.6493   \n"
     ]
    },
    {
     "name": "stderr",
     "output_type": "stream",
     "text": [
      " 18%|█▊        | 7/40 [00:47<03:41,  6.71s/it]"
     ]
    },
    {
     "name": "stdout",
     "output_type": "stream",
     "text": [
      "Epoch: 6 | Train loss: 0.2578 | Train acc: 0.9766 | Test loss: 0.7621 | Test acc: 0.6965 |  F1 score: 0.6896   \n"
     ]
    },
    {
     "name": "stderr",
     "output_type": "stream",
     "text": [
      " 20%|██        | 8/40 [00:54<03:35,  6.72s/it]"
     ]
    },
    {
     "name": "stdout",
     "output_type": "stream",
     "text": [
      "Epoch: 7 | Train loss: 0.2136 | Train acc: 0.9922 | Test loss: 0.7492 | Test acc: 0.7016 |  F1 score: 0.6984   \n"
     ]
    },
    {
     "name": "stderr",
     "output_type": "stream",
     "text": [
      " 22%|██▎       | 9/40 [01:00<03:28,  6.72s/it]"
     ]
    },
    {
     "name": "stdout",
     "output_type": "stream",
     "text": [
      "Epoch: 8 | Train loss: 0.1700 | Train acc: 0.9822 | Test loss: 0.7031 | Test acc: 0.7247 |  F1 score: 0.7242   \n"
     ]
    },
    {
     "name": "stderr",
     "output_type": "stream",
     "text": [
      " 25%|██▌       | 10/40 [01:07<03:21,  6.71s/it]"
     ]
    },
    {
     "name": "stdout",
     "output_type": "stream",
     "text": [
      "Epoch: 9 | Train loss: 0.1369 | Train acc: 0.9938 | Test loss: 0.7256 | Test acc: 0.7309 |  F1 score: 0.7280   \n"
     ]
    },
    {
     "name": "stderr",
     "output_type": "stream",
     "text": [
      " 28%|██▊       | 11/40 [01:14<03:14,  6.72s/it]"
     ]
    },
    {
     "name": "stdout",
     "output_type": "stream",
     "text": [
      "Epoch: 10 | Train loss: 0.1003 | Train acc: 0.9969 | Test loss: 0.6511 | Test acc: 0.7459 |  F1 score: 0.7464   \n"
     ]
    },
    {
     "name": "stderr",
     "output_type": "stream",
     "text": [
      " 30%|███       | 12/40 [01:20<03:06,  6.67s/it]"
     ]
    },
    {
     "name": "stdout",
     "output_type": "stream",
     "text": [
      "Epoch: 11 | Train loss: 0.0872 | Train acc: 0.9969 | Test loss: 0.6424 | Test acc: 0.7584 |  F1 score: 0.7581   \n"
     ]
    },
    {
     "name": "stderr",
     "output_type": "stream",
     "text": [
      " 32%|███▎      | 13/40 [01:27<02:59,  6.64s/it]"
     ]
    },
    {
     "name": "stdout",
     "output_type": "stream",
     "text": [
      "Epoch: 12 | Train loss: 0.0861 | Train acc: 0.9953 | Test loss: 0.6246 | Test acc: 0.7664 |  F1 score: 0.7666   \n"
     ]
    },
    {
     "name": "stderr",
     "output_type": "stream",
     "text": [
      " 35%|███▌      | 14/40 [01:33<02:51,  6.60s/it]"
     ]
    },
    {
     "name": "stdout",
     "output_type": "stream",
     "text": [
      "Epoch: 13 | Train loss: 0.0888 | Train acc: 0.9884 | Test loss: 0.6172 | Test acc: 0.7522 |  F1 score: 0.7504   \n"
     ]
    },
    {
     "name": "stderr",
     "output_type": "stream",
     "text": [
      " 38%|███▊      | 15/40 [01:40<02:43,  6.56s/it]"
     ]
    },
    {
     "name": "stdout",
     "output_type": "stream",
     "text": [
      "Epoch: 14 | Train loss: 0.0787 | Train acc: 1.0000 | Test loss: 0.6106 | Test acc: 0.7920 |  F1 score: 0.7918   \n"
     ]
    },
    {
     "name": "stderr",
     "output_type": "stream",
     "text": [
      " 40%|████      | 16/40 [01:46<02:36,  6.50s/it]"
     ]
    },
    {
     "name": "stdout",
     "output_type": "stream",
     "text": [
      "Epoch: 15 | Train loss: 0.0701 | Train acc: 0.9969 | Test loss: 0.6189 | Test acc: 0.7372 |  F1 score: 0.7365   \n"
     ]
    },
    {
     "name": "stderr",
     "output_type": "stream",
     "text": [
      " 42%|████▎     | 17/40 [01:53<02:29,  6.49s/it]"
     ]
    },
    {
     "name": "stdout",
     "output_type": "stream",
     "text": [
      "Epoch: 16 | Train loss: 0.0574 | Train acc: 0.9984 | Test loss: 0.5935 | Test acc: 0.7602 |  F1 score: 0.7592   \n"
     ]
    },
    {
     "name": "stderr",
     "output_type": "stream",
     "text": [
      " 45%|████▌     | 18/40 [01:59<02:23,  6.53s/it]"
     ]
    },
    {
     "name": "stdout",
     "output_type": "stream",
     "text": [
      "Epoch: 17 | Train loss: 0.0552 | Train acc: 0.9969 | Test loss: 0.5854 | Test acc: 0.7758 |  F1 score: 0.7751   \n"
     ]
    },
    {
     "name": "stderr",
     "output_type": "stream",
     "text": [
      " 48%|████▊     | 19/40 [02:06<02:17,  6.54s/it]"
     ]
    },
    {
     "name": "stdout",
     "output_type": "stream",
     "text": [
      "Epoch: 18 | Train loss: 0.0449 | Train acc: 0.9984 | Test loss: 0.5780 | Test acc: 0.7639 |  F1 score: 0.7618   \n"
     ]
    },
    {
     "name": "stderr",
     "output_type": "stream",
     "text": [
      " 50%|█████     | 20/40 [02:12<02:10,  6.54s/it]"
     ]
    },
    {
     "name": "stdout",
     "output_type": "stream",
     "text": [
      "Epoch: 19 | Train loss: 0.0520 | Train acc: 0.9884 | Test loss: 0.5608 | Test acc: 0.7704 |  F1 score: 0.7712   \n"
     ]
    },
    {
     "name": "stderr",
     "output_type": "stream",
     "text": [
      " 52%|█████▎    | 21/40 [02:19<02:03,  6.53s/it]"
     ]
    },
    {
     "name": "stdout",
     "output_type": "stream",
     "text": [
      "Epoch: 20 | Train loss: 0.0410 | Train acc: 0.9984 | Test loss: 0.5664 | Test acc: 0.7584 |  F1 score: 0.7587   \n"
     ]
    },
    {
     "name": "stderr",
     "output_type": "stream",
     "text": [
      " 55%|█████▌    | 22/40 [02:26<01:57,  6.54s/it]"
     ]
    },
    {
     "name": "stdout",
     "output_type": "stream",
     "text": [
      "Epoch: 21 | Train loss: 0.0435 | Train acc: 1.0000 | Test loss: 0.5593 | Test acc: 0.7653 |  F1 score: 0.7643   \n"
     ]
    },
    {
     "name": "stderr",
     "output_type": "stream",
     "text": [
      " 57%|█████▊    | 23/40 [02:32<01:50,  6.53s/it]"
     ]
    },
    {
     "name": "stdout",
     "output_type": "stream",
     "text": [
      "Epoch: 22 | Train loss: 0.0486 | Train acc: 0.9969 | Test loss: 0.5608 | Test acc: 0.7863 |  F1 score: 0.7837   \n"
     ]
    },
    {
     "name": "stderr",
     "output_type": "stream",
     "text": [
      " 60%|██████    | 24/40 [02:39<01:44,  6.52s/it]"
     ]
    },
    {
     "name": "stdout",
     "output_type": "stream",
     "text": [
      "Epoch: 23 | Train loss: 0.0312 | Train acc: 0.9969 | Test loss: 0.5498 | Test acc: 0.7903 |  F1 score: 0.7907   \n"
     ]
    },
    {
     "name": "stderr",
     "output_type": "stream",
     "text": [
      " 62%|██████▎   | 25/40 [02:45<01:37,  6.50s/it]"
     ]
    },
    {
     "name": "stdout",
     "output_type": "stream",
     "text": [
      "Epoch: 24 | Train loss: 0.0356 | Train acc: 0.9984 | Test loss: 0.5621 | Test acc: 0.7664 |  F1 score: 0.7645   \n"
     ]
    },
    {
     "name": "stderr",
     "output_type": "stream",
     "text": [
      " 65%|██████▌   | 26/40 [02:51<01:31,  6.51s/it]"
     ]
    },
    {
     "name": "stdout",
     "output_type": "stream",
     "text": [
      "Epoch: 25 | Train loss: 0.0268 | Train acc: 0.9984 | Test loss: 0.5442 | Test acc: 0.7803 |  F1 score: 0.7810   \n"
     ]
    },
    {
     "name": "stderr",
     "output_type": "stream",
     "text": [
      " 68%|██████▊   | 27/40 [02:58<01:24,  6.51s/it]"
     ]
    },
    {
     "name": "stdout",
     "output_type": "stream",
     "text": [
      "Epoch: 26 | Train loss: 0.0271 | Train acc: 1.0000 | Test loss: 0.5504 | Test acc: 0.7659 |  F1 score: 0.7648   \n"
     ]
    },
    {
     "name": "stderr",
     "output_type": "stream",
     "text": [
      " 70%|███████   | 28/40 [03:05<01:18,  6.52s/it]"
     ]
    },
    {
     "name": "stdout",
     "output_type": "stream",
     "text": [
      "Epoch: 27 | Train loss: 0.0302 | Train acc: 0.9984 | Test loss: 0.5303 | Test acc: 0.7926 |  F1 score: 0.7908   \n"
     ]
    },
    {
     "name": "stderr",
     "output_type": "stream",
     "text": [
      " 72%|███████▎  | 29/40 [03:11<01:11,  6.52s/it]"
     ]
    },
    {
     "name": "stdout",
     "output_type": "stream",
     "text": [
      "Epoch: 28 | Train loss: 0.0232 | Train acc: 0.9984 | Test loss: 0.5210 | Test acc: 0.7846 |  F1 score: 0.7837   \n"
     ]
    },
    {
     "name": "stderr",
     "output_type": "stream",
     "text": [
      " 75%|███████▌  | 30/40 [03:17<01:04,  6.49s/it]"
     ]
    },
    {
     "name": "stdout",
     "output_type": "stream",
     "text": [
      "Epoch: 29 | Train loss: 0.0738 | Train acc: 0.9684 | Test loss: 0.5258 | Test acc: 0.7846 |  F1 score: 0.7832   \n"
     ]
    },
    {
     "name": "stderr",
     "output_type": "stream",
     "text": [
      " 78%|███████▊  | 31/40 [03:24<00:58,  6.48s/it]"
     ]
    },
    {
     "name": "stdout",
     "output_type": "stream",
     "text": [
      "Epoch: 30 | Train loss: 0.0290 | Train acc: 1.0000 | Test loss: 0.5818 | Test acc: 0.7497 |  F1 score: 0.7467   \n"
     ]
    },
    {
     "name": "stderr",
     "output_type": "stream",
     "text": [
      " 80%|████████  | 32/40 [03:30<00:51,  6.48s/it]"
     ]
    },
    {
     "name": "stdout",
     "output_type": "stream",
     "text": [
      "Epoch: 31 | Train loss: 0.0240 | Train acc: 0.9984 | Test loss: 0.5441 | Test acc: 0.7772 |  F1 score: 0.7769   \n"
     ]
    },
    {
     "name": "stderr",
     "output_type": "stream",
     "text": [
      " 82%|████████▎ | 33/40 [03:37<00:45,  6.49s/it]"
     ]
    },
    {
     "name": "stdout",
     "output_type": "stream",
     "text": [
      "Epoch: 32 | Train loss: 0.0261 | Train acc: 1.0000 | Test loss: 0.5301 | Test acc: 0.7795 |  F1 score: 0.7763   \n"
     ]
    },
    {
     "name": "stderr",
     "output_type": "stream",
     "text": [
      " 85%|████████▌ | 34/40 [03:44<00:39,  6.51s/it]"
     ]
    },
    {
     "name": "stdout",
     "output_type": "stream",
     "text": [
      "Epoch: 33 | Train loss: 0.0214 | Train acc: 1.0000 | Test loss: 0.5449 | Test acc: 0.7897 |  F1 score: 0.7896   \n"
     ]
    },
    {
     "name": "stderr",
     "output_type": "stream",
     "text": [
      " 88%|████████▊ | 35/40 [03:50<00:32,  6.51s/it]"
     ]
    },
    {
     "name": "stdout",
     "output_type": "stream",
     "text": [
      "Epoch: 34 | Train loss: 0.0325 | Train acc: 0.9984 | Test loss: 0.5343 | Test acc: 0.7897 |  F1 score: 0.7910   \n"
     ]
    },
    {
     "name": "stderr",
     "output_type": "stream",
     "text": [
      " 88%|████████▊ | 35/40 [03:57<00:33,  6.77s/it]"
     ]
    },
    {
     "name": "stdout",
     "output_type": "stream",
     "text": [
      "Epoch: 35 | Train loss: 0.0310 | Train acc: 0.9969 | Test loss: 0.5211 | Test acc: 0.7784 |  F1 score: 0.7774   \n",
      "Early stopping triggered.\n",
      "the best test acc is :0.7846\n",
      "the best F1 score is :0.7837\n",
      "Total training time: 237.045 seconds\n"
     ]
    },
    {
     "name": "stderr",
     "output_type": "stream",
     "text": [
      "\n"
     ]
    }
   ],
   "source": [
    "import torchvision.models as models\n",
    "\n",
    "model_preTrained_Resnet18 = models.resnet18(pretrained=True)     # 使用內建的 model \n",
    "\n",
    "\n",
    "# optimizer = torch.optim.SGD(model_preTrained_Resnet18.parameters(), lr = 0.001) # 選擇你想用的 optimizer\n",
    "optimizer = torch.optim.SGD(model_preTrained_Resnet18.parameters(), lr = 0.001, momentum=0.9) # 選擇你想用的 optimizer\n",
    "\n",
    "# optimizer = torch.optim.Adam(model_Resnet18.parameters(), lr =0.01)\n",
    "\n",
    "# Loss function\n",
    "loss_fn = nn.CrossEntropyLoss()                # 選擇想用的 loss functionmodel_vgg16 = \n",
    "\n",
    "# ========================\n",
    "\n",
    "# change fully connected layer to 7\n",
    "num_ftrs = model_preTrained_Resnet18.fc.in_features\n",
    "model_preTrained_Resnet18.fc = nn.Linear(num_ftrs, num_classes)\n",
    "\n",
    "# device setting\n",
    "model_preTrained_Resnet18 = model_preTrained_Resnet18.to(device)\n",
    "\n",
    "# ===========================\n",
    "\n",
    "# summary(model_preTrained_Resnet18)\n",
    "\n",
    "\n",
    "# Start the timer\n",
    "from timeit import default_timer as timer\n",
    "start_time = timer()\n",
    "\n",
    "# Train model_0\n",
    "model_VGG_results = train(model=model_preTrained_Resnet18,\n",
    "              train_dataloader=train_dataloader,\n",
    "              test_dataloader=test_dataloader,\n",
    "              optimizer=optimizer,\n",
    "              loss_fn=loss_fn,\n",
    "              best_model_name=model_folder_path + \"\\\\best_model_pretrain_Resnet18.pth\",\n",
    "              epochs=40)\n",
    "\n",
    "# End the timer and print out how long it took\n",
    "end_time = timer()\n",
    "print(f\"Total training time: {end_time-start_time:.3f} seconds\")"
   ]
  },
  {
   "cell_type": "markdown",
   "metadata": {},
   "source": [
    "### resnet 18 :single channel model"
   ]
  },
  {
   "cell_type": "code",
   "execution_count": 38,
   "metadata": {},
   "outputs": [
    {
     "name": "stderr",
     "output_type": "stream",
     "text": [
      "c:\\Users\\E\\AppData\\Local\\Programs\\Python\\Python311\\Lib\\site-packages\\torchvision\\models\\_utils.py:208: UserWarning: The parameter 'pretrained' is deprecated since 0.13 and may be removed in the future, please use 'weights' instead.\n",
      "  warnings.warn(\n",
      "c:\\Users\\E\\AppData\\Local\\Programs\\Python\\Python311\\Lib\\site-packages\\torchvision\\models\\_utils.py:223: UserWarning: Arguments other than a weight enum or `None` for 'weights' are deprecated since 0.13 and may be removed in the future. The current behavior is equivalent to passing `weights=ResNet18_Weights.IMAGENET1K_V1`. You can also use `weights=ResNet18_Weights.DEFAULT` to get the most up-to-date weights.\n",
      "  warnings.warn(msg)\n",
      "  0%|          | 0/40 [00:00<?, ?it/s]"
     ]
    },
    {
     "name": "stderr",
     "output_type": "stream",
     "text": [
      "  2%|▎         | 1/40 [00:05<03:50,  5.90s/it]"
     ]
    },
    {
     "name": "stdout",
     "output_type": "stream",
     "text": [
      "Epoch: 0 | Train loss: 1.4953 | Train acc: 0.4341 | Test loss: 1.1949 | Test acc: 0.4763 |  F1 score: 0.4900   \n"
     ]
    },
    {
     "name": "stderr",
     "output_type": "stream",
     "text": [
      "  5%|▌         | 2/40 [00:11<03:37,  5.73s/it]"
     ]
    },
    {
     "name": "stdout",
     "output_type": "stream",
     "text": [
      "Epoch: 1 | Train loss: 0.7456 | Train acc: 0.6997 | Test loss: 0.9443 | Test acc: 0.5856 |  F1 score: 0.5661   \n"
     ]
    },
    {
     "name": "stderr",
     "output_type": "stream",
     "text": [
      "  8%|▊         | 3/40 [00:17<03:30,  5.70s/it]"
     ]
    },
    {
     "name": "stdout",
     "output_type": "stream",
     "text": [
      "Epoch: 2 | Train loss: 0.5870 | Train acc: 0.7809 | Test loss: 0.7991 | Test acc: 0.6417 |  F1 score: 0.6300   \n"
     ]
    },
    {
     "name": "stderr",
     "output_type": "stream",
     "text": [
      " 10%|█         | 4/40 [00:22<03:23,  5.65s/it]"
     ]
    },
    {
     "name": "stdout",
     "output_type": "stream",
     "text": [
      "Epoch: 3 | Train loss: 0.4423 | Train acc: 0.8700 | Test loss: 0.8068 | Test acc: 0.6394 |  F1 score: 0.6260   \n"
     ]
    },
    {
     "name": "stderr",
     "output_type": "stream",
     "text": [
      " 12%|█▎        | 5/40 [00:28<03:17,  5.65s/it]"
     ]
    },
    {
     "name": "stdout",
     "output_type": "stream",
     "text": [
      "Epoch: 4 | Train loss: 0.3827 | Train acc: 0.8759 | Test loss: 0.8170 | Test acc: 0.6459 |  F1 score: 0.6234   \n"
     ]
    },
    {
     "name": "stderr",
     "output_type": "stream",
     "text": [
      " 15%|█▌        | 6/40 [00:34<03:13,  5.69s/it]"
     ]
    },
    {
     "name": "stdout",
     "output_type": "stream",
     "text": [
      "Epoch: 5 | Train loss: 0.2637 | Train acc: 0.9425 | Test loss: 0.7352 | Test acc: 0.6905 |  F1 score: 0.6784   \n"
     ]
    },
    {
     "name": "stderr",
     "output_type": "stream",
     "text": [
      " 18%|█▊        | 7/40 [00:39<03:09,  5.73s/it]"
     ]
    },
    {
     "name": "stdout",
     "output_type": "stream",
     "text": [
      "Epoch: 6 | Train loss: 0.2189 | Train acc: 0.9581 | Test loss: 0.6811 | Test acc: 0.6954 |  F1 score: 0.6825   \n"
     ]
    },
    {
     "name": "stderr",
     "output_type": "stream",
     "text": [
      " 20%|██        | 8/40 [00:45<03:04,  5.77s/it]"
     ]
    },
    {
     "name": "stdout",
     "output_type": "stream",
     "text": [
      "Epoch: 7 | Train loss: 0.1694 | Train acc: 0.9713 | Test loss: 0.7345 | Test acc: 0.6860 |  F1 score: 0.6741   \n"
     ]
    },
    {
     "name": "stderr",
     "output_type": "stream",
     "text": [
      " 22%|██▎       | 9/40 [00:51<03:00,  5.81s/it]"
     ]
    },
    {
     "name": "stdout",
     "output_type": "stream",
     "text": [
      "Epoch: 8 | Train loss: 0.1443 | Train acc: 0.9838 | Test loss: 0.6687 | Test acc: 0.7135 |  F1 score: 0.7032   \n"
     ]
    },
    {
     "name": "stderr",
     "output_type": "stream",
     "text": [
      " 25%|██▌       | 10/40 [00:57<02:53,  5.77s/it]"
     ]
    },
    {
     "name": "stdout",
     "output_type": "stream",
     "text": [
      "Epoch: 9 | Train loss: 0.1279 | Train acc: 0.9753 | Test loss: 0.6393 | Test acc: 0.7295 |  F1 score: 0.7180   \n"
     ]
    },
    {
     "name": "stderr",
     "output_type": "stream",
     "text": [
      " 28%|██▊       | 11/40 [01:02<02:45,  5.70s/it]"
     ]
    },
    {
     "name": "stdout",
     "output_type": "stream",
     "text": [
      "Epoch: 10 | Train loss: 0.0905 | Train acc: 0.9859 | Test loss: 0.6741 | Test acc: 0.7147 |  F1 score: 0.7027   \n"
     ]
    },
    {
     "name": "stderr",
     "output_type": "stream",
     "text": [
      " 30%|███       | 12/40 [01:08<02:37,  5.63s/it]"
     ]
    },
    {
     "name": "stdout",
     "output_type": "stream",
     "text": [
      "Epoch: 11 | Train loss: 0.0562 | Train acc: 0.9984 | Test loss: 0.6679 | Test acc: 0.7198 |  F1 score: 0.7126   \n"
     ]
    },
    {
     "name": "stderr",
     "output_type": "stream",
     "text": [
      " 32%|███▎      | 13/40 [01:13<02:31,  5.61s/it]"
     ]
    },
    {
     "name": "stdout",
     "output_type": "stream",
     "text": [
      "Epoch: 12 | Train loss: 0.0638 | Train acc: 0.9938 | Test loss: 0.6395 | Test acc: 0.7317 |  F1 score: 0.7233   \n"
     ]
    },
    {
     "name": "stderr",
     "output_type": "stream",
     "text": [
      " 35%|███▌      | 14/40 [01:19<02:25,  5.61s/it]"
     ]
    },
    {
     "name": "stdout",
     "output_type": "stream",
     "text": [
      "Epoch: 13 | Train loss: 0.0507 | Train acc: 0.9969 | Test loss: 0.6391 | Test acc: 0.7252 |  F1 score: 0.7166   \n"
     ]
    },
    {
     "name": "stderr",
     "output_type": "stream",
     "text": [
      " 38%|███▊      | 15/40 [01:25<02:21,  5.66s/it]"
     ]
    },
    {
     "name": "stdout",
     "output_type": "stream",
     "text": [
      "Epoch: 14 | Train loss: 0.0362 | Train acc: 1.0000 | Test loss: 0.6345 | Test acc: 0.7315 |  F1 score: 0.7221   \n"
     ]
    },
    {
     "name": "stderr",
     "output_type": "stream",
     "text": [
      " 40%|████      | 16/40 [01:30<02:15,  5.64s/it]"
     ]
    },
    {
     "name": "stdout",
     "output_type": "stream",
     "text": [
      "Epoch: 15 | Train loss: 0.0756 | Train acc: 0.9884 | Test loss: 0.6117 | Test acc: 0.7471 |  F1 score: 0.7401   \n"
     ]
    },
    {
     "name": "stderr",
     "output_type": "stream",
     "text": [
      " 42%|████▎     | 17/40 [01:36<02:12,  5.74s/it]"
     ]
    },
    {
     "name": "stdout",
     "output_type": "stream",
     "text": [
      "Epoch: 16 | Train loss: 0.0348 | Train acc: 0.9969 | Test loss: 0.7058 | Test acc: 0.7147 |  F1 score: 0.7031   \n"
     ]
    },
    {
     "name": "stderr",
     "output_type": "stream",
     "text": [
      " 45%|████▌     | 18/40 [01:42<02:05,  5.70s/it]"
     ]
    },
    {
     "name": "stdout",
     "output_type": "stream",
     "text": [
      "Epoch: 17 | Train loss: 0.0345 | Train acc: 0.9969 | Test loss: 0.6527 | Test acc: 0.7289 |  F1 score: 0.7178   \n"
     ]
    },
    {
     "name": "stderr",
     "output_type": "stream",
     "text": [
      " 48%|████▊     | 19/40 [01:48<01:58,  5.63s/it]"
     ]
    },
    {
     "name": "stdout",
     "output_type": "stream",
     "text": [
      "Epoch: 18 | Train loss: 0.0451 | Train acc: 0.9884 | Test loss: 0.6606 | Test acc: 0.7352 |  F1 score: 0.7271   \n"
     ]
    },
    {
     "name": "stderr",
     "output_type": "stream",
     "text": [
      " 50%|█████     | 20/40 [01:53<01:51,  5.59s/it]"
     ]
    },
    {
     "name": "stdout",
     "output_type": "stream",
     "text": [
      "Epoch: 19 | Train loss: 0.0550 | Train acc: 0.9769 | Test loss: 0.8004 | Test acc: 0.6755 |  F1 score: 0.6682   \n"
     ]
    },
    {
     "name": "stderr",
     "output_type": "stream",
     "text": [
      " 52%|█████▎    | 21/40 [01:59<01:45,  5.57s/it]"
     ]
    },
    {
     "name": "stdout",
     "output_type": "stream",
     "text": [
      "Epoch: 20 | Train loss: 0.0576 | Train acc: 0.9769 | Test loss: 0.6778 | Test acc: 0.7383 |  F1 score: 0.7276   \n"
     ]
    },
    {
     "name": "stderr",
     "output_type": "stream",
     "text": [
      " 55%|█████▌    | 22/40 [02:04<01:40,  5.57s/it]"
     ]
    },
    {
     "name": "stdout",
     "output_type": "stream",
     "text": [
      "Epoch: 21 | Train loss: 0.0657 | Train acc: 0.9869 | Test loss: 0.7299 | Test acc: 0.7241 |  F1 score: 0.7155   \n"
     ]
    },
    {
     "name": "stderr",
     "output_type": "stream",
     "text": [
      " 57%|█████▊    | 23/40 [02:10<01:34,  5.55s/it]"
     ]
    },
    {
     "name": "stdout",
     "output_type": "stream",
     "text": [
      "Epoch: 22 | Train loss: 0.0360 | Train acc: 0.9984 | Test loss: 0.7681 | Test acc: 0.7067 |  F1 score: 0.6960   \n"
     ]
    },
    {
     "name": "stderr",
     "output_type": "stream",
     "text": [
      " 60%|██████    | 24/40 [02:15<01:28,  5.53s/it]"
     ]
    },
    {
     "name": "stdout",
     "output_type": "stream",
     "text": [
      "Epoch: 23 | Train loss: 0.0849 | Train acc: 0.9653 | Test loss: 0.6920 | Test acc: 0.7266 |  F1 score: 0.7157   \n"
     ]
    },
    {
     "name": "stderr",
     "output_type": "stream",
     "text": [
      " 62%|██████▎   | 25/40 [02:21<01:24,  5.63s/it]"
     ]
    },
    {
     "name": "stdout",
     "output_type": "stream",
     "text": [
      "Epoch: 24 | Train loss: 0.0512 | Train acc: 0.9822 | Test loss: 0.8212 | Test acc: 0.6922 |  F1 score: 0.6839   \n"
     ]
    },
    {
     "name": "stderr",
     "output_type": "stream",
     "text": [
      " 65%|██████▌   | 26/40 [02:26<01:18,  5.60s/it]"
     ]
    },
    {
     "name": "stdout",
     "output_type": "stream",
     "text": [
      "Epoch: 25 | Train loss: 0.0607 | Train acc: 0.9869 | Test loss: 0.6684 | Test acc: 0.7321 |  F1 score: 0.7218   \n"
     ]
    },
    {
     "name": "stderr",
     "output_type": "stream",
     "text": [
      " 68%|██████▊   | 27/40 [02:32<01:12,  5.58s/it]"
     ]
    },
    {
     "name": "stdout",
     "output_type": "stream",
     "text": [
      "Epoch: 26 | Train loss: 0.0211 | Train acc: 0.9984 | Test loss: 0.7708 | Test acc: 0.7016 |  F1 score: 0.6869   \n"
     ]
    },
    {
     "name": "stderr",
     "output_type": "stream",
     "text": [
      " 70%|███████   | 28/40 [02:38<01:06,  5.56s/it]"
     ]
    },
    {
     "name": "stdout",
     "output_type": "stream",
     "text": [
      "Epoch: 27 | Train loss: 0.0516 | Train acc: 0.9884 | Test loss: 0.7196 | Test acc: 0.7247 |  F1 score: 0.7187   \n"
     ]
    },
    {
     "name": "stderr",
     "output_type": "stream",
     "text": [
      " 72%|███████▎  | 29/40 [02:43<01:00,  5.54s/it]"
     ]
    },
    {
     "name": "stdout",
     "output_type": "stream",
     "text": [
      "Epoch: 28 | Train loss: 0.1098 | Train acc: 0.9500 | Test loss: 0.7307 | Test acc: 0.7172 |  F1 score: 0.7111   \n"
     ]
    },
    {
     "name": "stderr",
     "output_type": "stream",
     "text": [
      " 75%|███████▌  | 30/40 [02:49<00:55,  5.53s/it]"
     ]
    },
    {
     "name": "stdout",
     "output_type": "stream",
     "text": [
      "Epoch: 29 | Train loss: 0.0227 | Train acc: 0.9984 | Test loss: 0.6844 | Test acc: 0.7590 |  F1 score: 0.7567   \n"
     ]
    },
    {
     "name": "stderr",
     "output_type": "stream",
     "text": [
      " 78%|███████▊  | 31/40 [02:54<00:49,  5.53s/it]"
     ]
    },
    {
     "name": "stdout",
     "output_type": "stream",
     "text": [
      "Epoch: 30 | Train loss: 0.0344 | Train acc: 0.9906 | Test loss: 0.6348 | Test acc: 0.7551 |  F1 score: 0.7463   \n"
     ]
    },
    {
     "name": "stderr",
     "output_type": "stream",
     "text": [
      " 80%|████████  | 32/40 [03:00<00:44,  5.50s/it]"
     ]
    },
    {
     "name": "stdout",
     "output_type": "stream",
     "text": [
      "Epoch: 31 | Train loss: 0.0257 | Train acc: 0.9884 | Test loss: 0.6341 | Test acc: 0.7610 |  F1 score: 0.7562   \n"
     ]
    },
    {
     "name": "stderr",
     "output_type": "stream",
     "text": [
      " 82%|████████▎ | 33/40 [03:05<00:39,  5.59s/it]"
     ]
    },
    {
     "name": "stdout",
     "output_type": "stream",
     "text": [
      "Epoch: 32 | Train loss: 0.0939 | Train acc: 0.9569 | Test loss: 0.6888 | Test acc: 0.7559 |  F1 score: 0.7521   \n"
     ]
    },
    {
     "name": "stderr",
     "output_type": "stream",
     "text": [
      " 85%|████████▌ | 34/40 [03:11<00:33,  5.63s/it]"
     ]
    },
    {
     "name": "stdout",
     "output_type": "stream",
     "text": [
      "Epoch: 33 | Train loss: 0.0454 | Train acc: 0.9853 | Test loss: 0.8533 | Test acc: 0.7141 |  F1 score: 0.6984   \n"
     ]
    },
    {
     "name": "stderr",
     "output_type": "stream",
     "text": [
      " 88%|████████▊ | 35/40 [03:17<00:28,  5.63s/it]"
     ]
    },
    {
     "name": "stdout",
     "output_type": "stream",
     "text": [
      "Epoch: 34 | Train loss: 0.0246 | Train acc: 0.9922 | Test loss: 0.6912 | Test acc: 0.7459 |  F1 score: 0.7390   \n"
     ]
    },
    {
     "name": "stderr",
     "output_type": "stream",
     "text": [
      " 90%|█████████ | 36/40 [03:22<00:22,  5.62s/it]"
     ]
    },
    {
     "name": "stdout",
     "output_type": "stream",
     "text": [
      "Epoch: 35 | Train loss: 0.0151 | Train acc: 0.9969 | Test loss: 0.6721 | Test acc: 0.7622 |  F1 score: 0.7585   \n"
     ]
    },
    {
     "name": "stderr",
     "output_type": "stream",
     "text": [
      " 92%|█████████▎| 37/40 [03:28<00:16,  5.62s/it]"
     ]
    },
    {
     "name": "stdout",
     "output_type": "stream",
     "text": [
      "Epoch: 36 | Train loss: 0.0126 | Train acc: 1.0000 | Test loss: 0.6910 | Test acc: 0.7502 |  F1 score: 0.7431   \n"
     ]
    },
    {
     "name": "stderr",
     "output_type": "stream",
     "text": [
      " 95%|█████████▌| 38/40 [03:34<00:11,  5.63s/it]"
     ]
    },
    {
     "name": "stdout",
     "output_type": "stream",
     "text": [
      "Epoch: 37 | Train loss: 0.0126 | Train acc: 0.9969 | Test loss: 0.6418 | Test acc: 0.7590 |  F1 score: 0.7506   \n"
     ]
    },
    {
     "name": "stderr",
     "output_type": "stream",
     "text": [
      " 98%|█████████▊| 39/40 [03:39<00:05,  5.61s/it]"
     ]
    },
    {
     "name": "stdout",
     "output_type": "stream",
     "text": [
      "Epoch: 38 | Train loss: 0.0116 | Train acc: 0.9984 | Test loss: 0.6340 | Test acc: 0.7622 |  F1 score: 0.7560   \n"
     ]
    },
    {
     "name": "stderr",
     "output_type": "stream",
     "text": [
      "100%|██████████| 40/40 [03:45<00:00,  5.63s/it]"
     ]
    },
    {
     "name": "stdout",
     "output_type": "stream",
     "text": [
      "Epoch: 39 | Train loss: 0.0098 | Train acc: 0.9984 | Test loss: 0.7155 | Test acc: 0.7368 |  F1 score: 0.7300   \n",
      "the best test acc is :0.7471\n",
      "the best F1 score is :0.7401\n",
      "Total training time: 225.232 seconds\n"
     ]
    },
    {
     "name": "stderr",
     "output_type": "stream",
     "text": [
      "\n"
     ]
    }
   ],
   "source": [
    "import torch\n",
    "import torchvision.models as models\n",
    "from torch import nn, optim\n",
    "\n",
    "# 加载预训练的ResNet18模型\n",
    "model_resnet18 = models.resnet18(pretrained=True)\n",
    "\n",
    "# 修改第一层卷积以接受单通道输入\n",
    "# ResNet18的第一层卷积的输入通道数默认为3，我们需要将其更改为1\n",
    "model_resnet18.conv1 = nn.Conv2d(1, 64, kernel_size=(7, 7), stride=(2, 2), padding=(3, 3), bias=False)\n",
    "\n",
    "# 如果需要，冻结模型的前几层参数\n",
    "for param in model_resnet18.parameters():\n",
    "    param.requires_grad = False\n",
    "# 例如，解冻最后的卷积层\n",
    "for param in model_resnet18.layer4.parameters():\n",
    "    param.requires_grad = True\n",
    "\n",
    "# 修改分类器以适应新的数据集\n",
    "# ResNet18使用全连接层作为其分类器，我们需要根据目标数据集的类别数来调整它\n",
    "num_ftrs = model_resnet18.fc.in_features\n",
    "model_resnet18.fc = nn.Linear(num_ftrs, 10)  # 假设有10个类\n",
    "\n",
    "# 将模型移动到适当的设备\n",
    "device = torch.device(\"cuda\" if torch.cuda.is_available() else \"cpu\")\n",
    "model_resnet18 = model_resnet18.to(device)\n",
    "\n",
    "# 定义损失函数和优化器\n",
    "criterion = nn.CrossEntropyLoss()\n",
    "# 确保只更新需要梯度的参数\n",
    "optimizer = optim.SGD(filter(lambda p: p.requires_grad, model_resnet18.parameters()), lr=0.001, momentum=0.9)\n",
    "\n",
    "# 接下来，您需要编写适合您数据集的训练和验证代码...\n",
    "\n",
    "\n",
    "\n",
    "# Start the timer\n",
    "from timeit import default_timer as timer\n",
    "start_time = timer()\n",
    "\n",
    "# Train model_0\n",
    "model_VGG_results = train(model=model_resnet18,\n",
    "              train_dataloader=train_dataloader,\n",
    "              test_dataloader=test_dataloader,\n",
    "              optimizer=optimizer,\n",
    "              loss_fn=loss_fn,\n",
    "              best_model_name=model_folder_path + \"\\\\best_model_pretrain_Resnet18_oneC.pth\",\n",
    "              epochs=40,\n",
    "              enable_early_stop=False)\n",
    "\n",
    "# End the timer and print out how long it took\n",
    "end_time = timer()\n",
    "print(f\"Total training time: {end_time-start_time:.3f} seconds\")"
   ]
  },
  {
   "cell_type": "markdown",
   "metadata": {},
   "source": [
    "### resnet 50"
   ]
  },
  {
   "cell_type": "code",
   "execution_count": 17,
   "metadata": {},
   "outputs": [
    {
     "name": "stderr",
     "output_type": "stream",
     "text": [
      "c:\\Users\\E\\AppData\\Local\\Programs\\Python\\Python311\\Lib\\site-packages\\torchvision\\models\\_utils.py:208: UserWarning: The parameter 'pretrained' is deprecated since 0.13 and may be removed in the future, please use 'weights' instead.\n",
      "  warnings.warn(\n",
      "c:\\Users\\E\\AppData\\Local\\Programs\\Python\\Python311\\Lib\\site-packages\\torchvision\\models\\_utils.py:223: UserWarning: Arguments other than a weight enum or `None` for 'weights' are deprecated since 0.13 and may be removed in the future. The current behavior is equivalent to passing `weights=ResNet50_Weights.IMAGENET1K_V1`. You can also use `weights=ResNet50_Weights.DEFAULT` to get the most up-to-date weights.\n",
      "  warnings.warn(msg)\n",
      "  2%|▎         | 1/40 [00:09<06:20,  9.77s/it]"
     ]
    },
    {
     "name": "stdout",
     "output_type": "stream",
     "text": [
      "Epoch: 0 | Train loss: 1.3120 | Train acc: 0.4153 | Test loss: 1.2851 | Test acc: 0.4382 |  F1 score: 0.3769   \n"
     ]
    },
    {
     "name": "stderr",
     "output_type": "stream",
     "text": [
      "  5%|▌         | 2/40 [00:19<06:00,  9.48s/it]"
     ]
    },
    {
     "name": "stdout",
     "output_type": "stream",
     "text": [
      "Epoch: 1 | Train loss: 1.0068 | Train acc: 0.6953 | Test loss: 1.0484 | Test acc: 0.5712 |  F1 score: 0.5235   \n"
     ]
    },
    {
     "name": "stderr",
     "output_type": "stream",
     "text": [
      "  8%|▊         | 3/40 [00:28<05:46,  9.35s/it]"
     ]
    },
    {
     "name": "stdout",
     "output_type": "stream",
     "text": [
      "Epoch: 2 | Train loss: 0.8260 | Train acc: 0.7644 | Test loss: 0.9535 | Test acc: 0.5959 |  F1 score: 0.5538   \n"
     ]
    },
    {
     "name": "stderr",
     "output_type": "stream",
     "text": [
      " 10%|█         | 4/40 [00:37<05:34,  9.28s/it]"
     ]
    },
    {
     "name": "stdout",
     "output_type": "stream",
     "text": [
      "Epoch: 3 | Train loss: 0.6823 | Train acc: 0.8744 | Test loss: 0.8739 | Test acc: 0.6331 |  F1 score: 0.5973   \n"
     ]
    },
    {
     "name": "stderr",
     "output_type": "stream",
     "text": [
      " 12%|█▎        | 5/40 [00:46<05:24,  9.26s/it]"
     ]
    },
    {
     "name": "stdout",
     "output_type": "stream",
     "text": [
      "Epoch: 4 | Train loss: 0.5662 | Train acc: 0.8897 | Test loss: 0.8579 | Test acc: 0.6360 |  F1 score: 0.5969   \n"
     ]
    },
    {
     "name": "stderr",
     "output_type": "stream",
     "text": [
      " 15%|█▌        | 6/40 [00:55<05:14,  9.24s/it]"
     ]
    },
    {
     "name": "stdout",
     "output_type": "stream",
     "text": [
      "Epoch: 5 | Train loss: 0.4454 | Train acc: 0.9541 | Test loss: 0.7939 | Test acc: 0.6872 |  F1 score: 0.6697   \n"
     ]
    },
    {
     "name": "stderr",
     "output_type": "stream",
     "text": [
      " 18%|█▊        | 7/40 [01:05<05:05,  9.25s/it]"
     ]
    },
    {
     "name": "stdout",
     "output_type": "stream",
     "text": [
      "Epoch: 6 | Train loss: 0.3009 | Train acc: 0.9859 | Test loss: 0.7449 | Test acc: 0.7141 |  F1 score: 0.7010   \n"
     ]
    },
    {
     "name": "stderr",
     "output_type": "stream",
     "text": [
      " 20%|██        | 8/40 [01:14<04:55,  9.23s/it]"
     ]
    },
    {
     "name": "stdout",
     "output_type": "stream",
     "text": [
      "Epoch: 7 | Train loss: 0.2242 | Train acc: 0.9838 | Test loss: 0.7248 | Test acc: 0.7172 |  F1 score: 0.7113   \n"
     ]
    },
    {
     "name": "stderr",
     "output_type": "stream",
     "text": [
      " 22%|██▎       | 9/40 [01:23<04:45,  9.22s/it]"
     ]
    },
    {
     "name": "stdout",
     "output_type": "stream",
     "text": [
      "Epoch: 8 | Train loss: 0.1515 | Train acc: 0.9953 | Test loss: 0.6563 | Test acc: 0.7346 |  F1 score: 0.7279   \n"
     ]
    },
    {
     "name": "stderr",
     "output_type": "stream",
     "text": [
      " 25%|██▌       | 10/40 [01:32<04:37,  9.25s/it]"
     ]
    },
    {
     "name": "stdout",
     "output_type": "stream",
     "text": [
      "Epoch: 9 | Train loss: 0.1604 | Train acc: 0.9684 | Test loss: 0.6505 | Test acc: 0.7471 |  F1 score: 0.7397   \n"
     ]
    },
    {
     "name": "stderr",
     "output_type": "stream",
     "text": [
      " 28%|██▊       | 11/40 [01:41<04:27,  9.22s/it]"
     ]
    },
    {
     "name": "stdout",
     "output_type": "stream",
     "text": [
      "Epoch: 10 | Train loss: 0.0999 | Train acc: 0.9984 | Test loss: 0.6181 | Test acc: 0.7610 |  F1 score: 0.7577   \n"
     ]
    },
    {
     "name": "stderr",
     "output_type": "stream",
     "text": [
      " 30%|███       | 12/40 [01:51<04:17,  9.20s/it]"
     ]
    },
    {
     "name": "stdout",
     "output_type": "stream",
     "text": [
      "Epoch: 11 | Train loss: 0.0951 | Train acc: 0.9884 | Test loss: 0.6116 | Test acc: 0.7686 |  F1 score: 0.7682   \n"
     ]
    },
    {
     "name": "stderr",
     "output_type": "stream",
     "text": [
      " 32%|███▎      | 13/40 [02:00<04:09,  9.22s/it]"
     ]
    },
    {
     "name": "stdout",
     "output_type": "stream",
     "text": [
      "Epoch: 12 | Train loss: 0.0839 | Train acc: 0.9869 | Test loss: 0.5845 | Test acc: 0.7692 |  F1 score: 0.7701   \n"
     ]
    },
    {
     "name": "stderr",
     "output_type": "stream",
     "text": [
      " 35%|███▌      | 14/40 [02:09<03:59,  9.21s/it]"
     ]
    },
    {
     "name": "stdout",
     "output_type": "stream",
     "text": [
      "Epoch: 13 | Train loss: 0.0561 | Train acc: 0.9984 | Test loss: 0.5916 | Test acc: 0.7877 |  F1 score: 0.7868   \n"
     ]
    },
    {
     "name": "stderr",
     "output_type": "stream",
     "text": [
      " 38%|███▊      | 15/40 [02:18<03:50,  9.23s/it]"
     ]
    },
    {
     "name": "stdout",
     "output_type": "stream",
     "text": [
      "Epoch: 14 | Train loss: 0.0546 | Train acc: 0.9984 | Test loss: 0.5824 | Test acc: 0.7653 |  F1 score: 0.7622   \n"
     ]
    },
    {
     "name": "stderr",
     "output_type": "stream",
     "text": [
      " 40%|████      | 16/40 [02:28<03:41,  9.24s/it]"
     ]
    },
    {
     "name": "stdout",
     "output_type": "stream",
     "text": [
      "Epoch: 15 | Train loss: 0.0511 | Train acc: 0.9984 | Test loss: 0.5587 | Test acc: 0.7946 |  F1 score: 0.7939   \n"
     ]
    },
    {
     "name": "stderr",
     "output_type": "stream",
     "text": [
      " 42%|████▎     | 17/40 [02:37<03:36,  9.39s/it]"
     ]
    },
    {
     "name": "stdout",
     "output_type": "stream",
     "text": [
      "Epoch: 16 | Train loss: 0.0546 | Train acc: 0.9969 | Test loss: 0.5623 | Test acc: 0.7959 |  F1 score: 0.7971   \n"
     ]
    },
    {
     "name": "stderr",
     "output_type": "stream",
     "text": [
      " 45%|████▌     | 18/40 [02:47<03:31,  9.59s/it]"
     ]
    },
    {
     "name": "stdout",
     "output_type": "stream",
     "text": [
      "Epoch: 17 | Train loss: 0.0418 | Train acc: 1.0000 | Test loss: 0.6439 | Test acc: 0.7581 |  F1 score: 0.7602   \n"
     ]
    },
    {
     "name": "stderr",
     "output_type": "stream",
     "text": [
      " 48%|████▊     | 19/40 [02:58<03:27,  9.87s/it]"
     ]
    },
    {
     "name": "stdout",
     "output_type": "stream",
     "text": [
      "Epoch: 18 | Train loss: 0.0483 | Train acc: 0.9984 | Test loss: 0.5886 | Test acc: 0.7579 |  F1 score: 0.7581   \n"
     ]
    },
    {
     "name": "stderr",
     "output_type": "stream",
     "text": [
      " 50%|█████     | 20/40 [03:09<03:25, 10.26s/it]"
     ]
    },
    {
     "name": "stdout",
     "output_type": "stream",
     "text": [
      "Epoch: 19 | Train loss: 0.0422 | Train acc: 0.9984 | Test loss: 0.6057 | Test acc: 0.7784 |  F1 score: 0.7779   \n"
     ]
    },
    {
     "name": "stderr",
     "output_type": "stream",
     "text": [
      " 52%|█████▎    | 21/40 [03:21<03:23, 10.72s/it]"
     ]
    },
    {
     "name": "stdout",
     "output_type": "stream",
     "text": [
      "Epoch: 20 | Train loss: 0.0282 | Train acc: 0.9984 | Test loss: 0.5922 | Test acc: 0.7846 |  F1 score: 0.7841   \n"
     ]
    },
    {
     "name": "stderr",
     "output_type": "stream",
     "text": [
      " 55%|█████▌    | 22/40 [03:32<03:13, 10.75s/it]"
     ]
    },
    {
     "name": "stdout",
     "output_type": "stream",
     "text": [
      "Epoch: 21 | Train loss: 0.0246 | Train acc: 0.9969 | Test loss: 0.5690 | Test acc: 0.7741 |  F1 score: 0.7749   \n",
      "Epoch: 22 | Train loss: 0.0304 | Train acc: 1.0000 | Test loss: 0.5389 | Test acc: 0.7727 |  F1 score: 0.7713   \n"
     ]
    },
    {
     "name": "stderr",
     "output_type": "stream",
     "text": [
      " 60%|██████    | 24/40 [03:56<03:01, 11.36s/it]"
     ]
    },
    {
     "name": "stdout",
     "output_type": "stream",
     "text": [
      "Epoch: 23 | Train loss: 0.0426 | Train acc: 0.9784 | Test loss: 0.5266 | Test acc: 0.7834 |  F1 score: 0.7840   \n"
     ]
    },
    {
     "name": "stderr",
     "output_type": "stream",
     "text": [
      " 62%|██████▎   | 25/40 [04:09<02:55, 11.73s/it]"
     ]
    },
    {
     "name": "stdout",
     "output_type": "stream",
     "text": [
      "Epoch: 24 | Train loss: 0.0325 | Train acc: 0.9969 | Test loss: 0.6053 | Test acc: 0.7801 |  F1 score: 0.7769   \n"
     ]
    },
    {
     "name": "stderr",
     "output_type": "stream",
     "text": [
      " 65%|██████▌   | 26/40 [04:22<02:50, 12.17s/it]"
     ]
    },
    {
     "name": "stdout",
     "output_type": "stream",
     "text": [
      "Epoch: 25 | Train loss: 0.0307 | Train acc: 0.9969 | Test loss: 0.5954 | Test acc: 0.7917 |  F1 score: 0.7921   \n"
     ]
    },
    {
     "name": "stderr",
     "output_type": "stream",
     "text": [
      " 68%|██████▊   | 27/40 [04:34<02:39, 12.28s/it]"
     ]
    },
    {
     "name": "stdout",
     "output_type": "stream",
     "text": [
      "Epoch: 26 | Train loss: 0.0367 | Train acc: 0.9869 | Test loss: 0.5289 | Test acc: 0.8108 |  F1 score: 0.8096   \n"
     ]
    },
    {
     "name": "stderr",
     "output_type": "stream",
     "text": [
      " 70%|███████   | 28/40 [04:46<02:23, 11.99s/it]"
     ]
    },
    {
     "name": "stdout",
     "output_type": "stream",
     "text": [
      "Epoch: 27 | Train loss: 0.0277 | Train acc: 0.9984 | Test loss: 0.5331 | Test acc: 0.8096 |  F1 score: 0.8090   \n"
     ]
    },
    {
     "name": "stderr",
     "output_type": "stream",
     "text": [
      " 72%|███████▎  | 29/40 [04:59<02:16, 12.42s/it]"
     ]
    },
    {
     "name": "stdout",
     "output_type": "stream",
     "text": [
      "Epoch: 28 | Train loss: 0.0365 | Train acc: 0.9984 | Test loss: 0.5818 | Test acc: 0.7741 |  F1 score: 0.7719   \n"
     ]
    },
    {
     "name": "stderr",
     "output_type": "stream",
     "text": [
      " 75%|███████▌  | 30/40 [05:12<02:06, 12.69s/it]"
     ]
    },
    {
     "name": "stdout",
     "output_type": "stream",
     "text": [
      "Epoch: 29 | Train loss: 0.0194 | Train acc: 0.9984 | Test loss: 0.5773 | Test acc: 0.7797 |  F1 score: 0.7796   \n"
     ]
    },
    {
     "name": "stderr",
     "output_type": "stream",
     "text": [
      " 75%|███████▌  | 30/40 [05:24<01:48, 10.81s/it]"
     ]
    },
    {
     "name": "stdout",
     "output_type": "stream",
     "text": [
      "Epoch: 30 | Train loss: 0.0238 | Train acc: 0.9969 | Test loss: 0.5437 | Test acc: 0.8096 |  F1 score: 0.8088   \n",
      "Early stopping triggered.\n",
      "the best test acc is :0.7834\n",
      "the best F1 score is :0.7840\n",
      "Total training time: 324.209 seconds\n"
     ]
    },
    {
     "name": "stderr",
     "output_type": "stream",
     "text": [
      "\n"
     ]
    }
   ],
   "source": [
    "import torchvision.models as models\n",
    "\n",
    "model_preTrained_Resnet50 = models.resnet50(pretrained=True)     # 使用內建的 model \n",
    "\n",
    "\n",
    "# optimizer = torch.optim.SGD(model_preTrained_Resnet50.parameters(), lr = 0.001) # 選擇你想用的 optimizer\n",
    "optimizer = torch.optim.SGD(model_preTrained_Resnet50.parameters(), lr = 0.001, momentum=0.9) # 選擇你想用的 optimizer\n",
    "\n",
    "# optimizer = torch.optim.Adam(model_Resnet50.parameters(), lr =0.01)\n",
    "\n",
    "# Loss function\n",
    "loss_fn = nn.CrossEntropyLoss()                # 選擇想用的 loss functionmodel_vgg16 = \n",
    "\n",
    "\n",
    "# change fully connected layer to 7\n",
    "num_ftrs = model_preTrained_Resnet50.fc.in_features\n",
    "model_preTrained_Resnet50.fc = nn.Linear(num_ftrs, num_classes)\n",
    "\n",
    "# device setting\n",
    "model_preTrained_Resnet50 = model_preTrained_Resnet50.to(device)\n",
    "\n",
    "# Start the timer\n",
    "from timeit import default_timer as timer\n",
    "start_time = timer()\n",
    "\n",
    "# Train model_0\n",
    "model_VGG_results = train(model=model_preTrained_Resnet50,\n",
    "              train_dataloader=train_dataloader,\n",
    "              test_dataloader=test_dataloader,\n",
    "              optimizer=optimizer,\n",
    "              loss_fn=loss_fn,\n",
    "              best_model_name=model_folder_path + \"\\\\best_model_pretrain_Resnet50_7.pth\",\n",
    "              epochs=40)\n",
    "\n",
    "# End the timer and print out how long it took\n",
    "end_time = timer()\n",
    "print(f\"Total training time: {end_time-start_time:.3f} seconds\")"
   ]
  },
  {
   "cell_type": "markdown",
   "metadata": {},
   "source": [
    "### resnet 101"
   ]
  },
  {
   "cell_type": "code",
   "execution_count": 30,
   "metadata": {},
   "outputs": [
    {
     "name": "stderr",
     "output_type": "stream",
     "text": [
      "c:\\Users\\E\\AppData\\Local\\Programs\\Python\\Python311\\Lib\\site-packages\\torchvision\\models\\_utils.py:223: UserWarning: Arguments other than a weight enum or `None` for 'weights' are deprecated since 0.13 and may be removed in the future. The current behavior is equivalent to passing `weights=DenseNet201_Weights.IMAGENET1K_V1`. You can also use `weights=DenseNet201_Weights.DEFAULT` to get the most up-to-date weights.\n",
      "  warnings.warn(msg)\n"
     ]
    },
    {
     "name": "stderr",
     "output_type": "stream",
     "text": [
      "Downloading: \"https://download.pytorch.org/models/densenet201-c1103571.pth\" to C:\\Users\\E/.cache\\torch\\hub\\checkpoints\\densenet201-c1103571.pth\n",
      "100%|██████████| 77.4M/77.4M [00:01<00:00, 71.9MB/s]\n"
     ]
    },
    {
     "data": {
      "text/plain": [
       "==========================================================================================\n",
       "Layer (type:depth-idx)                   Output Shape              Param #\n",
       "==========================================================================================\n",
       "DenseNet                                 [1, 1000]                 --\n",
       "├─Sequential: 1-1                        [1, 1920, 7, 7]           --\n",
       "│    └─Conv2d: 2-1                       [1, 64, 112, 112]         9,408\n",
       "│    └─BatchNorm2d: 2-2                  [1, 64, 112, 112]         128\n",
       "│    └─ReLU: 2-3                         [1, 64, 112, 112]         --\n",
       "│    └─MaxPool2d: 2-4                    [1, 64, 56, 56]           --\n",
       "│    └─_DenseBlock: 2-5                  [1, 256, 56, 56]          --\n",
       "│    │    └─_DenseLayer: 3-1             [1, 32, 56, 56]           45,440\n",
       "│    │    └─_DenseLayer: 3-2             [1, 32, 56, 56]           49,600\n",
       "│    │    └─_DenseLayer: 3-3             [1, 32, 56, 56]           53,760\n",
       "│    │    └─_DenseLayer: 3-4             [1, 32, 56, 56]           57,920\n",
       "│    │    └─_DenseLayer: 3-5             [1, 32, 56, 56]           62,080\n",
       "│    │    └─_DenseLayer: 3-6             [1, 32, 56, 56]           66,240\n",
       "│    └─_Transition: 2-6                  [1, 128, 28, 28]          --\n",
       "│    │    └─BatchNorm2d: 3-7             [1, 256, 56, 56]          512\n",
       "│    │    └─ReLU: 3-8                    [1, 256, 56, 56]          --\n",
       "│    │    └─Conv2d: 3-9                  [1, 128, 56, 56]          32,768\n",
       "│    │    └─AvgPool2d: 3-10              [1, 128, 28, 28]          --\n",
       "│    └─_DenseBlock: 2-7                  [1, 512, 28, 28]          --\n",
       "│    │    └─_DenseLayer: 3-11            [1, 32, 28, 28]           53,760\n",
       "│    │    └─_DenseLayer: 3-12            [1, 32, 28, 28]           57,920\n",
       "│    │    └─_DenseLayer: 3-13            [1, 32, 28, 28]           62,080\n",
       "│    │    └─_DenseLayer: 3-14            [1, 32, 28, 28]           66,240\n",
       "│    │    └─_DenseLayer: 3-15            [1, 32, 28, 28]           70,400\n",
       "│    │    └─_DenseLayer: 3-16            [1, 32, 28, 28]           74,560\n",
       "│    │    └─_DenseLayer: 3-17            [1, 32, 28, 28]           78,720\n",
       "│    │    └─_DenseLayer: 3-18            [1, 32, 28, 28]           82,880\n",
       "│    │    └─_DenseLayer: 3-19            [1, 32, 28, 28]           87,040\n",
       "│    │    └─_DenseLayer: 3-20            [1, 32, 28, 28]           91,200\n",
       "│    │    └─_DenseLayer: 3-21            [1, 32, 28, 28]           95,360\n",
       "│    │    └─_DenseLayer: 3-22            [1, 32, 28, 28]           99,520\n",
       "│    └─_Transition: 2-8                  [1, 256, 14, 14]          --\n",
       "│    │    └─BatchNorm2d: 3-23            [1, 512, 28, 28]          1,024\n",
       "│    │    └─ReLU: 3-24                   [1, 512, 28, 28]          --\n",
       "│    │    └─Conv2d: 3-25                 [1, 256, 28, 28]          131,072\n",
       "│    │    └─AvgPool2d: 3-26              [1, 256, 14, 14]          --\n",
       "│    └─_DenseBlock: 2-9                  [1, 1792, 14, 14]         --\n",
       "│    │    └─_DenseLayer: 3-27            [1, 32, 14, 14]           70,400\n",
       "│    │    └─_DenseLayer: 3-28            [1, 32, 14, 14]           74,560\n",
       "│    │    └─_DenseLayer: 3-29            [1, 32, 14, 14]           78,720\n",
       "│    │    └─_DenseLayer: 3-30            [1, 32, 14, 14]           82,880\n",
       "│    │    └─_DenseLayer: 3-31            [1, 32, 14, 14]           87,040\n",
       "│    │    └─_DenseLayer: 3-32            [1, 32, 14, 14]           91,200\n",
       "│    │    └─_DenseLayer: 3-33            [1, 32, 14, 14]           95,360\n",
       "│    │    └─_DenseLayer: 3-34            [1, 32, 14, 14]           99,520\n",
       "│    │    └─_DenseLayer: 3-35            [1, 32, 14, 14]           103,680\n",
       "│    │    └─_DenseLayer: 3-36            [1, 32, 14, 14]           107,840\n",
       "│    │    └─_DenseLayer: 3-37            [1, 32, 14, 14]           112,000\n",
       "│    │    └─_DenseLayer: 3-38            [1, 32, 14, 14]           116,160\n",
       "│    │    └─_DenseLayer: 3-39            [1, 32, 14, 14]           120,320\n",
       "│    │    └─_DenseLayer: 3-40            [1, 32, 14, 14]           124,480\n",
       "│    │    └─_DenseLayer: 3-41            [1, 32, 14, 14]           128,640\n",
       "│    │    └─_DenseLayer: 3-42            [1, 32, 14, 14]           132,800\n",
       "│    │    └─_DenseLayer: 3-43            [1, 32, 14, 14]           136,960\n",
       "│    │    └─_DenseLayer: 3-44            [1, 32, 14, 14]           141,120\n",
       "│    │    └─_DenseLayer: 3-45            [1, 32, 14, 14]           145,280\n",
       "│    │    └─_DenseLayer: 3-46            [1, 32, 14, 14]           149,440\n",
       "│    │    └─_DenseLayer: 3-47            [1, 32, 14, 14]           153,600\n",
       "│    │    └─_DenseLayer: 3-48            [1, 32, 14, 14]           157,760\n",
       "│    │    └─_DenseLayer: 3-49            [1, 32, 14, 14]           161,920\n",
       "│    │    └─_DenseLayer: 3-50            [1, 32, 14, 14]           166,080\n",
       "│    │    └─_DenseLayer: 3-51            [1, 32, 14, 14]           170,240\n",
       "│    │    └─_DenseLayer: 3-52            [1, 32, 14, 14]           174,400\n",
       "│    │    └─_DenseLayer: 3-53            [1, 32, 14, 14]           178,560\n",
       "│    │    └─_DenseLayer: 3-54            [1, 32, 14, 14]           182,720\n",
       "│    │    └─_DenseLayer: 3-55            [1, 32, 14, 14]           186,880\n",
       "│    │    └─_DenseLayer: 3-56            [1, 32, 14, 14]           191,040\n",
       "│    │    └─_DenseLayer: 3-57            [1, 32, 14, 14]           195,200\n",
       "│    │    └─_DenseLayer: 3-58            [1, 32, 14, 14]           199,360\n",
       "│    │    └─_DenseLayer: 3-59            [1, 32, 14, 14]           203,520\n",
       "│    │    └─_DenseLayer: 3-60            [1, 32, 14, 14]           207,680\n",
       "│    │    └─_DenseLayer: 3-61            [1, 32, 14, 14]           211,840\n",
       "│    │    └─_DenseLayer: 3-62            [1, 32, 14, 14]           216,000\n",
       "│    │    └─_DenseLayer: 3-63            [1, 32, 14, 14]           220,160\n",
       "│    │    └─_DenseLayer: 3-64            [1, 32, 14, 14]           224,320\n",
       "│    │    └─_DenseLayer: 3-65            [1, 32, 14, 14]           228,480\n",
       "│    │    └─_DenseLayer: 3-66            [1, 32, 14, 14]           232,640\n",
       "│    │    └─_DenseLayer: 3-67            [1, 32, 14, 14]           236,800\n",
       "│    │    └─_DenseLayer: 3-68            [1, 32, 14, 14]           240,960\n",
       "│    │    └─_DenseLayer: 3-69            [1, 32, 14, 14]           245,120\n",
       "│    │    └─_DenseLayer: 3-70            [1, 32, 14, 14]           249,280\n",
       "│    │    └─_DenseLayer: 3-71            [1, 32, 14, 14]           253,440\n",
       "│    │    └─_DenseLayer: 3-72            [1, 32, 14, 14]           257,600\n",
       "│    │    └─_DenseLayer: 3-73            [1, 32, 14, 14]           261,760\n",
       "│    │    └─_DenseLayer: 3-74            [1, 32, 14, 14]           265,920\n",
       "│    └─_Transition: 2-10                 [1, 896, 7, 7]            --\n",
       "│    │    └─BatchNorm2d: 3-75            [1, 1792, 14, 14]         3,584\n",
       "│    │    └─ReLU: 3-76                   [1, 1792, 14, 14]         --\n",
       "│    │    └─Conv2d: 3-77                 [1, 896, 14, 14]          1,605,632\n",
       "│    │    └─AvgPool2d: 3-78              [1, 896, 7, 7]            --\n",
       "│    └─_DenseBlock: 2-11                 [1, 1920, 7, 7]           --\n",
       "│    │    └─_DenseLayer: 3-79            [1, 32, 7, 7]             153,600\n",
       "│    │    └─_DenseLayer: 3-80            [1, 32, 7, 7]             157,760\n",
       "│    │    └─_DenseLayer: 3-81            [1, 32, 7, 7]             161,920\n",
       "│    │    └─_DenseLayer: 3-82            [1, 32, 7, 7]             166,080\n",
       "│    │    └─_DenseLayer: 3-83            [1, 32, 7, 7]             170,240\n",
       "│    │    └─_DenseLayer: 3-84            [1, 32, 7, 7]             174,400\n",
       "│    │    └─_DenseLayer: 3-85            [1, 32, 7, 7]             178,560\n",
       "│    │    └─_DenseLayer: 3-86            [1, 32, 7, 7]             182,720\n",
       "│    │    └─_DenseLayer: 3-87            [1, 32, 7, 7]             186,880\n",
       "│    │    └─_DenseLayer: 3-88            [1, 32, 7, 7]             191,040\n",
       "│    │    └─_DenseLayer: 3-89            [1, 32, 7, 7]             195,200\n",
       "│    │    └─_DenseLayer: 3-90            [1, 32, 7, 7]             199,360\n",
       "│    │    └─_DenseLayer: 3-91            [1, 32, 7, 7]             203,520\n",
       "│    │    └─_DenseLayer: 3-92            [1, 32, 7, 7]             207,680\n",
       "│    │    └─_DenseLayer: 3-93            [1, 32, 7, 7]             211,840\n",
       "│    │    └─_DenseLayer: 3-94            [1, 32, 7, 7]             216,000\n",
       "│    │    └─_DenseLayer: 3-95            [1, 32, 7, 7]             220,160\n",
       "│    │    └─_DenseLayer: 3-96            [1, 32, 7, 7]             224,320\n",
       "│    │    └─_DenseLayer: 3-97            [1, 32, 7, 7]             228,480\n",
       "│    │    └─_DenseLayer: 3-98            [1, 32, 7, 7]             232,640\n",
       "│    │    └─_DenseLayer: 3-99            [1, 32, 7, 7]             236,800\n",
       "│    │    └─_DenseLayer: 3-100           [1, 32, 7, 7]             240,960\n",
       "│    │    └─_DenseLayer: 3-101           [1, 32, 7, 7]             245,120\n",
       "│    │    └─_DenseLayer: 3-102           [1, 32, 7, 7]             249,280\n",
       "│    │    └─_DenseLayer: 3-103           [1, 32, 7, 7]             253,440\n",
       "│    │    └─_DenseLayer: 3-104           [1, 32, 7, 7]             257,600\n",
       "│    │    └─_DenseLayer: 3-105           [1, 32, 7, 7]             261,760\n",
       "│    │    └─_DenseLayer: 3-106           [1, 32, 7, 7]             265,920\n",
       "│    │    └─_DenseLayer: 3-107           [1, 32, 7, 7]             270,080\n",
       "│    │    └─_DenseLayer: 3-108           [1, 32, 7, 7]             274,240\n",
       "│    │    └─_DenseLayer: 3-109           [1, 32, 7, 7]             278,400\n",
       "│    │    └─_DenseLayer: 3-110           [1, 32, 7, 7]             282,560\n",
       "│    └─BatchNorm2d: 2-12                 [1, 1920, 7, 7]           3,840\n",
       "├─Linear: 1-2                            [1, 1000]                 1,921,000\n",
       "==========================================================================================\n",
       "Total params: 20,013,928\n",
       "Trainable params: 20,013,928\n",
       "Non-trainable params: 0\n",
       "Total mult-adds (Units.GIGABYTES): 4.29\n",
       "==========================================================================================\n",
       "Input size (MB): 0.60\n",
       "Forward/backward pass size (MB): 260.47\n",
       "Params size (MB): 80.06\n",
       "Estimated Total Size (MB): 341.13\n",
       "=========================================================================================="
      ]
     },
     "execution_count": 30,
     "metadata": {},
     "output_type": "execute_result"
    }
   ],
   "source": [
    "import torchvision.models as models\n",
    "from torchinfo import summary\n",
    "\n",
    "model_Resnet101 = models.densenet201(pretrained=True)     # 使用內建的 model \n",
    "\n",
    "summary(model_Resnet101, input_size=[1,3,224,224])"
   ]
  },
  {
   "cell_type": "markdown",
   "metadata": {},
   "source": [
    "# model output"
   ]
  },
  {
   "cell_type": "code",
   "execution_count": 22,
   "metadata": {},
   "outputs": [
    {
     "name": "stderr",
     "output_type": "stream",
     "text": [
      "c:\\Users\\E\\AppData\\Local\\Programs\\Python\\Python311\\Lib\\site-packages\\torchvision\\models\\_utils.py:208: UserWarning: The parameter 'pretrained' is deprecated since 0.13 and may be removed in the future, please use 'weights' instead.\n",
      "  warnings.warn(\n",
      "c:\\Users\\E\\AppData\\Local\\Programs\\Python\\Python311\\Lib\\site-packages\\torchvision\\models\\_utils.py:223: UserWarning: Arguments other than a weight enum or `None` for 'weights' are deprecated since 0.13 and may be removed in the future. The current behavior is equivalent to passing `weights=ResNet18_Weights.IMAGENET1K_V1`. You can also use `weights=ResNet18_Weights.DEFAULT` to get the most up-to-date weights.\n",
      "  warnings.warn(msg)\n"
     ]
    },
    {
     "name": "stdout",
     "output_type": "stream",
     "text": [
      "acc:0.8312\n",
      "f1:0.8258\n"
     ]
    }
   ],
   "source": [
    "import torchvision.models as models\n",
    "\n",
    "new_load_model = models.resnet18(pretrained=True)     # 使用內建的 model \n",
    "\n",
    "optimizer = torch.optim.SGD(new_load_model.parameters(), lr = 0.001) # 選擇你想用的 optimizer\n",
    "# optimizer = torch.optim.Adam(model_VGG16.parameters(), lr =0.01)\n",
    "\n",
    "# Loss function\n",
    "loss_fn = nn.CrossEntropyLoss()                # 選擇想用的 loss functionmodel_vgg16 = \n",
    "\n",
    "\n",
    "\n",
    "\n",
    "# VGG16 setting\n",
    "# =============\n",
    "# # 获取分类器中最后一个全连接层之前的部分\n",
    "# classifier = list(new_load_VGG16.classifier.children())[:-1]\n",
    "\n",
    "# # 移除原始模型的最后一个全连接层\n",
    "# # 并添加一个新的全连接层，输出特征数为 7\n",
    "# classifier.append(torch.nn.Linear(4096, 7))\n",
    "\n",
    "# # 替换原始模型的分类器\n",
    "# new_load_VGG16.classifier = torch.nn.Sequential(*classifier)\n",
    "\n",
    "# ============\n",
    "\n",
    "# resnet setting\n",
    "#  ============\n",
    "# change fully connected layer to 7\n",
    "num_ftrs = new_load_model.fc.in_features\n",
    "new_load_model.fc = nn.Linear(num_ftrs, 7)\n",
    "#  ============\n",
    "\n",
    "\n",
    "new_load_model =  new_load_model.to(device)\n",
    "\n",
    "new_load_model.load_state_dict(torch.load(\"./best_model_pretrain_Resnet18_7.pth\", map_location=device))\n",
    "\n",
    "from torchinfo import summary\n",
    "\n",
    "# summary(model_preTrained_VGG16_7, input_size=[1,3,224,224])\n",
    "\n",
    "\n",
    "\n",
    "\n",
    "\n",
    "# Start the timer\n",
    "from timeit import default_timer as timer\n",
    "start_time = timer()\n",
    "\n",
    "new_load_model.eval()\n",
    "\n",
    "loss, acc, f1 = test_step(new_load_model,\n",
    "                        loss_fn=loss_fn,\n",
    "                        dataloader=test_data_loader_224,\n",
    "                        device=device)\n",
    "\n",
    "print(\"acc:{:.4f}\".format(acc))\n",
    "print(\"f1:{:.4f}\".format(f1))\n",
    "\n"
   ]
  },
  {
   "cell_type": "code",
   "execution_count": 21,
   "metadata": {},
   "outputs": [
    {
     "name": "stdout",
     "output_type": "stream",
     "text": [
      "0.6782166653058745\n",
      "acc:0.7466\n",
      "f1:0.7649\n"
     ]
    }
   ],
   "source": [
    "print(loss)\n",
    "print(\"acc:{:.4f}\".format(acc))\n",
    "print(\"f1:{:.4f}\".format(f1))\n"
   ]
  },
  {
   "cell_type": "code",
   "execution_count": 26,
   "metadata": {},
   "outputs": [],
   "source": [
    "# image_path = \"./HAM10000/images/ISIC_0024306.jpg\"\n",
    "\n",
    "# def img2tensor(img_path):\n",
    "#     img = cv2.imread(img_path)\n",
    "#     img = cv2.resize(img, (224, 224))\n",
    "\n",
    "#     data = torch.from_numpy(img).permute(2, 0, 1).unsqueeze(0).float() / 255.0\n",
    "#     return data\n",
    "\n",
    "# def flattenTensor(tensor):\n",
    "#     tensor = torch.squeeze(tensor)\n",
    "#     flatted_tensor = tensor.view(-1)\n",
    "#     return flatted_tensor\n",
    "\n",
    "# # output = conv_layer(input_data)\n",
    "# # print(input_data.shape)\n",
    "# # print(output.shape)\n",
    "\n",
    "# # output = conv_block(input_data)\n",
    "# # output = conv_block_2(output)\n",
    "# input_data = img2tensor(image_path)\n",
    "# input_data = input_data.to(device)\n",
    "\n",
    "# model_VGG16.eval()\n",
    "# with torch.no_grad():\n",
    "#     output = model_VGG16(input_data)\n",
    "# prob = torch.softmax(output, dim=1)\n",
    "# print(input_data.shape)\n",
    "# print(output.shape)\n",
    "# print(prob)\n",
    "# print(flattenTensor(output).shape)"
   ]
  },
  {
   "cell_type": "code",
   "execution_count": 27,
   "metadata": {},
   "outputs": [],
   "source": [
    "# import os\n",
    "# import csv\n",
    "# import time\n",
    "\n",
    "# input_folder = \"HAM10000/images/\"\n",
    "# csvfile_name = \"./img_conv3.csv\"\n",
    "\n",
    "\n",
    "# res = []\n",
    "\n",
    "# # open every img\n",
    "# start = time.time()\n",
    "# for filename in os.listdir(input_folder):\n",
    "\n",
    "#     image_path  = os.path.join(input_folder, filename)\n",
    "#     # print(image_path)\n",
    "#     img = img2tensor(image_path)\n",
    "#     tensor = conv3(img)\n",
    "#     tensor = flattenTensor(tensor)\n",
    "#     vec = tensor.tolist()\n",
    "\n",
    "#     vec = [filename] + vec\n",
    "#     res.append(vec)\n",
    "# end = time.time()\n",
    "\n",
    "# print(\"time cost : {}\".format(end - start))\n",
    "\n",
    "# # print(res)\n",
    "# with open(csvfile_name, 'w', newline='', encoding='utf-8') as csvfile:\n",
    "#     # try:\n",
    "#     csvwriter = csv.writer(csvfile)\n",
    "#     csvwriter.writerows(res)\n",
    "#     # except Exception as e:\n",
    "#     #     logging.error(\"csv error : %s\" , e)\n",
    "#     #     print('csv encoding error')"
   ]
  },
  {
   "cell_type": "markdown",
   "metadata": {},
   "source": [
    "## Tiny VGG"
   ]
  },
  {
   "cell_type": "markdown",
   "metadata": {},
   "source": [
    "input wiil be [3, 64, 64]"
   ]
  },
  {
   "cell_type": "code",
   "execution_count": 28,
   "metadata": {},
   "outputs": [],
   "source": [
    "# # Set random seeds\n",
    "\n",
    "# torch.manual_seed(42)\n",
    "# torch.cuda.manual_seed(42)\n",
    "\n",
    "# # Set number of epochs\n",
    "# NUM_EPOCHS = 30\n",
    "\n",
    "# # Recreate an instance of TinyVGG\n",
    "# model_0 = TinyVGG(input_shape=3, # numbers of color channels\n",
    "#           hidden_units=10,\n",
    "#           output_shape=7).to(device)\n",
    "\n",
    "# # Setup loss function and optimizer\n",
    "# loss_fn = nn.CrossEntropyLoss()\n",
    "# optimizer = torch.optim.Adam(params=model_0.parameters(),\n",
    "#                 lr =0.001)\n",
    "\n",
    "# # Start the timer\n",
    "# from timeit import default_timer as timer\n",
    "# start_time = timer()\n",
    "\n",
    "# # Train model_0\n",
    "# model_0_results = train(model=model_0,\n",
    "#               train_dataloader=train_data_loader,\n",
    "#               test_dataloader=test_data_loader,\n",
    "#               optimizer=optimizer,\n",
    "#               loss_fn=loss_fn,\n",
    "#               epochs=NUM_EPOCHS)\n",
    "\n",
    "# # End the timer and print out how long it took\n",
    "# end_time = timer()\n",
    "# print(f\"Total training time: {end_time-start_time:.3f} seconds\")"
   ]
  },
  {
   "cell_type": "markdown",
   "metadata": {},
   "source": [
    "\n",
    " 83%|████████▎ | 25/30 [25:30<05:04, 60.83s/it]\n",
    "Epoch: 24 | Train loss: 0.5824 | Train acc: 0.7830 | Test loss: 0.8261 | Test acc: 0.7118  \n",
    " 87%|████████▋ | 26/30 [26:31<04:03, 60.86s/it]\n",
    "Epoch: 25 | Train loss: 0.5774 | Train acc: 0.7839 | Test loss: 0.8404 | Test acc: 0.7162  \n",
    " 90%|█████████ | 27/30 [27:32<03:02, 60.86s/it]\n",
    "Epoch: 26 | Train loss: 0.5776 | Train acc: 0.7862 | Test loss: 0.8416 | Test acc: 0.7101  \n",
    " 93%|█████████▎| 28/30 [28:33<02:01, 60.82s/it]\n",
    "Epoch: 27 | Train loss: 0.5675 | Train acc: 0.7873 | Test loss: 0.8176 | Test acc: 0.7065  \n",
    " 97%|█████████▋| 29/30 [29:34<01:00, 60.79s/it]\n",
    "Epoch: 28 | Train loss: 0.5592 | Train acc: 0.7901 | Test loss: 0.8350 | Test acc: 0.7147  \n",
    "100%|██████████| 30/30 [30:35<00:00, 61.17s/it]\n",
    "Epoch: 29 | Train loss: 0.5536 | Train acc: 0.7954 | Test loss: 0.8560 | Test acc: 0.7035  \n",
    "Total training time: 1835.003 seconds\n"
   ]
  },
  {
   "cell_type": "code",
   "execution_count": null,
   "metadata": {},
   "outputs": [],
   "source": []
  }
 ],
 "metadata": {
  "kernelspec": {
   "display_name": "Python 3",
   "language": "python",
   "name": "python3"
  },
  "language_info": {
   "codemirror_mode": {
    "name": "ipython",
    "version": 3
   },
   "file_extension": ".py",
   "mimetype": "text/x-python",
   "name": "python",
   "nbconvert_exporter": "python",
   "pygments_lexer": "ipython3",
   "version": "3.11.3"
  }
 },
 "nbformat": 4,
 "nbformat_minor": 2
}
